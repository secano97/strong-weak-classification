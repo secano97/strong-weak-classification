{
 "cells": [
  {
   "cell_type": "markdown",
   "metadata": {},
   "source": [
    "# <center> <b> <h1> P-value adjusted (1%) </h1></b></center>"
   ]
  },
  {
   "cell_type": "code",
   "execution_count": 1,
   "metadata": {},
   "outputs": [],
   "source": [
    "import pandas as pd \n",
    "\n",
    "PATH_DATASETS = \"../../2.5_Data_evaluation/2_P_value_adjusting/output/\"\n",
    "PATH_OUTPUT =  \"output/\""
   ]
  },
  {
   "cell_type": "code",
   "execution_count": 2,
   "metadata": {},
   "outputs": [],
   "source": [
    "def readCsvs():\n",
    "    datasets = []\n",
    "    constant = 'Estatistical-test_'\n",
    "    constant1 =  '_(p_adjust)'\n",
    "    features = ['area', 'meancurv', 'thickness', 'volume']\n",
    "\n",
    "    for feature in features:\n",
    "        df = pd.read_csv(PATH_DATASETS + constant + feature + constant1+ '.csv', index_col=0)\n",
    "        datasets.append({'name': feature, 'data': df})\n",
    "    return datasets"
   ]
  },
  {
   "cell_type": "markdown",
   "metadata": {},
   "source": [
    "# 1. Prepare the data"
   ]
  },
  {
   "cell_type": "code",
   "execution_count": 3,
   "metadata": {},
   "outputs": [
    {
     "data": {
      "text/html": [
       "<div>\n",
       "<style scoped>\n",
       "    .dataframe tbody tr th:only-of-type {\n",
       "        vertical-align: middle;\n",
       "    }\n",
       "\n",
       "    .dataframe tbody tr th {\n",
       "        vertical-align: top;\n",
       "    }\n",
       "\n",
       "    .dataframe thead th {\n",
       "        text-align: right;\n",
       "    }\n",
       "</style>\n",
       "<table border=\"1\" class=\"dataframe\">\n",
       "  <thead>\n",
       "    <tr style=\"text-align: right;\">\n",
       "      <th></th>\n",
       "      <th>t.Xi.</th>\n",
       "      <th>MW.STAT</th>\n",
       "      <th>p.value</th>\n",
       "      <th>Dfferent.distribution</th>\n",
       "      <th>mean_strong</th>\n",
       "      <th>median_strong</th>\n",
       "      <th>SD_strong</th>\n",
       "      <th>mean_weak</th>\n",
       "      <th>median_weak</th>\n",
       "      <th>SD_weak</th>\n",
       "      <th>p_adjust</th>\n",
       "    </tr>\n",
       "    <tr>\n",
       "      <th>X</th>\n",
       "      <th></th>\n",
       "      <th></th>\n",
       "      <th></th>\n",
       "      <th></th>\n",
       "      <th></th>\n",
       "      <th></th>\n",
       "      <th></th>\n",
       "      <th></th>\n",
       "      <th></th>\n",
       "      <th></th>\n",
       "      <th></th>\n",
       "    </tr>\n",
       "  </thead>\n",
       "  <tbody>\n",
       "    <tr>\n",
       "      <td>lh_S_circular_insula_sup_area</td>\n",
       "      <td>13.563618</td>\n",
       "      <td>0.0</td>\n",
       "      <td>7.019255e-39</td>\n",
       "      <td>0</td>\n",
       "      <td>1270.649091</td>\n",
       "      <td>1267.0</td>\n",
       "      <td>140.901573</td>\n",
       "      <td>1163.489247</td>\n",
       "      <td>1165.5</td>\n",
       "      <td>121.241764</td>\n",
       "      <td>1.038850e-36</td>\n",
       "    </tr>\n",
       "    <tr>\n",
       "      <td>rh_S_temporal_sup_area</td>\n",
       "      <td>0.000000</td>\n",
       "      <td>86192.5</td>\n",
       "      <td>7.318770e-37</td>\n",
       "      <td>1</td>\n",
       "      <td>4486.590909</td>\n",
       "      <td>4468.0</td>\n",
       "      <td>577.041818</td>\n",
       "      <td>4058.951613</td>\n",
       "      <td>4041.5</td>\n",
       "      <td>453.584785</td>\n",
       "      <td>1.083178e-34</td>\n",
       "    </tr>\n",
       "    <tr>\n",
       "      <td>lh_G_front_sup_area</td>\n",
       "      <td>0.000000</td>\n",
       "      <td>86911.0</td>\n",
       "      <td>4.027674e-36</td>\n",
       "      <td>1</td>\n",
       "      <td>5147.585455</td>\n",
       "      <td>5141.5</td>\n",
       "      <td>634.875744</td>\n",
       "      <td>4675.109319</td>\n",
       "      <td>4646.0</td>\n",
       "      <td>531.526614</td>\n",
       "      <td>5.960957e-34</td>\n",
       "    </tr>\n",
       "    <tr>\n",
       "      <td>lh_S_temporal_sup_area</td>\n",
       "      <td>0.000000</td>\n",
       "      <td>87196.0</td>\n",
       "      <td>7.881951e-36</td>\n",
       "      <td>1</td>\n",
       "      <td>4059.396364</td>\n",
       "      <td>4065.5</td>\n",
       "      <td>536.005433</td>\n",
       "      <td>3664.353047</td>\n",
       "      <td>3652.0</td>\n",
       "      <td>430.791073</td>\n",
       "      <td>1.166529e-33</td>\n",
       "    </tr>\n",
       "    <tr>\n",
       "      <td>rh_G_and_S_cingul-Ant_area</td>\n",
       "      <td>0.000000</td>\n",
       "      <td>88830.5</td>\n",
       "      <td>3.507518e-34</td>\n",
       "      <td>0</td>\n",
       "      <td>2067.025455</td>\n",
       "      <td>2083.5</td>\n",
       "      <td>270.456912</td>\n",
       "      <td>1870.354839</td>\n",
       "      <td>1865.0</td>\n",
       "      <td>240.161728</td>\n",
       "      <td>5.191127e-32</td>\n",
       "    </tr>\n",
       "  </tbody>\n",
       "</table>\n",
       "</div>"
      ],
      "text/plain": [
       "                                   t.Xi.  MW.STAT       p.value  \\\n",
       "X                                                                 \n",
       "lh_S_circular_insula_sup_area  13.563618      0.0  7.019255e-39   \n",
       "rh_S_temporal_sup_area          0.000000  86192.5  7.318770e-37   \n",
       "lh_G_front_sup_area             0.000000  86911.0  4.027674e-36   \n",
       "lh_S_temporal_sup_area          0.000000  87196.0  7.881951e-36   \n",
       "rh_G_and_S_cingul-Ant_area      0.000000  88830.5  3.507518e-34   \n",
       "\n",
       "                               Dfferent.distribution  mean_strong  \\\n",
       "X                                                                   \n",
       "lh_S_circular_insula_sup_area                      0  1270.649091   \n",
       "rh_S_temporal_sup_area                             1  4486.590909   \n",
       "lh_G_front_sup_area                                1  5147.585455   \n",
       "lh_S_temporal_sup_area                             1  4059.396364   \n",
       "rh_G_and_S_cingul-Ant_area                         0  2067.025455   \n",
       "\n",
       "                               median_strong   SD_strong    mean_weak  \\\n",
       "X                                                                       \n",
       "lh_S_circular_insula_sup_area         1267.0  140.901573  1163.489247   \n",
       "rh_S_temporal_sup_area                4468.0  577.041818  4058.951613   \n",
       "lh_G_front_sup_area                   5141.5  634.875744  4675.109319   \n",
       "lh_S_temporal_sup_area                4065.5  536.005433  3664.353047   \n",
       "rh_G_and_S_cingul-Ant_area            2083.5  270.456912  1870.354839   \n",
       "\n",
       "                               median_weak     SD_weak      p_adjust  \n",
       "X                                                                     \n",
       "lh_S_circular_insula_sup_area       1165.5  121.241764  1.038850e-36  \n",
       "rh_S_temporal_sup_area              4041.5  453.584785  1.083178e-34  \n",
       "lh_G_front_sup_area                 4646.0  531.526614  5.960957e-34  \n",
       "lh_S_temporal_sup_area              3652.0  430.791073  1.166529e-33  \n",
       "rh_G_and_S_cingul-Ant_area          1865.0  240.161728  5.191127e-32  "
      ]
     },
     "execution_count": 3,
     "metadata": {},
     "output_type": "execute_result"
    }
   ],
   "source": [
    "Datasets = readCsvs() #Area,MeanCurv,Thickness,Volumedf.head()\n",
    "Datasets[0]['data'].head()"
   ]
  },
  {
   "cell_type": "code",
   "execution_count": 4,
   "metadata": {},
   "outputs": [
    {
     "name": "stdout",
     "output_type": "stream",
     "text": [
      "(148, 11)\n",
      "(17, 11)\n",
      "(14, 11)\n",
      "(146, 11)\n"
     ]
    }
   ],
   "source": [
    "for dataset in Datasets:\n",
    "    name = dataset['name']\n",
    "    data = dataset['data']\n",
    "    \n",
    "    print(data[data['p_adjust'] < 0.01].shape)\n",
    "    data[data['p_adjust'] < 0.01].to_csv( PATH_OUTPUT + \"T-test_\" + name + \" p_adjust (1%).csv\")"
   ]
  },
  {
   "cell_type": "code",
   "execution_count": null,
   "metadata": {},
   "outputs": [],
   "source": []
  },
  {
   "cell_type": "code",
   "execution_count": null,
   "metadata": {},
   "outputs": [],
   "source": []
  }
 ],
 "metadata": {
  "kernelspec": {
   "display_name": "Python 3",
   "language": "python",
   "name": "python3"
  },
  "language_info": {
   "codemirror_mode": {
    "name": "ipython",
    "version": 3
   },
   "file_extension": ".py",
   "mimetype": "text/x-python",
   "name": "python",
   "nbconvert_exporter": "python",
   "pygments_lexer": "ipython3",
   "version": "3.7.4"
  }
 },
 "nbformat": 4,
 "nbformat_minor": 2
}
