{
 "cells": [
  {
   "cell_type": "markdown",
   "metadata": {},
   "source": [
    "# <center> <b> <h1>   2. SVM RFE (ranking) </h1></b></center>"
   ]
  },
  {
   "cell_type": "code",
   "execution_count": 1,
   "metadata": {},
   "outputs": [],
   "source": [
    "import joblib\n",
    "from sklearn.svm import SVC\n",
    "from sklearn.feature_selection import RFECV\n",
    "\n",
    "import pandas as pd\n",
    "\n",
    "PATH_PKL = \"../1. SVM RFE (All features)/output/\"\n",
    "PATH_DATASETS = \"../../2_Data_preparation/2_Split_Raw_Datasets/output/\""
   ]
  },
  {
   "cell_type": "code",
   "execution_count": 2,
   "metadata": {},
   "outputs": [],
   "source": [
    "def readCsvs(split):\n",
    "    datasets = []\n",
    "    constant1 = 'X_'\n",
    "    constant2 = '_' + split\n",
    "    features = ['area', 'meancurv', 'thickness', 'volume']\n",
    "\n",
    "    for feature in features:\n",
    "        df = pd.read_csv(PATH_DATASETS + constant1 + feature + constant2 +'.csv', index_col=0)\n",
    "        datasets.append({'name': feature, 'data': df})\n",
    "    return datasets"
   ]
  },
  {
   "cell_type": "code",
   "execution_count": 3,
   "metadata": {},
   "outputs": [],
   "source": [
    "def readClf():\n",
    "    clasificators = []\n",
    "    constant1 = \"SVM RFE (AllFeatures) \"\n",
    "    features = ['area', 'meancurv', 'thickness', 'volume']\n",
    "\n",
    "    for feature in features:\n",
    "        clf = joblib.load(PATH_PKL + constant1 + feature + '.pkl')\n",
    "        clasificators.append(clf)\n",
    "        \n",
    "    return clasificators"
   ]
  },
  {
   "cell_type": "markdown",
   "metadata": {},
   "source": [
    "# 1. Prepare the Data"
   ]
  },
  {
   "cell_type": "code",
   "execution_count": 4,
   "metadata": {},
   "outputs": [
    {
     "data": {
      "text/plain": [
       "(550, 148)"
      ]
     },
     "execution_count": 4,
     "metadata": {},
     "output_type": "execute_result"
    }
   ],
   "source": [
    "df_X_tr = readCsvs('train')\n",
    "df_X_tr[0]['data'].shape"
   ]
  },
  {
   "cell_type": "code",
   "execution_count": 5,
   "metadata": {},
   "outputs": [
    {
     "data": {
      "text/plain": [
       "{'name': 'area',\n",
       " 'rfecv': RFECV(cv=StratifiedKFold(n_splits=5, random_state=None, shuffle=False),\n",
       "       estimator=SVC(C=1.0, cache_size=200, class_weight=None, coef0=0.0,\n",
       "                     decision_function_shape='ovr', degree=3,\n",
       "                     gamma='auto_deprecated', kernel='linear', max_iter=1000000,\n",
       "                     probability=False, random_state=None, shrinking=True,\n",
       "                     tol=0.001, verbose=False),\n",
       "       min_features_to_select=1, n_jobs=-1, scoring='accuracy', step=1,\n",
       "       verbose=True),\n",
       " 'kernel': 'linear'}"
      ]
     },
     "execution_count": 5,
     "metadata": {},
     "output_type": "execute_result"
    }
   ],
   "source": [
    "clfs = readClf()\n",
    "clfs[0]"
   ]
  },
  {
   "cell_type": "markdown",
   "metadata": {},
   "source": [
    "# 2. Identify the most important feature of the SVM RFE"
   ]
  },
  {
   "cell_type": "code",
   "execution_count": null,
   "metadata": {},
   "outputs": [],
   "source": [
    "rankings =[]\n",
    "# print the name\n",
    "for feature, rfcv in zip(df_X_tr, clfs):\n",
    "    df_fetures = pd.DataFrame(columns=['Name','Ranking', 'Support'])\n",
    "    df_fetures.set_index('Name', inplace = True)\n",
    "    name = feature['name']\n",
    "    data = feature['data']\n",
    "    rfcv_data = rfcv['rfecv']\n",
    "    #df_fetures.head()\n",
    "    for roi in zip(data.columns.values, rfcv_data.support_, rfcv_data.ranking_):\n",
    "        print(roi)\n",
    "        df_fetures.at[roi[0],\"Support\"] = roi[1]\n",
    "        df_fetures.at[roi[0],\"Ranking\"] = roi[2]\n",
    "    rankings.append({'name' : name, 'data' : df_fetures})\n",
    "    print(\"end with: \" + name + '\\n')"
   ]
  },
  {
   "cell_type": "code",
   "execution_count": 8,
   "metadata": {},
   "outputs": [
    {
     "data": {
      "text/html": [
       "<div>\n",
       "<style scoped>\n",
       "    .dataframe tbody tr th:only-of-type {\n",
       "        vertical-align: middle;\n",
       "    }\n",
       "\n",
       "    .dataframe tbody tr th {\n",
       "        vertical-align: top;\n",
       "    }\n",
       "\n",
       "    .dataframe thead th {\n",
       "        text-align: right;\n",
       "    }\n",
       "</style>\n",
       "<table border=\"1\" class=\"dataframe\">\n",
       "  <thead>\n",
       "    <tr style=\"text-align: right;\">\n",
       "      <th></th>\n",
       "      <th>Ranking</th>\n",
       "      <th>Support</th>\n",
       "    </tr>\n",
       "    <tr>\n",
       "      <th>Name</th>\n",
       "      <th></th>\n",
       "      <th></th>\n",
       "    </tr>\n",
       "  </thead>\n",
       "  <tbody>\n",
       "    <tr>\n",
       "      <td>lh_S_circular_insula_inf_area</td>\n",
       "      <td>1</td>\n",
       "      <td>True</td>\n",
       "    </tr>\n",
       "    <tr>\n",
       "      <td>lh_G_and_S_cingul-Mid-Ant_area</td>\n",
       "      <td>1</td>\n",
       "      <td>True</td>\n",
       "    </tr>\n",
       "    <tr>\n",
       "      <td>lh_G_oc-temp_med-Parahip_area</td>\n",
       "      <td>1</td>\n",
       "      <td>True</td>\n",
       "    </tr>\n",
       "    <tr>\n",
       "      <td>rh_S_front_inf_area</td>\n",
       "      <td>2</td>\n",
       "      <td>False</td>\n",
       "    </tr>\n",
       "    <tr>\n",
       "      <td>lh_S_oc_middle_and_Lunatus_area</td>\n",
       "      <td>3</td>\n",
       "      <td>False</td>\n",
       "    </tr>\n",
       "    <tr>\n",
       "      <td>...</td>\n",
       "      <td>...</td>\n",
       "      <td>...</td>\n",
       "    </tr>\n",
       "    <tr>\n",
       "      <td>lh_G_front_middle_area</td>\n",
       "      <td>142</td>\n",
       "      <td>False</td>\n",
       "    </tr>\n",
       "    <tr>\n",
       "      <td>rh_S_intrapariet_and_P_trans_area</td>\n",
       "      <td>143</td>\n",
       "      <td>False</td>\n",
       "    </tr>\n",
       "    <tr>\n",
       "      <td>lh_G_cingul-Post-ventral_area</td>\n",
       "      <td>144</td>\n",
       "      <td>False</td>\n",
       "    </tr>\n",
       "    <tr>\n",
       "      <td>lh_G_pariet_inf-Angular_area</td>\n",
       "      <td>145</td>\n",
       "      <td>False</td>\n",
       "    </tr>\n",
       "    <tr>\n",
       "      <td>rh_S_temporal_inf_area</td>\n",
       "      <td>146</td>\n",
       "      <td>False</td>\n",
       "    </tr>\n",
       "  </tbody>\n",
       "</table>\n",
       "<p>148 rows × 2 columns</p>\n",
       "</div>"
      ],
      "text/plain": [
       "                                  Ranking Support\n",
       "Name                                             \n",
       "lh_S_circular_insula_inf_area           1    True\n",
       "lh_G_and_S_cingul-Mid-Ant_area          1    True\n",
       "lh_G_oc-temp_med-Parahip_area           1    True\n",
       "rh_S_front_inf_area                     2   False\n",
       "lh_S_oc_middle_and_Lunatus_area         3   False\n",
       "...                                   ...     ...\n",
       "lh_G_front_middle_area                142   False\n",
       "rh_S_intrapariet_and_P_trans_area     143   False\n",
       "lh_G_cingul-Post-ventral_area         144   False\n",
       "lh_G_pariet_inf-Angular_area          145   False\n",
       "rh_S_temporal_inf_area                146   False\n",
       "\n",
       "[148 rows x 2 columns]"
      ]
     },
     "execution_count": 8,
     "metadata": {},
     "output_type": "execute_result"
    }
   ],
   "source": [
    "for ranking in rankings:\n",
    "    data = ranking['data']\n",
    "    data.sort_values(\"Ranking\", axis=0, ascending= True, inplace= True)\n",
    "\n",
    "rankings[0]['data']"
   ]
  },
  {
   "cell_type": "markdown",
   "metadata": {},
   "source": [
    "# Save the Rankings on CSVs"
   ]
  },
  {
   "cell_type": "code",
   "execution_count": 8,
   "metadata": {},
   "outputs": [],
   "source": [
    "for ranking in rankings:\n",
    "    data = ranking['data']\n",
    "    name = ranking['name']\n",
    "    data.to_csv(\"output/SVMRFE (Support)\" + name + \".csv\")\n",
    "    data[data[\"Support\"]==1].to_csv(\"output/SVMRFE (Support - 1)\" + name + \".csv\")"
   ]
  },
  {
   "cell_type": "code",
   "execution_count": null,
   "metadata": {},
   "outputs": [],
   "source": []
  }
 ],
 "metadata": {
  "kernelspec": {
   "display_name": "Python 3",
   "language": "python",
   "name": "python3"
  },
  "language_info": {
   "codemirror_mode": {
    "name": "ipython",
    "version": 3
   },
   "file_extension": ".py",
   "mimetype": "text/x-python",
   "name": "python",
   "nbconvert_exporter": "python",
   "pygments_lexer": "ipython3",
   "version": "3.7.4"
  }
 },
 "nbformat": 4,
 "nbformat_minor": 2
}
