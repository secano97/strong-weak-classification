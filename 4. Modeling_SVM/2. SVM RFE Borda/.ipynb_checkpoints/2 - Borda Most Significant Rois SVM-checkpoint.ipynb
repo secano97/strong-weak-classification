{
 "cells": [
  {
   "cell_type": "markdown",
   "metadata": {},
   "source": [
    "# <center> <b> <h1> Borda Most Significant Rois</h1></b></center>"
   ]
  },
  {
   "cell_type": "code",
   "execution_count": 1,
   "metadata": {},
   "outputs": [],
   "source": [
    "import pandas as pd\n",
    "import numpy as np \n",
    "\n",
    "PATH_SIGNIFICANCE = \"../1. SVM RFE (All features)/output/\""
   ]
  },
  {
   "cell_type": "code",
   "execution_count": 2,
   "metadata": {},
   "outputs": [],
   "source": [
    "def readSignificances():\n",
    "    \n",
    "    datasets = []\n",
    "    constant1 = 'best_regions_normalized_'\n",
    "    features = ['area','meancurv', 'thickness', 'volume']\n",
    "    # features for paper\n",
    "    features = ['area', 'volume']\n",
    "\n",
    "    for feature in features:\n",
    "        df = pd.read_csv(PATH_SIGNIFICANCE + constant1 + feature +'.csv', index_col=0)\n",
    "        df.sort_values('variation (a/k)', inplace = True, ascending=False)\n",
    "        datasets.append({'name': feature, 'data': df})\n",
    "    return datasets"
   ]
  },
  {
   "cell_type": "code",
   "execution_count": 3,
   "metadata": {},
   "outputs": [],
   "source": [
    "# Names are ordered whit significance, mos significant first\n",
    "def clean_featuere_of_name_cols(df, name_feature):\n",
    "    array_names = []\n",
    "    name_feature_temp = '_' + name_feature\n",
    "    for name in df.index.values:\n",
    "        name = name.replace(name_feature_temp, '')\n",
    "        array_names.append(name)\n",
    "\n",
    "    return array_names"
   ]
  },
  {
   "cell_type": "markdown",
   "metadata": {},
   "source": [
    "# 1. Prepare the data"
   ]
  },
  {
   "cell_type": "code",
   "execution_count": 4,
   "metadata": {},
   "outputs": [
    {
     "data": {
      "text/html": [
       "<div>\n",
       "<style scoped>\n",
       "    .dataframe tbody tr th:only-of-type {\n",
       "        vertical-align: middle;\n",
       "    }\n",
       "\n",
       "    .dataframe tbody tr th {\n",
       "        vertical-align: top;\n",
       "    }\n",
       "\n",
       "    .dataframe thead th {\n",
       "        text-align: right;\n",
       "    }\n",
       "</style>\n",
       "<table border=\"1\" class=\"dataframe\">\n",
       "  <thead>\n",
       "    <tr style=\"text-align: right;\">\n",
       "      <th></th>\n",
       "      <th>frecuency</th>\n",
       "      <th>variation (a/k)</th>\n",
       "    </tr>\n",
       "    <tr>\n",
       "      <th>Name</th>\n",
       "      <th></th>\n",
       "      <th></th>\n",
       "    </tr>\n",
       "  </thead>\n",
       "  <tbody>\n",
       "    <tr>\n",
       "      <td>lh_G_Ins_lg_and_S_cent_ins_meancurv</td>\n",
       "      <td>478</td>\n",
       "      <td>7.145205</td>\n",
       "    </tr>\n",
       "    <tr>\n",
       "      <td>lh_Pole_temporal_meancurv</td>\n",
       "      <td>477</td>\n",
       "      <td>7.103530</td>\n",
       "    </tr>\n",
       "    <tr>\n",
       "      <td>lh_G_oc-temp_med-Parahip_meancurv</td>\n",
       "      <td>466</td>\n",
       "      <td>7.098342</td>\n",
       "    </tr>\n",
       "    <tr>\n",
       "      <td>lh_G_temp_sup-G_T_transv_meancurv</td>\n",
       "      <td>456</td>\n",
       "      <td>6.992022</td>\n",
       "    </tr>\n",
       "    <tr>\n",
       "      <td>rh_Pole_temporal_meancurv</td>\n",
       "      <td>467</td>\n",
       "      <td>6.819045</td>\n",
       "    </tr>\n",
       "  </tbody>\n",
       "</table>\n",
       "</div>"
      ],
      "text/plain": [
       "                                     frecuency  variation (a/k)\n",
       "Name                                                           \n",
       "lh_G_Ins_lg_and_S_cent_ins_meancurv        478         7.145205\n",
       "lh_Pole_temporal_meancurv                  477         7.103530\n",
       "lh_G_oc-temp_med-Parahip_meancurv          466         7.098342\n",
       "lh_G_temp_sup-G_T_transv_meancurv          456         6.992022\n",
       "rh_Pole_temporal_meancurv                  467         6.819045"
      ]
     },
     "execution_count": 4,
     "metadata": {},
     "output_type": "execute_result"
    }
   ],
   "source": [
    "Significances = readSignificances()\n",
    "Significances[1]['data'].head()"
   ]
  },
  {
   "cell_type": "code",
   "execution_count": 5,
   "metadata": {},
   "outputs": [
    {
     "name": "stdout",
     "output_type": "stream",
     "text": [
      "148\n"
     ]
    }
   ],
   "source": [
    "ordered_vectors = []\n",
    "\n",
    "for significance in Significances:\n",
    "    data = significance['data']\n",
    "    name = significance['name']\n",
    "    #print(name)\n",
    "    ordered_vectors.append(clean_featuere_of_name_cols(data, name))\n",
    "\n",
    "print(len(ordered_vectors[0]))"
   ]
  },
  {
   "cell_type": "markdown",
   "metadata": {},
   "source": [
    "# Create a df for the results"
   ]
  },
  {
   "cell_type": "code",
   "execution_count": 8,
   "metadata": {},
   "outputs": [
    {
     "data": {
      "text/plain": [
       "(148, 1)"
      ]
     },
     "execution_count": 8,
     "metadata": {},
     "output_type": "execute_result"
    }
   ],
   "source": [
    "df_results = pd.DataFrame(columns=['Name', 'votes', 'area', 'vol'])\n",
    "df_results['Name'] = ordered_vectors[0]\n",
    "df_results['votes'] = 0\n",
    "df_results['area'] = 0\n",
    "df_results['vol'] = 0\n",
    "df_results.set_index('Name', inplace = True)\n",
    "df_results.shape"
   ]
  },
  {
   "cell_type": "code",
   "execution_count": 9,
   "metadata": {},
   "outputs": [],
   "source": [
    "\"\"\"for vector in ordered_vectors:\n",
    "    position = 0\n",
    "    for region in vector:\n",
    "        coordinate = df_results.at[region, 'votes']\n",
    "        result = coordinate + position\n",
    "        df_results.at[region, 'votes'] = result\n",
    "        position += 1\"\"\""
   ]
  },
  {
   "cell_type": "code",
   "execution_count": null,
   "metadata": {},
   "outputs": [],
   "source": [
    "#this is just for correct paper\n",
    "area = True\n",
    "#this is just for correct paper\n",
    "\n",
    "for vector in ordered_vectors:\n",
    "    position = 0\n",
    "    for region in vector:\n",
    "        if position <= 19:\n",
    "            coordinate = df_results.at[region, 'votes']\n",
    "            result = coordinate + position\n",
    "            df_results.at[region, 'votes'] = result\n",
    "            if area:\n",
    "                df_results.at[region, 'area'] = position\n",
    "            else:\n",
    "                df_results.at[region, 'vol'] = position\n",
    "        else:\n",
    "            coordinate = df_results.at[region, 'votes']\n",
    "            result = 500\n",
    "            df_results.at[region, 'votes'] = result\n",
    "            \n",
    "        position += 1\n",
    "    area = False"
   ]
  },
  {
   "cell_type": "code",
   "execution_count": 10,
   "metadata": {},
   "outputs": [
    {
     "data": {
      "text/html": [
       "<div>\n",
       "<style scoped>\n",
       "    .dataframe tbody tr th:only-of-type {\n",
       "        vertical-align: middle;\n",
       "    }\n",
       "\n",
       "    .dataframe tbody tr th {\n",
       "        vertical-align: top;\n",
       "    }\n",
       "\n",
       "    .dataframe thead th {\n",
       "        text-align: right;\n",
       "    }\n",
       "</style>\n",
       "<table border=\"1\" class=\"dataframe\">\n",
       "  <thead>\n",
       "    <tr style=\"text-align: right;\">\n",
       "      <th></th>\n",
       "      <th>votes</th>\n",
       "    </tr>\n",
       "    <tr>\n",
       "      <th>Name</th>\n",
       "      <th></th>\n",
       "    </tr>\n",
       "  </thead>\n",
       "  <tbody>\n",
       "    <tr>\n",
       "      <td>lh_G_and_S_frontomargin</td>\n",
       "      <td>250</td>\n",
       "    </tr>\n",
       "    <tr>\n",
       "      <td>lh_Pole_occipital</td>\n",
       "      <td>144</td>\n",
       "    </tr>\n",
       "    <tr>\n",
       "      <td>lh_S_orbital_med-olfact</td>\n",
       "      <td>151</td>\n",
       "    </tr>\n",
       "    <tr>\n",
       "      <td>rh_S_oc-temp_lat</td>\n",
       "      <td>174</td>\n",
       "    </tr>\n",
       "    <tr>\n",
       "      <td>rh_G_occipital_sup</td>\n",
       "      <td>243</td>\n",
       "    </tr>\n",
       "  </tbody>\n",
       "</table>\n",
       "</div>"
      ],
      "text/plain": [
       "                         votes\n",
       "Name                          \n",
       "lh_G_and_S_frontomargin    250\n",
       "lh_Pole_occipital          144\n",
       "lh_S_orbital_med-olfact    151\n",
       "rh_S_oc-temp_lat           174\n",
       "rh_G_occipital_sup         243"
      ]
     },
     "execution_count": 10,
     "metadata": {},
     "output_type": "execute_result"
    }
   ],
   "source": [
    "df_results.head()"
   ]
  },
  {
   "cell_type": "code",
   "execution_count": 11,
   "metadata": {},
   "outputs": [],
   "source": [
    "df_results.sort_values('votes', inplace = True)"
   ]
  },
  {
   "cell_type": "code",
   "execution_count": 12,
   "metadata": {},
   "outputs": [
    {
     "data": {
      "text/html": [
       "<div>\n",
       "<style scoped>\n",
       "    .dataframe tbody tr th:only-of-type {\n",
       "        vertical-align: middle;\n",
       "    }\n",
       "\n",
       "    .dataframe tbody tr th {\n",
       "        vertical-align: top;\n",
       "    }\n",
       "\n",
       "    .dataframe thead th {\n",
       "        text-align: right;\n",
       "    }\n",
       "</style>\n",
       "<table border=\"1\" class=\"dataframe\">\n",
       "  <thead>\n",
       "    <tr style=\"text-align: right;\">\n",
       "      <th></th>\n",
       "      <th>votes</th>\n",
       "    </tr>\n",
       "    <tr>\n",
       "      <th>Name</th>\n",
       "      <th></th>\n",
       "    </tr>\n",
       "  </thead>\n",
       "  <tbody>\n",
       "    <tr>\n",
       "      <td>rh_S_pericallosal</td>\n",
       "      <td>49</td>\n",
       "    </tr>\n",
       "    <tr>\n",
       "      <td>lh_G_temp_sup-G_T_transv</td>\n",
       "      <td>51</td>\n",
       "    </tr>\n",
       "    <tr>\n",
       "      <td>lh_G_temp_sup-Plan_polar</td>\n",
       "      <td>67</td>\n",
       "    </tr>\n",
       "    <tr>\n",
       "      <td>rh_Pole_temporal</td>\n",
       "      <td>99</td>\n",
       "    </tr>\n",
       "    <tr>\n",
       "      <td>lh_G_and_S_occipital_inf</td>\n",
       "      <td>101</td>\n",
       "    </tr>\n",
       "  </tbody>\n",
       "</table>\n",
       "</div>"
      ],
      "text/plain": [
       "                          votes\n",
       "Name                           \n",
       "rh_S_pericallosal            49\n",
       "lh_G_temp_sup-G_T_transv     51\n",
       "lh_G_temp_sup-Plan_polar     67\n",
       "rh_Pole_temporal             99\n",
       "lh_G_and_S_occipital_inf    101"
      ]
     },
     "execution_count": 12,
     "metadata": {},
     "output_type": "execute_result"
    }
   ],
   "source": [
    "df_results.head()"
   ]
  },
  {
   "cell_type": "code",
   "execution_count": 14,
   "metadata": {},
   "outputs": [],
   "source": [
    "df_results.to_csv(\"output/borda classification SVM Normalized.csv\")"
   ]
  },
  {
   "cell_type": "code",
   "execution_count": null,
   "metadata": {},
   "outputs": [],
   "source": []
  }
 ],
 "metadata": {
  "kernelspec": {
   "display_name": "Python 3",
   "language": "python",
   "name": "python3"
  },
  "language_info": {
   "codemirror_mode": {
    "name": "ipython",
    "version": 3
   },
   "file_extension": ".py",
   "mimetype": "text/x-python",
   "name": "python",
   "nbconvert_exporter": "python",
   "pygments_lexer": "ipython3",
   "version": "3.7.4"
  }
 },
 "nbformat": 4,
 "nbformat_minor": 2
}
