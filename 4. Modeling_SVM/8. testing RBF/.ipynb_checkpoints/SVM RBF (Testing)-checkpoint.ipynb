{
 "cells": [
  {
   "cell_type": "markdown",
   "metadata": {},
   "source": [
    "# <center> <b> <h1> SVM (Testing) </h1></b></center> "
   ]
  },
  {
   "cell_type": "code",
   "execution_count": 15,
   "metadata": {},
   "outputs": [],
   "source": [
    "from sklearn.metrics import accuracy_score\n",
    "import joblib\n",
    "import pandas as pd\n",
    "\n",
    "from sklearn.svm import SVC\n",
    "from sklearn import datasets, svm\n",
    "\n",
    "import numpy as np \n",
    "\n",
    "PATH_DATASETS = \"../../2_Data_preparation/2_Split_Raw_Datasets/output/\"\n",
    "PATH_SVM_CLFS_LINEAR = \"../3. SVM support - 1 - optimal/output/\"\n",
    "PATH_SVM_CLFS_RBF = \"../5 SVM Non Linear - Optimal/output/\"\n",
    "PATH_SVM_CLFS_POLY = \"../7. SVM Poly - Optimal/output/\"\n",
    "\n",
    "PATH_RANKINGS_SVM = \"../1. SVM RFE (All features)/csv/\""
   ]
  },
  {
   "cell_type": "code",
   "execution_count": 16,
   "metadata": {},
   "outputs": [],
   "source": [
    "def readCsvs(split):\n",
    "    datasets = []\n",
    "    constant1 = 'X_'\n",
    "    constant2 = '_' + split\n",
    "    features = ['area', 'meancurv', 'thickness', 'volume']\n",
    "\n",
    "    for feature in features:\n",
    "        df = pd.read_csv(PATH_DATASETS + constant1 + feature + constant2 +'.csv', index_col=0)\n",
    "        datasets.append({'name': feature, 'data': df})\n",
    "    return datasets"
   ]
  },
  {
   "cell_type": "code",
   "execution_count": 17,
   "metadata": {},
   "outputs": [],
   "source": [
    "def readClf(string = 'lineal'):\n",
    "    clfs = []\n",
    "    features = ['area', 'meancurv', 'thickness', 'volume']\n",
    "    \n",
    "    if string == 'lineal':  \n",
    "        constant = \"SVM (Support - 1 - optimal)\"\n",
    "        PATH = PATH_SVM_CLFS_LINEAR\n",
    "    elif string == 'rbf':\n",
    "        constant = \"SVM Non Linear - Optimal - \"\n",
    "        PATH = PATH_SVM_CLFS_RBF\n",
    "    else:\n",
    "        constant = \"SVM Non Linear Poly - Optimal - \"\n",
    "        PATH = PATH_SVM_CLFS_POLY\n",
    "    \n",
    "    for feature in features:\n",
    "        inputFile = PATH + constant + feature + '.data'\n",
    "        fd = open(inputFile, 'rb')\n",
    "        clf = pickle.load(fd)\n",
    "        clfs.append({'name': feature, 'data': clf})\n",
    "\n",
    "        #clf = joblib.load(PATH + constant + feature + '.pkl')\n",
    "        #clfs.append({'name': feature, 'data': clf})\n",
    "        \n",
    "    return clfs"
   ]
  },
  {
   "cell_type": "code",
   "execution_count": 18,
   "metadata": {},
   "outputs": [],
   "source": [
    "def readRankings(ranking = 0):\n",
    "    datasets = []\n",
    "    constants = ['used_regions_normalized_convergence_',\n",
    "                 'used_regions_normalized_highest_']    \n",
    "    \n",
    "    features = ['area', 'meancurv', 'thickness', 'volume']\n",
    "\n",
    "    for feature in features:\n",
    "        df = pd.read_csv(PATH_RANKINGS_SVM + constants[ranking] + feature +'.csv', index_col=0)\n",
    "        datasets.append({'name': feature, 'data': df})\n",
    "    return datasets"
   ]
  },
  {
   "cell_type": "markdown",
   "metadata": {},
   "source": [
    "# 1. Data Preparing"
   ]
  },
  {
   "cell_type": "code",
   "execution_count": 19,
   "metadata": {},
   "outputs": [
    {
     "data": {
      "text/plain": [
       "(220, 148)"
      ]
     },
     "execution_count": 19,
     "metadata": {},
     "output_type": "execute_result"
    }
   ],
   "source": [
    "df_X_ts = readCsvs('test')\n",
    "df_X_ts[2]['data'].shape"
   ]
  },
  {
   "cell_type": "code",
   "execution_count": 20,
   "metadata": {},
   "outputs": [
    {
     "data": {
      "text/plain": [
       "(220, 1)"
      ]
     },
     "execution_count": 20,
     "metadata": {},
     "output_type": "execute_result"
    }
   ],
   "source": [
    "df_y_ts = pd.read_csv(PATH_DATASETS + 'Y_test.csv', index_col = 0)\n",
    "df_y_ts.shape"
   ]
  },
  {
   "cell_type": "markdown",
   "metadata": {},
   "source": [
    "# 2. Normalize the data"
   ]
  },
  {
   "cell_type": "code",
   "execution_count": 21,
   "metadata": {},
   "outputs": [],
   "source": [
    "for df_tr in df_X_ts:\n",
    "    train = df_tr['data']\n",
    "    normal_tr = (train - train.mean(axis=0))/train.std()\n",
    "    df_tr['data'] = normal_tr"
   ]
  },
  {
   "cell_type": "code",
   "execution_count": 22,
   "metadata": {},
   "outputs": [
    {
     "data": {
      "text/html": [
       "<div>\n",
       "<style scoped>\n",
       "    .dataframe tbody tr th:only-of-type {\n",
       "        vertical-align: middle;\n",
       "    }\n",
       "\n",
       "    .dataframe tbody tr th {\n",
       "        vertical-align: top;\n",
       "    }\n",
       "\n",
       "    .dataframe thead th {\n",
       "        text-align: right;\n",
       "    }\n",
       "</style>\n",
       "<table border=\"1\" class=\"dataframe\">\n",
       "  <thead>\n",
       "    <tr style=\"text-align: right;\">\n",
       "      <th></th>\n",
       "      <th>lh_G_and_S_frontomargin_area</th>\n",
       "      <th>lh_G_and_S_occipital_inf_area</th>\n",
       "      <th>lh_G_and_S_paracentral_area</th>\n",
       "      <th>lh_G_and_S_subcentral_area</th>\n",
       "      <th>lh_G_and_S_transv_frontopol_area</th>\n",
       "      <th>lh_G_and_S_cingul-Ant_area</th>\n",
       "      <th>lh_G_and_S_cingul-Mid-Ant_area</th>\n",
       "      <th>lh_G_and_S_cingul-Mid-Post_area</th>\n",
       "      <th>lh_G_cingul-Post-dorsal_area</th>\n",
       "      <th>lh_G_cingul-Post-ventral_area</th>\n",
       "      <th>...</th>\n",
       "      <th>rh_S_parieto_occipital_area</th>\n",
       "      <th>rh_S_pericallosal_area</th>\n",
       "      <th>rh_S_postcentral_area</th>\n",
       "      <th>rh_S_precentral-inf-part_area</th>\n",
       "      <th>rh_S_precentral-sup-part_area</th>\n",
       "      <th>rh_S_suborbital_area</th>\n",
       "      <th>rh_S_subparietal_area</th>\n",
       "      <th>rh_S_temporal_inf_area</th>\n",
       "      <th>rh_S_temporal_sup_area</th>\n",
       "      <th>rh_S_temporal_transverse_area</th>\n",
       "    </tr>\n",
       "  </thead>\n",
       "  <tbody>\n",
       "    <tr>\n",
       "      <td>679770</td>\n",
       "      <td>0.476778</td>\n",
       "      <td>-1.020248</td>\n",
       "      <td>1.121265</td>\n",
       "      <td>-1.365496</td>\n",
       "      <td>1.378189</td>\n",
       "      <td>0.343930</td>\n",
       "      <td>0.052030</td>\n",
       "      <td>0.021666</td>\n",
       "      <td>-0.149907</td>\n",
       "      <td>-0.467483</td>\n",
       "      <td>...</td>\n",
       "      <td>0.159410</td>\n",
       "      <td>0.182171</td>\n",
       "      <td>0.009647</td>\n",
       "      <td>-0.342960</td>\n",
       "      <td>1.455773</td>\n",
       "      <td>1.381951</td>\n",
       "      <td>0.967677</td>\n",
       "      <td>0.237056</td>\n",
       "      <td>0.317335</td>\n",
       "      <td>-0.586488</td>\n",
       "    </tr>\n",
       "    <tr>\n",
       "      <td>165840</td>\n",
       "      <td>-0.182199</td>\n",
       "      <td>1.080723</td>\n",
       "      <td>-0.136214</td>\n",
       "      <td>0.132283</td>\n",
       "      <td>0.476444</td>\n",
       "      <td>1.737453</td>\n",
       "      <td>0.512018</td>\n",
       "      <td>-0.108192</td>\n",
       "      <td>1.378441</td>\n",
       "      <td>-0.007430</td>\n",
       "      <td>...</td>\n",
       "      <td>1.898228</td>\n",
       "      <td>0.515766</td>\n",
       "      <td>0.144006</td>\n",
       "      <td>-1.307435</td>\n",
       "      <td>1.530332</td>\n",
       "      <td>-0.401333</td>\n",
       "      <td>-1.086195</td>\n",
       "      <td>1.382098</td>\n",
       "      <td>0.544320</td>\n",
       "      <td>-0.111819</td>\n",
       "    </tr>\n",
       "    <tr>\n",
       "      <td>138332</td>\n",
       "      <td>-1.679133</td>\n",
       "      <td>-1.411248</td>\n",
       "      <td>-1.130302</td>\n",
       "      <td>-1.437103</td>\n",
       "      <td>-2.587440</td>\n",
       "      <td>-0.392135</td>\n",
       "      <td>-0.425650</td>\n",
       "      <td>-1.131776</td>\n",
       "      <td>-0.422826</td>\n",
       "      <td>1.137806</td>\n",
       "      <td>...</td>\n",
       "      <td>-1.303180</td>\n",
       "      <td>-0.582658</td>\n",
       "      <td>0.000486</td>\n",
       "      <td>-0.342960</td>\n",
       "      <td>-1.158758</td>\n",
       "      <td>-0.097207</td>\n",
       "      <td>1.113342</td>\n",
       "      <td>0.126690</td>\n",
       "      <td>-0.903338</td>\n",
       "      <td>-0.545213</td>\n",
       "    </tr>\n",
       "    <tr>\n",
       "      <td>424939</td>\n",
       "      <td>1.347278</td>\n",
       "      <td>1.127643</td>\n",
       "      <td>0.067701</td>\n",
       "      <td>2.041802</td>\n",
       "      <td>1.214235</td>\n",
       "      <td>1.523065</td>\n",
       "      <td>0.659450</td>\n",
       "      <td>1.228579</td>\n",
       "      <td>0.406848</td>\n",
       "      <td>2.537540</td>\n",
       "      <td>...</td>\n",
       "      <td>0.609166</td>\n",
       "      <td>-0.520278</td>\n",
       "      <td>1.679975</td>\n",
       "      <td>2.139144</td>\n",
       "      <td>-1.004670</td>\n",
       "      <td>0.566340</td>\n",
       "      <td>1.608602</td>\n",
       "      <td>0.894650</td>\n",
       "      <td>1.248813</td>\n",
       "      <td>1.766219</td>\n",
       "    </tr>\n",
       "    <tr>\n",
       "      <td>108828</td>\n",
       "      <td>-0.670329</td>\n",
       "      <td>0.262230</td>\n",
       "      <td>0.832385</td>\n",
       "      <td>0.878189</td>\n",
       "      <td>-0.148630</td>\n",
       "      <td>-0.102711</td>\n",
       "      <td>-0.402061</td>\n",
       "      <td>-0.253327</td>\n",
       "      <td>1.564026</td>\n",
       "      <td>0.149183</td>\n",
       "      <td>...</td>\n",
       "      <td>0.336479</td>\n",
       "      <td>-0.303306</td>\n",
       "      <td>0.626477</td>\n",
       "      <td>-0.347688</td>\n",
       "      <td>0.059037</td>\n",
       "      <td>0.068680</td>\n",
       "      <td>2.181549</td>\n",
       "      <td>-1.390835</td>\n",
       "      <td>0.635114</td>\n",
       "      <td>-0.710315</td>\n",
       "    </tr>\n",
       "  </tbody>\n",
       "</table>\n",
       "<p>5 rows × 148 columns</p>\n",
       "</div>"
      ],
      "text/plain": [
       "        lh_G_and_S_frontomargin_area  lh_G_and_S_occipital_inf_area  \\\n",
       "679770                      0.476778                      -1.020248   \n",
       "165840                     -0.182199                       1.080723   \n",
       "138332                     -1.679133                      -1.411248   \n",
       "424939                      1.347278                       1.127643   \n",
       "108828                     -0.670329                       0.262230   \n",
       "\n",
       "        lh_G_and_S_paracentral_area  lh_G_and_S_subcentral_area  \\\n",
       "679770                     1.121265                   -1.365496   \n",
       "165840                    -0.136214                    0.132283   \n",
       "138332                    -1.130302                   -1.437103   \n",
       "424939                     0.067701                    2.041802   \n",
       "108828                     0.832385                    0.878189   \n",
       "\n",
       "        lh_G_and_S_transv_frontopol_area  lh_G_and_S_cingul-Ant_area  \\\n",
       "679770                          1.378189                    0.343930   \n",
       "165840                          0.476444                    1.737453   \n",
       "138332                         -2.587440                   -0.392135   \n",
       "424939                          1.214235                    1.523065   \n",
       "108828                         -0.148630                   -0.102711   \n",
       "\n",
       "        lh_G_and_S_cingul-Mid-Ant_area  lh_G_and_S_cingul-Mid-Post_area  \\\n",
       "679770                        0.052030                         0.021666   \n",
       "165840                        0.512018                        -0.108192   \n",
       "138332                       -0.425650                        -1.131776   \n",
       "424939                        0.659450                         1.228579   \n",
       "108828                       -0.402061                        -0.253327   \n",
       "\n",
       "        lh_G_cingul-Post-dorsal_area  lh_G_cingul-Post-ventral_area  ...  \\\n",
       "679770                     -0.149907                      -0.467483  ...   \n",
       "165840                      1.378441                      -0.007430  ...   \n",
       "138332                     -0.422826                       1.137806  ...   \n",
       "424939                      0.406848                       2.537540  ...   \n",
       "108828                      1.564026                       0.149183  ...   \n",
       "\n",
       "        rh_S_parieto_occipital_area  rh_S_pericallosal_area  \\\n",
       "679770                     0.159410                0.182171   \n",
       "165840                     1.898228                0.515766   \n",
       "138332                    -1.303180               -0.582658   \n",
       "424939                     0.609166               -0.520278   \n",
       "108828                     0.336479               -0.303306   \n",
       "\n",
       "        rh_S_postcentral_area  rh_S_precentral-inf-part_area  \\\n",
       "679770               0.009647                      -0.342960   \n",
       "165840               0.144006                      -1.307435   \n",
       "138332               0.000486                      -0.342960   \n",
       "424939               1.679975                       2.139144   \n",
       "108828               0.626477                      -0.347688   \n",
       "\n",
       "        rh_S_precentral-sup-part_area  rh_S_suborbital_area  \\\n",
       "679770                       1.455773              1.381951   \n",
       "165840                       1.530332             -0.401333   \n",
       "138332                      -1.158758             -0.097207   \n",
       "424939                      -1.004670              0.566340   \n",
       "108828                       0.059037              0.068680   \n",
       "\n",
       "        rh_S_subparietal_area  rh_S_temporal_inf_area  rh_S_temporal_sup_area  \\\n",
       "679770               0.967677                0.237056                0.317335   \n",
       "165840              -1.086195                1.382098                0.544320   \n",
       "138332               1.113342                0.126690               -0.903338   \n",
       "424939               1.608602                0.894650                1.248813   \n",
       "108828               2.181549               -1.390835                0.635114   \n",
       "\n",
       "        rh_S_temporal_transverse_area  \n",
       "679770                      -0.586488  \n",
       "165840                      -0.111819  \n",
       "138332                      -0.545213  \n",
       "424939                       1.766219  \n",
       "108828                      -0.710315  \n",
       "\n",
       "[5 rows x 148 columns]"
      ]
     },
     "execution_count": 22,
     "metadata": {},
     "output_type": "execute_result"
    }
   ],
   "source": [
    "df_X_ts[0]['data'].head()"
   ]
  },
  {
   "cell_type": "markdown",
   "metadata": {},
   "source": [
    "# 3. Read Rankings"
   ]
  },
  {
   "cell_type": "code",
   "execution_count": 23,
   "metadata": {},
   "outputs": [
    {
     "data": {
      "text/html": [
       "<div>\n",
       "<style scoped>\n",
       "    .dataframe tbody tr th:only-of-type {\n",
       "        vertical-align: middle;\n",
       "    }\n",
       "\n",
       "    .dataframe tbody tr th {\n",
       "        vertical-align: top;\n",
       "    }\n",
       "\n",
       "    .dataframe thead th {\n",
       "        text-align: right;\n",
       "    }\n",
       "</style>\n",
       "<table border=\"1\" class=\"dataframe\">\n",
       "  <thead>\n",
       "    <tr style=\"text-align: right;\">\n",
       "      <th></th>\n",
       "      <th>Ranking</th>\n",
       "      <th>Support</th>\n",
       "    </tr>\n",
       "    <tr>\n",
       "      <th>Name</th>\n",
       "      <th></th>\n",
       "      <th></th>\n",
       "    </tr>\n",
       "  </thead>\n",
       "  <tbody>\n",
       "    <tr>\n",
       "      <td>lh_G_and_S_frontomargin_area</td>\n",
       "      <td>1</td>\n",
       "      <td>True</td>\n",
       "    </tr>\n",
       "    <tr>\n",
       "      <td>rh_S_orbital-H_Shaped_area</td>\n",
       "      <td>1</td>\n",
       "      <td>True</td>\n",
       "    </tr>\n",
       "    <tr>\n",
       "      <td>lh_S_circular_insula_sup_area</td>\n",
       "      <td>1</td>\n",
       "      <td>True</td>\n",
       "    </tr>\n",
       "    <tr>\n",
       "      <td>lh_S_collat_transv_ant_area</td>\n",
       "      <td>1</td>\n",
       "      <td>True</td>\n",
       "    </tr>\n",
       "    <tr>\n",
       "      <td>rh_S_collat_transv_post_area</td>\n",
       "      <td>1</td>\n",
       "      <td>True</td>\n",
       "    </tr>\n",
       "  </tbody>\n",
       "</table>\n",
       "</div>"
      ],
      "text/plain": [
       "                               Ranking  Support\n",
       "Name                                           \n",
       "lh_G_and_S_frontomargin_area         1     True\n",
       "rh_S_orbital-H_Shaped_area           1     True\n",
       "lh_S_circular_insula_sup_area        1     True\n",
       "lh_S_collat_transv_ant_area          1     True\n",
       "rh_S_collat_transv_post_area         1     True"
      ]
     },
     "execution_count": 23,
     "metadata": {},
     "output_type": "execute_result"
    }
   ],
   "source": [
    "#0 for normalized convergence and 1 for normalized highest accuracy\n",
    "ranking_svm = readRankings()\n",
    "ranking_svm[0]['data'].head()"
   ]
  },
  {
   "cell_type": "markdown",
   "metadata": {},
   "source": [
    "# 4. Read Clfs"
   ]
  },
  {
   "cell_type": "code",
   "execution_count": 28,
   "metadata": {},
   "outputs": [],
   "source": [
    "clfs_svm_lienar = readClf('lienal')"
   ]
  },
  {
   "cell_type": "code",
   "execution_count": 27,
   "metadata": {},
   "outputs": [
    {
     "name": "stdout",
     "output_type": "stream",
     "text": [
      "SVC(C=0.001, cache_size=200, class_weight=None, coef0=0.0,\n",
      "    decision_function_shape='ovr', degree=3, gamma=0.001, kernel='rbf',\n",
      "    max_iter=-1, probability=False, random_state=None, shrinking=True,\n",
      "    tol=0.001, verbose=False)\n",
      "SVC(C=10, cache_size=200, class_weight=None, coef0=0.0,\n",
      "    decision_function_shape='ovr', degree=3, gamma=0.1, kernel='rbf',\n",
      "    max_iter=-1, probability=False, random_state=None, shrinking=True,\n",
      "    tol=0.001, verbose=False)\n",
      "SVC(C=0.1, cache_size=200, class_weight=None, coef0=0.0,\n",
      "    decision_function_shape='ovr', degree=3, gamma=0.01, kernel='rbf',\n",
      "    max_iter=-1, probability=False, random_state=None, shrinking=True,\n",
      "    tol=0.001, verbose=False)\n",
      "SVC(C=0.01, cache_size=200, class_weight=None, coef0=0.0,\n",
      "    decision_function_shape='ovr', degree=3, gamma=0.01, kernel='rbf',\n",
      "    max_iter=-1, probability=False, random_state=None, shrinking=True,\n",
      "    tol=0.001, verbose=False)\n"
     ]
    }
   ],
   "source": [
    "for clf in clfs_svm_lienar:\n",
    "    print(clf['data'])"
   ]
  },
  {
   "cell_type": "code",
   "execution_count": 24,
   "metadata": {},
   "outputs": [],
   "source": [
    "clfs_svm_lienar = readClf('lienal')\n",
    "clfs_svm_rbf = readClf('rbf')\n",
    "clfs_svm_poly = readClf('poly')"
   ]
  },
  {
   "cell_type": "markdown",
   "metadata": {},
   "source": [
    "# 5. Testing kernel Linear"
   ]
  },
  {
   "cell_type": "code",
   "execution_count": 25,
   "metadata": {},
   "outputs": [
    {
     "name": "stdout",
     "output_type": "stream",
     "text": [
      "SVC(C=0.001, cache_size=200, class_weight=None, coef0=0.0,\n",
      "    decision_function_shape='ovr', degree=3, gamma=0.001, kernel='rbf',\n",
      "    max_iter=-1, probability=False, random_state=None, shrinking=True,\n",
      "    tol=0.001, verbose=False)\n",
      "accuracy score test: area\n",
      "\n",
      "0.7454545454545455\n",
      "SVC(C=10, cache_size=200, class_weight=None, coef0=0.0,\n",
      "    decision_function_shape='ovr', degree=3, gamma=0.1, kernel='rbf',\n",
      "    max_iter=-1, probability=False, random_state=None, shrinking=True,\n",
      "    tol=0.001, verbose=False)\n",
      "accuracy score test: meancurv\n",
      "\n",
      "0.6545454545454545\n",
      "SVC(C=0.1, cache_size=200, class_weight=None, coef0=0.0,\n",
      "    decision_function_shape='ovr', degree=3, gamma=0.01, kernel='rbf',\n",
      "    max_iter=-1, probability=False, random_state=None, shrinking=True,\n",
      "    tol=0.001, verbose=False)\n",
      "accuracy score test: thickness\n",
      "\n",
      "0.5772727272727273\n",
      "SVC(C=0.01, cache_size=200, class_weight=None, coef0=0.0,\n",
      "    decision_function_shape='ovr', degree=3, gamma=0.01, kernel='rbf',\n",
      "    max_iter=-1, probability=False, random_state=None, shrinking=True,\n",
      "    tol=0.001, verbose=False)\n",
      "accuracy score test: volume\n",
      "\n",
      "0.740909090909091\n"
     ]
    }
   ],
   "source": [
    "for feature, clf, ranking in zip(df_X_ts, clfs_svm_lienar, ranking_svm):\n",
    "    \n",
    "    data = feature['data']\n",
    "    name = feature['name']\n",
    "    svm = clf['data']\n",
    "    print(svm)\n",
    "    \n",
    "    y_pred_test = svm.predict(data[ranking['data'].index.values].copy())\n",
    "    print(\"accuracy score test: \" + name+'\\n')\n",
    "    print(accuracy_score(y_pred_test, df_y_ts['class'].values))"
   ]
  },
  {
   "cell_type": "markdown",
   "metadata": {},
   "source": [
    "# 6. Testing kernel RBF"
   ]
  },
  {
   "cell_type": "code",
   "execution_count": 13,
   "metadata": {},
   "outputs": [
    {
     "name": "stdout",
     "output_type": "stream",
     "text": [
      "SVC(C=10, cache_size=200, class_weight=None, coef0=0.0,\n",
      "    decision_function_shape='ovr', degree=3, gamma=0.01, kernel='rbf',\n",
      "    max_iter=-1, probability=False, random_state=None, shrinking=True,\n",
      "    tol=0.001, verbose=False)\n",
      "accuracy score test: area\n",
      "\n",
      "0.7681818181818182\n",
      "SVC(C=10, cache_size=200, class_weight=None, coef0=0.0,\n",
      "    decision_function_shape='ovr', degree=3, gamma=0.001, kernel='rbf',\n",
      "    max_iter=-1, probability=False, random_state=None, shrinking=True,\n",
      "    tol=0.001, verbose=False)\n",
      "accuracy score test: meancurv\n",
      "\n",
      "0.6818181818181818\n",
      "SVC(C=100, cache_size=200, class_weight=None, coef0=0.0,\n",
      "    decision_function_shape='ovr', degree=3, gamma=0.001, kernel='rbf',\n",
      "    max_iter=-1, probability=False, random_state=None, shrinking=True,\n",
      "    tol=0.001, verbose=False)\n",
      "accuracy score test: thickness\n",
      "\n",
      "0.6454545454545455\n",
      "SVC(C=100, cache_size=200, class_weight=None, coef0=0.0,\n",
      "    decision_function_shape='ovr', degree=3, gamma=0.001, kernel='rbf',\n",
      "    max_iter=-1, probability=False, random_state=None, shrinking=True,\n",
      "    tol=0.001, verbose=False)\n",
      "accuracy score test: volume\n",
      "\n",
      "0.6727272727272727\n"
     ]
    }
   ],
   "source": [
    "for feature, clf, ranking in zip(df_X_ts, clfs_svm_rbf, ranking_svm):\n",
    "    \n",
    "    data = feature['data']\n",
    "    name = feature['name']\n",
    "    svm = clf['data']\n",
    "    print(svm)\n",
    "    \n",
    "    y_pred_test = svm.predict(data[ranking['data'].index.values].copy())\n",
    "    print(\"accuracy score test: \" + name+'\\n')\n",
    "    print(accuracy_score(y_pred_test, df_y_ts['class'].values))"
   ]
  },
  {
   "cell_type": "markdown",
   "metadata": {},
   "source": [
    "# 7. Testing kernel Poly"
   ]
  },
  {
   "cell_type": "code",
   "execution_count": 14,
   "metadata": {},
   "outputs": [
    {
     "name": "stdout",
     "output_type": "stream",
     "text": [
      "SVC(C=0.001, cache_size=200, class_weight=None, coef0=0.0,\n",
      "    decision_function_shape='ovr', degree=3, gamma=0.001, kernel='rbf',\n",
      "    max_iter=-1, probability=False, random_state=None, shrinking=True,\n",
      "    tol=0.001, verbose=False)\n",
      "accuracy score test: area\n",
      "\n",
      "0.7454545454545455\n",
      "SVC(C=10, cache_size=200, class_weight=None, coef0=0.0,\n",
      "    decision_function_shape='ovr', degree=3, gamma=0.1, kernel='rbf',\n",
      "    max_iter=-1, probability=False, random_state=None, shrinking=True,\n",
      "    tol=0.001, verbose=False)\n",
      "accuracy score test: meancurv\n",
      "\n",
      "0.6545454545454545\n",
      "SVC(C=0.1, cache_size=200, class_weight=None, coef0=0.0,\n",
      "    decision_function_shape='ovr', degree=3, gamma=0.01, kernel='rbf',\n",
      "    max_iter=-1, probability=False, random_state=None, shrinking=True,\n",
      "    tol=0.001, verbose=False)\n",
      "accuracy score test: thickness\n",
      "\n",
      "0.5772727272727273\n",
      "SVC(C=0.01, cache_size=200, class_weight=None, coef0=0.0,\n",
      "    decision_function_shape='ovr', degree=3, gamma=0.01, kernel='rbf',\n",
      "    max_iter=-1, probability=False, random_state=None, shrinking=True,\n",
      "    tol=0.001, verbose=False)\n",
      "accuracy score test: volume\n",
      "\n",
      "0.740909090909091\n"
     ]
    }
   ],
   "source": [
    "for feature, clf, ranking in zip(df_X_ts, clfs_svm_poly, ranking_svm):\n",
    "    \n",
    "    data = feature['data']\n",
    "    name = feature['name']\n",
    "    svm = clf['data']\n",
    "    print(svm)\n",
    "    \n",
    "    y_pred_test = svm.predict(data[ranking['data'].index.values].copy())\n",
    "    print(\"accuracy score test: \" + name+'\\n')\n",
    "    print(accuracy_score(y_pred_test, df_y_ts['class'].values))"
   ]
  },
  {
   "cell_type": "code",
   "execution_count": null,
   "metadata": {},
   "outputs": [],
   "source": []
  }
 ],
 "metadata": {
  "kernelspec": {
   "display_name": "Python 3",
   "language": "python",
   "name": "python3"
  },
  "language_info": {
   "codemirror_mode": {
    "name": "ipython",
    "version": 3
   },
   "file_extension": ".py",
   "mimetype": "text/x-python",
   "name": "python",
   "nbconvert_exporter": "python",
   "pygments_lexer": "ipython3",
   "version": "3.7.4"
  }
 },
 "nbformat": 4,
 "nbformat_minor": 2
}
