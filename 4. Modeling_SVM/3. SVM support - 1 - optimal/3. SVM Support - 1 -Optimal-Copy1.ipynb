{
 "cells": [
  {
   "cell_type": "markdown",
   "metadata": {},
   "source": [
    "# <center> <b> <h1>   3. SVM Support - 1 -Optimal </h1></b></center>"
   ]
  },
  {
   "cell_type": "code",
   "execution_count": 28,
   "metadata": {},
   "outputs": [],
   "source": [
    "import matplotlib.pyplot as plt\n",
    "import numpy as np \n",
    "from sklearn.feature_selection import SelectFromModel\n",
    "from sklearn.metrics import accuracy_score\n",
    "from sklearn.metrics import confusion_matrix\n",
    "import joblib\n",
    "from sklearn.svm import SVC\n",
    "from sklearn.svm import LinearSVC\n",
    "from sklearn.feature_selection import RFECV\n",
    "from sklearn import datasets, svm\n",
    "from sklearn.model_selection import StratifiedKFold, GridSearchCV\n",
    "from sklearn.metrics import classification_report\n",
    "\n",
    "import pandas as pd\n",
    "import itertools\n",
    "\n",
    "PATH_RANKINGS = \"../2. SVM RFE (ranking)/output/\"\n",
    "PATH_DATASETS = \"../../2_Data_preparation/2_Split_Raw_Datasets/output/\""
   ]
  },
  {
   "cell_type": "code",
   "execution_count": 29,
   "metadata": {},
   "outputs": [],
   "source": [
    "def readCsvs(split):\n",
    "    datasets = []\n",
    "    constant1 = 'X_'\n",
    "    constant2 = '_' + split\n",
    "    features = ['area', 'meancurv', 'thickness', 'volume']\n",
    "\n",
    "    for feature in features:\n",
    "        df = pd.read_csv(PATH_DATASETS + constant1 + feature + constant2 +'.csv', index_col=0)\n",
    "        datasets.append({'name': feature, 'data': df})\n",
    "    return datasets"
   ]
  },
  {
   "cell_type": "code",
   "execution_count": 30,
   "metadata": {},
   "outputs": [],
   "source": [
    "def readRankings():\n",
    "    datasets = []\n",
    "    constant1 = 'SVMRFE (Support - 1)_less_max_inter'\n",
    "    features = ['area', 'meancurv', 'thickness', 'volume']\n",
    "\n",
    "    for feature in features:\n",
    "        df = pd.read_csv(PATH_RANKINGS + constant1 + feature +'.csv', index_col=0)\n",
    "        datasets.append({'name': feature, 'data': df})\n",
    "    return datasets"
   ]
  },
  {
   "cell_type": "markdown",
   "metadata": {},
   "source": [
    "# Prepare The Data"
   ]
  },
  {
   "cell_type": "code",
   "execution_count": 31,
   "metadata": {},
   "outputs": [
    {
     "data": {
      "text/html": [
       "<div>\n",
       "<style scoped>\n",
       "    .dataframe tbody tr th:only-of-type {\n",
       "        vertical-align: middle;\n",
       "    }\n",
       "\n",
       "    .dataframe tbody tr th {\n",
       "        vertical-align: top;\n",
       "    }\n",
       "\n",
       "    .dataframe thead th {\n",
       "        text-align: right;\n",
       "    }\n",
       "</style>\n",
       "<table border=\"1\" class=\"dataframe\">\n",
       "  <thead>\n",
       "    <tr style=\"text-align: right;\">\n",
       "      <th></th>\n",
       "      <th>Ranking</th>\n",
       "      <th>Support</th>\n",
       "    </tr>\n",
       "    <tr>\n",
       "      <th>Name</th>\n",
       "      <th></th>\n",
       "      <th></th>\n",
       "    </tr>\n",
       "  </thead>\n",
       "  <tbody>\n",
       "    <tr>\n",
       "      <td>lh_S_temporal_transverse_area</td>\n",
       "      <td>True</td>\n",
       "      <td>1</td>\n",
       "    </tr>\n",
       "    <tr>\n",
       "      <td>rh_S_suborbital_area</td>\n",
       "      <td>True</td>\n",
       "      <td>1</td>\n",
       "    </tr>\n",
       "    <tr>\n",
       "      <td>rh_S_collat_transv_ant_area</td>\n",
       "      <td>True</td>\n",
       "      <td>1</td>\n",
       "    </tr>\n",
       "    <tr>\n",
       "      <td>rh_S_circular_insula_inf_area</td>\n",
       "      <td>True</td>\n",
       "      <td>1</td>\n",
       "    </tr>\n",
       "    <tr>\n",
       "      <td>rh_S_circular_insula_ant_area</td>\n",
       "      <td>True</td>\n",
       "      <td>1</td>\n",
       "    </tr>\n",
       "  </tbody>\n",
       "</table>\n",
       "</div>"
      ],
      "text/plain": [
       "                               Ranking  Support\n",
       "Name                                           \n",
       "lh_S_temporal_transverse_area     True        1\n",
       "rh_S_suborbital_area              True        1\n",
       "rh_S_collat_transv_ant_area       True        1\n",
       "rh_S_circular_insula_inf_area     True        1\n",
       "rh_S_circular_insula_ant_area     True        1"
      ]
     },
     "execution_count": 31,
     "metadata": {},
     "output_type": "execute_result"
    }
   ],
   "source": [
    "support_data = readRankings()\n",
    "support_data[0]['data'].head()"
   ]
  },
  {
   "cell_type": "code",
   "execution_count": 32,
   "metadata": {},
   "outputs": [
    {
     "data": {
      "text/plain": [
       "(550, 148)"
      ]
     },
     "execution_count": 32,
     "metadata": {},
     "output_type": "execute_result"
    }
   ],
   "source": [
    "df_X_tr = readCsvs('train')\n",
    "df_X_tr[0]['data'].shape"
   ]
  },
  {
   "cell_type": "code",
   "execution_count": 33,
   "metadata": {},
   "outputs": [
    {
     "data": {
      "text/plain": [
       "(550, 1)"
      ]
     },
     "execution_count": 33,
     "metadata": {},
     "output_type": "execute_result"
    }
   ],
   "source": [
    "df_y_train = pd.read_csv(PATH_DATASETS + 'Y_train.csv', index_col = 0)\n",
    "df_y_train.shape"
   ]
  },
  {
   "cell_type": "code",
   "execution_count": 34,
   "metadata": {},
   "outputs": [
    {
     "data": {
      "text/plain": [
       "(338, 148)"
      ]
     },
     "execution_count": 34,
     "metadata": {},
     "output_type": "execute_result"
    }
   ],
   "source": [
    "df_X_val = readCsvs('validate')\n",
    "df_X_val[0]['data'].shape"
   ]
  },
  {
   "cell_type": "code",
   "execution_count": 35,
   "metadata": {},
   "outputs": [
    {
     "data": {
      "text/plain": [
       "(338, 1)"
      ]
     },
     "execution_count": 35,
     "metadata": {},
     "output_type": "execute_result"
    }
   ],
   "source": [
    "df_y_val = pd.read_csv(PATH_DATASETS + 'Y_validate.csv', index_col = 0)\n",
    "df_y_val.shape"
   ]
  },
  {
   "cell_type": "markdown",
   "metadata": {},
   "source": [
    "### selecting the features thar are in the ranking "
   ]
  },
  {
   "cell_type": "code",
   "execution_count": 36,
   "metadata": {},
   "outputs": [],
   "source": [
    "for feature_train, feature_validate, ranking in zip(df_X_tr, df_X_val, support_data):\n",
    "    data_train = feature_train['data']\n",
    "    data_validate = feature_validate['data']\n",
    "    data_ranking = ranking['data']\n",
    "    \n",
    "    feature_train['data'] = data_train[data_ranking.index.values].copy()\n",
    "    feature_validate['data'] = data_validate[data_ranking.index.values].copy()"
   ]
  },
  {
   "cell_type": "code",
   "execution_count": 37,
   "metadata": {},
   "outputs": [
    {
     "data": {
      "text/plain": [
       "(338, 15)"
      ]
     },
     "execution_count": 37,
     "metadata": {},
     "output_type": "execute_result"
    }
   ],
   "source": [
    "df_X_val[0]['data'].shape"
   ]
  },
  {
   "cell_type": "markdown",
   "metadata": {},
   "source": [
    "# 2. Grid Search CV"
   ]
  },
  {
   "cell_type": "code",
   "execution_count": 38,
   "metadata": {},
   "outputs": [
    {
     "name": "stdout",
     "output_type": "stream",
     "text": [
      "******************************** GRID SEARCH FOR: area ******************************\n",
      "# Tuning hyper-parameters for precision\n",
      "\n"
     ]
    },
    {
     "name": "stderr",
     "output_type": "stream",
     "text": [
      "/home/students/anaconda3/lib/python3.7/site-packages/sklearn/utils/validation.py:724: DataConversionWarning: A column-vector y was passed when a 1d array was expected. Please change the shape of y to (n_samples, ), for example using ravel().\n",
      "  y = column_or_1d(y, warn=True)\n"
     ]
    },
    {
     "name": "stdout",
     "output_type": "stream",
     "text": [
      "Best parameters set found on development set:  {'C': 0.001}\n",
      "Grid scores on develpment set: \n",
      "0.647 (+/-0.160) for {'C': 0.001}\n",
      "0.647 (+/-0.160) for {'C': 0.01}\n",
      "0.647 (+/-0.160) for {'C': 0.1}\n",
      "0.647 (+/-0.160) for {'C': 1}\n",
      "0.647 (+/-0.160) for {'C': 10}\n",
      "Detailed Classification Report: \n",
      "the model is trained on the full development set.\n",
      "The scores are computed on the full evaluation set.\n",
      "              precision    recall  f1-score   support\n",
      "\n",
      "          -1       0.68      0.72      0.70       173\n",
      "           1       0.69      0.64      0.66       165\n",
      "\n",
      "    accuracy                           0.68       338\n",
      "   macro avg       0.68      0.68      0.68       338\n",
      "weighted avg       0.68      0.68      0.68       338\n",
      "\n",
      "\n",
      "# Tuning hyper-parameters for recall\n",
      "\n",
      "Best parameters set found on development set:  {'C': 0.001}\n",
      "Grid scores on develpment set: \n",
      "0.645 (+/-0.159) for {'C': 0.001}\n",
      "0.645 (+/-0.159) for {'C': 0.01}\n",
      "0.645 (+/-0.159) for {'C': 0.1}\n",
      "0.645 (+/-0.159) for {'C': 1}\n",
      "0.645 (+/-0.159) for {'C': 10}\n",
      "Detailed Classification Report: \n",
      "the model is trained on the full development set.\n",
      "The scores are computed on the full evaluation set.\n",
      "              precision    recall  f1-score   support\n",
      "\n",
      "          -1       0.68      0.72      0.70       173\n",
      "           1       0.69      0.64      0.66       165\n",
      "\n",
      "    accuracy                           0.68       338\n",
      "   macro avg       0.68      0.68      0.68       338\n",
      "weighted avg       0.68      0.68      0.68       338\n",
      "\n",
      "\n",
      "******************************** GRID SEARCH FOR: meancurv ******************************\n",
      "# Tuning hyper-parameters for precision\n",
      "\n"
     ]
    },
    {
     "name": "stderr",
     "output_type": "stream",
     "text": [
      "/home/students/anaconda3/lib/python3.7/site-packages/sklearn/utils/validation.py:724: DataConversionWarning: A column-vector y was passed when a 1d array was expected. Please change the shape of y to (n_samples, ), for example using ravel().\n",
      "  y = column_or_1d(y, warn=True)\n",
      "/home/students/anaconda3/lib/python3.7/site-packages/sklearn/utils/validation.py:724: DataConversionWarning: A column-vector y was passed when a 1d array was expected. Please change the shape of y to (n_samples, ), for example using ravel().\n",
      "  y = column_or_1d(y, warn=True)\n"
     ]
    },
    {
     "name": "stdout",
     "output_type": "stream",
     "text": [
      "Best parameters set found on development set:  {'C': 10}\n",
      "Grid scores on develpment set: \n",
      "0.587 (+/-0.145) for {'C': 0.001}\n",
      "0.587 (+/-0.145) for {'C': 0.01}\n",
      "0.587 (+/-0.145) for {'C': 0.1}\n",
      "0.609 (+/-0.106) for {'C': 1}\n",
      "0.662 (+/-0.065) for {'C': 10}\n",
      "Detailed Classification Report: \n",
      "the model is trained on the full development set.\n",
      "The scores are computed on the full evaluation set.\n",
      "              precision    recall  f1-score   support\n",
      "\n",
      "          -1       0.72      0.68      0.70       173\n",
      "           1       0.68      0.72      0.70       165\n",
      "\n",
      "    accuracy                           0.70       338\n",
      "   macro avg       0.70      0.70      0.70       338\n",
      "weighted avg       0.70      0.70      0.70       338\n",
      "\n",
      "\n",
      "# Tuning hyper-parameters for recall\n",
      "\n"
     ]
    },
    {
     "name": "stderr",
     "output_type": "stream",
     "text": [
      "/home/students/anaconda3/lib/python3.7/site-packages/sklearn/utils/validation.py:724: DataConversionWarning: A column-vector y was passed when a 1d array was expected. Please change the shape of y to (n_samples, ), for example using ravel().\n",
      "  y = column_or_1d(y, warn=True)\n"
     ]
    },
    {
     "name": "stdout",
     "output_type": "stream",
     "text": [
      "Best parameters set found on development set:  {'C': 10}\n",
      "Grid scores on develpment set: \n",
      "0.529 (+/-0.060) for {'C': 0.001}\n",
      "0.529 (+/-0.060) for {'C': 0.01}\n",
      "0.529 (+/-0.060) for {'C': 0.1}\n",
      "0.551 (+/-0.064) for {'C': 1}\n",
      "0.658 (+/-0.058) for {'C': 10}\n",
      "Detailed Classification Report: \n",
      "the model is trained on the full development set.\n",
      "The scores are computed on the full evaluation set.\n",
      "              precision    recall  f1-score   support\n",
      "\n",
      "          -1       0.72      0.68      0.70       173\n",
      "           1       0.68      0.72      0.70       165\n",
      "\n",
      "    accuracy                           0.70       338\n",
      "   macro avg       0.70      0.70      0.70       338\n",
      "weighted avg       0.70      0.70      0.70       338\n",
      "\n",
      "\n",
      "******************************** GRID SEARCH FOR: thickness ******************************\n",
      "# Tuning hyper-parameters for precision\n",
      "\n",
      "Best parameters set found on development set:  {'C': 1}\n",
      "Grid scores on develpment set: \n",
      "0.663 (+/-0.140) for {'C': 0.001}\n",
      "0.663 (+/-0.140) for {'C': 0.01}\n",
      "0.697 (+/-0.048) for {'C': 0.1}\n",
      "0.750 (+/-0.058) for {'C': 1}\n",
      "0.732 (+/-0.068) for {'C': 10}\n",
      "Detailed Classification Report: \n",
      "the model is trained on the full development set.\n",
      "The scores are computed on the full evaluation set.\n"
     ]
    },
    {
     "name": "stderr",
     "output_type": "stream",
     "text": [
      "/home/students/anaconda3/lib/python3.7/site-packages/sklearn/utils/validation.py:724: DataConversionWarning: A column-vector y was passed when a 1d array was expected. Please change the shape of y to (n_samples, ), for example using ravel().\n",
      "  y = column_or_1d(y, warn=True)\n"
     ]
    },
    {
     "name": "stdout",
     "output_type": "stream",
     "text": [
      "              precision    recall  f1-score   support\n",
      "\n",
      "          -1       0.78      0.73      0.75       173\n",
      "           1       0.73      0.78      0.76       165\n",
      "\n",
      "    accuracy                           0.75       338\n",
      "   macro avg       0.76      0.76      0.75       338\n",
      "weighted avg       0.76      0.75      0.75       338\n",
      "\n",
      "\n",
      "# Tuning hyper-parameters for recall\n",
      "\n",
      "Best parameters set found on development set:  {'C': 1}\n",
      "Grid scores on develpment set: \n",
      "0.591 (+/-0.128) for {'C': 0.001}\n",
      "0.591 (+/-0.128) for {'C': 0.01}\n",
      "0.696 (+/-0.047) for {'C': 0.1}\n",
      "0.749 (+/-0.058) for {'C': 1}\n",
      "0.731 (+/-0.067) for {'C': 10}\n",
      "Detailed Classification Report: \n",
      "the model is trained on the full development set.\n",
      "The scores are computed on the full evaluation set.\n"
     ]
    },
    {
     "name": "stderr",
     "output_type": "stream",
     "text": [
      "/home/students/anaconda3/lib/python3.7/site-packages/sklearn/utils/validation.py:724: DataConversionWarning: A column-vector y was passed when a 1d array was expected. Please change the shape of y to (n_samples, ), for example using ravel().\n",
      "  y = column_or_1d(y, warn=True)\n"
     ]
    },
    {
     "name": "stdout",
     "output_type": "stream",
     "text": [
      "              precision    recall  f1-score   support\n",
      "\n",
      "          -1       0.78      0.73      0.75       173\n",
      "           1       0.73      0.78      0.76       165\n",
      "\n",
      "    accuracy                           0.75       338\n",
      "   macro avg       0.76      0.76      0.75       338\n",
      "weighted avg       0.76      0.75      0.75       338\n",
      "\n",
      "\n",
      "******************************** GRID SEARCH FOR: volume ******************************\n",
      "# Tuning hyper-parameters for precision\n",
      "\n"
     ]
    },
    {
     "name": "stderr",
     "output_type": "stream",
     "text": [
      "/home/students/anaconda3/lib/python3.7/site-packages/sklearn/utils/validation.py:724: DataConversionWarning: A column-vector y was passed when a 1d array was expected. Please change the shape of y to (n_samples, ), for example using ravel().\n",
      "  y = column_or_1d(y, warn=True)\n"
     ]
    },
    {
     "name": "stdout",
     "output_type": "stream",
     "text": [
      "Best parameters set found on development set:  {'C': 0.001}\n",
      "Grid scores on develpment set: \n",
      "0.645 (+/-0.035) for {'C': 0.001}\n",
      "0.610 (+/-0.049) for {'C': 0.01}\n",
      "0.619 (+/-0.061) for {'C': 0.1}\n",
      "0.621 (+/-0.070) for {'C': 1}\n",
      "0.613 (+/-0.069) for {'C': 10}\n",
      "Detailed Classification Report: \n",
      "the model is trained on the full development set.\n",
      "The scores are computed on the full evaluation set.\n",
      "              precision    recall  f1-score   support\n",
      "\n",
      "          -1       0.67      0.68      0.68       173\n",
      "           1       0.66      0.65      0.66       165\n",
      "\n",
      "    accuracy                           0.67       338\n",
      "   macro avg       0.67      0.67      0.67       338\n",
      "weighted avg       0.67      0.67      0.67       338\n",
      "\n",
      "\n",
      "# Tuning hyper-parameters for recall\n",
      "\n"
     ]
    },
    {
     "name": "stderr",
     "output_type": "stream",
     "text": [
      "/home/students/anaconda3/lib/python3.7/site-packages/sklearn/utils/validation.py:724: DataConversionWarning: A column-vector y was passed when a 1d array was expected. Please change the shape of y to (n_samples, ), for example using ravel().\n",
      "  y = column_or_1d(y, warn=True)\n"
     ]
    },
    {
     "name": "stdout",
     "output_type": "stream",
     "text": [
      "Best parameters set found on development set:  {'C': 0.001}\n",
      "Grid scores on develpment set: \n",
      "0.644 (+/-0.035) for {'C': 0.001}\n",
      "0.609 (+/-0.050) for {'C': 0.01}\n",
      "0.618 (+/-0.061) for {'C': 0.1}\n",
      "0.620 (+/-0.070) for {'C': 1}\n",
      "0.613 (+/-0.069) for {'C': 10}\n",
      "Detailed Classification Report: \n",
      "the model is trained on the full development set.\n",
      "The scores are computed on the full evaluation set.\n",
      "              precision    recall  f1-score   support\n",
      "\n",
      "          -1       0.67      0.68      0.68       173\n",
      "           1       0.66      0.65      0.66       165\n",
      "\n",
      "    accuracy                           0.67       338\n",
      "   macro avg       0.67      0.67      0.67       338\n",
      "weighted avg       0.67      0.67      0.67       338\n",
      "\n",
      "\n"
     ]
    }
   ],
   "source": [
    "param_grid = {'C': [0.001, 0.01, 0.1, 1, 10]} \n",
    "scores = ['precision', 'recall']\n",
    "best_c = []\n",
    "\n",
    "for feature_train, feature_validate in zip(df_X_tr, df_X_val):\n",
    "    \n",
    "    data_name = feature_train['name']\n",
    "    data_train = feature_train['data']\n",
    "    data_validate = feature_validate['data']\n",
    "    \n",
    "    print(\"******************************** GRID SEARCH FOR: \" + data_name + \" ******************************\")\n",
    "    \n",
    "    for score in scores:\n",
    "        print(\"# Tuning hyper-parameters for %s\" % score)\n",
    "        print()\n",
    "\n",
    "        clf = GridSearchCV(SVC(kernel='linear'),param_grid, verbose=0, n_jobs=-1, scoring='%s_macro' % score, cv=5)\n",
    "        clf.fit(data_train, df_y_train)\n",
    "        \n",
    "        if (score == 'precision'):\n",
    "            best_c.append({'name' : data_name, 'data' : clf.best_params_})\n",
    "\n",
    "        print(\"Best parameters set found on development set: \", clf.best_params_)\n",
    "        print(\"Grid scores on develpment set: \")\n",
    "        means = clf.cv_results_['mean_test_score']\n",
    "        stds = clf.cv_results_['std_test_score']\n",
    "        for mean, std, params in zip(means, stds, clf.cv_results_['params']):\n",
    "            print(\"%0.3f (+/-%0.03f) for %r\"\n",
    "                 %(mean, std * 2, params))\n",
    "\n",
    "        print(\"Detailed Classification Report: \")\n",
    "        print(\"the model is trained on the full development set.\")\n",
    "        print(\"The scores are computed on the full evaluation set.\")\n",
    "        y_true, y_pred = df_y_val, clf.predict(data_validate)\n",
    "        print(classification_report(y_true,y_pred))\n",
    "        print()"
   ]
  },
  {
   "cell_type": "code",
   "execution_count": 16,
   "metadata": {},
   "outputs": [
    {
     "data": {
      "text/plain": [
       "[{'name': 'area', 'data': {'C': 10, 'gamma': 0.001}},\n",
       " {'name': 'meancurv', 'data': {'C': 10, 'gamma': 1}},\n",
       " {'name': 'thickness', 'data': {'C': 10, 'gamma': 0.1}},\n",
       " {'name': 'volume', 'data': {'C': 0.001, 'gamma': 0.001}}]"
      ]
     },
     "execution_count": 16,
     "metadata": {},
     "output_type": "execute_result"
    }
   ],
   "source": [
    "best_c"
   ]
  },
  {
   "cell_type": "code",
   "execution_count": 17,
   "metadata": {},
   "outputs": [
    {
     "name": "stderr",
     "output_type": "stream",
     "text": [
      "/home/students/anaconda3/lib/python3.7/site-packages/sklearn/utils/validation.py:724: DataConversionWarning: A column-vector y was passed when a 1d array was expected. Please change the shape of y to (n_samples, ), for example using ravel().\n",
      "  y = column_or_1d(y, warn=True)\n"
     ]
    },
    {
     "name": "stdout",
     "output_type": "stream",
     "text": [
      "Score for area:  0.6709090909090909\n",
      "Score for meancurv:  0.7254545454545455\n",
      "Score for thickness:  0.7763636363636364\n"
     ]
    },
    {
     "name": "stderr",
     "output_type": "stream",
     "text": [
      "/home/students/anaconda3/lib/python3.7/site-packages/sklearn/utils/validation.py:724: DataConversionWarning: A column-vector y was passed when a 1d array was expected. Please change the shape of y to (n_samples, ), for example using ravel().\n",
      "  y = column_or_1d(y, warn=True)\n",
      "/home/students/anaconda3/lib/python3.7/site-packages/sklearn/utils/validation.py:724: DataConversionWarning: A column-vector y was passed when a 1d array was expected. Please change the shape of y to (n_samples, ), for example using ravel().\n",
      "  y = column_or_1d(y, warn=True)\n",
      "/home/students/anaconda3/lib/python3.7/site-packages/sklearn/utils/validation.py:724: DataConversionWarning: A column-vector y was passed when a 1d array was expected. Please change the shape of y to (n_samples, ), for example using ravel().\n",
      "  y = column_or_1d(y, warn=True)\n"
     ]
    },
    {
     "name": "stdout",
     "output_type": "stream",
     "text": [
      "Score for volume:  0.7745454545454545\n"
     ]
    }
   ],
   "source": [
    "clfs = []\n",
    "for feature, feature_tr in zip (best_c, df_X_tr):\n",
    "    c = feature['data']['C']\n",
    "    data_name = feature_tr['name']\n",
    "    df_train = feature_tr['data']\n",
    "    \n",
    "    # create and train\n",
    "    clf = svm.SVC(kernel='linear', C = c)\n",
    "    clf.fit(df_train, df_y_train)\n",
    "    \n",
    "    #checking the score \n",
    "    print(\"Score for \" + data_name + \": \", clf.score(df_train,df_y_train))\n",
    "    \n",
    "    #saving the classificator\n",
    "    joblib.dump(clf, 'output/SVM (Support - 1 - optimal)_less_max_inter' + data_name +'.pkl')\n",
    "    \n",
    "    #saving an instance  of the clf \n",
    "    clfs.append({'name' : data_name, 'data' : clf})"
   ]
  },
  {
   "cell_type": "markdown",
   "metadata": {},
   "source": [
    "# Confusion Matrix"
   ]
  },
  {
   "cell_type": "code",
   "execution_count": 25,
   "metadata": {},
   "outputs": [],
   "source": [
    "def plot_confusion_matrix(cm, classes, normalize = False,\n",
    "                         title = 'Confusion matrix', cmap=plt.cm.Blues):\n",
    "    \"\"\"\n",
    "    This function prints and plots the confusion matrix.\n",
    "    Normalization can be applied by setting 'normalie = True'\n",
    "    \"\"\"\n",
    "    \n",
    "    if normalize:\n",
    "        cm = cm.astype('float') / cm.sum(axis=1)[: np.newaxis]\n",
    "        print(\"Cormalized confusion matrix\")\n",
    "    else:\n",
    "        print(\"Confusion matrix, without normalization\")\n",
    "    \n",
    "    print(cm)\n",
    "    \n",
    "    plt.imshow(cm, interpolation='nearest', cmap = cmap)\n",
    "    plt.title(title)\n",
    "    plt.colorbar()\n",
    "    tick_marks = np.arange(len(classes))\n",
    "    plt.xticks(tick_marks, classes, rotation = 45)\n",
    "    plt.yticks(tick_marks, classes)\n",
    "    \n",
    "    # '.2f' limits float to two decimal point\n",
    "    # 'd' number decimal\n",
    "    fmt = '.2f' if normalize else 'd' \n",
    "    \n",
    "    thresh = cm.max() / 2\n",
    "    \n",
    "    for i, j in itertools.product(range(cm.shape[0]), range(cm.shape[1])):\n",
    "        plt.text(j, i, format (cm[i,j], fmt), horizontalalignment = \"center\",\n",
    "                 color = \"white\" if cm[i,j] > thresh else \"black\")\n",
    "    \n",
    "    plt.tight_layout()\n",
    "    plt.ylabel('true label')\n",
    "    plt.xlabel('Predicted label')"
   ]
  },
  {
   "cell_type": "code",
   "execution_count": 26,
   "metadata": {},
   "outputs": [
    {
     "name": "stdout",
     "output_type": "stream",
     "text": [
      "Confusion matrix, without normalization\n",
      "[[125  48]\n",
      " [ 60 105]]\n",
      "Cormalized confusion matrix\n",
      "[[0.72 0.29]\n",
      " [0.35 0.64]]\n"
     ]
    },
    {
     "data": {
      "image/png": "[encoded data removed]",
      "text/plain": [
       "<Figure size 432x288 with 2 Axes>"
      ]
     },
     "metadata": {
      "needs_background": "light"
     },
     "output_type": "display_data"
    },
    {
     "data": {
      "image/png": "[encoded data removed]",
      "text/plain": [
       "<Figure size 432x288 with 2 Axes>"
      ]
     },
     "metadata": {
      "needs_background": "light"
     },
     "output_type": "display_data"
    },
    {
     "name": "stdout",
     "output_type": "stream",
     "text": [
      "Confusion matrix, without normalization\n",
      "[[117  56]\n",
      " [ 46 119]]\n",
      "Cormalized confusion matrix\n",
      "[[0.68 0.34]\n",
      " [0.27 0.72]]\n"
     ]
    },
    {
     "data": {
      "image/png": "[encoded data removed]",
      "text/plain": [
       "<Figure size 432x288 with 2 Axes>"
      ]
     },
     "metadata": {
      "needs_background": "light"
     },
     "output_type": "display_data"
    },
    {
     "data": {
      "image/png": "[encoded data removed]",
      "text/plain": [
       "<Figure size 432x288 with 2 Axes>"
      ]
     },
     "metadata": {
      "needs_background": "light"
     },
     "output_type": "display_data"
    },
    {
     "name": "stdout",
     "output_type": "stream",
     "text": [
      "Confusion matrix, without normalization\n",
      "[[118  55]\n",
      " [ 40 125]]\n",
      "Cormalized confusion matrix\n",
      "[[0.68 0.33]\n",
      " [0.23 0.76]]\n"
     ]
    },
    {
     "data": {
      "image/png": "[encoded data removed]",
      "text/plain": [
       "<Figure size 432x288 with 2 Axes>"
      ]
     },
     "metadata": {
      "needs_background": "light"
     },
     "output_type": "display_data"
    },
    {
     "data": {
      "image/png": "[encoded data removed]",
      "text/plain": [
       "<Figure size 432x288 with 2 Axes>"
      ]
     },
     "metadata": {
      "needs_background": "light"
     },
     "output_type": "display_data"
    },
    {
     "name": "stdout",
     "output_type": "stream",
     "text": [
      "Confusion matrix, without normalization\n",
      "[[118  55]\n",
      " [ 57 108]]\n",
      "Cormalized confusion matrix\n",
      "[[0.68 0.33]\n",
      " [0.33 0.65]]\n"
     ]
    },
    {
     "data": {
      "image/png": "[encoded data removed]",
      "text/plain": [
       "<Figure size 432x288 with 2 Axes>"
      ]
     },
     "metadata": {
      "needs_background": "light"
     },
     "output_type": "display_data"
    },
    {
     "data": {
      "image/png": "[encoded data removed]",
      "text/plain": [
       "<Figure size 432x288 with 2 Axes>"
      ]
     },
     "metadata": {
      "needs_background": "light"
     },
     "output_type": "display_data"
    }
   ],
   "source": [
    "for feature, clf in zip(df_X_val, clfs):\n",
    "    data = feature['data']\n",
    "    name = feature['name']\n",
    "    clf_data = clf['data']\n",
    "    \n",
    "    # Compute Confusion matrix\n",
    "    cnf_matrix = confusion_matrix(df_y_val['class'].values, clf_data.predict(data))\n",
    "    np.set_printoptions(precision=2)\n",
    "\n",
    "    # Plot non-normalied confusion matrix\n",
    "    plt.figure()\n",
    "    plot_confusion_matrix(cnf_matrix, classes=['Weak', 'Strong'],\n",
    "                         title='confusion matrix, without normalization')\n",
    "\n",
    "    # Plot normalized confusion matrix\n",
    "    plt.figure()\n",
    "    plot_confusion_matrix(cnf_matrix, classes=['Weak', 'Strong'], normalize=True,\n",
    "                         title='normalized confusion matrix')\n",
    "    plt.show()\n"
   ]
  },
  {
   "cell_type": "code",
   "execution_count": null,
   "metadata": {},
   "outputs": [],
   "source": []
  }
 ],
 "metadata": {
  "kernelspec": {
   "display_name": "Python 3",
   "language": "python",
   "name": "python3"
  },
  "language_info": {
   "codemirror_mode": {
    "name": "ipython",
    "version": 3
   },
   "file_extension": ".py",
   "mimetype": "text/x-python",
   "name": "python",
   "nbconvert_exporter": "python",
   "pygments_lexer": "ipython3",
   "version": "3.7.4"
  }
 },
 "nbformat": 4,
 "nbformat_minor": 2
}
