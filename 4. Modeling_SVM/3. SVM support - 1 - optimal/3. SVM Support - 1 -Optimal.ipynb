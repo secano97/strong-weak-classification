{
 "cells": [
  {
   "cell_type": "markdown",
   "metadata": {},
   "source": [
    "# <center> <b> <h1>   3. SVM Support - 1 -Optimal </h1></b></center>"
   ]
  },
  {
   "cell_type": "code",
   "execution_count": 1,
   "metadata": {},
   "outputs": [],
   "source": [
    "import matplotlib.pyplot as plt\n",
    "import numpy as np \n",
    "from sklearn.feature_selection import SelectFromModel\n",
    "from sklearn.metrics import accuracy_score\n",
    "from sklearn.metrics import confusion_matrix\n",
    "import joblib\n",
    "from sklearn.svm import SVC\n",
    "from sklearn.feature_selection import RFECV\n",
    "from sklearn import datasets, svm\n",
    "from sklearn.model_selection import StratifiedKFold, GridSearchCV\n",
    "from sklearn.metrics import classification_report\n",
    "\n",
    "import pickle\n",
    "\n",
    "import pandas as pd\n",
    "import itertools\n",
    "\n",
    "PATH_RANKINGS = \"../1. SVM RFE (All features)/csv/\"\n",
    "PATH_DATASETS = \"../../2_Data_preparation/2_Split_Raw_Datasets/output/\"\n",
    "PATH_MAX_ITER = \"../1. SVM RFE (All features)/output/\""
   ]
  },
  {
   "cell_type": "code",
   "execution_count": 2,
   "metadata": {},
   "outputs": [],
   "source": [
    "def readCsvs(split):\n",
    "    datasets = []\n",
    "    constant1 = 'X_'\n",
    "    constant2 = '_' + split\n",
    "    features = ['area', 'meancurv', 'thickness', 'volume']\n",
    "\n",
    "    for feature in features:\n",
    "        df = pd.read_csv(PATH_DATASETS + constant1 + feature + constant2 +'.csv', index_col=0)\n",
    "        datasets.append({'name': feature, 'data': df})\n",
    "    return datasets"
   ]
  },
  {
   "cell_type": "code",
   "execution_count": 3,
   "metadata": {},
   "outputs": [],
   "source": [
    "def readRankings(ranking = 0):\n",
    "    datasets = []\n",
    "    constants = ['used_regions_normalized_convergence_',\n",
    "                 'used_regions_normalized_highest_']    \n",
    "    \n",
    "    features = ['area', 'meancurv', 'thickness', 'volume']\n",
    "\n",
    "    for feature in features:\n",
    "        df = pd.read_csv(PATH_RANKINGS + constants[ranking] + feature +'.csv', index_col=0)\n",
    "        datasets.append({'name': feature, 'data': df})\n",
    "    return datasets"
   ]
  },
  {
   "cell_type": "code",
   "execution_count": 4,
   "metadata": {},
   "outputs": [],
   "source": [
    "def readMaxIter(i = 0):\n",
    "    constants = ['models_info_list_convergence_normalized',\n",
    "                 'models_info_list_accuracy_normalized',\n",
    "                 'models_info_list_convergence', \n",
    "                 'models_info_list_highest_acc' ]\n",
    "    \n",
    "    inputFile = PATH_MAX_ITER + constants[i] +'.data'\n",
    "    fd = open(inputFile, 'rb')\n",
    "    data = pickle.load(fd)\n",
    "    return data"
   ]
  },
  {
   "cell_type": "markdown",
   "metadata": {},
   "source": [
    "# Prepare The Data"
   ]
  },
  {
   "cell_type": "markdown",
   "metadata": {},
   "source": [
    "#### convergence"
   ]
  },
  {
   "cell_type": "code",
   "execution_count": 5,
   "metadata": {},
   "outputs": [
    {
     "data": {
      "text/html": [
       "<div>\n",
       "<style scoped>\n",
       "    .dataframe tbody tr th:only-of-type {\n",
       "        vertical-align: middle;\n",
       "    }\n",
       "\n",
       "    .dataframe tbody tr th {\n",
       "        vertical-align: top;\n",
       "    }\n",
       "\n",
       "    .dataframe thead th {\n",
       "        text-align: right;\n",
       "    }\n",
       "</style>\n",
       "<table border=\"1\" class=\"dataframe\">\n",
       "  <thead>\n",
       "    <tr style=\"text-align: right;\">\n",
       "      <th></th>\n",
       "      <th>Ranking</th>\n",
       "      <th>Support</th>\n",
       "    </tr>\n",
       "    <tr>\n",
       "      <th>Name</th>\n",
       "      <th></th>\n",
       "      <th></th>\n",
       "    </tr>\n",
       "  </thead>\n",
       "  <tbody>\n",
       "    <tr>\n",
       "      <td>lh_G_and_S_frontomargin_area</td>\n",
       "      <td>1</td>\n",
       "      <td>True</td>\n",
       "    </tr>\n",
       "    <tr>\n",
       "      <td>rh_S_orbital-H_Shaped_area</td>\n",
       "      <td>1</td>\n",
       "      <td>True</td>\n",
       "    </tr>\n",
       "    <tr>\n",
       "      <td>lh_S_circular_insula_sup_area</td>\n",
       "      <td>1</td>\n",
       "      <td>True</td>\n",
       "    </tr>\n",
       "    <tr>\n",
       "      <td>lh_S_collat_transv_ant_area</td>\n",
       "      <td>1</td>\n",
       "      <td>True</td>\n",
       "    </tr>\n",
       "    <tr>\n",
       "      <td>rh_S_collat_transv_post_area</td>\n",
       "      <td>1</td>\n",
       "      <td>True</td>\n",
       "    </tr>\n",
       "  </tbody>\n",
       "</table>\n",
       "</div>"
      ],
      "text/plain": [
       "                               Ranking  Support\n",
       "Name                                           \n",
       "lh_G_and_S_frontomargin_area         1     True\n",
       "rh_S_orbital-H_Shaped_area           1     True\n",
       "lh_S_circular_insula_sup_area        1     True\n",
       "lh_S_collat_transv_ant_area          1     True\n",
       "rh_S_collat_transv_post_area         1     True"
      ]
     },
     "execution_count": 5,
     "metadata": {},
     "output_type": "execute_result"
    }
   ],
   "source": [
    "#0 for normalized convergence and 1 for normalized highest accuracy\n",
    "support_data_convergence = readRankings()\n",
    "support_data_convergence[0]['data'].head()"
   ]
  },
  {
   "cell_type": "markdown",
   "metadata": {},
   "source": [
    "#### Highest accuracy"
   ]
  },
  {
   "cell_type": "code",
   "execution_count": 6,
   "metadata": {},
   "outputs": [
    {
     "data": {
      "text/html": [
       "<div>\n",
       "<style scoped>\n",
       "    .dataframe tbody tr th:only-of-type {\n",
       "        vertical-align: middle;\n",
       "    }\n",
       "\n",
       "    .dataframe tbody tr th {\n",
       "        vertical-align: top;\n",
       "    }\n",
       "\n",
       "    .dataframe thead th {\n",
       "        text-align: right;\n",
       "    }\n",
       "</style>\n",
       "<table border=\"1\" class=\"dataframe\">\n",
       "  <thead>\n",
       "    <tr style=\"text-align: right;\">\n",
       "      <th></th>\n",
       "      <th>Ranking</th>\n",
       "      <th>Support</th>\n",
       "    </tr>\n",
       "    <tr>\n",
       "      <th>Name</th>\n",
       "      <th></th>\n",
       "      <th></th>\n",
       "    </tr>\n",
       "  </thead>\n",
       "  <tbody>\n",
       "    <tr>\n",
       "      <td>lh_G_and_S_frontomargin_area</td>\n",
       "      <td>1</td>\n",
       "      <td>True</td>\n",
       "    </tr>\n",
       "    <tr>\n",
       "      <td>rh_S_orbital-H_Shaped_area</td>\n",
       "      <td>1</td>\n",
       "      <td>True</td>\n",
       "    </tr>\n",
       "    <tr>\n",
       "      <td>lh_S_circular_insula_sup_area</td>\n",
       "      <td>1</td>\n",
       "      <td>True</td>\n",
       "    </tr>\n",
       "    <tr>\n",
       "      <td>rh_S_circular_insula_ant_area</td>\n",
       "      <td>1</td>\n",
       "      <td>True</td>\n",
       "    </tr>\n",
       "    <tr>\n",
       "      <td>rh_G_oc-temp_med-Parahip_area</td>\n",
       "      <td>1</td>\n",
       "      <td>True</td>\n",
       "    </tr>\n",
       "  </tbody>\n",
       "</table>\n",
       "</div>"
      ],
      "text/plain": [
       "                               Ranking  Support\n",
       "Name                                           \n",
       "lh_G_and_S_frontomargin_area         1     True\n",
       "rh_S_orbital-H_Shaped_area           1     True\n",
       "lh_S_circular_insula_sup_area        1     True\n",
       "rh_S_circular_insula_ant_area        1     True\n",
       "rh_G_oc-temp_med-Parahip_area        1     True"
      ]
     },
     "execution_count": 6,
     "metadata": {},
     "output_type": "execute_result"
    }
   ],
   "source": [
    "#0 for normalized convergence and 1 for normalized highest accuracy\n",
    "support_data_highest = readRankings(1)\n",
    "support_data_highest[0]['data'].head()"
   ]
  },
  {
   "cell_type": "code",
   "execution_count": 7,
   "metadata": {},
   "outputs": [
    {
     "data": {
      "text/plain": [
       "(550, 148)"
      ]
     },
     "execution_count": 7,
     "metadata": {},
     "output_type": "execute_result"
    }
   ],
   "source": [
    "df_X_tr = readCsvs('train')\n",
    "df_X_tr[0]['data'].shape"
   ]
  },
  {
   "cell_type": "code",
   "execution_count": 8,
   "metadata": {},
   "outputs": [
    {
     "data": {
      "text/plain": [
       "(550, 1)"
      ]
     },
     "execution_count": 8,
     "metadata": {},
     "output_type": "execute_result"
    }
   ],
   "source": [
    "df_y_train = pd.read_csv(PATH_DATASETS + 'Y_train.csv', index_col = 0)\n",
    "df_y_train.shape"
   ]
  },
  {
   "cell_type": "code",
   "execution_count": 9,
   "metadata": {},
   "outputs": [
    {
     "data": {
      "text/plain": [
       "(338, 148)"
      ]
     },
     "execution_count": 9,
     "metadata": {},
     "output_type": "execute_result"
    }
   ],
   "source": [
    "df_X_val = readCsvs('validate')\n",
    "df_X_val[0]['data'].shape"
   ]
  },
  {
   "cell_type": "code",
   "execution_count": 10,
   "metadata": {},
   "outputs": [
    {
     "data": {
      "text/plain": [
       "(338, 1)"
      ]
     },
     "execution_count": 10,
     "metadata": {},
     "output_type": "execute_result"
    }
   ],
   "source": [
    "df_y_val = pd.read_csv(PATH_DATASETS + 'Y_validate.csv', index_col = 0)\n",
    "df_y_val.shape"
   ]
  },
  {
   "cell_type": "markdown",
   "metadata": {},
   "source": [
    "# 2. Normalize data"
   ]
  },
  {
   "cell_type": "code",
   "execution_count": 11,
   "metadata": {},
   "outputs": [],
   "source": [
    "for df_tr, df_val in zip(df_X_tr, df_X_val):\n",
    "    train = df_tr['data']\n",
    "    val = df_val['data']\n",
    "    \n",
    "    normal_tr = (train - train.mean(axis=0))/train.std()\n",
    "    normal_val = (val - val.mean(axis=0))/val.std()\n",
    "    \n",
    "    df_tr['data'] = normal_tr\n",
    "    df_val['data'] = normal_val"
   ]
  },
  {
   "cell_type": "code",
   "execution_count": 12,
   "metadata": {},
   "outputs": [
    {
     "data": {
      "text/html": [
       "<div>\n",
       "<style scoped>\n",
       "    .dataframe tbody tr th:only-of-type {\n",
       "        vertical-align: middle;\n",
       "    }\n",
       "\n",
       "    .dataframe tbody tr th {\n",
       "        vertical-align: top;\n",
       "    }\n",
       "\n",
       "    .dataframe thead th {\n",
       "        text-align: right;\n",
       "    }\n",
       "</style>\n",
       "<table border=\"1\" class=\"dataframe\">\n",
       "  <thead>\n",
       "    <tr style=\"text-align: right;\">\n",
       "      <th></th>\n",
       "      <th>lh_G_and_S_frontomargin_area</th>\n",
       "      <th>lh_G_and_S_occipital_inf_area</th>\n",
       "      <th>lh_G_and_S_paracentral_area</th>\n",
       "      <th>lh_G_and_S_subcentral_area</th>\n",
       "      <th>lh_G_and_S_transv_frontopol_area</th>\n",
       "      <th>lh_G_and_S_cingul-Ant_area</th>\n",
       "      <th>lh_G_and_S_cingul-Mid-Ant_area</th>\n",
       "      <th>lh_G_and_S_cingul-Mid-Post_area</th>\n",
       "      <th>lh_G_cingul-Post-dorsal_area</th>\n",
       "      <th>lh_G_cingul-Post-ventral_area</th>\n",
       "      <th>...</th>\n",
       "      <th>rh_S_parieto_occipital_area</th>\n",
       "      <th>rh_S_pericallosal_area</th>\n",
       "      <th>rh_S_postcentral_area</th>\n",
       "      <th>rh_S_precentral-inf-part_area</th>\n",
       "      <th>rh_S_precentral-sup-part_area</th>\n",
       "      <th>rh_S_suborbital_area</th>\n",
       "      <th>rh_S_subparietal_area</th>\n",
       "      <th>rh_S_temporal_inf_area</th>\n",
       "      <th>rh_S_temporal_sup_area</th>\n",
       "      <th>rh_S_temporal_transverse_area</th>\n",
       "    </tr>\n",
       "  </thead>\n",
       "  <tbody>\n",
       "    <tr>\n",
       "      <td>414229</td>\n",
       "      <td>0.309576</td>\n",
       "      <td>0.224009</td>\n",
       "      <td>1.107822</td>\n",
       "      <td>1.264846</td>\n",
       "      <td>-0.053643</td>\n",
       "      <td>0.447702</td>\n",
       "      <td>0.977805</td>\n",
       "      <td>0.781809</td>\n",
       "      <td>-0.594180</td>\n",
       "      <td>-0.761092</td>\n",
       "      <td>...</td>\n",
       "      <td>0.221416</td>\n",
       "      <td>0.381852</td>\n",
       "      <td>-0.114597</td>\n",
       "      <td>1.444931</td>\n",
       "      <td>0.064915</td>\n",
       "      <td>-0.435619</td>\n",
       "      <td>-1.510187</td>\n",
       "      <td>-0.718114</td>\n",
       "      <td>-1.077114</td>\n",
       "      <td>-0.575371</td>\n",
       "    </tr>\n",
       "    <tr>\n",
       "      <td>541943</td>\n",
       "      <td>-0.076249</td>\n",
       "      <td>0.352958</td>\n",
       "      <td>-0.262869</td>\n",
       "      <td>0.412671</td>\n",
       "      <td>-0.728809</td>\n",
       "      <td>-0.994397</td>\n",
       "      <td>-0.892543</td>\n",
       "      <td>-0.132296</td>\n",
       "      <td>-1.093925</td>\n",
       "      <td>-0.695517</td>\n",
       "      <td>...</td>\n",
       "      <td>0.137165</td>\n",
       "      <td>3.971853</td>\n",
       "      <td>-0.980071</td>\n",
       "      <td>-0.602848</td>\n",
       "      <td>-1.391463</td>\n",
       "      <td>1.763449</td>\n",
       "      <td>-0.070073</td>\n",
       "      <td>1.569996</td>\n",
       "      <td>-1.101390</td>\n",
       "      <td>-0.732631</td>\n",
       "    </tr>\n",
       "    <tr>\n",
       "      <td>206525</td>\n",
       "      <td>1.821379</td>\n",
       "      <td>1.235757</td>\n",
       "      <td>0.221342</td>\n",
       "      <td>1.378470</td>\n",
       "      <td>0.139262</td>\n",
       "      <td>2.154329</td>\n",
       "      <td>0.479456</td>\n",
       "      <td>0.281038</td>\n",
       "      <td>-0.560107</td>\n",
       "      <td>1.577744</td>\n",
       "      <td>...</td>\n",
       "      <td>2.151850</td>\n",
       "      <td>1.750859</td>\n",
       "      <td>1.175570</td>\n",
       "      <td>-0.649815</td>\n",
       "      <td>1.331331</td>\n",
       "      <td>1.466642</td>\n",
       "      <td>1.690066</td>\n",
       "      <td>1.386581</td>\n",
       "      <td>2.638980</td>\n",
       "      <td>0.660251</td>\n",
       "    </tr>\n",
       "    <tr>\n",
       "      <td>146533</td>\n",
       "      <td>1.656025</td>\n",
       "      <td>0.933225</td>\n",
       "      <td>1.614382</td>\n",
       "      <td>-0.344818</td>\n",
       "      <td>0.310732</td>\n",
       "      <td>2.457255</td>\n",
       "      <td>1.002415</td>\n",
       "      <td>0.519500</td>\n",
       "      <td>-0.491960</td>\n",
       "      <td>0.054950</td>\n",
       "      <td>...</td>\n",
       "      <td>1.305682</td>\n",
       "      <td>0.006832</td>\n",
       "      <td>0.956788</td>\n",
       "      <td>-0.161354</td>\n",
       "      <td>2.071697</td>\n",
       "      <td>-0.044374</td>\n",
       "      <td>-0.431244</td>\n",
       "      <td>-0.846505</td>\n",
       "      <td>1.292596</td>\n",
       "      <td>-1.024687</td>\n",
       "    </tr>\n",
       "    <tr>\n",
       "      <td>194746</td>\n",
       "      <td>-0.918764</td>\n",
       "      <td>0.273605</td>\n",
       "      <td>-0.657688</td>\n",
       "      <td>-0.067072</td>\n",
       "      <td>-0.621640</td>\n",
       "      <td>-0.772536</td>\n",
       "      <td>-0.486481</td>\n",
       "      <td>0.137961</td>\n",
       "      <td>-0.491960</td>\n",
       "      <td>-0.476934</td>\n",
       "      <td>...</td>\n",
       "      <td>0.016284</td>\n",
       "      <td>0.451031</td>\n",
       "      <td>-0.143553</td>\n",
       "      <td>-0.969194</td>\n",
       "      <td>-0.388072</td>\n",
       "      <td>-1.069706</td>\n",
       "      <td>-0.536396</td>\n",
       "      <td>0.079744</td>\n",
       "      <td>-0.490755</td>\n",
       "      <td>-0.081122</td>\n",
       "    </tr>\n",
       "  </tbody>\n",
       "</table>\n",
       "<p>5 rows × 148 columns</p>\n",
       "</div>"
      ],
      "text/plain": [
       "        lh_G_and_S_frontomargin_area  lh_G_and_S_occipital_inf_area  \\\n",
       "414229                      0.309576                       0.224009   \n",
       "541943                     -0.076249                       0.352958   \n",
       "206525                      1.821379                       1.235757   \n",
       "146533                      1.656025                       0.933225   \n",
       "194746                     -0.918764                       0.273605   \n",
       "\n",
       "        lh_G_and_S_paracentral_area  lh_G_and_S_subcentral_area  \\\n",
       "414229                     1.107822                    1.264846   \n",
       "541943                    -0.262869                    0.412671   \n",
       "206525                     0.221342                    1.378470   \n",
       "146533                     1.614382                   -0.344818   \n",
       "194746                    -0.657688                   -0.067072   \n",
       "\n",
       "        lh_G_and_S_transv_frontopol_area  lh_G_and_S_cingul-Ant_area  \\\n",
       "414229                         -0.053643                    0.447702   \n",
       "541943                         -0.728809                   -0.994397   \n",
       "206525                          0.139262                    2.154329   \n",
       "146533                          0.310732                    2.457255   \n",
       "194746                         -0.621640                   -0.772536   \n",
       "\n",
       "        lh_G_and_S_cingul-Mid-Ant_area  lh_G_and_S_cingul-Mid-Post_area  \\\n",
       "414229                        0.977805                         0.781809   \n",
       "541943                       -0.892543                        -0.132296   \n",
       "206525                        0.479456                         0.281038   \n",
       "146533                        1.002415                         0.519500   \n",
       "194746                       -0.486481                         0.137961   \n",
       "\n",
       "        lh_G_cingul-Post-dorsal_area  lh_G_cingul-Post-ventral_area  ...  \\\n",
       "414229                     -0.594180                      -0.761092  ...   \n",
       "541943                     -1.093925                      -0.695517  ...   \n",
       "206525                     -0.560107                       1.577744  ...   \n",
       "146533                     -0.491960                       0.054950  ...   \n",
       "194746                     -0.491960                      -0.476934  ...   \n",
       "\n",
       "        rh_S_parieto_occipital_area  rh_S_pericallosal_area  \\\n",
       "414229                     0.221416                0.381852   \n",
       "541943                     0.137165                3.971853   \n",
       "206525                     2.151850                1.750859   \n",
       "146533                     1.305682                0.006832   \n",
       "194746                     0.016284                0.451031   \n",
       "\n",
       "        rh_S_postcentral_area  rh_S_precentral-inf-part_area  \\\n",
       "414229              -0.114597                       1.444931   \n",
       "541943              -0.980071                      -0.602848   \n",
       "206525               1.175570                      -0.649815   \n",
       "146533               0.956788                      -0.161354   \n",
       "194746              -0.143553                      -0.969194   \n",
       "\n",
       "        rh_S_precentral-sup-part_area  rh_S_suborbital_area  \\\n",
       "414229                       0.064915             -0.435619   \n",
       "541943                      -1.391463              1.763449   \n",
       "206525                       1.331331              1.466642   \n",
       "146533                       2.071697             -0.044374   \n",
       "194746                      -0.388072             -1.069706   \n",
       "\n",
       "        rh_S_subparietal_area  rh_S_temporal_inf_area  rh_S_temporal_sup_area  \\\n",
       "414229              -1.510187               -0.718114               -1.077114   \n",
       "541943              -0.070073                1.569996               -1.101390   \n",
       "206525               1.690066                1.386581                2.638980   \n",
       "146533              -0.431244               -0.846505                1.292596   \n",
       "194746              -0.536396                0.079744               -0.490755   \n",
       "\n",
       "        rh_S_temporal_transverse_area  \n",
       "414229                      -0.575371  \n",
       "541943                      -0.732631  \n",
       "206525                       0.660251  \n",
       "146533                      -1.024687  \n",
       "194746                      -0.081122  \n",
       "\n",
       "[5 rows x 148 columns]"
      ]
     },
     "execution_count": 12,
     "metadata": {},
     "output_type": "execute_result"
    }
   ],
   "source": [
    "df_X_tr[0]['data'].head()"
   ]
  },
  {
   "cell_type": "markdown",
   "metadata": {},
   "source": [
    "### selecting the regions that are in the ranking "
   ]
  },
  {
   "cell_type": "code",
   "execution_count": 13,
   "metadata": {},
   "outputs": [],
   "source": [
    "import copy\n",
    "def selectRegionsRaking(ranking_list):\n",
    "    new_df_X_tr = copy.deepcopy(df_X_tr)\n",
    "    new_df_X_val = copy.deepcopy(df_X_val)\n",
    "    \n",
    "    for feature_train, feature_validate, ranking in zip(new_df_X_tr, new_df_X_val, ranking_list):\n",
    "        data_train = feature_train['data']\n",
    "        data_validate = feature_validate['data']\n",
    "        data_ranking = ranking['data']\n",
    "\n",
    "        feature_train['data'] = data_train[data_ranking.index.values].copy()\n",
    "        feature_validate['data'] = data_validate[data_ranking.index.values].copy()\n",
    "    \n",
    "    return new_df_X_tr, new_df_X_val"
   ]
  },
  {
   "cell_type": "code",
   "execution_count": 14,
   "metadata": {
    "scrolled": true
   },
   "outputs": [
    {
     "data": {
      "text/plain": [
       "(550, 11)"
      ]
     },
     "execution_count": 14,
     "metadata": {},
     "output_type": "execute_result"
    }
   ],
   "source": [
    "df_X_tr_convergence, df_X_val_convergence = selectRegionsRaking(support_data_convergence)\n",
    "df_X_tr_convergence[0]['data'].shape"
   ]
  },
  {
   "cell_type": "code",
   "execution_count": 15,
   "metadata": {},
   "outputs": [
    {
     "data": {
      "text/plain": [
       "(550, 15)"
      ]
     },
     "execution_count": 15,
     "metadata": {},
     "output_type": "execute_result"
    }
   ],
   "source": [
    "df_X_tr_highest, df_X_val_highest = selectRegionsRaking(support_data_highest)\n",
    "df_X_tr_highest[0]['data'].shape"
   ]
  },
  {
   "cell_type": "code",
   "execution_count": 16,
   "metadata": {
    "scrolled": true
   },
   "outputs": [],
   "source": [
    "#0 and 1 for normalized convergence and accuracy respectively\n",
    "#2 and 3 for not normalized\n",
    "model_info_list_convergence_normalized = readMaxIter(0)\n",
    "model_info_list_highest_accuracy_normalized = readMaxIter(1)"
   ]
  },
  {
   "cell_type": "code",
   "execution_count": 17,
   "metadata": {},
   "outputs": [
    {
     "data": {
      "text/plain": [
       "2900"
      ]
     },
     "execution_count": 17,
     "metadata": {},
     "output_type": "execute_result"
    }
   ],
   "source": [
    "model_info_list_convergence_normalized[0]['data'][0]"
   ]
  },
  {
   "cell_type": "markdown",
   "metadata": {},
   "source": [
    "# 2. Grid Search CV"
   ]
  },
  {
   "cell_type": "code",
   "execution_count": 18,
   "metadata": {},
   "outputs": [],
   "source": [
    "def GridSearch(df_X_tr, df_X_val, model_info_list):\n",
    "    param_grid = {'C': [0.001, 0.01, 0.1, 1, 10, 100, 1000]} \n",
    "    scores = ['precision', 'recall']\n",
    "    best_configuration = []\n",
    "\n",
    "    for feature_train, feature_validate, model_info in zip(df_X_tr, df_X_val, model_info_list):\n",
    "\n",
    "        data_name = feature_train['name']\n",
    "        data_train = feature_train['data']\n",
    "        data_validate = feature_validate['data']\n",
    "        max_iter = model_info['data'][0]\n",
    "\n",
    "        print(\"******************************** GRID SEARCH FOR: \" + data_name + \" ******************************\")\n",
    "\n",
    "        for score in scores:\n",
    "            print(\"# Tuning hyper-parameters for %s\" % score)\n",
    "            print()\n",
    "\n",
    "            svc = SVC(C = \"scale\", kernel = 'linear', max_iter = max_iter, cache_size = 2000)\n",
    "            clf = GridSearchCV(svc, param_grid, verbose=0, n_jobs=-1, scoring='%s_macro' % score, cv = 5)\n",
    "            clf.fit(data_train, df_y_train['class'].values)\n",
    "\n",
    "            if (score == 'precision'):\n",
    "                best_configuration.append({'name' : data_name, 'data' : clf.best_params_})\n",
    "\n",
    "            print(\"Best parameters set found on development set: \", clf.best_params_)\n",
    "            print(\"Grid scores on develpment set: \")\n",
    "            means = clf.cv_results_['mean_test_score']\n",
    "            stds = clf.cv_results_['std_test_score']\n",
    "            for mean, std, params in zip(means, stds, clf.cv_results_['params']):\n",
    "                print(\"%0.3f (+/-%0.03f) for %r\"\n",
    "                     %(mean, std * 2, params))\n",
    "\n",
    "            print(\"Detailed Classification Report: \")\n",
    "            print(\"the model is trained on the full development set.\")\n",
    "            print(\"The scores are computed on the full evaluation set.\")\n",
    "            y_true, y_pred = df_y_val, clf.predict(data_validate)\n",
    "            print(classification_report(y_true,y_pred))\n",
    "            print()\n",
    "    return best_configuration"
   ]
  },
  {
   "cell_type": "code",
   "execution_count": 19,
   "metadata": {
    "scrolled": true
   },
   "outputs": [
    {
     "name": "stdout",
     "output_type": "stream",
     "text": [
      "******************************** GRID SEARCH FOR: area ******************************\n",
      "# Tuning hyper-parameters for precision\n",
      "\n",
      "Best parameters set found on development set:  {'C': 0.01}\n",
      "Grid scores on develpment set: \n",
      "0.717 (+/-0.060) for {'C': 0.001}\n",
      "0.726 (+/-0.049) for {'C': 0.01}\n",
      "0.725 (+/-0.063) for {'C': 0.1}\n",
      "0.725 (+/-0.078) for {'C': 1}\n",
      "0.692 (+/-0.075) for {'C': 10}\n",
      "0.497 (+/-0.175) for {'C': 100}\n",
      "0.509 (+/-0.118) for {'C': 1000}\n",
      "Detailed Classification Report: \n",
      "the model is trained on the full development set.\n",
      "The scores are computed on the full evaluation set.\n",
      "              precision    recall  f1-score   support\n",
      "\n",
      "          -1       0.69      0.76      0.73       173\n",
      "           1       0.72      0.65      0.68       165\n",
      "\n",
      "    accuracy                           0.71       338\n",
      "   macro avg       0.71      0.71      0.71       338\n",
      "weighted avg       0.71      0.71      0.71       338\n",
      "\n",
      "\n",
      "# Tuning hyper-parameters for recall\n",
      "\n",
      "Best parameters set found on development set:  {'C': 0.01}\n",
      "Grid scores on develpment set: \n",
      "0.713 (+/-0.059) for {'C': 0.001}\n",
      "0.724 (+/-0.044) for {'C': 0.01}\n",
      "0.724 (+/-0.061) for {'C': 0.1}\n",
      "0.724 (+/-0.075) for {'C': 1}\n",
      "0.691 (+/-0.075) for {'C': 10}\n",
      "0.500 (+/-0.162) for {'C': 100}\n",
      "0.509 (+/-0.111) for {'C': 1000}\n",
      "Detailed Classification Report: \n",
      "the model is trained on the full development set.\n",
      "The scores are computed on the full evaluation set.\n",
      "              precision    recall  f1-score   support\n",
      "\n",
      "          -1       0.69      0.76      0.73       173\n",
      "           1       0.72      0.65      0.68       165\n",
      "\n",
      "    accuracy                           0.71       338\n",
      "   macro avg       0.71      0.71      0.71       338\n",
      "weighted avg       0.71      0.71      0.71       338\n",
      "\n",
      "\n",
      "******************************** GRID SEARCH FOR: meancurv ******************************\n",
      "# Tuning hyper-parameters for precision\n",
      "\n"
     ]
    },
    {
     "name": "stderr",
     "output_type": "stream",
     "text": [
      "/home/students/anaconda3/lib/python3.7/site-packages/sklearn/svm/base.py:241: ConvergenceWarning: Solver terminated early (max_iter=8875).  Consider pre-processing your data with StandardScaler or MinMaxScaler.\n",
      "  % self.max_iter, ConvergenceWarning)\n"
     ]
    },
    {
     "name": "stdout",
     "output_type": "stream",
     "text": [
      "Best parameters set found on development set:  {'C': 1}\n",
      "Grid scores on develpment set: \n",
      "0.649 (+/-0.093) for {'C': 0.001}\n",
      "0.681 (+/-0.079) for {'C': 0.01}\n",
      "0.723 (+/-0.039) for {'C': 0.1}\n",
      "0.732 (+/-0.058) for {'C': 1}\n",
      "0.591 (+/-0.112) for {'C': 10}\n",
      "0.570 (+/-0.096) for {'C': 100}\n",
      "0.570 (+/-0.096) for {'C': 1000}\n",
      "Detailed Classification Report: \n",
      "the model is trained on the full development set.\n",
      "The scores are computed on the full evaluation set.\n",
      "              precision    recall  f1-score   support\n",
      "\n",
      "          -1       0.66      0.62      0.64       173\n",
      "           1       0.62      0.66      0.64       165\n",
      "\n",
      "    accuracy                           0.64       338\n",
      "   macro avg       0.64      0.64      0.64       338\n",
      "weighted avg       0.64      0.64      0.64       338\n",
      "\n",
      "\n",
      "# Tuning hyper-parameters for recall\n",
      "\n"
     ]
    },
    {
     "name": "stderr",
     "output_type": "stream",
     "text": [
      "/home/students/anaconda3/lib/python3.7/site-packages/sklearn/svm/base.py:241: ConvergenceWarning: Solver terminated early (max_iter=8875).  Consider pre-processing your data with StandardScaler or MinMaxScaler.\n",
      "  % self.max_iter, ConvergenceWarning)\n"
     ]
    },
    {
     "name": "stdout",
     "output_type": "stream",
     "text": [
      "Best parameters set found on development set:  {'C': 1}\n",
      "Grid scores on develpment set: \n",
      "0.645 (+/-0.095) for {'C': 0.001}\n",
      "0.678 (+/-0.078) for {'C': 0.01}\n",
      "0.722 (+/-0.041) for {'C': 0.1}\n",
      "0.731 (+/-0.058) for {'C': 1}\n",
      "0.589 (+/-0.111) for {'C': 10}\n",
      "0.569 (+/-0.096) for {'C': 100}\n",
      "0.569 (+/-0.096) for {'C': 1000}\n",
      "Detailed Classification Report: \n",
      "the model is trained on the full development set.\n",
      "The scores are computed on the full evaluation set.\n",
      "              precision    recall  f1-score   support\n",
      "\n",
      "          -1       0.66      0.62      0.64       173\n",
      "           1       0.62      0.66      0.64       165\n",
      "\n",
      "    accuracy                           0.64       338\n",
      "   macro avg       0.64      0.64      0.64       338\n",
      "weighted avg       0.64      0.64      0.64       338\n",
      "\n",
      "\n",
      "******************************** GRID SEARCH FOR: thickness ******************************\n",
      "# Tuning hyper-parameters for precision\n",
      "\n",
      "Best parameters set found on development set:  {'C': 0.01}\n",
      "Grid scores on develpment set: \n",
      "0.662 (+/-0.071) for {'C': 0.001}\n",
      "0.702 (+/-0.033) for {'C': 0.01}\n",
      "0.689 (+/-0.049) for {'C': 0.1}\n",
      "0.697 (+/-0.047) for {'C': 1}\n",
      "0.551 (+/-0.075) for {'C': 10}\n",
      "0.572 (+/-0.081) for {'C': 100}\n",
      "0.572 (+/-0.081) for {'C': 1000}\n",
      "Detailed Classification Report: \n",
      "the model is trained on the full development set.\n",
      "The scores are computed on the full evaluation set.\n",
      "              precision    recall  f1-score   support\n",
      "\n",
      "          -1       0.76      0.75      0.75       173\n",
      "           1       0.74      0.75      0.74       165\n",
      "\n",
      "    accuracy                           0.75       338\n",
      "   macro avg       0.75      0.75      0.75       338\n",
      "weighted avg       0.75      0.75      0.75       338\n",
      "\n",
      "\n",
      "# Tuning hyper-parameters for recall\n",
      "\n",
      "Best parameters set found on development set:  {'C': 0.01}\n",
      "Grid scores on develpment set: \n",
      "0.660 (+/-0.071) for {'C': 0.001}\n",
      "0.700 (+/-0.034) for {'C': 0.01}\n",
      "0.689 (+/-0.049) for {'C': 0.1}\n",
      "0.696 (+/-0.047) for {'C': 1}\n",
      "0.551 (+/-0.075) for {'C': 10}\n",
      "0.571 (+/-0.081) for {'C': 100}\n",
      "0.571 (+/-0.081) for {'C': 1000}\n",
      "Detailed Classification Report: \n",
      "the model is trained on the full development set.\n",
      "The scores are computed on the full evaluation set.\n",
      "              precision    recall  f1-score   support\n",
      "\n",
      "          -1       0.76      0.75      0.75       173\n",
      "           1       0.74      0.75      0.74       165\n",
      "\n",
      "    accuracy                           0.75       338\n",
      "   macro avg       0.75      0.75      0.75       338\n",
      "weighted avg       0.75      0.75      0.75       338\n",
      "\n",
      "\n",
      "******************************** GRID SEARCH FOR: volume ******************************\n",
      "# Tuning hyper-parameters for precision\n",
      "\n"
     ]
    },
    {
     "name": "stderr",
     "output_type": "stream",
     "text": [
      "/home/students/anaconda3/lib/python3.7/site-packages/sklearn/svm/base.py:241: ConvergenceWarning: Solver terminated early (max_iter=4850).  Consider pre-processing your data with StandardScaler or MinMaxScaler.\n",
      "  % self.max_iter, ConvergenceWarning)\n"
     ]
    },
    {
     "name": "stdout",
     "output_type": "stream",
     "text": [
      "Best parameters set found on development set:  {'C': 1}\n",
      "Grid scores on develpment set: \n",
      "0.708 (+/-0.099) for {'C': 0.001}\n",
      "0.716 (+/-0.072) for {'C': 0.01}\n",
      "0.744 (+/-0.037) for {'C': 0.1}\n",
      "0.749 (+/-0.050) for {'C': 1}\n",
      "0.684 (+/-0.125) for {'C': 10}\n",
      "0.498 (+/-0.203) for {'C': 100}\n",
      "0.498 (+/-0.203) for {'C': 1000}\n",
      "Detailed Classification Report: \n",
      "the model is trained on the full development set.\n",
      "The scores are computed on the full evaluation set.\n",
      "              precision    recall  f1-score   support\n",
      "\n",
      "          -1       0.71      0.75      0.73       173\n",
      "           1       0.72      0.68      0.70       165\n",
      "\n",
      "    accuracy                           0.71       338\n",
      "   macro avg       0.71      0.71      0.71       338\n",
      "weighted avg       0.71      0.71      0.71       338\n",
      "\n",
      "\n",
      "# Tuning hyper-parameters for recall\n",
      "\n",
      "Best parameters set found on development set:  {'C': 1}\n",
      "Grid scores on develpment set: \n",
      "0.704 (+/-0.099) for {'C': 0.001}\n",
      "0.713 (+/-0.069) for {'C': 0.01}\n",
      "0.742 (+/-0.034) for {'C': 0.1}\n",
      "0.747 (+/-0.049) for {'C': 1}\n",
      "0.682 (+/-0.126) for {'C': 10}\n",
      "0.505 (+/-0.175) for {'C': 100}\n",
      "0.505 (+/-0.175) for {'C': 1000}\n",
      "Detailed Classification Report: \n",
      "the model is trained on the full development set.\n",
      "The scores are computed on the full evaluation set.\n",
      "              precision    recall  f1-score   support\n",
      "\n",
      "          -1       0.71      0.75      0.73       173\n",
      "           1       0.72      0.68      0.70       165\n",
      "\n",
      "    accuracy                           0.71       338\n",
      "   macro avg       0.71      0.71      0.71       338\n",
      "weighted avg       0.71      0.71      0.71       338\n",
      "\n",
      "\n"
     ]
    },
    {
     "name": "stderr",
     "output_type": "stream",
     "text": [
      "/home/students/anaconda3/lib/python3.7/site-packages/sklearn/svm/base.py:241: ConvergenceWarning: Solver terminated early (max_iter=4850).  Consider pre-processing your data with StandardScaler or MinMaxScaler.\n",
      "  % self.max_iter, ConvergenceWarning)\n"
     ]
    }
   ],
   "source": [
    "best_configuration_convergence = GridSearch(df_X_tr_convergence, \n",
    "                                            df_X_val_convergence, \n",
    "                                            model_info_list_convergence_normalized)"
   ]
  },
  {
   "cell_type": "code",
   "execution_count": 20,
   "metadata": {},
   "outputs": [
    {
     "data": {
      "text/plain": [
       "[{'name': 'area', 'data': {'C': 0.01}},\n",
       " {'name': 'meancurv', 'data': {'C': 1}},\n",
       " {'name': 'thickness', 'data': {'C': 0.01}},\n",
       " {'name': 'volume', 'data': {'C': 1}}]"
      ]
     },
     "execution_count": 20,
     "metadata": {},
     "output_type": "execute_result"
    }
   ],
   "source": [
    "best_configuration_convergence"
   ]
  },
  {
   "cell_type": "code",
   "execution_count": 21,
   "metadata": {
    "scrolled": true
   },
   "outputs": [
    {
     "name": "stdout",
     "output_type": "stream",
     "text": [
      "******************************** GRID SEARCH FOR: area ******************************\n",
      "# Tuning hyper-parameters for precision\n",
      "\n"
     ]
    },
    {
     "name": "stderr",
     "output_type": "stream",
     "text": [
      "/home/students/anaconda3/lib/python3.7/site-packages/sklearn/svm/base.py:241: ConvergenceWarning: Solver terminated early (max_iter=2675).  Consider pre-processing your data with StandardScaler or MinMaxScaler.\n",
      "  % self.max_iter, ConvergenceWarning)\n"
     ]
    },
    {
     "name": "stdout",
     "output_type": "stream",
     "text": [
      "Best parameters set found on development set:  {'C': 1}\n",
      "Grid scores on develpment set: \n",
      "0.723 (+/-0.066) for {'C': 0.001}\n",
      "0.731 (+/-0.057) for {'C': 0.01}\n",
      "0.747 (+/-0.080) for {'C': 0.1}\n",
      "0.748 (+/-0.079) for {'C': 1}\n",
      "0.684 (+/-0.106) for {'C': 10}\n",
      "0.481 (+/-0.292) for {'C': 100}\n",
      "0.481 (+/-0.292) for {'C': 1000}\n",
      "Detailed Classification Report: \n",
      "the model is trained on the full development set.\n",
      "The scores are computed on the full evaluation set.\n",
      "              precision    recall  f1-score   support\n",
      "\n",
      "          -1       0.69      0.73      0.71       173\n",
      "           1       0.70      0.65      0.67       165\n",
      "\n",
      "    accuracy                           0.69       338\n",
      "   macro avg       0.69      0.69      0.69       338\n",
      "weighted avg       0.69      0.69      0.69       338\n",
      "\n",
      "\n",
      "# Tuning hyper-parameters for recall\n",
      "\n"
     ]
    },
    {
     "name": "stderr",
     "output_type": "stream",
     "text": [
      "/home/students/anaconda3/lib/python3.7/site-packages/sklearn/svm/base.py:241: ConvergenceWarning: Solver terminated early (max_iter=2675).  Consider pre-processing your data with StandardScaler or MinMaxScaler.\n",
      "  % self.max_iter, ConvergenceWarning)\n"
     ]
    },
    {
     "name": "stdout",
     "output_type": "stream",
     "text": [
      "Best parameters set found on development set:  {'C': 1}\n",
      "Grid scores on develpment set: \n",
      "0.718 (+/-0.064) for {'C': 0.001}\n",
      "0.729 (+/-0.054) for {'C': 0.01}\n",
      "0.745 (+/-0.079) for {'C': 0.1}\n",
      "0.747 (+/-0.078) for {'C': 1}\n",
      "0.682 (+/-0.105) for {'C': 10}\n",
      "0.482 (+/-0.289) for {'C': 100}\n",
      "0.482 (+/-0.289) for {'C': 1000}\n",
      "Detailed Classification Report: \n",
      "the model is trained on the full development set.\n",
      "The scores are computed on the full evaluation set.\n",
      "              precision    recall  f1-score   support\n",
      "\n",
      "          -1       0.69      0.73      0.71       173\n",
      "           1       0.70      0.65      0.67       165\n",
      "\n",
      "    accuracy                           0.69       338\n",
      "   macro avg       0.69      0.69      0.69       338\n",
      "weighted avg       0.69      0.69      0.69       338\n",
      "\n",
      "\n",
      "******************************** GRID SEARCH FOR: meancurv ******************************\n",
      "# Tuning hyper-parameters for precision\n",
      "\n",
      "Best parameters set found on development set:  {'C': 0.01}\n",
      "Grid scores on develpment set: \n",
      "0.656 (+/-0.059) for {'C': 0.001}\n",
      "0.698 (+/-0.058) for {'C': 0.01}\n",
      "0.683 (+/-0.028) for {'C': 0.1}\n",
      "0.675 (+/-0.060) for {'C': 1}\n",
      "0.574 (+/-0.084) for {'C': 10}\n",
      "0.574 (+/-0.084) for {'C': 100}\n",
      "0.574 (+/-0.084) for {'C': 1000}\n",
      "Detailed Classification Report: \n",
      "the model is trained on the full development set.\n",
      "The scores are computed on the full evaluation set.\n",
      "              precision    recall  f1-score   support\n",
      "\n",
      "          -1       0.67      0.65      0.66       173\n",
      "           1       0.65      0.67      0.66       165\n",
      "\n",
      "    accuracy                           0.66       338\n",
      "   macro avg       0.66      0.66      0.66       338\n",
      "weighted avg       0.66      0.66      0.66       338\n",
      "\n",
      "\n",
      "# Tuning hyper-parameters for recall\n",
      "\n",
      "Best parameters set found on development set:  {'C': 0.01}\n",
      "Grid scores on develpment set: \n",
      "0.651 (+/-0.064) for {'C': 0.001}\n",
      "0.696 (+/-0.056) for {'C': 0.01}\n",
      "0.682 (+/-0.026) for {'C': 0.1}\n",
      "0.675 (+/-0.060) for {'C': 1}\n",
      "0.573 (+/-0.084) for {'C': 10}\n",
      "0.573 (+/-0.084) for {'C': 100}\n",
      "0.573 (+/-0.084) for {'C': 1000}\n",
      "Detailed Classification Report: \n",
      "the model is trained on the full development set.\n",
      "The scores are computed on the full evaluation set.\n",
      "              precision    recall  f1-score   support\n",
      "\n",
      "          -1       0.67      0.65      0.66       173\n",
      "           1       0.65      0.67      0.66       165\n",
      "\n",
      "    accuracy                           0.66       338\n",
      "   macro avg       0.66      0.66      0.66       338\n",
      "weighted avg       0.66      0.66      0.66       338\n",
      "\n",
      "\n",
      "******************************** GRID SEARCH FOR: thickness ******************************\n",
      "# Tuning hyper-parameters for precision\n",
      "\n"
     ]
    },
    {
     "name": "stderr",
     "output_type": "stream",
     "text": [
      "/home/students/anaconda3/lib/python3.7/site-packages/sklearn/svm/base.py:241: ConvergenceWarning: Solver terminated early (max_iter=7875).  Consider pre-processing your data with StandardScaler or MinMaxScaler.\n",
      "  % self.max_iter, ConvergenceWarning)\n"
     ]
    },
    {
     "name": "stdout",
     "output_type": "stream",
     "text": [
      "Best parameters set found on development set:  {'C': 1}\n",
      "Grid scores on develpment set: \n",
      "0.647 (+/-0.082) for {'C': 0.001}\n",
      "0.695 (+/-0.075) for {'C': 0.01}\n",
      "0.737 (+/-0.032) for {'C': 0.1}\n",
      "0.751 (+/-0.034) for {'C': 1}\n",
      "0.595 (+/-0.042) for {'C': 10}\n",
      "0.579 (+/-0.009) for {'C': 100}\n",
      "0.579 (+/-0.009) for {'C': 1000}\n",
      "Detailed Classification Report: \n",
      "the model is trained on the full development set.\n",
      "The scores are computed on the full evaluation set.\n",
      "              precision    recall  f1-score   support\n",
      "\n",
      "          -1       0.68      0.73      0.71       173\n",
      "           1       0.69      0.65      0.67       165\n",
      "\n",
      "    accuracy                           0.69       338\n",
      "   macro avg       0.69      0.69      0.69       338\n",
      "weighted avg       0.69      0.69      0.69       338\n",
      "\n",
      "\n",
      "# Tuning hyper-parameters for recall\n",
      "\n"
     ]
    },
    {
     "name": "stderr",
     "output_type": "stream",
     "text": [
      "/home/students/anaconda3/lib/python3.7/site-packages/sklearn/svm/base.py:241: ConvergenceWarning: Solver terminated early (max_iter=7875).  Consider pre-processing your data with StandardScaler or MinMaxScaler.\n",
      "  % self.max_iter, ConvergenceWarning)\n"
     ]
    },
    {
     "name": "stdout",
     "output_type": "stream",
     "text": [
      "Best parameters set found on development set:  {'C': 1}\n",
      "Grid scores on develpment set: \n",
      "0.644 (+/-0.080) for {'C': 0.001}\n",
      "0.695 (+/-0.075) for {'C': 0.01}\n",
      "0.736 (+/-0.030) for {'C': 0.1}\n",
      "0.751 (+/-0.034) for {'C': 1}\n",
      "0.593 (+/-0.042) for {'C': 10}\n",
      "0.578 (+/-0.009) for {'C': 100}\n",
      "0.578 (+/-0.009) for {'C': 1000}\n",
      "Detailed Classification Report: \n",
      "the model is trained on the full development set.\n",
      "The scores are computed on the full evaluation set.\n",
      "              precision    recall  f1-score   support\n",
      "\n",
      "          -1       0.68      0.73      0.71       173\n",
      "           1       0.69      0.65      0.67       165\n",
      "\n",
      "    accuracy                           0.69       338\n",
      "   macro avg       0.69      0.69      0.69       338\n",
      "weighted avg       0.69      0.69      0.69       338\n",
      "\n",
      "\n",
      "******************************** GRID SEARCH FOR: volume ******************************\n",
      "# Tuning hyper-parameters for precision\n",
      "\n"
     ]
    },
    {
     "name": "stderr",
     "output_type": "stream",
     "text": [
      "/home/students/anaconda3/lib/python3.7/site-packages/sklearn/svm/base.py:241: ConvergenceWarning: Solver terminated early (max_iter=7475).  Consider pre-processing your data with StandardScaler or MinMaxScaler.\n",
      "  % self.max_iter, ConvergenceWarning)\n"
     ]
    },
    {
     "name": "stdout",
     "output_type": "stream",
     "text": [
      "Best parameters set found on development set:  {'C': 1}\n",
      "Grid scores on develpment set: \n",
      "0.710 (+/-0.111) for {'C': 0.001}\n",
      "0.739 (+/-0.107) for {'C': 0.01}\n",
      "0.765 (+/-0.074) for {'C': 0.1}\n",
      "0.774 (+/-0.066) for {'C': 1}\n",
      "0.764 (+/-0.111) for {'C': 10}\n",
      "0.588 (+/-0.201) for {'C': 100}\n",
      "0.588 (+/-0.201) for {'C': 1000}\n",
      "Detailed Classification Report: \n",
      "the model is trained on the full development set.\n",
      "The scores are computed on the full evaluation set.\n",
      "              precision    recall  f1-score   support\n",
      "\n",
      "          -1       0.71      0.76      0.74       173\n",
      "           1       0.73      0.67      0.70       165\n",
      "\n",
      "    accuracy                           0.72       338\n",
      "   macro avg       0.72      0.72      0.72       338\n",
      "weighted avg       0.72      0.72      0.72       338\n",
      "\n",
      "\n",
      "# Tuning hyper-parameters for recall\n",
      "\n",
      "Best parameters set found on development set:  {'C': 1}\n",
      "Grid scores on develpment set: \n",
      "0.704 (+/-0.109) for {'C': 0.001}\n",
      "0.735 (+/-0.099) for {'C': 0.01}\n",
      "0.764 (+/-0.073) for {'C': 0.1}\n",
      "0.773 (+/-0.065) for {'C': 1}\n",
      "0.762 (+/-0.111) for {'C': 10}\n",
      "0.587 (+/-0.199) for {'C': 100}\n",
      "0.587 (+/-0.199) for {'C': 1000}\n",
      "Detailed Classification Report: \n",
      "the model is trained on the full development set.\n",
      "The scores are computed on the full evaluation set.\n",
      "              precision    recall  f1-score   support\n",
      "\n",
      "          -1       0.71      0.76      0.74       173\n",
      "           1       0.73      0.67      0.70       165\n",
      "\n",
      "    accuracy                           0.72       338\n",
      "   macro avg       0.72      0.72      0.72       338\n",
      "weighted avg       0.72      0.72      0.72       338\n",
      "\n",
      "\n"
     ]
    },
    {
     "name": "stderr",
     "output_type": "stream",
     "text": [
      "/home/students/anaconda3/lib/python3.7/site-packages/sklearn/svm/base.py:241: ConvergenceWarning: Solver terminated early (max_iter=7475).  Consider pre-processing your data with StandardScaler or MinMaxScaler.\n",
      "  % self.max_iter, ConvergenceWarning)\n"
     ]
    }
   ],
   "source": [
    "best_configuration_highest = GridSearch(df_X_tr_highest, \n",
    "                                            df_X_val_highest, \n",
    "                                            model_info_list_highest_accuracy_normalized)"
   ]
  },
  {
   "cell_type": "code",
   "execution_count": 22,
   "metadata": {},
   "outputs": [
    {
     "data": {
      "text/plain": [
       "[{'name': 'area', 'data': {'C': 1}},\n",
       " {'name': 'meancurv', 'data': {'C': 0.01}},\n",
       " {'name': 'thickness', 'data': {'C': 1}},\n",
       " {'name': 'volume', 'data': {'C': 1}}]"
      ]
     },
     "execution_count": 22,
     "metadata": {},
     "output_type": "execute_result"
    }
   ],
   "source": [
    "best_configuration_highest"
   ]
  },
  {
   "cell_type": "code",
   "execution_count": 29,
   "metadata": {},
   "outputs": [
    {
     "name": "stdout",
     "output_type": "stream",
     "text": [
      "area (550, 11)\n",
      "Score for trainarea:  0.7327272727272728\n",
      "Score val forarea:  0.7071005917159763\n",
      "\n",
      "meancurv (550, 89)\n",
      "Score for trainmeancurv:  0.8581818181818182\n",
      "Score val formeancurv:  0.6301775147928994\n",
      "\n",
      "thickness (550, 113)\n",
      "Score for trainthickness:  0.7745454545454545\n",
      "Score val forthickness:  0.7485207100591716\n",
      "\n",
      "volume (550, 14)\n",
      "Score for trainvolume:  0.7545454545454545\n",
      "Score val forvolume:  0.7071005917159763\n",
      "\n"
     ]
    }
   ],
   "source": [
    "clfs = []\n",
    "for feature, feature_tr, feature_val in zip (best_configuration_convergence, df_X_tr_convergence, df_X_val_convergence):\n",
    "    c = feature['data']['C']\n",
    "    data_name = feature_tr['name']\n",
    "    df_train = feature_tr['data']\n",
    "    df_val = feature_val['data']\n",
    "    print(data_name ,df_train.shape)\n",
    "    \n",
    "    # create and train\n",
    "    clf = svm.SVC(kernel='linear', C = c)\n",
    "    clf.fit(df_train, df_y_train['class'].values)\n",
    "    \n",
    "    #checking the score \n",
    "    print(\"Score for train\" + data_name + \": \", clf.score(df_train,df_y_train['class'].values))\n",
    "    #checking the score \n",
    "    print(\"Score val for\" + data_name + \": \", clf.score(df_val,df_y_val['class'].values))\n",
    "    print()\n",
    "    \n",
    "    #saving the classificator\n",
    "    outputFile = \"output/SVM (Support - 1 - optimal)\" + data_name +'.data'\n",
    "    fw = open(outputFile, 'wb')\n",
    "    pickle.dump(clf, fw)\n",
    "    fw.close()\n",
    "    #joblib.dump(clf, 'output/SVM (Support - 1 - optimal)' + data_name +'.pkl')\n",
    "    \n",
    "    #saving an instance  of the clf \n",
    "    clfs.append({'name' : data_name, 'data' : clf})"
   ]
  },
  {
   "cell_type": "code",
   "execution_count": 27,
   "metadata": {},
   "outputs": [
    {
     "name": "stdout",
     "output_type": "stream",
     "text": [
      "SVC(C=0.01, cache_size=200, class_weight=None, coef0=0.0,\n",
      "    decision_function_shape='ovr', degree=3, gamma='auto_deprecated',\n",
      "    kernel='linear', max_iter=-1, probability=False, random_state=None,\n",
      "    shrinking=True, tol=0.001, verbose=False)\n",
      "SVC(C=1, cache_size=200, class_weight=None, coef0=0.0,\n",
      "    decision_function_shape='ovr', degree=3, gamma='auto_deprecated',\n",
      "    kernel='linear', max_iter=-1, probability=False, random_state=None,\n",
      "    shrinking=True, tol=0.001, verbose=False)\n",
      "SVC(C=0.01, cache_size=200, class_weight=None, coef0=0.0,\n",
      "    decision_function_shape='ovr', degree=3, gamma='auto_deprecated',\n",
      "    kernel='linear', max_iter=-1, probability=False, random_state=None,\n",
      "    shrinking=True, tol=0.001, verbose=False)\n",
      "SVC(C=1, cache_size=200, class_weight=None, coef0=0.0,\n",
      "    decision_function_shape='ovr', degree=3, gamma='auto_deprecated',\n",
      "    kernel='linear', max_iter=-1, probability=False, random_state=None,\n",
      "    shrinking=True, tol=0.001, verbose=False)\n"
     ]
    }
   ],
   "source": [
    "for clf in clfs:\n",
    "    print(clf['data'])"
   ]
  },
  {
   "cell_type": "markdown",
   "metadata": {},
   "source": [
    "# Confusion Matrix"
   ]
  },
  {
   "cell_type": "code",
   "execution_count": 27,
   "metadata": {},
   "outputs": [],
   "source": [
    "def plot_confusion_matrix(cm, classes, normalize = False,\n",
    "                         title = 'Confusion matrix', cmap=plt.cm.Blues):\n",
    "    \"\"\"\n",
    "    This function prints and plots the confusion matrix.\n",
    "    Normalization can be applied by setting 'normalie = True'\n",
    "    \"\"\"\n",
    "    \n",
    "    if normalize:\n",
    "        cm = cm.astype('float') / cm.sum(axis=1)[: np.newaxis]\n",
    "        print(\"Normalized confusion matrix\")\n",
    "    else:\n",
    "        print(\"Confusion matrix, without normalization\")\n",
    "    \n",
    "    print(cm)\n",
    "    \n",
    "    plt.imshow(cm, interpolation='nearest', cmap = cmap)\n",
    "    plt.title(title)\n",
    "    plt.colorbar()\n",
    "    tick_marks = np.arange(len(classes))\n",
    "    plt.xticks(tick_marks, classes, rotation = 45)\n",
    "    plt.yticks(tick_marks, classes)\n",
    "    \n",
    "    # '.2f' limits float to two decimal point\n",
    "    # 'd' number decimal\n",
    "    fmt = '.2f' if normalize else 'd' \n",
    "    \n",
    "    thresh = cm.max() / 2\n",
    "    \n",
    "    for i, j in itertools.product(range(cm.shape[0]), range(cm.shape[1])):\n",
    "        plt.text(j, i, format (cm[i,j], fmt), horizontalalignment = \"center\", verticalalignment = \"center\",\n",
    "                 color = \"white\" if cm[i,j] > thresh else \"black\")\n",
    "    \n",
    "    plt.tight_layout()\n",
    "    plt.ylabel('true label')\n",
    "    plt.xlabel('Predicted label')"
   ]
  },
  {
   "cell_type": "code",
   "execution_count": 28,
   "metadata": {},
   "outputs": [
    {
     "name": "stdout",
     "output_type": "stream",
     "text": [
      "Confusion matrix, without normalization\n",
      "[[124  49]\n",
      " [ 49 116]]\n",
      "Normalized confusion matrix\n",
      "[[0.72 0.3 ]\n",
      " [0.28 0.7 ]]\n"
     ]
    },
    {
     "data": {
      "image/png": "[encoded data removed]",
      "text/plain": [
       "<Figure size 432x288 with 2 Axes>"
      ]
     },
     "metadata": {
      "needs_background": "light"
     },
     "output_type": "display_data"
    },
    {
     "data": {
      "image/png": "[encoded data removed]",
      "text/plain": [
       "<Figure size 432x288 with 2 Axes>"
      ]
     },
     "metadata": {
      "needs_background": "light"
     },
     "output_type": "display_data"
    },
    {
     "name": "stdout",
     "output_type": "stream",
     "text": [
      "Confusion matrix, without normalization\n",
      "[[111  62]\n",
      " [ 56 109]]\n",
      "Normalized confusion matrix\n",
      "[[0.64 0.38]\n",
      " [0.32 0.66]]\n"
     ]
    },
    {
     "data": {
      "image/png": "[encoded data removed]",
      "text/plain": [
       "<Figure size 432x288 with 2 Axes>"
      ]
     },
     "metadata": {
      "needs_background": "light"
     },
     "output_type": "display_data"
    },
    {
     "data": {
      "image/png": "[encoded data removed]",
      "text/plain": [
       "<Figure size 432x288 with 2 Axes>"
      ]
     },
     "metadata": {
      "needs_background": "light"
     },
     "output_type": "display_data"
    },
    {
     "name": "stdout",
     "output_type": "stream",
     "text": [
      "Confusion matrix, without normalization\n",
      "[[135  38]\n",
      " [ 47 118]]\n",
      "Normalized confusion matrix\n",
      "[[0.78 0.23]\n",
      " [0.27 0.72]]\n"
     ]
    },
    {
     "data": {
      "image/png": "[encoded data removed]",
      "text/plain": [
       "<Figure size 432x288 with 2 Axes>"
      ]
     },
     "metadata": {
      "needs_background": "light"
     },
     "output_type": "display_data"
    },
    {
     "data": {
      "image/png": "[encoded data removed]",
      "text/plain": [
       "<Figure size 432x288 with 2 Axes>"
      ]
     },
     "metadata": {
      "needs_background": "light"
     },
     "output_type": "display_data"
    },
    {
     "name": "stdout",
     "output_type": "stream",
     "text": [
      "Confusion matrix, without normalization\n",
      "[[120  53]\n",
      " [ 51 114]]\n",
      "Normalized confusion matrix\n",
      "[[0.69 0.32]\n",
      " [0.29 0.69]]\n"
     ]
    },
    {
     "data": {
      "image/png": "[encoded data removed]",
      "text/plain": [
       "<Figure size 432x288 with 2 Axes>"
      ]
     },
     "metadata": {
      "needs_background": "light"
     },
     "output_type": "display_data"
    },
    {
     "data": {
      "image/png": "[encoded data removed]",
      "text/plain": [
       "<Figure size 432x288 with 2 Axes>"
      ]
     },
     "metadata": {
      "needs_background": "light"
     },
     "output_type": "display_data"
    }
   ],
   "source": [
    "for feature, clf in zip(df_X_val, clfs):\n",
    "    data = feature['data']\n",
    "    name = feature['name']\n",
    "    clf_data = clf['data']\n",
    "    \n",
    "    # Compute Confusion matrix\n",
    "    cnf_matrix = confusion_matrix(df_y_val['class'].values, clf_data.predict(data))\n",
    "    np.set_printoptions(precision=2)\n",
    "\n",
    "    # Plot non-normalied confusion matrix\n",
    "    plt.figure()\n",
    "    plot_confusion_matrix(cnf_matrix, classes=['Weak', 'Strong'],\n",
    "                         title='confusion matrix, without normalization '+ name)\n",
    "\n",
    "    # Plot normalized confusion matrix\n",
    "    plt.figure()\n",
    "    plot_confusion_matrix(cnf_matrix, classes=['Weak', 'Strong'], normalize=True,\n",
    "                         title='normalized confusion matrix '+ name)\n",
    "    plt.show()\n"
   ]
  },
  {
   "cell_type": "code",
   "execution_count": null,
   "metadata": {},
   "outputs": [],
   "source": []
  },
  {
   "cell_type": "code",
   "execution_count": null,
   "metadata": {},
   "outputs": [],
   "source": []
  }
 ],
 "metadata": {
  "kernelspec": {
   "display_name": "Python 3",
   "language": "python",
   "name": "python3"
  },
  "language_info": {
   "codemirror_mode": {
    "name": "ipython",
    "version": 3
   },
   "file_extension": ".py",
   "mimetype": "text/x-python",
   "name": "python",
   "nbconvert_exporter": "python",
   "pygments_lexer": "ipython3",
   "version": "3.7.4"
  }
 },
 "nbformat": 4,
 "nbformat_minor": 2
}
