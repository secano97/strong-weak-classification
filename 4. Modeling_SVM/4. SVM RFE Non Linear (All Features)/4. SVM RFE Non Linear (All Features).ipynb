{
 "cells": [
  {
   "cell_type": "markdown",
   "metadata": {},
   "source": [
    "# <center> <b> <h1>   SVM RFE Non Linear (All Features) </h1></b></center>"
   ]
  },
  {
   "cell_type": "code",
   "execution_count": 1,
   "metadata": {},
   "outputs": [],
   "source": [
    "from sklearn.metrics import accuracy_score, r2_score\n",
    "import joblib\n",
    "from sklearn.svm import SVC\n",
    "\n",
    "from sklearn.model_selection import StratifiedKFold\n",
    "from sklearn.feature_selection import RFECV\n",
    "\n",
    "import pandas as pd\n",
    "\n",
    "PATH_DATASETS = \"../../2_Data_preparation/2_Split_Raw_Datasets/output/\""
   ]
  },
  {
   "cell_type": "code",
   "execution_count": 2,
   "metadata": {},
   "outputs": [],
   "source": [
    "def readCsvs(split):\n",
    "    datasets = []\n",
    "    constant1 = 'X_'\n",
    "    constant2 = '_' + split\n",
    "    features = ['area', 'meancurv', 'thickness', 'volume']\n",
    "\n",
    "    for feature in features:\n",
    "        df = pd.read_csv(PATH_DATASETS + constant1 + feature + constant2 +'.csv', index_col=0)\n",
    "        datasets.append({'name': feature, 'data': df})\n",
    "    return datasets"
   ]
  },
  {
   "cell_type": "markdown",
   "metadata": {},
   "source": [
    "# 1. Prepare the Data"
   ]
  },
  {
   "cell_type": "code",
   "execution_count": 3,
   "metadata": {},
   "outputs": [
    {
     "data": {
      "text/plain": [
       "(550, 148)"
      ]
     },
     "execution_count": 3,
     "metadata": {},
     "output_type": "execute_result"
    }
   ],
   "source": [
    "df_X_tr = readCsvs('train')\n",
    "df_X_tr[0]['data'].shape"
   ]
  },
  {
   "cell_type": "code",
   "execution_count": 4,
   "metadata": {},
   "outputs": [
    {
     "data": {
      "text/plain": [
       "(550, 1)"
      ]
     },
     "execution_count": 4,
     "metadata": {},
     "output_type": "execute_result"
    }
   ],
   "source": [
    "df_y_train = pd.read_csv(PATH_DATASETS + 'Y_train.csv', index_col = 0)\n",
    "df_y_train.shape"
   ]
  },
  {
   "cell_type": "code",
   "execution_count": 5,
   "metadata": {},
   "outputs": [
    {
     "data": {
      "text/plain": [
       "(338, 148)"
      ]
     },
     "execution_count": 5,
     "metadata": {},
     "output_type": "execute_result"
    }
   ],
   "source": [
    "df_X_val = readCsvs('validate')\n",
    "df_X_val[0]['data'].shape"
   ]
  },
  {
   "cell_type": "code",
   "execution_count": 6,
   "metadata": {},
   "outputs": [
    {
     "data": {
      "text/plain": [
       "(338, 1)"
      ]
     },
     "execution_count": 6,
     "metadata": {},
     "output_type": "execute_result"
    }
   ],
   "source": [
    "df_y_val = pd.read_csv(PATH_DATASETS + 'Y_validate.csv', index_col = 0)\n",
    "df_y_val.shape"
   ]
  },
  {
   "cell_type": "markdown",
   "metadata": {},
   "source": [
    "# Normalize  data"
   ]
  },
  {
   "cell_type": "code",
   "execution_count": 7,
   "metadata": {},
   "outputs": [],
   "source": [
    "for df_tr, df_val in zip(df_X_tr, df_X_val):\n",
    "    train = df_tr['data']\n",
    "    val = df_val['data']\n",
    "    \n",
    "    normal_tr = (train - train.mean(axis=0))/train.std()\n",
    "    normal_val = (val - val.mean(axis=0))/val.std()\n",
    "    \n",
    "    df_tr['data'] = normal_tr\n",
    "    df_val['data'] = normal_val"
   ]
  },
  {
   "cell_type": "code",
   "execution_count": 8,
   "metadata": {},
   "outputs": [
    {
     "data": {
      "text/html": [
       "<div>\n",
       "<style scoped>\n",
       "    .dataframe tbody tr th:only-of-type {\n",
       "        vertical-align: middle;\n",
       "    }\n",
       "\n",
       "    .dataframe tbody tr th {\n",
       "        vertical-align: top;\n",
       "    }\n",
       "\n",
       "    .dataframe thead th {\n",
       "        text-align: right;\n",
       "    }\n",
       "</style>\n",
       "<table border=\"1\" class=\"dataframe\">\n",
       "  <thead>\n",
       "    <tr style=\"text-align: right;\">\n",
       "      <th></th>\n",
       "      <th>lh_G_and_S_frontomargin_area</th>\n",
       "      <th>lh_G_and_S_occipital_inf_area</th>\n",
       "      <th>lh_G_and_S_paracentral_area</th>\n",
       "      <th>lh_G_and_S_subcentral_area</th>\n",
       "      <th>lh_G_and_S_transv_frontopol_area</th>\n",
       "      <th>lh_G_and_S_cingul-Ant_area</th>\n",
       "      <th>lh_G_and_S_cingul-Mid-Ant_area</th>\n",
       "      <th>lh_G_and_S_cingul-Mid-Post_area</th>\n",
       "      <th>lh_G_cingul-Post-dorsal_area</th>\n",
       "      <th>lh_G_cingul-Post-ventral_area</th>\n",
       "      <th>...</th>\n",
       "      <th>rh_S_parieto_occipital_area</th>\n",
       "      <th>rh_S_pericallosal_area</th>\n",
       "      <th>rh_S_postcentral_area</th>\n",
       "      <th>rh_S_precentral-inf-part_area</th>\n",
       "      <th>rh_S_precentral-sup-part_area</th>\n",
       "      <th>rh_S_suborbital_area</th>\n",
       "      <th>rh_S_subparietal_area</th>\n",
       "      <th>rh_S_temporal_inf_area</th>\n",
       "      <th>rh_S_temporal_sup_area</th>\n",
       "      <th>rh_S_temporal_transverse_area</th>\n",
       "    </tr>\n",
       "  </thead>\n",
       "  <tbody>\n",
       "    <tr>\n",
       "      <td>414229</td>\n",
       "      <td>0.309576</td>\n",
       "      <td>0.224009</td>\n",
       "      <td>1.107822</td>\n",
       "      <td>1.264846</td>\n",
       "      <td>-0.053643</td>\n",
       "      <td>0.447702</td>\n",
       "      <td>0.977805</td>\n",
       "      <td>0.781809</td>\n",
       "      <td>-0.594180</td>\n",
       "      <td>-0.761092</td>\n",
       "      <td>...</td>\n",
       "      <td>0.221416</td>\n",
       "      <td>0.381852</td>\n",
       "      <td>-0.114597</td>\n",
       "      <td>1.444931</td>\n",
       "      <td>0.064915</td>\n",
       "      <td>-0.435619</td>\n",
       "      <td>-1.510187</td>\n",
       "      <td>-0.718114</td>\n",
       "      <td>-1.077114</td>\n",
       "      <td>-0.575371</td>\n",
       "    </tr>\n",
       "    <tr>\n",
       "      <td>541943</td>\n",
       "      <td>-0.076249</td>\n",
       "      <td>0.352958</td>\n",
       "      <td>-0.262869</td>\n",
       "      <td>0.412671</td>\n",
       "      <td>-0.728809</td>\n",
       "      <td>-0.994397</td>\n",
       "      <td>-0.892543</td>\n",
       "      <td>-0.132296</td>\n",
       "      <td>-1.093925</td>\n",
       "      <td>-0.695517</td>\n",
       "      <td>...</td>\n",
       "      <td>0.137165</td>\n",
       "      <td>3.971853</td>\n",
       "      <td>-0.980071</td>\n",
       "      <td>-0.602848</td>\n",
       "      <td>-1.391463</td>\n",
       "      <td>1.763449</td>\n",
       "      <td>-0.070073</td>\n",
       "      <td>1.569996</td>\n",
       "      <td>-1.101390</td>\n",
       "      <td>-0.732631</td>\n",
       "    </tr>\n",
       "    <tr>\n",
       "      <td>206525</td>\n",
       "      <td>1.821379</td>\n",
       "      <td>1.235757</td>\n",
       "      <td>0.221342</td>\n",
       "      <td>1.378470</td>\n",
       "      <td>0.139262</td>\n",
       "      <td>2.154329</td>\n",
       "      <td>0.479456</td>\n",
       "      <td>0.281038</td>\n",
       "      <td>-0.560107</td>\n",
       "      <td>1.577744</td>\n",
       "      <td>...</td>\n",
       "      <td>2.151850</td>\n",
       "      <td>1.750859</td>\n",
       "      <td>1.175570</td>\n",
       "      <td>-0.649815</td>\n",
       "      <td>1.331331</td>\n",
       "      <td>1.466642</td>\n",
       "      <td>1.690066</td>\n",
       "      <td>1.386581</td>\n",
       "      <td>2.638980</td>\n",
       "      <td>0.660251</td>\n",
       "    </tr>\n",
       "    <tr>\n",
       "      <td>146533</td>\n",
       "      <td>1.656025</td>\n",
       "      <td>0.933225</td>\n",
       "      <td>1.614382</td>\n",
       "      <td>-0.344818</td>\n",
       "      <td>0.310732</td>\n",
       "      <td>2.457255</td>\n",
       "      <td>1.002415</td>\n",
       "      <td>0.519500</td>\n",
       "      <td>-0.491960</td>\n",
       "      <td>0.054950</td>\n",
       "      <td>...</td>\n",
       "      <td>1.305682</td>\n",
       "      <td>0.006832</td>\n",
       "      <td>0.956788</td>\n",
       "      <td>-0.161354</td>\n",
       "      <td>2.071697</td>\n",
       "      <td>-0.044374</td>\n",
       "      <td>-0.431244</td>\n",
       "      <td>-0.846505</td>\n",
       "      <td>1.292596</td>\n",
       "      <td>-1.024687</td>\n",
       "    </tr>\n",
       "    <tr>\n",
       "      <td>194746</td>\n",
       "      <td>-0.918764</td>\n",
       "      <td>0.273605</td>\n",
       "      <td>-0.657688</td>\n",
       "      <td>-0.067072</td>\n",
       "      <td>-0.621640</td>\n",
       "      <td>-0.772536</td>\n",
       "      <td>-0.486481</td>\n",
       "      <td>0.137961</td>\n",
       "      <td>-0.491960</td>\n",
       "      <td>-0.476934</td>\n",
       "      <td>...</td>\n",
       "      <td>0.016284</td>\n",
       "      <td>0.451031</td>\n",
       "      <td>-0.143553</td>\n",
       "      <td>-0.969194</td>\n",
       "      <td>-0.388072</td>\n",
       "      <td>-1.069706</td>\n",
       "      <td>-0.536396</td>\n",
       "      <td>0.079744</td>\n",
       "      <td>-0.490755</td>\n",
       "      <td>-0.081122</td>\n",
       "    </tr>\n",
       "  </tbody>\n",
       "</table>\n",
       "<p>5 rows × 148 columns</p>\n",
       "</div>"
      ],
      "text/plain": [
       "        lh_G_and_S_frontomargin_area  lh_G_and_S_occipital_inf_area  \\\n",
       "414229                      0.309576                       0.224009   \n",
       "541943                     -0.076249                       0.352958   \n",
       "206525                      1.821379                       1.235757   \n",
       "146533                      1.656025                       0.933225   \n",
       "194746                     -0.918764                       0.273605   \n",
       "\n",
       "        lh_G_and_S_paracentral_area  lh_G_and_S_subcentral_area  \\\n",
       "414229                     1.107822                    1.264846   \n",
       "541943                    -0.262869                    0.412671   \n",
       "206525                     0.221342                    1.378470   \n",
       "146533                     1.614382                   -0.344818   \n",
       "194746                    -0.657688                   -0.067072   \n",
       "\n",
       "        lh_G_and_S_transv_frontopol_area  lh_G_and_S_cingul-Ant_area  \\\n",
       "414229                         -0.053643                    0.447702   \n",
       "541943                         -0.728809                   -0.994397   \n",
       "206525                          0.139262                    2.154329   \n",
       "146533                          0.310732                    2.457255   \n",
       "194746                         -0.621640                   -0.772536   \n",
       "\n",
       "        lh_G_and_S_cingul-Mid-Ant_area  lh_G_and_S_cingul-Mid-Post_area  \\\n",
       "414229                        0.977805                         0.781809   \n",
       "541943                       -0.892543                        -0.132296   \n",
       "206525                        0.479456                         0.281038   \n",
       "146533                        1.002415                         0.519500   \n",
       "194746                       -0.486481                         0.137961   \n",
       "\n",
       "        lh_G_cingul-Post-dorsal_area  lh_G_cingul-Post-ventral_area  ...  \\\n",
       "414229                     -0.594180                      -0.761092  ...   \n",
       "541943                     -1.093925                      -0.695517  ...   \n",
       "206525                     -0.560107                       1.577744  ...   \n",
       "146533                     -0.491960                       0.054950  ...   \n",
       "194746                     -0.491960                      -0.476934  ...   \n",
       "\n",
       "        rh_S_parieto_occipital_area  rh_S_pericallosal_area  \\\n",
       "414229                     0.221416                0.381852   \n",
       "541943                     0.137165                3.971853   \n",
       "206525                     2.151850                1.750859   \n",
       "146533                     1.305682                0.006832   \n",
       "194746                     0.016284                0.451031   \n",
       "\n",
       "        rh_S_postcentral_area  rh_S_precentral-inf-part_area  \\\n",
       "414229              -0.114597                       1.444931   \n",
       "541943              -0.980071                      -0.602848   \n",
       "206525               1.175570                      -0.649815   \n",
       "146533               0.956788                      -0.161354   \n",
       "194746              -0.143553                      -0.969194   \n",
       "\n",
       "        rh_S_precentral-sup-part_area  rh_S_suborbital_area  \\\n",
       "414229                       0.064915             -0.435619   \n",
       "541943                      -1.391463              1.763449   \n",
       "206525                       1.331331              1.466642   \n",
       "146533                       2.071697             -0.044374   \n",
       "194746                      -0.388072             -1.069706   \n",
       "\n",
       "        rh_S_subparietal_area  rh_S_temporal_inf_area  rh_S_temporal_sup_area  \\\n",
       "414229              -1.510187               -0.718114               -1.077114   \n",
       "541943              -0.070073                1.569996               -1.101390   \n",
       "206525               1.690066                1.386581                2.638980   \n",
       "146533              -0.431244               -0.846505                1.292596   \n",
       "194746              -0.536396                0.079744               -0.490755   \n",
       "\n",
       "        rh_S_temporal_transverse_area  \n",
       "414229                      -0.575371  \n",
       "541943                      -0.732631  \n",
       "206525                       0.660251  \n",
       "146533                      -1.024687  \n",
       "194746                      -0.081122  \n",
       "\n",
       "[5 rows x 148 columns]"
      ]
     },
     "execution_count": 8,
     "metadata": {},
     "output_type": "execute_result"
    }
   ],
   "source": [
    "df_X_tr[0]['data'].head()"
   ]
  },
  {
   "cell_type": "markdown",
   "metadata": {},
   "source": [
    "# 2. Train a SVM Classifier"
   ]
  },
  {
   "cell_type": "code",
   "execution_count": 9,
   "metadata": {},
   "outputs": [
    {
     "name": "stdout",
     "output_type": "stream",
     "text": [
      "Score for area:  0.6893491124260355\n",
      "Score for meancurv:  0.5828402366863905\n",
      "Score for thickness:  0.5887573964497042\n",
      "Score for volume:  0.7041420118343196\n"
     ]
    }
   ],
   "source": [
    "for feature, feature_val in zip(df_X_tr, df_X_val):\n",
    "    name = feature['name']\n",
    "    data = feature['data']\n",
    "    data_val = feature_val['data']\n",
    "    \n",
    "    #CREATE AND TRAIN \n",
    "    svc = SVC(C = 0.001, kernel = 'rbf', gamma = 0.001, max_iter = 10000)\n",
    "    svc.fit(data, df_y_train['class'].values)\n",
    "    \n",
    "    #SCORING\n",
    "    print(\"Score for \" + name + \": \", svc.score(data_val, df_y_val))\n",
    "    \n",
    "    #SAVING THE CLASSIFICATOR \n",
    "    joblib.dump(svc,'output/SVM RFE (non linear - all features)' + name + '.pkl')"
   ]
  },
  {
   "cell_type": "code",
   "execution_count": null,
   "metadata": {},
   "outputs": [],
   "source": []
  }
 ],
 "metadata": {
  "kernelspec": {
   "display_name": "Python 3",
   "language": "python",
   "name": "python3"
  },
  "language_info": {
   "codemirror_mode": {
    "name": "ipython",
    "version": 3
   },
   "file_extension": ".py",
   "mimetype": "text/x-python",
   "name": "python",
   "nbconvert_exporter": "python",
   "pygments_lexer": "ipython3",
   "version": "3.7.4"
  }
 },
 "nbformat": 4,
 "nbformat_minor": 2
}
