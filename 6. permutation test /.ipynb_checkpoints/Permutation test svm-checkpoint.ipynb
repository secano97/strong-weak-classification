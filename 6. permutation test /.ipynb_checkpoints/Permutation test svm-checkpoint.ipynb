{
 "cells": [
  {
   "cell_type": "markdown",
   "metadata": {},
   "source": [
    "# <center> <b> <h1>   6. Permutation Test </h1></b></center>"
   ]
  },
  {
   "cell_type": "code",
   "execution_count": 40,
   "metadata": {},
   "outputs": [],
   "source": [
    "import pickle\n",
    "\n",
    "import pandas as pd\n",
    "import itertools\n",
    "\n",
    "import matplotlib.pyplot as plt\n",
    "from sklearn.model_selection import permutation_test_score\n",
    "import joblib\n",
    "\n",
    "PATH_DATASETS = \"../2_Data_preparation/2_Split_Raw_Datasets/output/\"\n",
    "PATH_RF_CLFS = \"../3.5 Modeling/1_2_hyper_parameter_tunning/output/\"\n",
    "PATH_SVM_CLFS = \"../4. Modeling_SVM/5 SVM Non Linear - Optimal/output/\"\n",
    "\n",
    "PATH_RANKINGS_SVM = \"../4. Modeling_SVM/1. SVM RFE (All features)/csv/\"\n",
    "PATH_SIGNIFICANCE = \"../3 Modeling/2. Random Forest (significance Score)/output/\""
   ]
  },
  {
   "cell_type": "code",
   "execution_count": 7,
   "metadata": {},
   "outputs": [],
   "source": [
    "def readCsvs(split):\n",
    "    datasets = []\n",
    "    constant1 = 'X_'\n",
    "    constant2 = '_' + split\n",
    "    features = ['area', 'meancurv', 'thickness', 'volume']\n",
    "\n",
    "    for feature in features:\n",
    "        df = pd.read_csv(PATH_DATASETS + constant1 + feature + constant2 +'.csv', index_col=0)\n",
    "        datasets.append({'name': feature, 'data': df})\n",
    "    return datasets"
   ]
  },
  {
   "cell_type": "code",
   "execution_count": 22,
   "metadata": {},
   "outputs": [],
   "source": [
    "def readClf(case = 0):\n",
    "    clfs = []\n",
    "    features = ['area', 'meancurv', 'thickness', 'volume']\n",
    "    \n",
    "    constant = \"Random Forest (hyper parameter tuning)_\"\n",
    "    PATH = PATH_RF_CLFS\n",
    "    \n",
    "    if case == 1:\n",
    "        constant = \"SVM Non Linear - Optimal - \"\n",
    "        PATH = PATH_SVM_CLFS\n",
    "    \n",
    "    for feature in features:\n",
    "        clf = joblib.load(PATH + constant + feature + '.pkl')\n",
    "        clfs.append({'name': feature, 'data': clf})\n",
    "        \n",
    "    return clfs"
   ]
  },
  {
   "cell_type": "code",
   "execution_count": null,
   "metadata": {},
   "outputs": [],
   "source": [
    "def readRankings(ranking = 0):\n",
    "    datasets = []\n",
    "    constants = ['used_regions_normalized_convergence_',\n",
    "                 'used_regions_normalized_highest_']    \n",
    "    \n",
    "    features = ['area', 'meancurv', 'thickness', 'volume']\n",
    "\n",
    "    for feature in features:\n",
    "        df = pd.read_csv(PATH_RANKINGS + constants[ranking] + feature +'.csv', index_col=0)\n",
    "        datasets.append({'name': feature, 'data': df})\n",
    "    return datasets"
   ]
  },
  {
   "cell_type": "code",
   "execution_count": 38,
   "metadata": {},
   "outputs": [],
   "source": [
    "def readSignificances():\n",
    "    df_number_of_features = pd.read_csv(PATH_SIGNIFICANCE \n",
    "                                        + \"Random Forest Best Number Of Features.csv\", index_col=0)\n",
    "    \n",
    "    datasets = []\n",
    "    constant1 = 'Random Forest (AllFeatures - Significance - '\n",
    "    constant2 = ')'\n",
    "    features = ['area','meancurv', 'thickness', 'volume']\n",
    "    number_of_feature = df_number_of_features['quantity'].values\n",
    "\n",
    "    for feature, number in zip(features, number_of_feature):\n",
    "        df = pd.read_csv(PATH_SIGNIFICANCE + constant1 + str(int(number)) + constant2 \n",
    "                         + feature +'.csv', index_col=0)\n",
    "        datasets.append({'name': feature[0], 'data': df})\n",
    "    return datasets"
   ]
  },
  {
   "cell_type": "markdown",
   "metadata": {},
   "source": [
    "# 1. Data Preparing"
   ]
  },
  {
   "cell_type": "code",
   "execution_count": 23,
   "metadata": {},
   "outputs": [
    {
     "data": {
      "text/plain": [
       "(550, 148)"
      ]
     },
     "execution_count": 23,
     "metadata": {},
     "output_type": "execute_result"
    }
   ],
   "source": [
    "df_X_tr = readCsvs('train')\n",
    "df_X_tr[2]['data'].shape"
   ]
  },
  {
   "cell_type": "code",
   "execution_count": 24,
   "metadata": {},
   "outputs": [
    {
     "data": {
      "text/plain": [
       "(550, 1)"
      ]
     },
     "execution_count": 24,
     "metadata": {},
     "output_type": "execute_result"
    }
   ],
   "source": [
    "df_y_train = pd.read_csv(PATH_DATASETS + 'Y_train.csv', index_col = 0)\n",
    "df_y_train.shape"
   ]
  },
  {
   "cell_type": "markdown",
   "metadata": {},
   "source": [
    "# Read Rankings"
   ]
  },
  {
   "cell_type": "code",
   "execution_count": 41,
   "metadata": {},
   "outputs": [
    {
     "data": {
      "text/html": [
       "<div>\n",
       "<style scoped>\n",
       "    .dataframe tbody tr th:only-of-type {\n",
       "        vertical-align: middle;\n",
       "    }\n",
       "\n",
       "    .dataframe tbody tr th {\n",
       "        vertical-align: top;\n",
       "    }\n",
       "\n",
       "    .dataframe thead th {\n",
       "        text-align: right;\n",
       "    }\n",
       "</style>\n",
       "<table border=\"1\" class=\"dataframe\">\n",
       "  <thead>\n",
       "    <tr style=\"text-align: right;\">\n",
       "      <th></th>\n",
       "      <th>Significance</th>\n",
       "    </tr>\n",
       "    <tr>\n",
       "      <th>Name</th>\n",
       "      <th></th>\n",
       "    </tr>\n",
       "  </thead>\n",
       "  <tbody>\n",
       "    <tr>\n",
       "      <td>rh_G_and_S_cingul-Ant_area</td>\n",
       "      <td>0.020898</td>\n",
       "    </tr>\n",
       "    <tr>\n",
       "      <td>lh_S_temporal_sup_area</td>\n",
       "      <td>0.018332</td>\n",
       "    </tr>\n",
       "    <tr>\n",
       "      <td>rh_G_temporal_middle_area</td>\n",
       "      <td>0.017275</td>\n",
       "    </tr>\n",
       "    <tr>\n",
       "      <td>rh_S_temporal_sup_area</td>\n",
       "      <td>0.015924</td>\n",
       "    </tr>\n",
       "    <tr>\n",
       "      <td>lh_G_cuneus_area</td>\n",
       "      <td>0.015085</td>\n",
       "    </tr>\n",
       "  </tbody>\n",
       "</table>\n",
       "</div>"
      ],
      "text/plain": [
       "                            Significance\n",
       "Name                                    \n",
       "rh_G_and_S_cingul-Ant_area      0.020898\n",
       "lh_S_temporal_sup_area          0.018332\n",
       "rh_G_temporal_middle_area       0.017275\n",
       "rh_S_temporal_sup_area          0.015924\n",
       "lh_G_cuneus_area                0.015085"
      ]
     },
     "execution_count": 41,
     "metadata": {},
     "output_type": "execute_result"
    }
   ],
   "source": [
    "significances = readSignificances()\n",
    "significances[0]['data'].head()"
   ]
  },
  {
   "cell_type": "code",
   "execution_count": null,
   "metadata": {},
   "outputs": [],
   "source": [
    "#0 for normalized convergence and 1 for normalized highest accuracy\n",
    "ranking_svm = readRankings()\n",
    "ranking_svm[0]['data'].head()"
   ]
  },
  {
   "cell_type": "markdown",
   "metadata": {},
   "source": [
    "# Read CLFS"
   ]
  },
  {
   "cell_type": "code",
   "execution_count": 25,
   "metadata": {},
   "outputs": [],
   "source": [
    "clfs_rf = readClf()\n",
    "clfs_svm_rbf = readClf(1)"
   ]
  },
  {
   "cell_type": "markdown",
   "metadata": {},
   "source": [
    "# permutation test with the correct number of area"
   ]
  },
  {
   "cell_type": "code",
   "execution_count": 42,
   "metadata": {},
   "outputs": [],
   "source": [
    "def p_test_with_graph(X, y, clf, n_permutations = 100, cv = 5):\n",
    "    \n",
    "    score, permutation_scores, pvalue = permutation_test_score(\n",
    "        clf, X, y, scoring=\"accuracy\", cv=cv, n_permutations=n_permutations, n_jobs=-1)\n",
    "\n",
    "    print(\"Classification score %s (pvalue : %s)\" % (score, pvalue))\n",
    "\n",
    "    # #############################################################################\n",
    "    # View histogram of permutation scores\n",
    "    plt.hist(permutation_scores, 20, label='Permutation scores',\n",
    "             edgecolor='black')\n",
    "    ylim = plt.ylim()\n",
    "    plt.plot(2 * [score], ylim, '--g', linewidth=3,\n",
    "             label='Classification Score'\n",
    "             ' (pvalue %s)' % pvalue)\n",
    "    plt.plot(2 * [1. / 2], ylim, '--k', linewidth=3, label='Luck')\n",
    "\n",
    "    plt.ylim(ylim)\n",
    "    plt.legend()\n",
    "    plt.xlabel('Score')\n",
    "    plt.show()"
   ]
  },
  {
   "cell_type": "code",
   "execution_count": null,
   "metadata": {},
   "outputs": [
    {
     "name": "stdout",
     "output_type": "stream",
     "text": [
      "permutation test Random Forest: area\n",
      "\n"
     ]
    }
   ],
   "source": [
    "for feature, clf_rf, significance, in zip(df_X_tr, clfs_rf, significances):\n",
    "    \n",
    "    data = feature['data']\n",
    "    name = feature['name']\n",
    "    \n",
    "    Rf = clf_rf['data']\n",
    "    \n",
    "    print(\"permutation test Random Forest: \" + name+'\\n')\n",
    "    p_test_with_graph(data[significance['data'].index.values].copy(), df_y_train['class'].values, Rf)\n",
    "    \n",
    "    "
   ]
  },
  {
   "cell_type": "code",
   "execution_count": null,
   "metadata": {},
   "outputs": [],
   "source": []
  }
 ],
 "metadata": {
  "kernelspec": {
   "display_name": "Python 3",
   "language": "python",
   "name": "python3"
  },
  "language_info": {
   "codemirror_mode": {
    "name": "ipython",
    "version": 3
   },
   "file_extension": ".py",
   "mimetype": "text/x-python",
   "name": "python",
   "nbconvert_exporter": "python",
   "pygments_lexer": "ipython3",
   "version": "3.7.4"
  }
 },
 "nbformat": 4,
 "nbformat_minor": 2
}
