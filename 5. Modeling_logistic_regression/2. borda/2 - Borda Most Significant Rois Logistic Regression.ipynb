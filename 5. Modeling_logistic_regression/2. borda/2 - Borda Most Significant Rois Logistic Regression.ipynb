{
 "cells": [
  {
   "cell_type": "markdown",
   "metadata": {},
   "source": [
    "# <center> <b> <h1> Borda Most Significant Rois</h1></b></center>"
   ]
  },
  {
   "cell_type": "code",
   "execution_count": 16,
   "metadata": {},
   "outputs": [],
   "source": [
    "import pandas as pd\n",
    "import numpy as np \n",
    "\n",
    "PATH_SIGNIFICANCE = \"../1. linear regression (All features) and ranking/output/\""
   ]
  },
  {
   "cell_type": "code",
   "execution_count": 17,
   "metadata": {},
   "outputs": [],
   "source": [
    "def readSignificances():\n",
    "    \n",
    "    datasets = []\n",
    "    constant1 = 'ranking_logistic_regression_'\n",
    "    features = ['area','meancurv', 'thickness', 'volume']\n",
    "    # features for paper\n",
    "    features = ['area', 'volume']\n",
    "\n",
    "    for feature in features:\n",
    "        df = pd.read_csv(PATH_SIGNIFICANCE + constant1 + feature +'.csv', index_col=0)\n",
    "        datasets.append({'name': feature, 'data': df})\n",
    "    return datasets"
   ]
  },
  {
   "cell_type": "code",
   "execution_count": 18,
   "metadata": {},
   "outputs": [],
   "source": [
    "# Names are ordered whit significance, mos significant first\n",
    "def clean_featuere_of_name_cols(df, name_feature):\n",
    "    array_names = []\n",
    "    name_feature_temp = '_' + name_feature\n",
    "    for name in df.index.values:\n",
    "        name = name.replace(name_feature_temp, '')\n",
    "        array_names.append(name)\n",
    "\n",
    "    return array_names"
   ]
  },
  {
   "cell_type": "markdown",
   "metadata": {},
   "source": [
    "# 1. Prepare the data"
   ]
  },
  {
   "cell_type": "code",
   "execution_count": 19,
   "metadata": {},
   "outputs": [
    {
     "data": {
      "text/html": [
       "<div>\n",
       "<style scoped>\n",
       "    .dataframe tbody tr th:only-of-type {\n",
       "        vertical-align: middle;\n",
       "    }\n",
       "\n",
       "    .dataframe tbody tr th {\n",
       "        vertical-align: top;\n",
       "    }\n",
       "\n",
       "    .dataframe thead th {\n",
       "        text-align: right;\n",
       "    }\n",
       "</style>\n",
       "<table border=\"1\" class=\"dataframe\">\n",
       "  <thead>\n",
       "    <tr style=\"text-align: right;\">\n",
       "      <th></th>\n",
       "      <th>coef</th>\n",
       "    </tr>\n",
       "    <tr>\n",
       "      <th>Name</th>\n",
       "      <th></th>\n",
       "    </tr>\n",
       "  </thead>\n",
       "  <tbody>\n",
       "    <tr>\n",
       "      <td>lh_S_orbital_med-olfact_area</td>\n",
       "      <td>0.173876</td>\n",
       "    </tr>\n",
       "    <tr>\n",
       "      <td>lh_G_and_S_frontomargin_area</td>\n",
       "      <td>0.108740</td>\n",
       "    </tr>\n",
       "    <tr>\n",
       "      <td>lh_G_cuneus_area</td>\n",
       "      <td>0.106030</td>\n",
       "    </tr>\n",
       "    <tr>\n",
       "      <td>rh_Pole_occipital_area</td>\n",
       "      <td>0.096331</td>\n",
       "    </tr>\n",
       "    <tr>\n",
       "      <td>rh_G_pariet_inf-Angular_area</td>\n",
       "      <td>0.089620</td>\n",
       "    </tr>\n",
       "  </tbody>\n",
       "</table>\n",
       "</div>"
      ],
      "text/plain": [
       "                                  coef\n",
       "Name                                  \n",
       "lh_S_orbital_med-olfact_area  0.173876\n",
       "lh_G_and_S_frontomargin_area  0.108740\n",
       "lh_G_cuneus_area              0.106030\n",
       "rh_Pole_occipital_area        0.096331\n",
       "rh_G_pariet_inf-Angular_area  0.089620"
      ]
     },
     "execution_count": 19,
     "metadata": {},
     "output_type": "execute_result"
    }
   ],
   "source": [
    "Significances = readSignificances()\n",
    "Significances[0]['data'].head()"
   ]
  },
  {
   "cell_type": "code",
   "execution_count": 20,
   "metadata": {},
   "outputs": [
    {
     "name": "stdout",
     "output_type": "stream",
     "text": [
      "position is: 133\n"
     ]
    }
   ],
   "source": [
    "for order_ in Significances:\n",
    "    order = order_['data'].index.values\n",
    "    count = 0\n",
    "    for roi in order:\n",
    "        if roi == 'rh_Pole_temporal_area':\n",
    "            print(\"position is: \" + str(count))\n",
    "            \n",
    "        count += 1"
   ]
  },
  {
   "cell_type": "code",
   "execution_count": 21,
   "metadata": {},
   "outputs": [
    {
     "name": "stdout",
     "output_type": "stream",
     "text": [
      "148\n"
     ]
    }
   ],
   "source": [
    "ordered_vectors = []\n",
    "\n",
    "for significance in Significances:\n",
    "    data = significance['data']\n",
    "    name = significance['name']\n",
    "    #print(name)\n",
    "    ordered_vectors.append(clean_featuere_of_name_cols(data, name))\n",
    "\n",
    "print(len(ordered_vectors[0]))"
   ]
  },
  {
   "cell_type": "code",
   "execution_count": 23,
   "metadata": {},
   "outputs": [
    {
     "name": "stdout",
     "output_type": "stream",
     "text": [
      "position is: 133\n",
      "position is: 9\n"
     ]
    }
   ],
   "source": [
    "for order in ordered_vectors:\n",
    "    count = 0\n",
    "    for roi in order:\n",
    "        if roi == 'rh_Pole_temporal':\n",
    "            print(\"position is: \" + str(count))\n",
    "            \n",
    "        count += 1"
   ]
  },
  {
   "cell_type": "markdown",
   "metadata": {},
   "source": [
    "# 2. Create a df for the results"
   ]
  },
  {
   "cell_type": "code",
   "execution_count": 24,
   "metadata": {},
   "outputs": [
    {
     "data": {
      "text/plain": [
       "(148, 3)"
      ]
     },
     "execution_count": 24,
     "metadata": {},
     "output_type": "execute_result"
    }
   ],
   "source": [
    "df_results = pd.DataFrame(columns=['Name', 'votes', 'area', 'vol'])\n",
    "df_results['Name'] = ordered_vectors[0]\n",
    "df_results['votes'] = 0\n",
    "df_results['area'] = 0\n",
    "df_results['vol'] = 0\n",
    "df_results.set_index('Name', inplace = True)\n",
    "df_results.shape"
   ]
  },
  {
   "cell_type": "code",
   "execution_count": 64,
   "metadata": {},
   "outputs": [],
   "source": [
    "\"\"\"for vector in ordered_vectors:\n",
    "    position = 0\n",
    "    for region in vector:\n",
    "        coordinate = df_results.at[region, 'votes']\n",
    "        result = coordinate + position\n",
    "        df_results.at[region, 'votes'] = result\n",
    "        position += 1\"\"\""
   ]
  },
  {
   "cell_type": "code",
   "execution_count": 27,
   "metadata": {},
   "outputs": [],
   "source": [
    "#this is just for correct paper\n",
    "area = True\n",
    "#this is just for correct paper\n",
    "\n",
    "for vector in ordered_vectors:\n",
    "    position = 0\n",
    "    for region in vector:\n",
    "        if position <= 19:\n",
    "            coordinate = df_results.at[region, 'votes']\n",
    "            result = coordinate + position\n",
    "            df_results.at[region, 'votes'] = result\n",
    "            if area:\n",
    "                df_results.at[region, 'area'] = position\n",
    "            else:\n",
    "                df_results.at[region, 'vol'] = position\n",
    "        else:\n",
    "            coordinate = df_results.at[region, 'votes']\n",
    "            result = 500\n",
    "            df_results.at[region, 'votes'] = result\n",
    "            \n",
    "        position += 1\n",
    "    area = False"
   ]
  },
  {
   "cell_type": "code",
   "execution_count": 28,
   "metadata": {},
   "outputs": [
    {
     "data": {
      "text/html": [
       "<div>\n",
       "<style scoped>\n",
       "    .dataframe tbody tr th:only-of-type {\n",
       "        vertical-align: middle;\n",
       "    }\n",
       "\n",
       "    .dataframe tbody tr th {\n",
       "        vertical-align: top;\n",
       "    }\n",
       "\n",
       "    .dataframe thead th {\n",
       "        text-align: right;\n",
       "    }\n",
       "</style>\n",
       "<table border=\"1\" class=\"dataframe\">\n",
       "  <thead>\n",
       "    <tr style=\"text-align: right;\">\n",
       "      <th></th>\n",
       "      <th>votes</th>\n",
       "      <th>area</th>\n",
       "      <th>vol</th>\n",
       "    </tr>\n",
       "    <tr>\n",
       "      <th>Name</th>\n",
       "      <th></th>\n",
       "      <th></th>\n",
       "      <th></th>\n",
       "    </tr>\n",
       "  </thead>\n",
       "  <tbody>\n",
       "    <tr>\n",
       "      <td>lh_S_orbital_med-olfact</td>\n",
       "      <td>0</td>\n",
       "      <td>0</td>\n",
       "      <td>0</td>\n",
       "    </tr>\n",
       "    <tr>\n",
       "      <td>rh_G_front_inf-Opercular</td>\n",
       "      <td>500</td>\n",
       "      <td>0</td>\n",
       "      <td>0</td>\n",
       "    </tr>\n",
       "    <tr>\n",
       "      <td>rh_G_insular_short</td>\n",
       "      <td>500</td>\n",
       "      <td>0</td>\n",
       "      <td>0</td>\n",
       "    </tr>\n",
       "    <tr>\n",
       "      <td>rh_G_occipital_middle</td>\n",
       "      <td>500</td>\n",
       "      <td>0</td>\n",
       "      <td>0</td>\n",
       "    </tr>\n",
       "    <tr>\n",
       "      <td>rh_G_oc-temp_lat-fusifor</td>\n",
       "      <td>515</td>\n",
       "      <td>0</td>\n",
       "      <td>15</td>\n",
       "    </tr>\n",
       "  </tbody>\n",
       "</table>\n",
       "</div>"
      ],
      "text/plain": [
       "                          votes  area  vol\n",
       "Name                                      \n",
       "lh_S_orbital_med-olfact       0     0    0\n",
       "rh_G_front_inf-Opercular    500     0    0\n",
       "rh_G_insular_short          500     0    0\n",
       "rh_G_occipital_middle       500     0    0\n",
       "rh_G_oc-temp_lat-fusifor    515     0   15"
      ]
     },
     "execution_count": 28,
     "metadata": {},
     "output_type": "execute_result"
    }
   ],
   "source": [
    "df_results.head()"
   ]
  },
  {
   "cell_type": "code",
   "execution_count": 29,
   "metadata": {},
   "outputs": [],
   "source": [
    "df_results.sort_values('votes', inplace = True)"
   ]
  },
  {
   "cell_type": "code",
   "execution_count": 31,
   "metadata": {},
   "outputs": [
    {
     "data": {
      "text/html": [
       "<div>\n",
       "<style scoped>\n",
       "    .dataframe tbody tr th:only-of-type {\n",
       "        vertical-align: middle;\n",
       "    }\n",
       "\n",
       "    .dataframe tbody tr th {\n",
       "        vertical-align: top;\n",
       "    }\n",
       "\n",
       "    .dataframe thead th {\n",
       "        text-align: right;\n",
       "    }\n",
       "</style>\n",
       "<table border=\"1\" class=\"dataframe\">\n",
       "  <thead>\n",
       "    <tr style=\"text-align: right;\">\n",
       "      <th></th>\n",
       "      <th>votes</th>\n",
       "      <th>area</th>\n",
       "      <th>vol</th>\n",
       "    </tr>\n",
       "    <tr>\n",
       "      <th>Name</th>\n",
       "      <th></th>\n",
       "      <th></th>\n",
       "      <th></th>\n",
       "    </tr>\n",
       "  </thead>\n",
       "  <tbody>\n",
       "    <tr>\n",
       "      <td>lh_S_orbital_med-olfact</td>\n",
       "      <td>0</td>\n",
       "      <td>0</td>\n",
       "      <td>0</td>\n",
       "    </tr>\n",
       "    <tr>\n",
       "      <td>lh_G_and_S_frontomargin</td>\n",
       "      <td>6</td>\n",
       "      <td>1</td>\n",
       "      <td>5</td>\n",
       "    </tr>\n",
       "    <tr>\n",
       "      <td>lh_Pole_occipital</td>\n",
       "      <td>7</td>\n",
       "      <td>5</td>\n",
       "      <td>2</td>\n",
       "    </tr>\n",
       "    <tr>\n",
       "      <td>rh_Pole_occipital</td>\n",
       "      <td>11</td>\n",
       "      <td>3</td>\n",
       "      <td>8</td>\n",
       "    </tr>\n",
       "    <tr>\n",
       "      <td>lh_G_cuneus</td>\n",
       "      <td>15</td>\n",
       "      <td>2</td>\n",
       "      <td>13</td>\n",
       "    </tr>\n",
       "    <tr>\n",
       "      <td>lh_G_temp_sup-Plan_polar</td>\n",
       "      <td>17</td>\n",
       "      <td>16</td>\n",
       "      <td>1</td>\n",
       "    </tr>\n",
       "    <tr>\n",
       "      <td>rh_S_oc-temp_lat</td>\n",
       "      <td>18</td>\n",
       "      <td>7</td>\n",
       "      <td>11</td>\n",
       "    </tr>\n",
       "    <tr>\n",
       "      <td>rh_G_pariet_inf-Angular</td>\n",
       "      <td>23</td>\n",
       "      <td>4</td>\n",
       "      <td>19</td>\n",
       "    </tr>\n",
       "    <tr>\n",
       "      <td>rh_S_temporal_inf</td>\n",
       "      <td>23</td>\n",
       "      <td>19</td>\n",
       "      <td>4</td>\n",
       "    </tr>\n",
       "    <tr>\n",
       "      <td>rh_G_oc-temp_med-Parahip</td>\n",
       "      <td>27</td>\n",
       "      <td>11</td>\n",
       "      <td>16</td>\n",
       "    </tr>\n",
       "    <tr>\n",
       "      <td>rh_G_occipital_sup</td>\n",
       "      <td>500</td>\n",
       "      <td>9</td>\n",
       "      <td>0</td>\n",
       "    </tr>\n",
       "    <tr>\n",
       "      <td>lh_G_oc-temp_med-Parahip</td>\n",
       "      <td>500</td>\n",
       "      <td>8</td>\n",
       "      <td>0</td>\n",
       "    </tr>\n",
       "    <tr>\n",
       "      <td>lh_S_temporal_sup</td>\n",
       "      <td>500</td>\n",
       "      <td>6</td>\n",
       "      <td>0</td>\n",
       "    </tr>\n",
       "    <tr>\n",
       "      <td>rh_S_pericallosal</td>\n",
       "      <td>500</td>\n",
       "      <td>12</td>\n",
       "      <td>0</td>\n",
       "    </tr>\n",
       "    <tr>\n",
       "      <td>lh_S_parieto_occipital</td>\n",
       "      <td>500</td>\n",
       "      <td>13</td>\n",
       "      <td>0</td>\n",
       "    </tr>\n",
       "    <tr>\n",
       "      <td>lh_S_circular_insula_sup</td>\n",
       "      <td>500</td>\n",
       "      <td>14</td>\n",
       "      <td>0</td>\n",
       "    </tr>\n",
       "    <tr>\n",
       "      <td>lh_G_pariet_inf-Angular</td>\n",
       "      <td>500</td>\n",
       "      <td>10</td>\n",
       "      <td>0</td>\n",
       "    </tr>\n",
       "    <tr>\n",
       "      <td>lh_G_temp_sup-Lateral</td>\n",
       "      <td>500</td>\n",
       "      <td>17</td>\n",
       "      <td>0</td>\n",
       "    </tr>\n",
       "    <tr>\n",
       "      <td>lh_G_and_S_occipital_inf</td>\n",
       "      <td>500</td>\n",
       "      <td>18</td>\n",
       "      <td>0</td>\n",
       "    </tr>\n",
       "    <tr>\n",
       "      <td>lh_S_pericallosal</td>\n",
       "      <td>500</td>\n",
       "      <td>0</td>\n",
       "      <td>0</td>\n",
       "    </tr>\n",
       "    <tr>\n",
       "      <td>lh_G_and_S_transv_frontopol</td>\n",
       "      <td>500</td>\n",
       "      <td>0</td>\n",
       "      <td>0</td>\n",
       "    </tr>\n",
       "    <tr>\n",
       "      <td>lh_G_and_S_cingul-Ant</td>\n",
       "      <td>500</td>\n",
       "      <td>0</td>\n",
       "      <td>0</td>\n",
       "    </tr>\n",
       "    <tr>\n",
       "      <td>lh_G_and_S_cingul-Mid-Ant</td>\n",
       "      <td>500</td>\n",
       "      <td>0</td>\n",
       "      <td>0</td>\n",
       "    </tr>\n",
       "    <tr>\n",
       "      <td>lh_G_and_S_cingul-Mid-Post</td>\n",
       "      <td>500</td>\n",
       "      <td>0</td>\n",
       "      <td>0</td>\n",
       "    </tr>\n",
       "    <tr>\n",
       "      <td>lh_G_front_sup</td>\n",
       "      <td>500</td>\n",
       "      <td>0</td>\n",
       "      <td>0</td>\n",
       "    </tr>\n",
       "  </tbody>\n",
       "</table>\n",
       "</div>"
      ],
      "text/plain": [
       "                             votes  area  vol\n",
       "Name                                         \n",
       "lh_S_orbital_med-olfact          0     0    0\n",
       "lh_G_and_S_frontomargin          6     1    5\n",
       "lh_Pole_occipital                7     5    2\n",
       "rh_Pole_occipital               11     3    8\n",
       "lh_G_cuneus                     15     2   13\n",
       "lh_G_temp_sup-Plan_polar        17    16    1\n",
       "rh_S_oc-temp_lat                18     7   11\n",
       "rh_G_pariet_inf-Angular         23     4   19\n",
       "rh_S_temporal_inf               23    19    4\n",
       "rh_G_oc-temp_med-Parahip        27    11   16\n",
       "rh_G_occipital_sup             500     9    0\n",
       "lh_G_oc-temp_med-Parahip       500     8    0\n",
       "lh_S_temporal_sup              500     6    0\n",
       "rh_S_pericallosal              500    12    0\n",
       "lh_S_parieto_occipital         500    13    0\n",
       "lh_S_circular_insula_sup       500    14    0\n",
       "lh_G_pariet_inf-Angular        500    10    0\n",
       "lh_G_temp_sup-Lateral          500    17    0\n",
       "lh_G_and_S_occipital_inf       500    18    0\n",
       "lh_S_pericallosal              500     0    0\n",
       "lh_G_and_S_transv_frontopol    500     0    0\n",
       "lh_G_and_S_cingul-Ant          500     0    0\n",
       "lh_G_and_S_cingul-Mid-Ant      500     0    0\n",
       "lh_G_and_S_cingul-Mid-Post     500     0    0\n",
       "lh_G_front_sup                 500     0    0"
      ]
     },
     "execution_count": 31,
     "metadata": {},
     "output_type": "execute_result"
    }
   ],
   "source": [
    "df_results.head(25)"
   ]
  },
  {
   "cell_type": "code",
   "execution_count": 33,
   "metadata": {},
   "outputs": [],
   "source": [
    "df_results.to_csv(\"output/borda classification logistic regresion.csv\")"
   ]
  },
  {
   "cell_type": "code",
   "execution_count": null,
   "metadata": {},
   "outputs": [],
   "source": []
  }
 ],
 "metadata": {
  "kernelspec": {
   "display_name": "Python 3",
   "language": "python",
   "name": "python3"
  },
  "language_info": {
   "codemirror_mode": {
    "name": "ipython",
    "version": 3
   },
   "file_extension": ".py",
   "mimetype": "text/x-python",
   "name": "python",
   "nbconvert_exporter": "python",
   "pygments_lexer": "ipython3",
   "version": "3.7.4"
  }
 },
 "nbformat": 4,
 "nbformat_minor": 2
}
