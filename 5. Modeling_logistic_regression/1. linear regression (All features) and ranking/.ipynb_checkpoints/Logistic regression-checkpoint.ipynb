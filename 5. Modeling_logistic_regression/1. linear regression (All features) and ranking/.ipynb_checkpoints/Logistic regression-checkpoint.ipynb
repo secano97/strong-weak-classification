{
 "cells": [
  {
   "cell_type": "markdown",
   "metadata": {},
   "source": [
    "<center> <b> <h1> logistic regression </h1></b></center>\n"
   ]
  },
  {
   "cell_type": "code",
   "execution_count": 29,
   "metadata": {},
   "outputs": [],
   "source": [
    "from sklearn import linear_model\n",
    "from sklearn.metrics import accuracy_score, r2_score\n",
    "from sklearn.model_selection import StratifiedKFold\n",
    "import matplotlib.pyplot as plt\n",
    "import joblib\n",
    "\n",
    "from sklearn.linear_model import LogisticRegression\n",
    "\n",
    "from sklearn.model_selection import StratifiedKFold, GridSearchCV\n",
    "from sklearn.metrics import classification_report\n",
    "\n",
    "import pandas as pd\n",
    "import numpy as np\n",
    "import itertools\n",
    "\n",
    "from sklearn.metrics import confusion_matrix\n",
    "from sklearn.feature_selection import SelectFromModel\n",
    "from sklearn.preprocessing import StandardScaler\n",
    "\n",
    "PATH_DATASETS = \"../../2_Data_preparation/2_Split_Raw_Datasets/output/\"\n",
    "PATH_OUTPUT = \"output/\""
   ]
  },
  {
   "cell_type": "code",
   "execution_count": 3,
   "metadata": {},
   "outputs": [],
   "source": [
    "def readCsvs(split):\n",
    "    datasets = []\n",
    "    constant1 = 'X_'\n",
    "    constant2 = '_' + split\n",
    "    features = ['area', 'meancurv', 'thickness', 'volume']\n",
    "\n",
    "    for feature in features:\n",
    "        df = pd.read_csv(PATH_DATASETS + constant1 + feature + constant2 +'.csv', index_col=0)\n",
    "        datasets.append({'name': feature, 'data': df})\n",
    "    return datasets"
   ]
  },
  {
   "cell_type": "markdown",
   "metadata": {},
   "source": [
    "# 1. Data preparing"
   ]
  },
  {
   "cell_type": "code",
   "execution_count": 4,
   "metadata": {},
   "outputs": [
    {
     "data": {
      "text/plain": [
       "(550, 148)"
      ]
     },
     "execution_count": 4,
     "metadata": {},
     "output_type": "execute_result"
    }
   ],
   "source": [
    "df_X_tr = readCsvs('train')\n",
    "df_X_tr[2]['data'].shape"
   ]
  },
  {
   "cell_type": "code",
   "execution_count": 5,
   "metadata": {},
   "outputs": [
    {
     "data": {
      "text/plain": [
       "(550, 1)"
      ]
     },
     "execution_count": 5,
     "metadata": {},
     "output_type": "execute_result"
    }
   ],
   "source": [
    "df_y_train = pd.read_csv(PATH_DATASETS + 'Y_train.csv', index_col = 0)\n",
    "df_y_train.shape"
   ]
  },
  {
   "cell_type": "code",
   "execution_count": 6,
   "metadata": {},
   "outputs": [
    {
     "data": {
      "text/plain": [
       "(338, 148)"
      ]
     },
     "execution_count": 6,
     "metadata": {},
     "output_type": "execute_result"
    }
   ],
   "source": [
    "df_X_val = readCsvs('validate')\n",
    "df_X_val[0]['data'].shape"
   ]
  },
  {
   "cell_type": "code",
   "execution_count": 7,
   "metadata": {},
   "outputs": [
    {
     "data": {
      "text/plain": [
       "(338, 1)"
      ]
     },
     "execution_count": 7,
     "metadata": {},
     "output_type": "execute_result"
    }
   ],
   "source": [
    "df_y_val = pd.read_csv(PATH_DATASETS + 'Y_validate.csv', index_col = 0)\n",
    "df_y_val.shape"
   ]
  },
  {
   "cell_type": "code",
   "execution_count": 8,
   "metadata": {
    "scrolled": true
   },
   "outputs": [
    {
     "data": {
      "text/html": [
       "<div>\n",
       "<style scoped>\n",
       "    .dataframe tbody tr th:only-of-type {\n",
       "        vertical-align: middle;\n",
       "    }\n",
       "\n",
       "    .dataframe tbody tr th {\n",
       "        vertical-align: top;\n",
       "    }\n",
       "\n",
       "    .dataframe thead th {\n",
       "        text-align: right;\n",
       "    }\n",
       "</style>\n",
       "<table border=\"1\" class=\"dataframe\">\n",
       "  <thead>\n",
       "    <tr style=\"text-align: right;\">\n",
       "      <th></th>\n",
       "      <th>lh_G_and_S_frontomargin_area</th>\n",
       "      <th>lh_G_and_S_occipital_inf_area</th>\n",
       "      <th>lh_G_and_S_paracentral_area</th>\n",
       "      <th>lh_G_and_S_subcentral_area</th>\n",
       "      <th>lh_G_and_S_transv_frontopol_area</th>\n",
       "      <th>lh_G_and_S_cingul-Ant_area</th>\n",
       "      <th>lh_G_and_S_cingul-Mid-Ant_area</th>\n",
       "      <th>lh_G_and_S_cingul-Mid-Post_area</th>\n",
       "      <th>lh_G_cingul-Post-dorsal_area</th>\n",
       "      <th>lh_G_cingul-Post-ventral_area</th>\n",
       "      <th>...</th>\n",
       "      <th>rh_S_parieto_occipital_area</th>\n",
       "      <th>rh_S_pericallosal_area</th>\n",
       "      <th>rh_S_postcentral_area</th>\n",
       "      <th>rh_S_precentral-inf-part_area</th>\n",
       "      <th>rh_S_precentral-sup-part_area</th>\n",
       "      <th>rh_S_suborbital_area</th>\n",
       "      <th>rh_S_subparietal_area</th>\n",
       "      <th>rh_S_temporal_inf_area</th>\n",
       "      <th>rh_S_temporal_sup_area</th>\n",
       "      <th>rh_S_temporal_transverse_area</th>\n",
       "    </tr>\n",
       "  </thead>\n",
       "  <tbody>\n",
       "    <tr>\n",
       "      <td>414229</td>\n",
       "      <td>887</td>\n",
       "      <td>1169</td>\n",
       "      <td>1037</td>\n",
       "      <td>1196</td>\n",
       "      <td>490</td>\n",
       "      <td>1763</td>\n",
       "      <td>1134</td>\n",
       "      <td>1041</td>\n",
       "      <td>360</td>\n",
       "      <td>153</td>\n",
       "      <td>...</td>\n",
       "      <td>1603</td>\n",
       "      <td>1201</td>\n",
       "      <td>1700</td>\n",
       "      <td>1460</td>\n",
       "      <td>1009</td>\n",
       "      <td>203</td>\n",
       "      <td>532</td>\n",
       "      <td>793</td>\n",
       "      <td>3688</td>\n",
       "      <td>184</td>\n",
       "    </tr>\n",
       "    <tr>\n",
       "      <td>541943</td>\n",
       "      <td>838</td>\n",
       "      <td>1195</td>\n",
       "      <td>853</td>\n",
       "      <td>1061</td>\n",
       "      <td>427</td>\n",
       "      <td>1425</td>\n",
       "      <td>830</td>\n",
       "      <td>926</td>\n",
       "      <td>316</td>\n",
       "      <td>162</td>\n",
       "      <td>...</td>\n",
       "      <td>1580</td>\n",
       "      <td>2187</td>\n",
       "      <td>1431</td>\n",
       "      <td>1024</td>\n",
       "      <td>710</td>\n",
       "      <td>366</td>\n",
       "      <td>847</td>\n",
       "      <td>1292</td>\n",
       "      <td>3675</td>\n",
       "      <td>177</td>\n",
       "    </tr>\n",
       "    <tr>\n",
       "      <td>206525</td>\n",
       "      <td>1079</td>\n",
       "      <td>1373</td>\n",
       "      <td>918</td>\n",
       "      <td>1214</td>\n",
       "      <td>508</td>\n",
       "      <td>2163</td>\n",
       "      <td>1053</td>\n",
       "      <td>978</td>\n",
       "      <td>363</td>\n",
       "      <td>474</td>\n",
       "      <td>...</td>\n",
       "      <td>2130</td>\n",
       "      <td>1577</td>\n",
       "      <td>2101</td>\n",
       "      <td>1014</td>\n",
       "      <td>1269</td>\n",
       "      <td>344</td>\n",
       "      <td>1232</td>\n",
       "      <td>1252</td>\n",
       "      <td>5678</td>\n",
       "      <td>239</td>\n",
       "    </tr>\n",
       "    <tr>\n",
       "      <td>146533</td>\n",
       "      <td>1058</td>\n",
       "      <td>1312</td>\n",
       "      <td>1105</td>\n",
       "      <td>941</td>\n",
       "      <td>524</td>\n",
       "      <td>2234</td>\n",
       "      <td>1138</td>\n",
       "      <td>1008</td>\n",
       "      <td>369</td>\n",
       "      <td>265</td>\n",
       "      <td>...</td>\n",
       "      <td>1899</td>\n",
       "      <td>1098</td>\n",
       "      <td>2033</td>\n",
       "      <td>1118</td>\n",
       "      <td>1421</td>\n",
       "      <td>232</td>\n",
       "      <td>768</td>\n",
       "      <td>765</td>\n",
       "      <td>4957</td>\n",
       "      <td>164</td>\n",
       "    </tr>\n",
       "    <tr>\n",
       "      <td>194746</td>\n",
       "      <td>731</td>\n",
       "      <td>1179</td>\n",
       "      <td>800</td>\n",
       "      <td>985</td>\n",
       "      <td>437</td>\n",
       "      <td>1477</td>\n",
       "      <td>896</td>\n",
       "      <td>960</td>\n",
       "      <td>369</td>\n",
       "      <td>192</td>\n",
       "      <td>...</td>\n",
       "      <td>1547</td>\n",
       "      <td>1220</td>\n",
       "      <td>1691</td>\n",
       "      <td>946</td>\n",
       "      <td>916</td>\n",
       "      <td>156</td>\n",
       "      <td>745</td>\n",
       "      <td>967</td>\n",
       "      <td>4002</td>\n",
       "      <td>206</td>\n",
       "    </tr>\n",
       "  </tbody>\n",
       "</table>\n",
       "<p>5 rows × 148 columns</p>\n",
       "</div>"
      ],
      "text/plain": [
       "        lh_G_and_S_frontomargin_area  lh_G_and_S_occipital_inf_area  \\\n",
       "414229                           887                           1169   \n",
       "541943                           838                           1195   \n",
       "206525                          1079                           1373   \n",
       "146533                          1058                           1312   \n",
       "194746                           731                           1179   \n",
       "\n",
       "        lh_G_and_S_paracentral_area  lh_G_and_S_subcentral_area  \\\n",
       "414229                         1037                        1196   \n",
       "541943                          853                        1061   \n",
       "206525                          918                        1214   \n",
       "146533                         1105                         941   \n",
       "194746                          800                         985   \n",
       "\n",
       "        lh_G_and_S_transv_frontopol_area  lh_G_and_S_cingul-Ant_area  \\\n",
       "414229                               490                        1763   \n",
       "541943                               427                        1425   \n",
       "206525                               508                        2163   \n",
       "146533                               524                        2234   \n",
       "194746                               437                        1477   \n",
       "\n",
       "        lh_G_and_S_cingul-Mid-Ant_area  lh_G_and_S_cingul-Mid-Post_area  \\\n",
       "414229                            1134                             1041   \n",
       "541943                             830                              926   \n",
       "206525                            1053                              978   \n",
       "146533                            1138                             1008   \n",
       "194746                             896                              960   \n",
       "\n",
       "        lh_G_cingul-Post-dorsal_area  lh_G_cingul-Post-ventral_area  ...  \\\n",
       "414229                           360                            153  ...   \n",
       "541943                           316                            162  ...   \n",
       "206525                           363                            474  ...   \n",
       "146533                           369                            265  ...   \n",
       "194746                           369                            192  ...   \n",
       "\n",
       "        rh_S_parieto_occipital_area  rh_S_pericallosal_area  \\\n",
       "414229                         1603                    1201   \n",
       "541943                         1580                    2187   \n",
       "206525                         2130                    1577   \n",
       "146533                         1899                    1098   \n",
       "194746                         1547                    1220   \n",
       "\n",
       "        rh_S_postcentral_area  rh_S_precentral-inf-part_area  \\\n",
       "414229                   1700                           1460   \n",
       "541943                   1431                           1024   \n",
       "206525                   2101                           1014   \n",
       "146533                   2033                           1118   \n",
       "194746                   1691                            946   \n",
       "\n",
       "        rh_S_precentral-sup-part_area  rh_S_suborbital_area  \\\n",
       "414229                           1009                   203   \n",
       "541943                            710                   366   \n",
       "206525                           1269                   344   \n",
       "146533                           1421                   232   \n",
       "194746                            916                   156   \n",
       "\n",
       "        rh_S_subparietal_area  rh_S_temporal_inf_area  rh_S_temporal_sup_area  \\\n",
       "414229                    532                     793                    3688   \n",
       "541943                    847                    1292                    3675   \n",
       "206525                   1232                    1252                    5678   \n",
       "146533                    768                     765                    4957   \n",
       "194746                    745                     967                    4002   \n",
       "\n",
       "        rh_S_temporal_transverse_area  \n",
       "414229                            184  \n",
       "541943                            177  \n",
       "206525                            239  \n",
       "146533                            164  \n",
       "194746                            206  \n",
       "\n",
       "[5 rows x 148 columns]"
      ]
     },
     "execution_count": 8,
     "metadata": {},
     "output_type": "execute_result"
    }
   ],
   "source": [
    "df_X_tr[0]['data'].head()"
   ]
  },
  {
   "cell_type": "markdown",
   "metadata": {},
   "source": [
    "# 2. Normalize data"
   ]
  },
  {
   "cell_type": "code",
   "execution_count": 9,
   "metadata": {},
   "outputs": [],
   "source": [
    "for df_tr, df_val in zip(df_X_tr, df_X_val):\n",
    "    train = df_tr['data']\n",
    "    val = df_val['data']\n",
    "    \n",
    "    normal_tr = (train - train.mean(axis=0))/train.std()\n",
    "    normal_val = (val - val.mean(axis=0))/val.std()\n",
    "    \n",
    "    df_tr['data'] = normal_tr\n",
    "    df_val['data'] = normal_val"
   ]
  },
  {
   "cell_type": "code",
   "execution_count": 10,
   "metadata": {},
   "outputs": [
    {
     "data": {
      "text/html": [
       "<div>\n",
       "<style scoped>\n",
       "    .dataframe tbody tr th:only-of-type {\n",
       "        vertical-align: middle;\n",
       "    }\n",
       "\n",
       "    .dataframe tbody tr th {\n",
       "        vertical-align: top;\n",
       "    }\n",
       "\n",
       "    .dataframe thead th {\n",
       "        text-align: right;\n",
       "    }\n",
       "</style>\n",
       "<table border=\"1\" class=\"dataframe\">\n",
       "  <thead>\n",
       "    <tr style=\"text-align: right;\">\n",
       "      <th></th>\n",
       "      <th>lh_G_and_S_frontomargin_area</th>\n",
       "      <th>lh_G_and_S_occipital_inf_area</th>\n",
       "      <th>lh_G_and_S_paracentral_area</th>\n",
       "      <th>lh_G_and_S_subcentral_area</th>\n",
       "      <th>lh_G_and_S_transv_frontopol_area</th>\n",
       "      <th>lh_G_and_S_cingul-Ant_area</th>\n",
       "      <th>lh_G_and_S_cingul-Mid-Ant_area</th>\n",
       "      <th>lh_G_and_S_cingul-Mid-Post_area</th>\n",
       "      <th>lh_G_cingul-Post-dorsal_area</th>\n",
       "      <th>lh_G_cingul-Post-ventral_area</th>\n",
       "      <th>...</th>\n",
       "      <th>rh_S_parieto_occipital_area</th>\n",
       "      <th>rh_S_pericallosal_area</th>\n",
       "      <th>rh_S_postcentral_area</th>\n",
       "      <th>rh_S_precentral-inf-part_area</th>\n",
       "      <th>rh_S_precentral-sup-part_area</th>\n",
       "      <th>rh_S_suborbital_area</th>\n",
       "      <th>rh_S_subparietal_area</th>\n",
       "      <th>rh_S_temporal_inf_area</th>\n",
       "      <th>rh_S_temporal_sup_area</th>\n",
       "      <th>rh_S_temporal_transverse_area</th>\n",
       "    </tr>\n",
       "  </thead>\n",
       "  <tbody>\n",
       "    <tr>\n",
       "      <td>414229</td>\n",
       "      <td>0.309576</td>\n",
       "      <td>0.224009</td>\n",
       "      <td>1.107822</td>\n",
       "      <td>1.264846</td>\n",
       "      <td>-0.053643</td>\n",
       "      <td>0.447702</td>\n",
       "      <td>0.977805</td>\n",
       "      <td>0.781809</td>\n",
       "      <td>-0.594180</td>\n",
       "      <td>-0.761092</td>\n",
       "      <td>...</td>\n",
       "      <td>0.221416</td>\n",
       "      <td>0.381852</td>\n",
       "      <td>-0.114597</td>\n",
       "      <td>1.444931</td>\n",
       "      <td>0.064915</td>\n",
       "      <td>-0.435619</td>\n",
       "      <td>-1.510187</td>\n",
       "      <td>-0.718114</td>\n",
       "      <td>-1.077114</td>\n",
       "      <td>-0.575371</td>\n",
       "    </tr>\n",
       "    <tr>\n",
       "      <td>541943</td>\n",
       "      <td>-0.076249</td>\n",
       "      <td>0.352958</td>\n",
       "      <td>-0.262869</td>\n",
       "      <td>0.412671</td>\n",
       "      <td>-0.728809</td>\n",
       "      <td>-0.994397</td>\n",
       "      <td>-0.892543</td>\n",
       "      <td>-0.132296</td>\n",
       "      <td>-1.093925</td>\n",
       "      <td>-0.695517</td>\n",
       "      <td>...</td>\n",
       "      <td>0.137165</td>\n",
       "      <td>3.971853</td>\n",
       "      <td>-0.980071</td>\n",
       "      <td>-0.602848</td>\n",
       "      <td>-1.391463</td>\n",
       "      <td>1.763449</td>\n",
       "      <td>-0.070073</td>\n",
       "      <td>1.569996</td>\n",
       "      <td>-1.101390</td>\n",
       "      <td>-0.732631</td>\n",
       "    </tr>\n",
       "    <tr>\n",
       "      <td>206525</td>\n",
       "      <td>1.821379</td>\n",
       "      <td>1.235757</td>\n",
       "      <td>0.221342</td>\n",
       "      <td>1.378470</td>\n",
       "      <td>0.139262</td>\n",
       "      <td>2.154329</td>\n",
       "      <td>0.479456</td>\n",
       "      <td>0.281038</td>\n",
       "      <td>-0.560107</td>\n",
       "      <td>1.577744</td>\n",
       "      <td>...</td>\n",
       "      <td>2.151850</td>\n",
       "      <td>1.750859</td>\n",
       "      <td>1.175570</td>\n",
       "      <td>-0.649815</td>\n",
       "      <td>1.331331</td>\n",
       "      <td>1.466642</td>\n",
       "      <td>1.690066</td>\n",
       "      <td>1.386581</td>\n",
       "      <td>2.638980</td>\n",
       "      <td>0.660251</td>\n",
       "    </tr>\n",
       "    <tr>\n",
       "      <td>146533</td>\n",
       "      <td>1.656025</td>\n",
       "      <td>0.933225</td>\n",
       "      <td>1.614382</td>\n",
       "      <td>-0.344818</td>\n",
       "      <td>0.310732</td>\n",
       "      <td>2.457255</td>\n",
       "      <td>1.002415</td>\n",
       "      <td>0.519500</td>\n",
       "      <td>-0.491960</td>\n",
       "      <td>0.054950</td>\n",
       "      <td>...</td>\n",
       "      <td>1.305682</td>\n",
       "      <td>0.006832</td>\n",
       "      <td>0.956788</td>\n",
       "      <td>-0.161354</td>\n",
       "      <td>2.071697</td>\n",
       "      <td>-0.044374</td>\n",
       "      <td>-0.431244</td>\n",
       "      <td>-0.846505</td>\n",
       "      <td>1.292596</td>\n",
       "      <td>-1.024687</td>\n",
       "    </tr>\n",
       "    <tr>\n",
       "      <td>194746</td>\n",
       "      <td>-0.918764</td>\n",
       "      <td>0.273605</td>\n",
       "      <td>-0.657688</td>\n",
       "      <td>-0.067072</td>\n",
       "      <td>-0.621640</td>\n",
       "      <td>-0.772536</td>\n",
       "      <td>-0.486481</td>\n",
       "      <td>0.137961</td>\n",
       "      <td>-0.491960</td>\n",
       "      <td>-0.476934</td>\n",
       "      <td>...</td>\n",
       "      <td>0.016284</td>\n",
       "      <td>0.451031</td>\n",
       "      <td>-0.143553</td>\n",
       "      <td>-0.969194</td>\n",
       "      <td>-0.388072</td>\n",
       "      <td>-1.069706</td>\n",
       "      <td>-0.536396</td>\n",
       "      <td>0.079744</td>\n",
       "      <td>-0.490755</td>\n",
       "      <td>-0.081122</td>\n",
       "    </tr>\n",
       "  </tbody>\n",
       "</table>\n",
       "<p>5 rows × 148 columns</p>\n",
       "</div>"
      ],
      "text/plain": [
       "        lh_G_and_S_frontomargin_area  lh_G_and_S_occipital_inf_area  \\\n",
       "414229                      0.309576                       0.224009   \n",
       "541943                     -0.076249                       0.352958   \n",
       "206525                      1.821379                       1.235757   \n",
       "146533                      1.656025                       0.933225   \n",
       "194746                     -0.918764                       0.273605   \n",
       "\n",
       "        lh_G_and_S_paracentral_area  lh_G_and_S_subcentral_area  \\\n",
       "414229                     1.107822                    1.264846   \n",
       "541943                    -0.262869                    0.412671   \n",
       "206525                     0.221342                    1.378470   \n",
       "146533                     1.614382                   -0.344818   \n",
       "194746                    -0.657688                   -0.067072   \n",
       "\n",
       "        lh_G_and_S_transv_frontopol_area  lh_G_and_S_cingul-Ant_area  \\\n",
       "414229                         -0.053643                    0.447702   \n",
       "541943                         -0.728809                   -0.994397   \n",
       "206525                          0.139262                    2.154329   \n",
       "146533                          0.310732                    2.457255   \n",
       "194746                         -0.621640                   -0.772536   \n",
       "\n",
       "        lh_G_and_S_cingul-Mid-Ant_area  lh_G_and_S_cingul-Mid-Post_area  \\\n",
       "414229                        0.977805                         0.781809   \n",
       "541943                       -0.892543                        -0.132296   \n",
       "206525                        0.479456                         0.281038   \n",
       "146533                        1.002415                         0.519500   \n",
       "194746                       -0.486481                         0.137961   \n",
       "\n",
       "        lh_G_cingul-Post-dorsal_area  lh_G_cingul-Post-ventral_area  ...  \\\n",
       "414229                     -0.594180                      -0.761092  ...   \n",
       "541943                     -1.093925                      -0.695517  ...   \n",
       "206525                     -0.560107                       1.577744  ...   \n",
       "146533                     -0.491960                       0.054950  ...   \n",
       "194746                     -0.491960                      -0.476934  ...   \n",
       "\n",
       "        rh_S_parieto_occipital_area  rh_S_pericallosal_area  \\\n",
       "414229                     0.221416                0.381852   \n",
       "541943                     0.137165                3.971853   \n",
       "206525                     2.151850                1.750859   \n",
       "146533                     1.305682                0.006832   \n",
       "194746                     0.016284                0.451031   \n",
       "\n",
       "        rh_S_postcentral_area  rh_S_precentral-inf-part_area  \\\n",
       "414229              -0.114597                       1.444931   \n",
       "541943              -0.980071                      -0.602848   \n",
       "206525               1.175570                      -0.649815   \n",
       "146533               0.956788                      -0.161354   \n",
       "194746              -0.143553                      -0.969194   \n",
       "\n",
       "        rh_S_precentral-sup-part_area  rh_S_suborbital_area  \\\n",
       "414229                       0.064915             -0.435619   \n",
       "541943                      -1.391463              1.763449   \n",
       "206525                       1.331331              1.466642   \n",
       "146533                       2.071697             -0.044374   \n",
       "194746                      -0.388072             -1.069706   \n",
       "\n",
       "        rh_S_subparietal_area  rh_S_temporal_inf_area  rh_S_temporal_sup_area  \\\n",
       "414229              -1.510187               -0.718114               -1.077114   \n",
       "541943              -0.070073                1.569996               -1.101390   \n",
       "206525               1.690066                1.386581                2.638980   \n",
       "146533              -0.431244               -0.846505                1.292596   \n",
       "194746              -0.536396                0.079744               -0.490755   \n",
       "\n",
       "        rh_S_temporal_transverse_area  \n",
       "414229                      -0.575371  \n",
       "541943                      -0.732631  \n",
       "206525                       0.660251  \n",
       "146533                      -1.024687  \n",
       "194746                      -0.081122  \n",
       "\n",
       "[5 rows x 148 columns]"
      ]
     },
     "execution_count": 10,
     "metadata": {},
     "output_type": "execute_result"
    }
   ],
   "source": [
    "df_X_tr[0]['data'].head()"
   ]
  },
  {
   "cell_type": "code",
   "execution_count": 11,
   "metadata": {},
   "outputs": [
    {
     "data": {
      "text/html": [
       "<div>\n",
       "<style scoped>\n",
       "    .dataframe tbody tr th:only-of-type {\n",
       "        vertical-align: middle;\n",
       "    }\n",
       "\n",
       "    .dataframe tbody tr th {\n",
       "        vertical-align: top;\n",
       "    }\n",
       "\n",
       "    .dataframe thead th {\n",
       "        text-align: right;\n",
       "    }\n",
       "</style>\n",
       "<table border=\"1\" class=\"dataframe\">\n",
       "  <thead>\n",
       "    <tr style=\"text-align: right;\">\n",
       "      <th></th>\n",
       "      <th>lh_G_and_S_frontomargin_area</th>\n",
       "      <th>lh_G_and_S_occipital_inf_area</th>\n",
       "      <th>lh_G_and_S_paracentral_area</th>\n",
       "      <th>lh_G_and_S_subcentral_area</th>\n",
       "      <th>lh_G_and_S_transv_frontopol_area</th>\n",
       "      <th>lh_G_and_S_cingul-Ant_area</th>\n",
       "      <th>lh_G_and_S_cingul-Mid-Ant_area</th>\n",
       "      <th>lh_G_and_S_cingul-Mid-Post_area</th>\n",
       "      <th>lh_G_cingul-Post-dorsal_area</th>\n",
       "      <th>lh_G_cingul-Post-ventral_area</th>\n",
       "      <th>...</th>\n",
       "      <th>rh_S_parieto_occipital_area</th>\n",
       "      <th>rh_S_pericallosal_area</th>\n",
       "      <th>rh_S_postcentral_area</th>\n",
       "      <th>rh_S_precentral-inf-part_area</th>\n",
       "      <th>rh_S_precentral-sup-part_area</th>\n",
       "      <th>rh_S_suborbital_area</th>\n",
       "      <th>rh_S_subparietal_area</th>\n",
       "      <th>rh_S_temporal_inf_area</th>\n",
       "      <th>rh_S_temporal_sup_area</th>\n",
       "      <th>rh_S_temporal_transverse_area</th>\n",
       "    </tr>\n",
       "  </thead>\n",
       "  <tbody>\n",
       "    <tr>\n",
       "      <td>615441</td>\n",
       "      <td>0.238801</td>\n",
       "      <td>1.162366</td>\n",
       "      <td>-1.326521</td>\n",
       "      <td>1.519078</td>\n",
       "      <td>0.392378</td>\n",
       "      <td>0.149223</td>\n",
       "      <td>-0.548379</td>\n",
       "      <td>-0.452876</td>\n",
       "      <td>-0.095789</td>\n",
       "      <td>2.679350</td>\n",
       "      <td>...</td>\n",
       "      <td>1.287450</td>\n",
       "      <td>0.292080</td>\n",
       "      <td>1.757860</td>\n",
       "      <td>-0.218747</td>\n",
       "      <td>-0.883145</td>\n",
       "      <td>-0.107213</td>\n",
       "      <td>0.140636</td>\n",
       "      <td>-0.557016</td>\n",
       "      <td>-0.424721</td>\n",
       "      <td>1.220303</td>\n",
       "    </tr>\n",
       "    <tr>\n",
       "      <td>616645</td>\n",
       "      <td>-0.138682</td>\n",
       "      <td>-0.365142</td>\n",
       "      <td>0.053695</td>\n",
       "      <td>0.208336</td>\n",
       "      <td>0.641297</td>\n",
       "      <td>0.515571</td>\n",
       "      <td>0.884371</td>\n",
       "      <td>0.914182</td>\n",
       "      <td>1.960390</td>\n",
       "      <td>1.791415</td>\n",
       "      <td>...</td>\n",
       "      <td>0.846211</td>\n",
       "      <td>0.428161</td>\n",
       "      <td>1.281187</td>\n",
       "      <td>0.122919</td>\n",
       "      <td>1.162747</td>\n",
       "      <td>2.987705</td>\n",
       "      <td>-0.998039</td>\n",
       "      <td>1.386738</td>\n",
       "      <td>1.932750</td>\n",
       "      <td>0.497058</td>\n",
       "    </tr>\n",
       "    <tr>\n",
       "      <td>618952</td>\n",
       "      <td>1.437867</td>\n",
       "      <td>-0.245805</td>\n",
       "      <td>0.877704</td>\n",
       "      <td>1.245774</td>\n",
       "      <td>1.298443</td>\n",
       "      <td>1.298549</td>\n",
       "      <td>2.002875</td>\n",
       "      <td>0.990983</td>\n",
       "      <td>1.310509</td>\n",
       "      <td>1.578680</td>\n",
       "      <td>...</td>\n",
       "      <td>2.255210</td>\n",
       "      <td>0.236047</td>\n",
       "      <td>1.281187</td>\n",
       "      <td>0.025300</td>\n",
       "      <td>0.726963</td>\n",
       "      <td>1.055014</td>\n",
       "      <td>0.714798</td>\n",
       "      <td>2.354218</td>\n",
       "      <td>0.787643</td>\n",
       "      <td>0.518330</td>\n",
       "    </tr>\n",
       "    <tr>\n",
       "      <td>650746</td>\n",
       "      <td>-0.279313</td>\n",
       "      <td>1.171913</td>\n",
       "      <td>0.493166</td>\n",
       "      <td>1.731027</td>\n",
       "      <td>0.661211</td>\n",
       "      <td>0.142040</td>\n",
       "      <td>2.626042</td>\n",
       "      <td>0.706819</td>\n",
       "      <td>-0.170366</td>\n",
       "      <td>0.071039</td>\n",
       "      <td>...</td>\n",
       "      <td>0.760930</td>\n",
       "      <td>0.065278</td>\n",
       "      <td>0.504144</td>\n",
       "      <td>1.021010</td>\n",
       "      <td>-1.254708</td>\n",
       "      <td>0.258431</td>\n",
       "      <td>-0.751969</td>\n",
       "      <td>-0.183217</td>\n",
       "      <td>0.470325</td>\n",
       "      <td>1.220303</td>\n",
       "    </tr>\n",
       "    <tr>\n",
       "      <td>662551</td>\n",
       "      <td>1.852359</td>\n",
       "      <td>-1.052520</td>\n",
       "      <td>-0.131707</td>\n",
       "      <td>0.643391</td>\n",
       "      <td>-0.264767</td>\n",
       "      <td>0.425780</td>\n",
       "      <td>-0.186197</td>\n",
       "      <td>0.491776</td>\n",
       "      <td>1.512931</td>\n",
       "      <td>0.607500</td>\n",
       "      <td>...</td>\n",
       "      <td>0.041599</td>\n",
       "      <td>-0.471043</td>\n",
       "      <td>0.948169</td>\n",
       "      <td>0.757440</td>\n",
       "      <td>-0.144605</td>\n",
       "      <td>0.167020</td>\n",
       "      <td>-1.538426</td>\n",
       "      <td>0.669924</td>\n",
       "      <td>1.275693</td>\n",
       "      <td>0.454514</td>\n",
       "    </tr>\n",
       "  </tbody>\n",
       "</table>\n",
       "<p>5 rows × 148 columns</p>\n",
       "</div>"
      ],
      "text/plain": [
       "        lh_G_and_S_frontomargin_area  lh_G_and_S_occipital_inf_area  \\\n",
       "615441                      0.238801                       1.162366   \n",
       "616645                     -0.138682                      -0.365142   \n",
       "618952                      1.437867                      -0.245805   \n",
       "650746                     -0.279313                       1.171913   \n",
       "662551                      1.852359                      -1.052520   \n",
       "\n",
       "        lh_G_and_S_paracentral_area  lh_G_and_S_subcentral_area  \\\n",
       "615441                    -1.326521                    1.519078   \n",
       "616645                     0.053695                    0.208336   \n",
       "618952                     0.877704                    1.245774   \n",
       "650746                     0.493166                    1.731027   \n",
       "662551                    -0.131707                    0.643391   \n",
       "\n",
       "        lh_G_and_S_transv_frontopol_area  lh_G_and_S_cingul-Ant_area  \\\n",
       "615441                          0.392378                    0.149223   \n",
       "616645                          0.641297                    0.515571   \n",
       "618952                          1.298443                    1.298549   \n",
       "650746                          0.661211                    0.142040   \n",
       "662551                         -0.264767                    0.425780   \n",
       "\n",
       "        lh_G_and_S_cingul-Mid-Ant_area  lh_G_and_S_cingul-Mid-Post_area  \\\n",
       "615441                       -0.548379                        -0.452876   \n",
       "616645                        0.884371                         0.914182   \n",
       "618952                        2.002875                         0.990983   \n",
       "650746                        2.626042                         0.706819   \n",
       "662551                       -0.186197                         0.491776   \n",
       "\n",
       "        lh_G_cingul-Post-dorsal_area  lh_G_cingul-Post-ventral_area  ...  \\\n",
       "615441                     -0.095789                       2.679350  ...   \n",
       "616645                      1.960390                       1.791415  ...   \n",
       "618952                      1.310509                       1.578680  ...   \n",
       "650746                     -0.170366                       0.071039  ...   \n",
       "662551                      1.512931                       0.607500  ...   \n",
       "\n",
       "        rh_S_parieto_occipital_area  rh_S_pericallosal_area  \\\n",
       "615441                     1.287450                0.292080   \n",
       "616645                     0.846211                0.428161   \n",
       "618952                     2.255210                0.236047   \n",
       "650746                     0.760930                0.065278   \n",
       "662551                     0.041599               -0.471043   \n",
       "\n",
       "        rh_S_postcentral_area  rh_S_precentral-inf-part_area  \\\n",
       "615441               1.757860                      -0.218747   \n",
       "616645               1.281187                       0.122919   \n",
       "618952               1.281187                       0.025300   \n",
       "650746               0.504144                       1.021010   \n",
       "662551               0.948169                       0.757440   \n",
       "\n",
       "        rh_S_precentral-sup-part_area  rh_S_suborbital_area  \\\n",
       "615441                      -0.883145             -0.107213   \n",
       "616645                       1.162747              2.987705   \n",
       "618952                       0.726963              1.055014   \n",
       "650746                      -1.254708              0.258431   \n",
       "662551                      -0.144605              0.167020   \n",
       "\n",
       "        rh_S_subparietal_area  rh_S_temporal_inf_area  rh_S_temporal_sup_area  \\\n",
       "615441               0.140636               -0.557016               -0.424721   \n",
       "616645              -0.998039                1.386738                1.932750   \n",
       "618952               0.714798                2.354218                0.787643   \n",
       "650746              -0.751969               -0.183217                0.470325   \n",
       "662551              -1.538426                0.669924                1.275693   \n",
       "\n",
       "        rh_S_temporal_transverse_area  \n",
       "615441                       1.220303  \n",
       "616645                       0.497058  \n",
       "618952                       0.518330  \n",
       "650746                       1.220303  \n",
       "662551                       0.454514  \n",
       "\n",
       "[5 rows x 148 columns]"
      ]
     },
     "execution_count": 11,
     "metadata": {},
     "output_type": "execute_result"
    }
   ],
   "source": [
    "df_X_val[0]['data'].head()"
   ]
  },
  {
   "cell_type": "markdown",
   "metadata": {},
   "source": [
    "# Logistic Regression without hyper parameter tunning all ROIS"
   ]
  },
  {
   "cell_type": "code",
   "execution_count": 12,
   "metadata": {
    "scrolled": true
   },
   "outputs": [
    {
     "name": "stdout",
     "output_type": "stream",
     "text": [
      "area\n",
      "train score: \n",
      "0.8054545454545454\n",
      "validation score: \n",
      "0.6804733727810651\n",
      "meancurv\n",
      "train score: \n",
      "0.8127272727272727\n",
      "validation score: \n",
      "0.6568047337278107\n",
      "thickness\n",
      "train score: \n",
      "0.8163636363636364\n",
      "validation score: \n",
      "0.6863905325443787\n",
      "volume\n",
      "train score: \n",
      "0.8363636363636363\n",
      "validation score: \n",
      "0.6923076923076923\n"
     ]
    }
   ],
   "source": [
    "for feature, feature_val in zip(df_X_tr, df_X_val):\n",
    "    name = feature['name']\n",
    "    data = feature['data']\n",
    "    data_val = feature_val['data']\n",
    "    \n",
    "    print(name)\n",
    "    \n",
    "    linear_model = LogisticRegression(penalty = 'l1', C = 5, n_jobs = -1, max_iter = 1000, solver = 'saga')\n",
    "    linear_model.fit(data, df_y_train['class'])\n",
    "    print(\"train score: \")\n",
    "    print(linear_model.score(data, df_y_train['class']))\n",
    "    \n",
    "    #making prediction \n",
    "    score_val = linear_model.score(data_val, df_y_val['class'])\n",
    "    \n",
    "    print(\"validation score: \")\n",
    "    print(score_val)\n",
    "    #print(linear_model.coef_[0])"
   ]
  },
  {
   "cell_type": "markdown",
   "metadata": {},
   "source": [
    "# Hyper parameter tunning "
   ]
  },
  {
   "cell_type": "code",
   "execution_count": 21,
   "metadata": {},
   "outputs": [],
   "source": [
    "def GridSearch(df_X_tr, df_X_val):\n",
    "    param_grid = {'C': np.arange(0.001, 1, 0.001),\n",
    "                  'warm_start': [True, False]}\n",
    "    scores = ['precision', 'recall']\n",
    "    best_configuration = []\n",
    "\n",
    "    for feature_train, feature_validate in zip(df_X_tr, df_X_val):\n",
    "\n",
    "        data_name = feature_train['name']\n",
    "        data_train = feature_train['data']\n",
    "        data_validate = feature_validate['data']\n",
    "\n",
    "        print(\"******************************** GRID SEARCH FOR: \" + data_name + \" ******************************\")\n",
    "\n",
    "        for score in scores:\n",
    "            print(\"# Tuning hyper-parameters for %s\" % score)\n",
    "            print()\n",
    "\n",
    "            linear_model = LogisticRegression(penalty = 'l1', n_jobs = -1, max_iter = 10000, solver = 'saga')\n",
    "            clf = GridSearchCV(linear_model, param_grid, verbose=0, n_jobs=-1, scoring='%s_macro' % score, cv = 5)\n",
    "            clf.fit(data_train, df_y_train['class'].values)\n",
    "\n",
    "            if (score == 'precision'):\n",
    "                best_configuration.append({'name' : data_name, 'data' : clf.best_params_})\n",
    "\n",
    "            print(\"Best parameters set found on development set: \", clf.best_params_)\n",
    "            print(\"Grid scores on develpment set: \")\n",
    "            means = clf.cv_results_['mean_test_score']\n",
    "            stds = clf.cv_results_['std_test_score']\n",
    "\n",
    "            print(\"Detailed Classification Report: \")\n",
    "            print(\"the model is trained on the full development set.\")\n",
    "            print(\"The scores are computed on the full evaluation set.\")\n",
    "            y_true, y_pred = df_y_val, clf.predict(data_validate)\n",
    "            print(classification_report(y_true,y_pred))\n",
    "            print()\n",
    "            \n",
    "    return best_configuration"
   ]
  },
  {
   "cell_type": "code",
   "execution_count": 22,
   "metadata": {},
   "outputs": [
    {
     "name": "stdout",
     "output_type": "stream",
     "text": [
      "******************************** GRID SEARCH FOR: area ******************************\n",
      "# Tuning hyper-parameters for precision\n",
      "\n",
      "Best parameters set found on development set:  {'C': 0.035, 'warm_start': False}\n",
      "Grid scores on develpment set: \n",
      "Detailed Classification Report: \n",
      "the model is trained on the full development set.\n",
      "The scores are computed on the full evaluation set.\n",
      "              precision    recall  f1-score   support\n",
      "\n",
      "          -1       0.73      0.72      0.73       173\n",
      "           1       0.71      0.72      0.72       165\n",
      "\n",
      "    accuracy                           0.72       338\n",
      "   macro avg       0.72      0.72      0.72       338\n",
      "weighted avg       0.72      0.72      0.72       338\n",
      "\n",
      "\n",
      "# Tuning hyper-parameters for recall\n",
      "\n",
      "Best parameters set found on development set:  {'C': 0.036000000000000004, 'warm_start': True}\n",
      "Grid scores on develpment set: \n",
      "Detailed Classification Report: \n",
      "the model is trained on the full development set.\n",
      "The scores are computed on the full evaluation set.\n",
      "              precision    recall  f1-score   support\n",
      "\n",
      "          -1       0.73      0.72      0.73       173\n",
      "           1       0.71      0.72      0.72       165\n",
      "\n",
      "    accuracy                           0.72       338\n",
      "   macro avg       0.72      0.72      0.72       338\n",
      "weighted avg       0.72      0.72      0.72       338\n",
      "\n",
      "\n",
      "******************************** GRID SEARCH FOR: meancurv ******************************\n",
      "# Tuning hyper-parameters for precision\n",
      "\n",
      "Best parameters set found on development set:  {'C': 0.315, 'warm_start': True}\n",
      "Grid scores on develpment set: \n",
      "Detailed Classification Report: \n",
      "the model is trained on the full development set.\n",
      "The scores are computed on the full evaluation set.\n",
      "              precision    recall  f1-score   support\n",
      "\n",
      "          -1       0.72      0.67      0.69       173\n",
      "           1       0.68      0.72      0.70       165\n",
      "\n",
      "    accuracy                           0.70       338\n",
      "   macro avg       0.70      0.70      0.70       338\n",
      "weighted avg       0.70      0.70      0.70       338\n",
      "\n",
      "\n",
      "# Tuning hyper-parameters for recall\n",
      "\n",
      "Best parameters set found on development set:  {'C': 0.149, 'warm_start': True}\n",
      "Grid scores on develpment set: \n",
      "Detailed Classification Report: \n",
      "the model is trained on the full development set.\n",
      "The scores are computed on the full evaluation set.\n",
      "              precision    recall  f1-score   support\n",
      "\n",
      "          -1       0.69      0.68      0.69       173\n",
      "           1       0.67      0.68      0.68       165\n",
      "\n",
      "    accuracy                           0.68       338\n",
      "   macro avg       0.68      0.68      0.68       338\n",
      "weighted avg       0.68      0.68      0.68       338\n",
      "\n",
      "\n",
      "******************************** GRID SEARCH FOR: thickness ******************************\n",
      "# Tuning hyper-parameters for precision\n",
      "\n",
      "Best parameters set found on development set:  {'C': 0.15, 'warm_start': True}\n",
      "Grid scores on develpment set: \n",
      "Detailed Classification Report: \n",
      "the model is trained on the full development set.\n",
      "The scores are computed on the full evaluation set.\n",
      "              precision    recall  f1-score   support\n",
      "\n",
      "          -1       0.75      0.73      0.74       173\n",
      "           1       0.73      0.74      0.73       165\n",
      "\n",
      "    accuracy                           0.74       338\n",
      "   macro avg       0.74      0.74      0.74       338\n",
      "weighted avg       0.74      0.74      0.74       338\n",
      "\n",
      "\n",
      "# Tuning hyper-parameters for recall\n",
      "\n",
      "Best parameters set found on development set:  {'C': 0.15, 'warm_start': True}\n",
      "Grid scores on develpment set: \n",
      "Detailed Classification Report: \n",
      "the model is trained on the full development set.\n",
      "The scores are computed on the full evaluation set.\n",
      "              precision    recall  f1-score   support\n",
      "\n",
      "          -1       0.75      0.73      0.74       173\n",
      "           1       0.73      0.74      0.73       165\n",
      "\n",
      "    accuracy                           0.74       338\n",
      "   macro avg       0.74      0.74      0.74       338\n",
      "weighted avg       0.74      0.74      0.74       338\n",
      "\n",
      "\n",
      "******************************** GRID SEARCH FOR: volume ******************************\n",
      "# Tuning hyper-parameters for precision\n",
      "\n",
      "Best parameters set found on development set:  {'C': 0.124, 'warm_start': False}\n",
      "Grid scores on develpment set: \n",
      "Detailed Classification Report: \n",
      "the model is trained on the full development set.\n",
      "The scores are computed on the full evaluation set.\n",
      "              precision    recall  f1-score   support\n",
      "\n",
      "          -1       0.75      0.72      0.74       173\n",
      "           1       0.72      0.75      0.73       165\n",
      "\n",
      "    accuracy                           0.73       338\n",
      "   macro avg       0.73      0.73      0.73       338\n",
      "weighted avg       0.73      0.73      0.73       338\n",
      "\n",
      "\n",
      "# Tuning hyper-parameters for recall\n",
      "\n",
      "Best parameters set found on development set:  {'C': 0.124, 'warm_start': True}\n",
      "Grid scores on develpment set: \n",
      "Detailed Classification Report: \n",
      "the model is trained on the full development set.\n",
      "The scores are computed on the full evaluation set.\n",
      "              precision    recall  f1-score   support\n",
      "\n",
      "          -1       0.75      0.72      0.74       173\n",
      "           1       0.72      0.75      0.73       165\n",
      "\n",
      "    accuracy                           0.73       338\n",
      "   macro avg       0.73      0.73      0.73       338\n",
      "weighted avg       0.73      0.73      0.73       338\n",
      "\n",
      "\n"
     ]
    }
   ],
   "source": [
    "best_configuration = GridSearch(df_X_tr, df_X_val)"
   ]
  },
  {
   "cell_type": "code",
   "execution_count": 26,
   "metadata": {},
   "outputs": [
    {
     "name": "stdout",
     "output_type": "stream",
     "text": [
      "Score for train area:  0.7163636363636363\n",
      "Score for train meancurv:  0.8\n",
      "Score for train thickness:  0.7618181818181818\n",
      "Score for train volume:  0.7763636363636364\n"
     ]
    }
   ],
   "source": [
    "clfs = []\n",
    "for feature, feature_tr in zip (best_configuration, df_X_tr):\n",
    "    C = feature['data']['C']\n",
    "    warm_start = feature['data']['warm_start']\n",
    "    \n",
    "    data_name = feature_tr['name']\n",
    "    df_train = feature_tr['data']\n",
    "    \n",
    "    # create and train\n",
    "    linear_model = LogisticRegression(penalty = 'l1',\n",
    "                                       n_jobs = -1,\n",
    "                                       max_iter = 10000,\n",
    "                                       solver = 'saga',\n",
    "                                       C = C, \n",
    "                                       warm_start = warm_start)\n",
    "    \n",
    "    linear_model.fit(df_train, df_y_train['class'].values)\n",
    "    \n",
    "    #checking the score \n",
    "    print(\"Score for train \" + data_name + \": \", linear_model.score(df_train,df_y_train['class'].values))\n",
    "    \n",
    "    #saving the classificator\n",
    "    joblib.dump(linear_model, 'output/logistic_regression (optimal)' + data_name +'.pkl')\n",
    "    \n",
    "    #saving an instance  of the clf \n",
    "    clfs.append({'name' : data_name, 'data' : linear_model})"
   ]
  },
  {
   "cell_type": "markdown",
   "metadata": {},
   "source": [
    "# Confusion Matrix"
   ]
  },
  {
   "cell_type": "code",
   "execution_count": 27,
   "metadata": {},
   "outputs": [],
   "source": [
    "def plot_confusion_matrix(cm, classes, normalize = False,\n",
    "                         title = 'Confusion matrix', cmap=plt.cm.Blues):\n",
    "    \"\"\"\n",
    "    This function prints and plots the confusion matrix.\n",
    "    Normalization can be applied by setting 'normalie = True'\n",
    "    \"\"\"\n",
    "    \n",
    "    if normalize:\n",
    "        cm = cm.astype('float') / cm.sum(axis=1)[: np.newaxis]\n",
    "        print(\"Normalized confusion matrix\")\n",
    "    else:\n",
    "        print(\"Confusion matrix, without normalization\")\n",
    "    \n",
    "    print(cm)\n",
    "    \n",
    "    plt.imshow(cm, interpolation='nearest', cmap = cmap)\n",
    "    plt.title(title)\n",
    "    plt.colorbar()\n",
    "    tick_marks = np.arange(len(classes))\n",
    "    plt.xticks(tick_marks, classes, rotation = 45)\n",
    "    plt.yticks(tick_marks, classes)\n",
    "    \n",
    "    # '.2f' limits float to two decimal point\n",
    "    # 'd' number decimal\n",
    "    fmt = '.2f' if normalize else 'd' \n",
    "    \n",
    "    thresh = cm.max() / 2\n",
    "    \n",
    "    for i, j in itertools.product(range(cm.shape[0]), range(cm.shape[1])):\n",
    "        plt.text(j, i, format (cm[i,j], fmt), horizontalalignment = \"center\", verticalalignment = \"center\",\n",
    "                 color = \"white\" if cm[i,j] > thresh else \"black\")\n",
    "    \n",
    "    plt.tight_layout()\n",
    "    plt.ylabel('true label')\n",
    "    plt.xlabel('Predicted label')"
   ]
  },
  {
   "cell_type": "code",
   "execution_count": 30,
   "metadata": {
    "scrolled": true
   },
   "outputs": [
    {
     "name": "stdout",
     "output_type": "stream",
     "text": [
      "Confusion matrix, without normalization\n",
      "[[125  48]\n",
      " [ 46 119]]\n",
      "Normalized confusion matrix\n",
      "[[0.72 0.29]\n",
      " [0.27 0.72]]\n"
     ]
    },
    {
     "data": {
      "image/png": "[encoded data removed]",
      "text/plain": [
       "<Figure size 432x288 with 2 Axes>"
      ]
     },
     "metadata": {
      "needs_background": "light"
     },
     "output_type": "display_data"
    },
    {
     "data": {
      "image/png": "[encoded data removed]",
      "text/plain": [
       "<Figure size 432x288 with 2 Axes>"
      ]
     },
     "metadata": {
      "needs_background": "light"
     },
     "output_type": "display_data"
    },
    {
     "name": "stdout",
     "output_type": "stream",
     "text": [
      "Confusion matrix, without normalization\n",
      "[[116  57]\n",
      " [ 46 119]]\n",
      "Normalized confusion matrix\n",
      "[[0.67 0.35]\n",
      " [0.27 0.72]]\n"
     ]
    },
    {
     "data": {
      "image/png": "[encoded data removed]",
      "text/plain": [
       "<Figure size 432x288 with 2 Axes>"
      ]
     },
     "metadata": {
      "needs_background": "light"
     },
     "output_type": "display_data"
    },
    {
     "data": {
      "image/png": "[encoded data removed]",
      "text/plain": [
       "<Figure size 432x288 with 2 Axes>"
      ]
     },
     "metadata": {
      "needs_background": "light"
     },
     "output_type": "display_data"
    },
    {
     "name": "stdout",
     "output_type": "stream",
     "text": [
      "Confusion matrix, without normalization\n",
      "[[127  46]\n",
      " [ 43 122]]\n",
      "Normalized confusion matrix\n",
      "[[0.73 0.28]\n",
      " [0.25 0.74]]\n"
     ]
    },
    {
     "data": {
      "image/png": "[encoded data removed]",
      "text/plain": [
       "<Figure size 432x288 with 2 Axes>"
      ]
     },
     "metadata": {
      "needs_background": "light"
     },
     "output_type": "display_data"
    },
    {
     "data": {
      "image/png": "[encoded data removed]",
      "text/plain": [
       "<Figure size 432x288 with 2 Axes>"
      ]
     },
     "metadata": {
      "needs_background": "light"
     },
     "output_type": "display_data"
    },
    {
     "name": "stdout",
     "output_type": "stream",
     "text": [
      "Confusion matrix, without normalization\n",
      "[[125  48]\n",
      " [ 42 123]]\n",
      "Normalized confusion matrix\n",
      "[[0.72 0.29]\n",
      " [0.24 0.75]]\n"
     ]
    },
    {
     "data": {
      "image/png": "[encoded data removed]",
      "text/plain": [
       "<Figure size 432x288 with 2 Axes>"
      ]
     },
     "metadata": {
      "needs_background": "light"
     },
     "output_type": "display_data"
    },
    {
     "data": {
      "image/png": "[encoded data removed]",
      "text/plain": [
       "<Figure size 432x288 with 2 Axes>"
      ]
     },
     "metadata": {
      "needs_background": "light"
     },
     "output_type": "display_data"
    }
   ],
   "source": [
    "for feature, clf in zip(df_X_val, clfs):\n",
    "    data = feature['data']\n",
    "    name = feature['name']\n",
    "    clf_data = clf['data']\n",
    "    \n",
    "    # Compute Confusion matrix\n",
    "    cnf_matrix = confusion_matrix(df_y_val['class'].values, clf_data.predict(data))\n",
    "    np.set_printoptions(precision=2)\n",
    "\n",
    "    # Plot non-normalied confusion matrix\n",
    "    plt.figure()\n",
    "    plot_confusion_matrix(cnf_matrix, classes=['Weak', 'Strong'],\n",
    "                         title='confusion matrix, without normalization '+ name)\n",
    "\n",
    "    # Plot normalized confusion matrix\n",
    "    plt.figure()\n",
    "    plot_confusion_matrix(cnf_matrix, classes=['Weak', 'Strong'], normalize=True,\n",
    "                         title='normalized confusion matrix '+ name)\n",
    "    plt.show()\n"
   ]
  },
  {
   "cell_type": "markdown",
   "metadata": {},
   "source": [
    "# 3. Ranking"
   ]
  },
  {
   "cell_type": "code",
   "execution_count": 32,
   "metadata": {},
   "outputs": [
    {
     "name": "stdout",
     "output_type": "stream",
     "text": [
      "area\n",
      "[[0.11 0.01 0.   0.   0.   0.   0.   0.   0.   0.   0.11 0.   0.   0.\n",
      "  0.   0.   0.   0.   0.   0.   0.   0.   0.06 0.   0.04 0.   0.   0.\n",
      "  0.   0.   0.   0.   0.   0.01 0.01 0.   0.   0.   0.   0.   0.   0.08\n",
      "  0.02 0.   0.   0.   0.   0.   0.02 0.   0.   0.   0.   0.   0.   0.\n",
      "  0.   0.   0.   0.   0.   0.   0.17 0.   0.03 0.   0.   0.   0.   0.\n",
      "  0.   0.   0.09 0.   0.   0.   0.   0.   0.   0.   0.   0.   0.   0.\n",
      "  0.   0.   0.   0.   0.   0.   0.   0.   0.   0.06 0.   0.   0.03 0.\n",
      "  0.09 0.   0.   0.   0.   0.   0.   0.   0.   0.   0.   0.   0.   0.\n",
      "  0.   0.   0.   0.09 0.   0.   0.   0.   0.   0.   0.   0.   0.   0.\n",
      "  0.   0.   0.   0.   0.   0.   0.   0.07 0.   0.   0.   0.   0.   0.03\n",
      "  0.   0.   0.   0.   0.   0.   0.   0.  ]]\n",
      "\n",
      "meancurv\n",
      "[[ 0.   -0.23 -0.1  -0.19 -0.16 -0.24  0.   -0.02 -0.06  0.    0.02 -0.05\n",
      "  -0.21  0.   -0.    0.   -0.4  -0.24  0.06 -0.21 -0.07  0.    0.45 -0.41\n",
      "   0.05 -0.24 -0.19  0.    0.    0.    0.02  0.   -0.35  0.    0.09  0.1\n",
      "   0.17  0.07  0.   -0.04  0.16 -0.09  0.47  0.09  0.    0.    0.    0.\n",
      "  -0.15  0.    0.08  0.32  0.    0.    0.    0.02 -0.15 -0.1   0.    0.\n",
      "   0.14  0.    0.12  0.18  0.   -0.19 -0.1   0.    0.   -0.06  0.2  -0.18\n",
      "   0.17  0.16 -0.09 -0.12  0.22  0.03  0.    0.15 -0.23  0.01 -0.06  0.\n",
      "   0.03 -0.17  0.   -0.21 -0.09  0.    0.    0.    0.04  0.09 -0.11 -0.13\n",
      "   0.26  0.    0.    0.    0.1  -0.14  0.    0.   -0.27 -0.    0.    0.\n",
      "   0.15 -0.04  0.18  0.29 -0.04  0.01 -0.04  0.03  0.41  0.24  0.    0.02\n",
      "   0.17 -0.07 -0.03  0.    0.    0.   -0.07  0.    0.03  0.   -0.08  0.01\n",
      "  -0.2  -0.2   0.    0.    0.    0.13  0.15 -0.29  0.    0.   -0.2  -0.01\n",
      "   0.18  0.    0.03 -0.12]]\n",
      "\n",
      "thickness\n",
      "[[ 0.00e+00 -1.10e-01  0.00e+00  0.00e+00 -1.67e-01  0.00e+00 -7.51e-02\n",
      "   0.00e+00 -3.03e-02  0.00e+00  0.00e+00  9.60e-02 -7.26e-02  5.70e-02\n",
      "   0.00e+00  0.00e+00  1.14e-01  0.00e+00  0.00e+00  0.00e+00  0.00e+00\n",
      "  -2.32e-02  0.00e+00 -4.20e-02 -1.09e-01  0.00e+00  0.00e+00  0.00e+00\n",
      "   2.94e-03  0.00e+00  9.28e-02  0.00e+00 -2.37e-01  0.00e+00  3.14e-01\n",
      "   3.88e-02  0.00e+00  0.00e+00  0.00e+00  0.00e+00 -9.52e-02  0.00e+00\n",
      "  -1.79e-05  3.09e-02  0.00e+00  0.00e+00 -6.87e-02  0.00e+00  0.00e+00\n",
      "  -1.06e-01  2.44e-01  0.00e+00  5.43e-02  0.00e+00  0.00e+00  0.00e+00\n",
      "   0.00e+00 -6.94e-02  0.00e+00  0.00e+00  0.00e+00  6.14e-02  1.28e-01\n",
      "   0.00e+00  0.00e+00  0.00e+00  0.00e+00  0.00e+00  0.00e+00 -1.52e-01\n",
      "  -1.03e-01  0.00e+00  0.00e+00 -3.04e-02  0.00e+00  0.00e+00  0.00e+00\n",
      "   1.59e-02  0.00e+00  0.00e+00  0.00e+00 -3.02e-03  0.00e+00  9.77e-02\n",
      "   0.00e+00  0.00e+00  0.00e+00  9.91e-02 -2.17e-01  0.00e+00  0.00e+00\n",
      "   2.07e-01  0.00e+00  0.00e+00  0.00e+00 -1.09e-01  0.00e+00  0.00e+00\n",
      "   0.00e+00 -7.89e-02  3.57e-02 -1.43e-01  0.00e+00  0.00e+00  0.00e+00\n",
      "   0.00e+00  6.93e-02  3.56e-02  0.00e+00  0.00e+00  3.96e-02  0.00e+00\n",
      "   0.00e+00  0.00e+00  0.00e+00  0.00e+00 -5.20e-01  2.43e-01  2.45e-02\n",
      "   0.00e+00  8.93e-02  1.98e-01  1.64e-01  0.00e+00  3.41e-02  0.00e+00\n",
      "   5.10e-02  0.00e+00  0.00e+00  0.00e+00  0.00e+00  0.00e+00  0.00e+00\n",
      "   0.00e+00 -7.45e-02  8.56e-02  0.00e+00  1.89e-01  0.00e+00 -2.07e-01\n",
      "   0.00e+00  0.00e+00  0.00e+00  7.84e-02  0.00e+00  0.00e+00  3.05e-03\n",
      "   0.00e+00]]\n",
      "\n",
      "volume\n",
      "[[ 0.16  0.01  0.    0.   -0.06  0.    0.    0.   -0.03  0.    0.11 -0.1\n",
      "   0.    0.    0.    0.    0.07  0.08 -0.08  0.    0.    0.    0.03 -0.1\n",
      "   0.    0.    0.    0.    0.   -0.02  0.    0.   -0.18  0.    0.26  0.\n",
      "   0.    0.   -0.03 -0.02  0.    0.19  0.    0.04  0.    0.    0.    0.\n",
      "   0.    0.04  0.03  0.    0.    0.    0.    0.    0.   -0.    0.03  0.\n",
      "   0.    0.    0.34 -0.05  0.02  0.01  0.   -0.03  0.    0.   -0.    0.\n",
      "   0.   -0.07  0.    0.    0.    0.    0.    0.06  0.    0.    0.    0.\n",
      "   0.    0.    0.02  0.    0.   -0.02  0.    0.    0.    0.02  0.1   0.\n",
      "   0.1   0.    0.1   0.   -0.04 -0.01  0.    0.    0.    0.15  0.    0.\n",
      "   0.    0.1   0.    0.    0.    0.    0.    0.14 -0.14  0.    0.    0.\n",
      "  -0.03  0.    0.    0.    0.14  0.    0.02 -0.08  0.05  0.    0.    0.\n",
      "   0.01  0.13  0.    0.    0.13 -0.08  0.    0.05  0.    0.    0.    0.14\n",
      "   0.    0.18  0.   -0.08]]\n",
      "\n"
     ]
    }
   ],
   "source": [
    "for clf in clfs:\n",
    "    clf_data = clf['data']\n",
    "    name = clf['name']\n",
    "    print(name)\n",
    "    print(clf_data.coef_)\n",
    "    print()"
   ]
  },
  {
   "cell_type": "code",
   "execution_count": null,
   "metadata": {},
   "outputs": [],
   "source": []
  },
  {
   "cell_type": "markdown",
   "metadata": {},
   "source": [
    "We have to play with the parameter alpha to find a value that keeps enough of the coefficients. alpha=0 will keep them all. The default is alpha=1.0, which in this case led to all zeros. (hyperparameter tunning) greedsearch"
   ]
  },
  {
   "cell_type": "code",
   "execution_count": 127,
   "metadata": {},
   "outputs": [],
   "source": [
    "def LassoTrain(df_X_train, df_y_train):\n",
    "    data = df_X_train['data']\n",
    "    \n",
    "    clf = linear_model.LassoLars(alpha=0.001, fit_intercept=True, normalize=True, precompute='auto', max_iter=500, positive=False)\n",
    "    \n",
    "    sel_ = SelectFromModel(clf)\n",
    "    sel_.fit(data, df_y_train['class'])\n",
    "    \n",
    "    #clf.fit(data, df_y_train['class'])\n",
    "    #score = sel_.score(data, df_y_train['class'])\n",
    "\n",
    "    return sel_"
   ]
  },
  {
   "cell_type": "markdown",
   "metadata": {},
   "source": [
    "def LassoVal(df_X_train, df_y_train):\n",
    "    data = df_X_train['data']\n",
    "    clf = linear_model.LassoLars(alpha=0, fit_intercept=True, verbose=True, normalize=True, precompute='auto', max_iter=500, eps=2.220446049250313e-16, copy_X=True, fit_path=True, positive=False)\n",
    "    clf.fit(data, df_y_train['class'],Xy=None)\n",
    "    score = clf.score(data, df_y_train['class'])\n",
    "\n",
    "    return clf,score"
   ]
  },
  {
   "cell_type": "code",
   "execution_count": 128,
   "metadata": {
    "scrolled": false
   },
   "outputs": [
    {
     "name": "stdout",
     "output_type": "stream",
     "text": [
      "area:\n",
      "[ True  True False  True False False False False False False  True  True\n",
      " False False False False False False  True False False False  True False\n",
      "  True False False False False False False  True  True  True  True False\n",
      " False False False  True False  True  True  True False  True False False\n",
      "  True  True False False False False False False False  True  True False\n",
      " False False  True False  True  True False False False False False False\n",
      "  True  True False False  True False False False  True  True False False\n",
      " False False  True False False False False False False  True False  True\n",
      "  True False  True False  True False False False  True False  True False\n",
      " False False False False False False False  True False False  True False\n",
      "  True False False False  True  True  True  True  True False False False\n",
      " False  True  True False  True  True  True  True False  True False  True\n",
      " False  True False False]\n",
      "\n",
      "meancurv:\n",
      "[False  True False  True  True  True False False  True False False  True\n",
      "  True False False False  True  True False  True  True False  True  True\n",
      " False  True  True False False False False False  True False  True  True\n",
      "  True  True False  True  True  True  True  True False False False False\n",
      "  True False  True  True False False False False  True  True False False\n",
      "  True False  True  True False  True  True False False  True  True  True\n",
      "  True  True  True  True  True False False  True  True False  True False\n",
      " False  True False  True  True False False False False False False False\n",
      "  True False False False  True  True False False  True False False False\n",
      "  True  True  True  True  True False False  True  True  True False  True\n",
      "  True  True  True False False False  True False False False  True False\n",
      "  True  True False False False  True  True  True False False  True False\n",
      "  True False False  True]\n",
      "\n",
      "thickness:\n",
      "[False  True False False  True False  True False  True False False  True\n",
      "  True  True False False  True False False False False  True False  True\n",
      "  True False False False  True False  True False  True False  True  True\n",
      " False  True False False  True False  True  True False False  True False\n",
      " False  True  True False  True False False False False  True False False\n",
      " False  True  True False False  True False False False  True  True False\n",
      " False  True False False False  True  True False False  True False  True\n",
      " False False False  True  True False False  True False False False  True\n",
      " False False False  True  True  True False False False False  True  True\n",
      " False False  True False  True False False False  True  True  True False\n",
      "  True  True  True False  True False  True  True False False False False\n",
      " False False  True  True False  True False  True False False False  True\n",
      " False False  True False]\n",
      "\n",
      "volume:\n",
      "[ True  True False  True  True False False False  True False  True  True\n",
      " False False False False  True  True  True False False False  True  True\n",
      " False False False False False  True False False  True False  True False\n",
      " False False  True  True  True  True False  True False False False False\n",
      "  True  True  True False False False False False False  True  True False\n",
      " False False  True  True  True  True False  True False False False False\n",
      " False  True  True False False False False  True False False False False\n",
      " False False  True False False  True False False False  True  True  True\n",
      "  True False  True False  True  True False False False  True False False\n",
      " False  True False False  True False False  True  True False False False\n",
      "  True  True False  True  True False  True  True  True False False False\n",
      "  True  True False  True  True  True False  True False False False  True\n",
      " False  True False  True]\n",
      "\n"
     ]
    }
   ],
   "source": [
    "data_score_tr = []\n",
    "for feature in df_X_tr:\n",
    "    name = feature['name']\n",
    "    clf = LassoTrain(feature, df_y_train)\n",
    "    \n",
    "    data_score_tr.append(score_tr)\n",
    "    print(name + ':')\n",
    "    #print(lasso.coef_)\n",
    "    #print(len(clf.coef_))\n",
    "    print(clf.get_support())\n",
    "    #print(clf.predict(df_X_tr))\n",
    "    print()"
   ]
  },
  {
   "cell_type": "code",
   "execution_count": null,
   "metadata": {},
   "outputs": [],
   "source": [
    "area:\n",
    "0.39714286149269395\n",
    "\n",
    "meancurv:\n",
    "0.441590625207966\n",
    "\n",
    "thickness:\n",
    "0.4062889014862092\n",
    "\n",
    "volume:\n",
    "0.4387379453156105\n",
    "\n"
   ]
  },
  {
   "cell_type": "code",
   "execution_count": 26,
   "metadata": {},
   "outputs": [
    {
     "data": {
      "text/plain": [
       "[0.0, 0.0, 0.0, 0.0]"
      ]
     },
     "execution_count": 26,
     "metadata": {},
     "output_type": "execute_result"
    }
   ],
   "source": [
    "data_score_tr"
   ]
  },
  {
   "cell_type": "code",
   "execution_count": 24,
   "metadata": {},
   "outputs": [
    {
     "data": {
      "text/plain": [
       "(338, 148)"
      ]
     },
     "execution_count": 24,
     "metadata": {},
     "output_type": "execute_result"
    }
   ],
   "source": [
    "df_X_val = readCsvs2()\n",
    "df_X_val[0]['data'].shape"
   ]
  },
  {
   "cell_type": "code",
   "execution_count": 25,
   "metadata": {},
   "outputs": [
    {
     "data": {
      "text/plain": [
       "(338, 2)"
      ]
     },
     "execution_count": 25,
     "metadata": {},
     "output_type": "execute_result"
    }
   ],
   "source": [
    "df_y_val = pd.read_csv(PATH_DATASETS + 'Y_validate.csv')\n",
    "df_y_val.shape"
   ]
  },
  {
   "cell_type": "markdown",
   "metadata": {},
   "source": [
    "for feature in df_X_val:\n",
    "    name = feature['name']\n",
    "    clf,score_val = LassoVal(feature, df_y_tr)\n",
    "    print(name + ':')\n",
    "    #print(lasso.coef_)\n",
    "    print(score_val)\n",
    "    #print(clf.predict(df_X_tr))\n",
    "    print()"
   ]
  },
  {
   "cell_type": "code",
   "execution_count": 35,
   "metadata": {},
   "outputs": [
    {
     "data": {
      "text/plain": [
       "0.4387379453156105"
      ]
     },
     "execution_count": 35,
     "metadata": {},
     "output_type": "execute_result"
    }
   ],
   "source": [
    "score_tr"
   ]
  },
  {
   "cell_type": "code",
   "execution_count": 47,
   "metadata": {},
   "outputs": [
    {
     "ename": "IndexError",
     "evalue": "invalid index to scalar variable.",
     "output_type": "error",
     "traceback": [
      "\u001b[0;31m---------------------------------------------------------------------------\u001b[0m",
      "\u001b[0;31mIndexError\u001b[0m                                Traceback (most recent call last)",
      "\u001b[0;32m<ipython-input-47-a27a09ef6660>\u001b[0m in \u001b[0;36m<module>\u001b[0;34m\u001b[0m\n\u001b[1;32m      6\u001b[0m     \u001b[0;31m#Rf = clfs['data']\u001b[0m\u001b[0;34m\u001b[0m\u001b[0;34m\u001b[0m\u001b[0;34m\u001b[0m\u001b[0m\n\u001b[1;32m      7\u001b[0m \u001b[0;34m\u001b[0m\u001b[0m\n\u001b[0;32m----> 8\u001b[0;31m     \u001b[0my_pred_val\u001b[0m \u001b[0;34m=\u001b[0m \u001b[0mclf\u001b[0m\u001b[0;34m.\u001b[0m\u001b[0mpredict\u001b[0m\u001b[0;34m(\u001b[0m\u001b[0mdata\u001b[0m\u001b[0;34m[\u001b[0m\u001b[0mscore\u001b[0m\u001b[0;34m[\u001b[0m\u001b[0;34m'data'\u001b[0m\u001b[0;34m]\u001b[0m\u001b[0;34m.\u001b[0m\u001b[0mindex\u001b[0m\u001b[0;34m.\u001b[0m\u001b[0mvalues\u001b[0m\u001b[0;34m]\u001b[0m\u001b[0;34m.\u001b[0m\u001b[0mcopy\u001b[0m\u001b[0;34m(\u001b[0m\u001b[0;34m)\u001b[0m\u001b[0;34m)\u001b[0m\u001b[0;34m\u001b[0m\u001b[0;34m\u001b[0m\u001b[0m\n\u001b[0m\u001b[1;32m      9\u001b[0m     \u001b[0my_pred_vals\u001b[0m\u001b[0;34m.\u001b[0m\u001b[0mappend\u001b[0m\u001b[0;34m(\u001b[0m\u001b[0;34m{\u001b[0m\u001b[0;34m'name'\u001b[0m\u001b[0;34m:\u001b[0m \u001b[0mname\u001b[0m\u001b[0;34m,\u001b[0m \u001b[0;34m'data'\u001b[0m\u001b[0;34m:\u001b[0m \u001b[0my_pred_val\u001b[0m\u001b[0;34m}\u001b[0m\u001b[0;34m)\u001b[0m\u001b[0;34m\u001b[0m\u001b[0;34m\u001b[0m\u001b[0m\n\u001b[1;32m     10\u001b[0m     \u001b[0mprint\u001b[0m\u001b[0;34m(\u001b[0m\u001b[0;34m\"accuracy score test: \"\u001b[0m \u001b[0;34m+\u001b[0m \u001b[0mname\u001b[0m\u001b[0;34m+\u001b[0m\u001b[0;34m'\\n'\u001b[0m\u001b[0;34m)\u001b[0m\u001b[0;34m\u001b[0m\u001b[0;34m\u001b[0m\u001b[0m\n",
      "\u001b[0;31mIndexError\u001b[0m: invalid index to scalar variable."
     ]
    }
   ],
   "source": [
    "y_pred_vals = []\n",
    "for feature, score in zip(df_X_val, data_score_tr):\n",
    "    \n",
    "    data = feature['data']\n",
    "    name = feature['name']\n",
    "    #Rf = clfs['data']\n",
    "    \n",
    "    y_pred_val = clf.predict(data[score['data'].index.values].copy())\n",
    "    y_pred_vals.append({'name': name, 'data': y_pred_val})\n",
    "    print(\"accuracy score test: \" + name+'\\n')\n",
    "    print(accuracy_score(y_pred_val, df_y_val['class'].values))"
   ]
  },
  {
   "cell_type": "code",
   "execution_count": 34,
   "metadata": {},
   "outputs": [
    {
     "ename": "TypeError",
     "evalue": "'LassoLars' object is not iterable",
     "output_type": "error",
     "traceback": [
      "\u001b[0;31m---------------------------------------------------------------------------\u001b[0m",
      "\u001b[0;31mTypeError\u001b[0m                                 Traceback (most recent call last)",
      "\u001b[0;32m<ipython-input-34-f1010855b3c5>\u001b[0m in \u001b[0;36m<module>\u001b[0;34m\u001b[0m\n\u001b[0;32m----> 1\u001b[0;31m \u001b[0;32mfor\u001b[0m \u001b[0mclfs\u001b[0m \u001b[0;32min\u001b[0m \u001b[0mclf\u001b[0m\u001b[0;34m:\u001b[0m\u001b[0;34m\u001b[0m\u001b[0;34m\u001b[0m\u001b[0m\n\u001b[0m\u001b[1;32m      2\u001b[0m     \u001b[0mRf\u001b[0m \u001b[0;34m=\u001b[0m \u001b[0mclfs\u001b[0m\u001b[0;34m[\u001b[0m\u001b[0;34m'data'\u001b[0m\u001b[0;34m]\u001b[0m\u001b[0;34m\u001b[0m\u001b[0;34m\u001b[0m\u001b[0m\n\u001b[1;32m      3\u001b[0m     \u001b[0mprint\u001b[0m\u001b[0;34m(\u001b[0m\u001b[0mRf\u001b[0m\u001b[0;34m)\u001b[0m\u001b[0;34m\u001b[0m\u001b[0;34m\u001b[0m\u001b[0m\n",
      "\u001b[0;31mTypeError\u001b[0m: 'LassoLars' object is not iterable"
     ]
    }
   ],
   "source": [
    "for clfs in clf:\n",
    "    Rf = clfs['data']\n",
    "    print(Rf)"
   ]
  },
  {
   "cell_type": "code",
   "execution_count": null,
   "metadata": {},
   "outputs": [],
   "source": []
  }
 ],
 "metadata": {
  "kernelspec": {
   "display_name": "Python 3",
   "language": "python",
   "name": "python3"
  },
  "language_info": {
   "codemirror_mode": {
    "name": "ipython",
    "version": 3
   },
   "file_extension": ".py",
   "mimetype": "text/x-python",
   "name": "python",
   "nbconvert_exporter": "python",
   "pygments_lexer": "ipython3",
   "version": "3.7.4"
  }
 },
 "nbformat": 4,
 "nbformat_minor": 2
}
