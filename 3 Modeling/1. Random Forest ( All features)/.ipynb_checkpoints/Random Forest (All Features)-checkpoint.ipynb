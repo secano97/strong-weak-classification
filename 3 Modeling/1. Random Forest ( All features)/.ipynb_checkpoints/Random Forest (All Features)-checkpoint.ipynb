{
 "cells": [
  {
   "cell_type": "markdown",
   "metadata": {},
   "source": [
    "# <center> <b> <h1> Random Forest (All Features) </h1></b></center>"
   ]
  },
  {
   "cell_type": "code",
   "execution_count": 6,
   "metadata": {},
   "outputs": [],
   "source": [
    "from sklearn.ensemble import RandomForestClassifier\n",
    "from sklearn.externals import joblib\n",
    "\n",
    "import pandas as pd\n",
    "\n",
    "PATH_DATASETS = \"../../2_Data_preparation/2_Split_Raw_Datasets/output/\"\n",
    "PATH_OUTPUT = \"output/\""
   ]
  },
  {
   "cell_type": "code",
   "execution_count": 7,
   "metadata": {},
   "outputs": [],
   "source": [
    "def readCsvs():\n",
    "    datasets = []\n",
    "    constant1 = 'X_'\n",
    "    constant2 = '_train'\n",
    "    features = ['area', 'meancurv', 'thickness', 'volume']\n",
    "\n",
    "    for feature in features:\n",
    "        df = pd.read_csv(PATH_DATASETS + constant1 + feature + constant2 +'.csv', index_col=0)\n",
    "        datasets.append({'name': feature, 'data': df})\n",
    "    return datasets"
   ]
  },
  {
   "cell_type": "code",
   "execution_count": 8,
   "metadata": {},
   "outputs": [],
   "source": [
    "def TrainRandomForest(df_X_train, df_y_train):\n",
    "    data = df_X_train['data']\n",
    "    # create a random forest classifier\n",
    "    # n_estimators : The number of trees in the forest.\n",
    "    # n_jobs = -1 : use all the processors\n",
    "    # oob_score = true: Whether to use out-of-bag samples to estimate the generalization accuracy.\n",
    "    # verbose  = Controls the verbosity when fitting and predicting.\n",
    "    clf = RandomForestClassifier(n_estimators=2200, random_state=0, n_jobs=-1, oob_score=True, verbose=True)\n",
    "    # Train the classifier\n",
    "    oob_score = clf.fit(data, df_y_train['class'].values)\n",
    "    \n",
    "    return clf, oob_score"
   ]
  },
  {
   "cell_type": "markdown",
   "metadata": {},
   "source": [
    "# 1. Prepare the data"
   ]
  },
  {
   "cell_type": "code",
   "execution_count": 9,
   "metadata": {},
   "outputs": [
    {
     "data": {
      "text/plain": [
       "(550, 148)"
      ]
     },
     "execution_count": 9,
     "metadata": {},
     "output_type": "execute_result"
    }
   ],
   "source": [
    "df_X_tr = readCsvs()\n",
    "df_X_tr[0]['data'].shape"
   ]
  },
  {
   "cell_type": "code",
   "execution_count": 10,
   "metadata": {},
   "outputs": [
    {
     "data": {
      "text/plain": [
       "(550, 2)"
      ]
     },
     "execution_count": 10,
     "metadata": {},
     "output_type": "execute_result"
    }
   ],
   "source": [
    "df_y_tr = pd.read_csv(PATH_DATASETS + 'Y_train.csv')\n",
    "df_y_tr.shape"
   ]
  },
  {
   "cell_type": "markdown",
   "metadata": {},
   "source": [
    "# 1. Train The Random Forests Classifiers"
   ]
  },
  {
   "cell_type": "markdown",
   "metadata": {},
   "source": [
    "# Explanation what is a out of bag (OOB) Score.\n",
    "\n",
    "https://scikit-learn.org/stable/auto_examples/ensemble/plot_ensemble_oob.html\n",
    "\n",
    "OOB score not is the same that OOB error, for calculate the error is  1 - OOB_score"
   ]
  },
  {
   "cell_type": "code",
   "execution_count": 11,
   "metadata": {},
   "outputs": [
    {
     "name": "stderr",
     "output_type": "stream",
     "text": [
      "[Parallel(n_jobs=-1)]: Using backend ThreadingBackend with 4 concurrent workers.\n",
      "[Parallel(n_jobs=-1)]: Done  42 tasks      | elapsed:    0.2s\n",
      "[Parallel(n_jobs=-1)]: Done 192 tasks      | elapsed:    0.5s\n",
      "[Parallel(n_jobs=-1)]: Done 442 tasks      | elapsed:    1.0s\n",
      "[Parallel(n_jobs=-1)]: Done 792 tasks      | elapsed:    1.7s\n",
      "[Parallel(n_jobs=-1)]: Done 1242 tasks      | elapsed:    2.5s\n",
      "[Parallel(n_jobs=-1)]: Done 1792 tasks      | elapsed:    3.7s\n",
      "[Parallel(n_jobs=-1)]: Done 2200 out of 2200 | elapsed:    4.6s finished\n"
     ]
    },
    {
     "name": "stdout",
     "output_type": "stream",
     "text": [
      "area: \n",
      "0.6872727272727273\n"
     ]
    },
    {
     "name": "stderr",
     "output_type": "stream",
     "text": [
      "[Parallel(n_jobs=-1)]: Using backend ThreadingBackend with 4 concurrent workers.\n",
      "[Parallel(n_jobs=-1)]: Done  42 tasks      | elapsed:    0.1s\n",
      "[Parallel(n_jobs=-1)]: Done 192 tasks      | elapsed:    0.3s\n",
      "[Parallel(n_jobs=-1)]: Done 442 tasks      | elapsed:    0.9s\n",
      "[Parallel(n_jobs=-1)]: Done 792 tasks      | elapsed:    1.5s\n",
      "[Parallel(n_jobs=-1)]: Done 1242 tasks      | elapsed:    2.2s\n",
      "[Parallel(n_jobs=-1)]: Done 1792 tasks      | elapsed:    3.2s\n",
      "[Parallel(n_jobs=-1)]: Done 2200 out of 2200 | elapsed:    4.0s finished\n"
     ]
    },
    {
     "name": "stdout",
     "output_type": "stream",
     "text": [
      "meancurv: \n",
      "0.6345454545454545\n"
     ]
    },
    {
     "name": "stderr",
     "output_type": "stream",
     "text": [
      "[Parallel(n_jobs=-1)]: Using backend ThreadingBackend with 4 concurrent workers.\n",
      "[Parallel(n_jobs=-1)]: Done  42 tasks      | elapsed:    0.1s\n",
      "[Parallel(n_jobs=-1)]: Done 192 tasks      | elapsed:    0.4s\n",
      "[Parallel(n_jobs=-1)]: Done 442 tasks      | elapsed:    0.8s\n",
      "[Parallel(n_jobs=-1)]: Done 792 tasks      | elapsed:    1.5s\n",
      "[Parallel(n_jobs=-1)]: Done 1242 tasks      | elapsed:    2.3s\n",
      "[Parallel(n_jobs=-1)]: Done 1792 tasks      | elapsed:    3.3s\n",
      "[Parallel(n_jobs=-1)]: Done 2200 out of 2200 | elapsed:    4.1s finished\n"
     ]
    },
    {
     "name": "stdout",
     "output_type": "stream",
     "text": [
      "thickness: \n",
      "0.6454545454545455\n"
     ]
    },
    {
     "name": "stderr",
     "output_type": "stream",
     "text": [
      "[Parallel(n_jobs=-1)]: Using backend ThreadingBackend with 4 concurrent workers.\n",
      "[Parallel(n_jobs=-1)]: Done  42 tasks      | elapsed:    0.1s\n",
      "[Parallel(n_jobs=-1)]: Done 192 tasks      | elapsed:    0.4s\n",
      "[Parallel(n_jobs=-1)]: Done 442 tasks      | elapsed:    1.0s\n",
      "[Parallel(n_jobs=-1)]: Done 792 tasks      | elapsed:    1.8s\n",
      "[Parallel(n_jobs=-1)]: Done 1242 tasks      | elapsed:    2.8s\n",
      "[Parallel(n_jobs=-1)]: Done 1792 tasks      | elapsed:    3.9s\n",
      "[Parallel(n_jobs=-1)]: Done 2200 out of 2200 | elapsed:    4.8s finished\n"
     ]
    },
    {
     "name": "stdout",
     "output_type": "stream",
     "text": [
      "volume: \n",
      "0.6945454545454546\n"
     ]
    }
   ],
   "source": [
    "for feature in df_X_tr:\n",
    "    name = feature['name']\n",
    "    clf, oob_score = TrainRandomForest(feature, df_y_tr)\n",
    "    print(name + ': ')\n",
    "    print(oob_score.oob_score_)\n",
    "    \n",
    "    joblib.dump(clf,'output/RandomForest (AllFeatures) '+ name +'.pkl')"
   ]
  },
  {
   "cell_type": "code",
   "execution_count": null,
   "metadata": {},
   "outputs": [],
   "source": []
  }
 ],
 "metadata": {
  "kernelspec": {
   "display_name": "Python 3",
   "language": "python",
   "name": "python3"
  },
  "language_info": {
   "codemirror_mode": {
    "name": "ipython",
    "version": 3
   },
   "file_extension": ".py",
   "mimetype": "text/x-python",
   "name": "python",
   "nbconvert_exporter": "python",
   "pygments_lexer": "ipython3",
   "version": "3.7.4"
  }
 },
 "nbformat": 4,
 "nbformat_minor": 2
}
