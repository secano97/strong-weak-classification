{
 "cells": [
  {
   "cell_type": "markdown",
   "metadata": {},
   "source": [
    "# <center> <b> <h1> Random Forest (All Features) </h1></b></center>"
   ]
  },
  {
   "cell_type": "code",
   "execution_count": 12,
   "metadata": {},
   "outputs": [],
   "source": [
    "from sklearn.ensemble import RandomForestClassifier\n",
    "from sklearn.metrics import accuracy_score\n",
    "import joblib\n",
    "\n",
    "import pandas as pd\n",
    "\n",
    "PATH_DATASETS = \"../../2_Data_preparation/2_Split_Raw_Datasets/output/\"\n",
    "PATH_OUTPUT = \"output/\""
   ]
  },
  {
   "cell_type": "code",
   "execution_count": 2,
   "metadata": {},
   "outputs": [],
   "source": [
    "def readCsvs(split):\n",
    "    datasets = []\n",
    "    constant1 = 'X_'\n",
    "    constant2 = '_' + split\n",
    "    features = ['area', 'meancurv', 'thickness', 'volume']\n",
    "\n",
    "    for feature in features:\n",
    "        df = pd.read_csv(PATH_DATASETS + constant1 + feature + constant2 +'.csv', index_col=0)\n",
    "        datasets.append({'name': feature, 'data': df})\n",
    "    return datasets"
   ]
  },
  {
   "cell_type": "code",
   "execution_count": 10,
   "metadata": {},
   "outputs": [],
   "source": [
    "def TrainRandomForest(df_X_train, df_y_train):\n",
    "    data = df_X_train['data']\n",
    "    # create a random forest classifier\n",
    "    # n_estimators : The number of trees in the forest.\n",
    "    # n_jobs = -1 : use all the processors\n",
    "    # oob_score = true: Whether to use out-of-bag samples to estimate the generalization accuracy.\n",
    "    # verbose  = Controls the verbosity when fitting and predicting.\n",
    "    clf = RandomForestClassifier(n_estimators=2200, random_state=0, n_jobs=-1, oob_score=True, verbose=False)\n",
    "    # Train the classifier\n",
    "    oob_score = clf.fit(data, df_y_train['class'].values)\n",
    "    \n",
    "    return clf, oob_score"
   ]
  },
  {
   "cell_type": "markdown",
   "metadata": {},
   "source": [
    "# 1. Prepare the data"
   ]
  },
  {
   "cell_type": "code",
   "execution_count": 4,
   "metadata": {},
   "outputs": [
    {
     "data": {
      "text/plain": [
       "(550, 148)"
      ]
     },
     "execution_count": 4,
     "metadata": {},
     "output_type": "execute_result"
    }
   ],
   "source": [
    "df_X_tr = readCsvs('train')\n",
    "df_X_tr[0]['data'].shape"
   ]
  },
  {
   "cell_type": "code",
   "execution_count": 5,
   "metadata": {},
   "outputs": [
    {
     "data": {
      "text/plain": [
       "(550, 2)"
      ]
     },
     "execution_count": 5,
     "metadata": {},
     "output_type": "execute_result"
    }
   ],
   "source": [
    "df_y_tr = pd.read_csv(PATH_DATASETS + 'Y_train.csv')\n",
    "df_y_tr.shape"
   ]
  },
  {
   "cell_type": "code",
   "execution_count": 6,
   "metadata": {},
   "outputs": [
    {
     "data": {
      "text/plain": [
       "(338, 148)"
      ]
     },
     "execution_count": 6,
     "metadata": {},
     "output_type": "execute_result"
    }
   ],
   "source": [
    "df_X_val = readCsvs('validate')\n",
    "df_X_val[0]['data'].shape"
   ]
  },
  {
   "cell_type": "code",
   "execution_count": 7,
   "metadata": {},
   "outputs": [
    {
     "data": {
      "text/plain": [
       "(338, 1)"
      ]
     },
     "execution_count": 7,
     "metadata": {},
     "output_type": "execute_result"
    }
   ],
   "source": [
    "df_y_val = pd.read_csv(PATH_DATASETS + 'Y_validate.csv', index_col = 0)\n",
    "df_y_val.shape"
   ]
  },
  {
   "cell_type": "markdown",
   "metadata": {},
   "source": [
    "# 1. Train The Random Forests Classifiers"
   ]
  },
  {
   "cell_type": "markdown",
   "metadata": {},
   "source": [
    "# Explanation what is a out of bag (OOB) Score.\n",
    "\n",
    "https://scikit-learn.org/stable/auto_examples/ensemble/plot_ensemble_oob.html\n",
    "\n",
    "OOB score not is the same that OOB error, for calculate the error is  1 - OOB_score"
   ]
  },
  {
   "cell_type": "code",
   "execution_count": 16,
   "metadata": {},
   "outputs": [
    {
     "name": "stdout",
     "output_type": "stream",
     "text": [
      "accuracy trainarea: \n",
      "1.0\n",
      "obb_scorearea: \n",
      "0.6872727272727273\n",
      "accuracy score val: area\n",
      "0.7189349112426036\n",
      "\n",
      "accuracy trainmeancurv: \n",
      "1.0\n",
      "obb_scoremeancurv: \n",
      "0.6345454545454545\n",
      "accuracy score val: meancurv\n",
      "0.6804733727810651\n",
      "\n",
      "accuracy trainthickness: \n",
      "1.0\n",
      "obb_scorethickness: \n",
      "0.6454545454545455\n",
      "accuracy score val: thickness\n",
      "0.7011834319526628\n",
      "\n",
      "accuracy trainvolume: \n",
      "1.0\n",
      "obb_scorevolume: \n",
      "0.6945454545454546\n",
      "accuracy score val: volume\n",
      "0.7307692307692307\n",
      "\n"
     ]
    }
   ],
   "source": [
    "for feature_tr, feature_val in zip(df_X_tr, df_X_val):\n",
    "    name = feature_tr['name']\n",
    "    clf, oob_score = TrainRandomForest(feature_tr, df_y_tr)\n",
    "    data = feature_val['data']\n",
    "    print(\"accuracy train\" + name + ': ')\n",
    "    print(clf.score(feature_tr['data'], df_y_tr['class'].values))\n",
    "    print(\"obb_score\" + name + ': ')\n",
    "    print(oob_score.oob_score_)\n",
    "    \n",
    "    y_pred_test = clf.predict(data)\n",
    "    print(\"accuracy score val: \" + name)\n",
    "    print(accuracy_score(y_pred_test, df_y_val['class'].values))\n",
    "    print()\n",
    "    \n",
    "    joblib.dump(clf,'output/RandomForest (AllFeatures) '+ name +'.pkl')"
   ]
  },
  {
   "cell_type": "code",
   "execution_count": null,
   "metadata": {},
   "outputs": [],
   "source": []
  }
 ],
 "metadata": {
  "kernelspec": {
   "display_name": "Python 3",
   "language": "python",
   "name": "python3"
  },
  "language_info": {
   "codemirror_mode": {
    "name": "ipython",
    "version": 3
   },
   "file_extension": ".py",
   "mimetype": "text/x-python",
   "name": "python",
   "nbconvert_exporter": "python",
   "pygments_lexer": "ipython3",
   "version": "3.7.4"
  }
 },
 "nbformat": 4,
 "nbformat_minor": 2
}
