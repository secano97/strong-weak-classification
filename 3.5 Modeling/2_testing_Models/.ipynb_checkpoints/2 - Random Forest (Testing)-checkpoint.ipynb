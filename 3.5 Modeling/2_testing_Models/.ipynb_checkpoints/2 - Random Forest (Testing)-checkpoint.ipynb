{
 "cells": [
  {
   "cell_type": "markdown",
   "metadata": {},
   "source": [
    "# <center> <b> <h1> Random Forest (Testing) </h1></b></center> "
   ]
  },
  {
   "cell_type": "markdown",
   "metadata": {},
   "source": [
    "<h1>Explanation about it: <h1>\n",
    "    <p style=\"font-weight: normal; font-size: 18px; text-align: justify;\"> \n",
    "        in this file the goal is evaluate the accuracy final of the 4 models with the test dataset\n",
    "        that has not been used in al the process in order to avoid the overfitting \n",
    "    </p>\n",
    "  "
   ]
  },
  {
   "cell_type": "code",
   "execution_count": 3,
   "metadata": {},
   "outputs": [],
   "source": [
    "from sklearn.metrics import accuracy_score\n",
    "from sklearn.ensemble import RandomForestClassifier\n",
    "import joblib\n",
    "import pandas as pd\n",
    "\n",
    "import numpy as np \n",
    "\n",
    "PATH_DATASETS = \"../../2_Data_preparation/2_Split_Raw_Datasets/output/\"\n",
    "PATH_PKL = \"../../3.5 Modeling/1_2_hyper_parameter_tunning/output/\"\n",
    "PATH_SIGNIFICANCE = \"../../3 Modeling/2. Random Forest (significance Score)/output/\""
   ]
  },
  {
   "cell_type": "code",
   "execution_count": 4,
   "metadata": {},
   "outputs": [],
   "source": [
    "def readCsvs(split):\n",
    "    datasets = []\n",
    "    constant1 = 'X_'\n",
    "    constant2 = '_' + split\n",
    "    features = ['area', 'meancurv', 'thickness', 'volume']\n",
    "\n",
    "    for feature in features:\n",
    "        df = pd.read_csv(PATH_DATASETS + constant1 + feature + constant2 +'.csv', index_col=0)\n",
    "        datasets.append({'name': feature, 'data': df})\n",
    "    return datasets"
   ]
  },
  {
   "cell_type": "code",
   "execution_count": 5,
   "metadata": {},
   "outputs": [],
   "source": [
    "def number_of_rois(name):\n",
    "    \n",
    "    df_number_of_features = pd.read_csv(PATH_SIGNIFICANCE \n",
    "                                        + \"Random Forest Best Number Of Features.csv\", index_col=0)\n",
    "    \n",
    "    features = ['area','meancurv', 'thickness', 'volume']\n",
    "    number_of_feature = df_number_of_features['quantity'].values\n",
    "\n",
    "    x = 0 \n",
    "    result = 0 \n",
    "    for feature in features:\n",
    "        if feature == name:\n",
    "             result = int(number_of_feature[x])\n",
    "        x += 1\n",
    "    return result"
   ]
  },
  {
   "cell_type": "code",
   "execution_count": 6,
   "metadata": {},
   "outputs": [],
   "source": [
    "#number_of_rois('area')"
   ]
  },
  {
   "cell_type": "code",
   "execution_count": 7,
   "metadata": {},
   "outputs": [],
   "source": [
    "def readSignificances():\n",
    "    df_number_of_features = pd.read_csv(PATH_SIGNIFICANCE \n",
    "                                        + \"Random Forest Best Number Of Features.csv\", index_col=0)\n",
    "    \n",
    "    datasets = []\n",
    "    constant1 = 'Random Forest (AllFeatures - Significance - '\n",
    "    constant2 = ')'\n",
    "    features = ['area','meancurv', 'thickness', 'volume']\n",
    "    number_of_feature = df_number_of_features['quantity'].values\n",
    "\n",
    "    for feature, number in zip(features, number_of_feature):\n",
    "        df = pd.read_csv(PATH_SIGNIFICANCE + constant1 + str(int(number)) + constant2 \n",
    "                         + feature +'.csv', index_col=0)\n",
    "        datasets.append({'name': feature[0], 'data': df})\n",
    "    return datasets"
   ]
  },
  {
   "cell_type": "code",
   "execution_count": 55,
   "metadata": {},
   "outputs": [],
   "source": [
    "def readClf():\n",
    "    randomForests = []\n",
    "    constant1 = \"Random Forest (hyper parameter tuning)_\"\n",
    "    features = ['area', 'meancurv', 'thickness', 'volume']\n",
    "\n",
    "    for feature in features:\n",
    "        number_rois = number_of_rois(feature)\n",
    "        clf = joblib.load(PATH_PKL + constant1 + str(number_rois) + constant2 +feature + '.pkl')\n",
    "        randomForests.append({'name': feature, 'data': clf})\n",
    "        \n",
    "    return randomForests"
   ]
  },
  {
   "cell_type": "markdown",
   "metadata": {},
   "source": [
    "# 1. Prepare the data"
   ]
  },
  {
   "cell_type": "code",
   "execution_count": 56,
   "metadata": {},
   "outputs": [
    {
     "data": {
      "text/plain": [
       "(220, 148)"
      ]
     },
     "execution_count": 56,
     "metadata": {},
     "output_type": "execute_result"
    }
   ],
   "source": [
    "df_X_ts = readCsvs(\"test\")\n",
    "df_X_ts[0]['data'].shape"
   ]
  },
  {
   "cell_type": "code",
   "execution_count": 57,
   "metadata": {},
   "outputs": [
    {
     "data": {
      "text/plain": [
       "(220, 1)"
      ]
     },
     "execution_count": 57,
     "metadata": {},
     "output_type": "execute_result"
    }
   ],
   "source": [
    "df_y_ts = pd.read_csv(PATH_DATASETS + 'Y_test.csv', index_col = 0)\n",
    "df_y_ts.shape"
   ]
  },
  {
   "cell_type": "code",
   "execution_count": 58,
   "metadata": {},
   "outputs": [
    {
     "data": {
      "text/html": [
       "<div>\n",
       "<style scoped>\n",
       "    .dataframe tbody tr th:only-of-type {\n",
       "        vertical-align: middle;\n",
       "    }\n",
       "\n",
       "    .dataframe tbody tr th {\n",
       "        vertical-align: top;\n",
       "    }\n",
       "\n",
       "    .dataframe thead th {\n",
       "        text-align: right;\n",
       "    }\n",
       "</style>\n",
       "<table border=\"1\" class=\"dataframe\">\n",
       "  <thead>\n",
       "    <tr style=\"text-align: right;\">\n",
       "      <th></th>\n",
       "      <th>Significance</th>\n",
       "    </tr>\n",
       "    <tr>\n",
       "      <th>Name</th>\n",
       "      <th></th>\n",
       "    </tr>\n",
       "  </thead>\n",
       "  <tbody>\n",
       "    <tr>\n",
       "      <th>rh_G_and_S_cingul-Ant_area</th>\n",
       "      <td>0.020898</td>\n",
       "    </tr>\n",
       "    <tr>\n",
       "      <th>lh_S_temporal_sup_area</th>\n",
       "      <td>0.018332</td>\n",
       "    </tr>\n",
       "    <tr>\n",
       "      <th>rh_G_temporal_middle_area</th>\n",
       "      <td>0.017275</td>\n",
       "    </tr>\n",
       "    <tr>\n",
       "      <th>rh_S_temporal_sup_area</th>\n",
       "      <td>0.015924</td>\n",
       "    </tr>\n",
       "    <tr>\n",
       "      <th>lh_G_cuneus_area</th>\n",
       "      <td>0.015085</td>\n",
       "    </tr>\n",
       "  </tbody>\n",
       "</table>\n",
       "</div>"
      ],
      "text/plain": [
       "                            Significance\n",
       "Name                                    \n",
       "rh_G_and_S_cingul-Ant_area      0.020898\n",
       "lh_S_temporal_sup_area          0.018332\n",
       "rh_G_temporal_middle_area       0.017275\n",
       "rh_S_temporal_sup_area          0.015924\n",
       "lh_G_cuneus_area                0.015085"
      ]
     },
     "execution_count": 58,
     "metadata": {},
     "output_type": "execute_result"
    }
   ],
   "source": [
    "Significances = readSignificances()\n",
    "Significances[0]['data'].head()"
   ]
  },
  {
   "cell_type": "markdown",
   "metadata": {},
   "source": [
    "# 2. prepare the Clfs"
   ]
  },
  {
   "cell_type": "code",
   "execution_count": 59,
   "metadata": {},
   "outputs": [],
   "source": [
    "clfs = readClf()"
   ]
  },
  {
   "cell_type": "markdown",
   "metadata": {},
   "source": [
    "# 3. Testing"
   ]
  },
  {
   "cell_type": "code",
   "execution_count": 60,
   "metadata": {},
   "outputs": [
    {
     "name": "stderr",
     "output_type": "stream",
     "text": [
      "[Parallel(n_jobs=4)]: Using backend ThreadingBackend with 4 concurrent workers.\n",
      "[Parallel(n_jobs=4)]: Done  42 tasks      | elapsed:    0.0s\n",
      "[Parallel(n_jobs=4)]: Done 192 tasks      | elapsed:    0.1s\n",
      "[Parallel(n_jobs=4)]: Done 442 tasks      | elapsed:    0.2s\n",
      "[Parallel(n_jobs=4)]: Done 792 tasks      | elapsed:    0.3s\n",
      "[Parallel(n_jobs=4)]: Done 1001 out of 1001 | elapsed:    0.4s finished\n",
      "[Parallel(n_jobs=4)]: Using backend ThreadingBackend with 4 concurrent workers.\n",
      "[Parallel(n_jobs=4)]: Done  42 tasks      | elapsed:    0.0s\n"
     ]
    },
    {
     "name": "stdout",
     "output_type": "stream",
     "text": [
      "accuracy score test: area\n",
      "\n",
      "0.7454545454545455\n"
     ]
    },
    {
     "name": "stderr",
     "output_type": "stream",
     "text": [
      "[Parallel(n_jobs=4)]: Done 192 tasks      | elapsed:    0.1s\n",
      "[Parallel(n_jobs=4)]: Done 442 tasks      | elapsed:    0.2s\n",
      "[Parallel(n_jobs=4)]: Done 792 tasks      | elapsed:    0.3s\n",
      "[Parallel(n_jobs=4)]: Done 1242 tasks      | elapsed:    0.4s\n",
      "[Parallel(n_jobs=4)]: Done 1792 tasks      | elapsed:    0.6s\n",
      "[Parallel(n_jobs=4)]: Done 2442 tasks      | elapsed:    0.7s\n",
      "[Parallel(n_jobs=4)]: Done 3192 tasks      | elapsed:    0.9s\n",
      "[Parallel(n_jobs=4)]: Done 4042 tasks      | elapsed:    1.2s\n",
      "[Parallel(n_jobs=4)]: Done 4992 tasks      | elapsed:    1.5s\n",
      "[Parallel(n_jobs=4)]: Done 6042 tasks      | elapsed:    1.8s\n",
      "[Parallel(n_jobs=4)]: Done 7192 tasks      | elapsed:    2.2s\n",
      "[Parallel(n_jobs=4)]: Done 8442 tasks      | elapsed:    2.7s\n",
      "[Parallel(n_jobs=4)]: Done 9792 tasks      | elapsed:    3.2s\n",
      "[Parallel(n_jobs=4)]: Done 10001 out of 10001 | elapsed:    3.3s finished\n",
      "[Parallel(n_jobs=4)]: Using backend ThreadingBackend with 4 concurrent workers.\n",
      "[Parallel(n_jobs=4)]: Done  42 tasks      | elapsed:    0.0s\n"
     ]
    },
    {
     "name": "stdout",
     "output_type": "stream",
     "text": [
      "accuracy score test: meancurv\n",
      "\n",
      "0.7\n"
     ]
    },
    {
     "name": "stderr",
     "output_type": "stream",
     "text": [
      "[Parallel(n_jobs=4)]: Done 192 tasks      | elapsed:    0.1s\n",
      "[Parallel(n_jobs=4)]: Done 442 tasks      | elapsed:    0.2s\n",
      "[Parallel(n_jobs=4)]: Done 751 out of 751 | elapsed:    0.2s finished\n"
     ]
    },
    {
     "name": "stdout",
     "output_type": "stream",
     "text": [
      "accuracy score test: thickness\n",
      "\n",
      "0.6863636363636364\n"
     ]
    },
    {
     "name": "stderr",
     "output_type": "stream",
     "text": [
      "[Parallel(n_jobs=4)]: Using backend ThreadingBackend with 4 concurrent workers.\n",
      "[Parallel(n_jobs=4)]: Done  42 tasks      | elapsed:    0.0s\n",
      "[Parallel(n_jobs=4)]: Done 192 tasks      | elapsed:    0.1s\n",
      "[Parallel(n_jobs=4)]: Done 442 tasks      | elapsed:    0.1s\n",
      "[Parallel(n_jobs=4)]: Done 792 tasks      | elapsed:    0.2s\n",
      "[Parallel(n_jobs=4)]: Done 1242 tasks      | elapsed:    0.3s\n",
      "[Parallel(n_jobs=4)]: Done 1792 tasks      | elapsed:    0.5s\n",
      "[Parallel(n_jobs=4)]: Done 2442 tasks      | elapsed:    0.7s\n",
      "[Parallel(n_jobs=4)]: Done 3192 tasks      | elapsed:    0.9s\n",
      "[Parallel(n_jobs=4)]: Done 4042 tasks      | elapsed:    1.2s\n",
      "[Parallel(n_jobs=4)]: Done 4992 tasks      | elapsed:    1.4s\n",
      "[Parallel(n_jobs=4)]: Done 6042 tasks      | elapsed:    1.7s\n",
      "[Parallel(n_jobs=4)]: Done 7192 tasks      | elapsed:    2.1s\n",
      "[Parallel(n_jobs=4)]: Done 8442 tasks      | elapsed:    2.6s\n"
     ]
    },
    {
     "name": "stdout",
     "output_type": "stream",
     "text": [
      "accuracy score test: volume\n",
      "\n",
      "0.7090909090909091\n"
     ]
    },
    {
     "name": "stderr",
     "output_type": "stream",
     "text": [
      "[Parallel(n_jobs=4)]: Done 9792 tasks      | elapsed:    2.9s\n",
      "[Parallel(n_jobs=4)]: Done 10001 out of 10001 | elapsed:    3.0s finished\n"
     ]
    }
   ],
   "source": [
    "y_pred_vals = []\n",
    "for feature, clf, significance in zip(df_X_ts, clfs, Significances):\n",
    "    \n",
    "    data = feature['data']\n",
    "    name = feature['name']\n",
    "    Rf = clf['data']\n",
    "    \n",
    "    y_pred_val = Rf.predict(data[significance['data'].index.values].copy())\n",
    "    y_pred_vals.append({'name': name, 'data': y_pred_val})\n",
    "    print(\"accuracy score test: \" + name+'\\n')\n",
    "    print(accuracy_score(y_pred_val, df_y_ts['class'].values))"
   ]
  },
  {
   "cell_type": "code",
   "execution_count": null,
   "metadata": {},
   "outputs": [],
   "source": []
  }
 ],
 "metadata": {
  "kernelspec": {
   "display_name": "Python 3",
   "language": "python",
   "name": "python3"
  },
  "language_info": {
   "codemirror_mode": {
    "name": "ipython",
    "version": 3
   },
   "file_extension": ".py",
   "mimetype": "text/x-python",
   "name": "python",
   "nbconvert_exporter": "python",
   "pygments_lexer": "ipython3",
   "version": "3.7.4"
  }
 },
 "nbformat": 4,
 "nbformat_minor": 2
}
