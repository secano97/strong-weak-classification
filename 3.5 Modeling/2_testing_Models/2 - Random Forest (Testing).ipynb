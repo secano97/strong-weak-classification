{
 "cells": [
  {
   "cell_type": "markdown",
   "metadata": {},
   "source": [
    "# <center> <b> <h1> Random Forest (Testing) </h1></b></center> "
   ]
  },
  {
   "cell_type": "markdown",
   "metadata": {},
   "source": [
    "<h1>Explanation about it: <h1>\n",
    "    <p style=\"font-weight: normal; font-size: 18px; text-align: justify;\"> \n",
    "        in this file the goal is evaluate the accuracy final with the test dataset\n",
    "        that has not been used in al the process in order to avoid the overfitting \n",
    "    </p>\n",
    "  "
   ]
  },
  {
   "cell_type": "code",
   "execution_count": 1,
   "metadata": {},
   "outputs": [],
   "source": [
    "from sklearn.metrics import accuracy_score\n",
    "from sklearn.ensemble import RandomForestClassifier\n",
    "import joblib\n",
    "import pandas as pd\n",
    "\n",
    "import numpy as np \n",
    "\n",
    "PATH_DATASETS = \"../../2_Data_preparation/2_Split_Raw_Datasets/output/\"\n",
    "PATH_PKL = \"../../3.5 Modeling/1_2_hyper_parameter_tunning/output/\"\n",
    "PATH_SIGNIFICANCE = \"../../3 Modeling/2. Random Forest (significance Score)/output/\""
   ]
  },
  {
   "cell_type": "code",
   "execution_count": 2,
   "metadata": {},
   "outputs": [],
   "source": [
    "def readCsvs(split):\n",
    "    datasets = []\n",
    "    constant1 = 'X_'\n",
    "    constant2 = '_' + split\n",
    "    features = ['area', 'meancurv', 'thickness', 'volume']\n",
    "\n",
    "    for feature in features:\n",
    "        df = pd.read_csv(PATH_DATASETS + constant1 + feature + constant2 +'.csv', index_col=0)\n",
    "        datasets.append({'name': feature, 'data': df})\n",
    "    return datasets"
   ]
  },
  {
   "cell_type": "code",
   "execution_count": 3,
   "metadata": {},
   "outputs": [],
   "source": [
    "def readSignificances():\n",
    "    df_number_of_features = pd.read_csv(PATH_SIGNIFICANCE \n",
    "                                        + \"Random Forest Best Number Of Features.csv\", index_col=0)\n",
    "    \n",
    "    datasets = []\n",
    "    constant1 = 'Random Forest (AllFeatures - Significance - '\n",
    "    constant2 = ')'\n",
    "    features = ['area','meancurv', 'thickness', 'volume']\n",
    "    number_of_feature = df_number_of_features['quantity'].values\n",
    "\n",
    "    for feature, number in zip(features, number_of_feature):\n",
    "        df = pd.read_csv(PATH_SIGNIFICANCE + constant1 + str(int(number)) + constant2 \n",
    "                         + feature +'.csv', index_col=0)\n",
    "        datasets.append({'name': feature[0], 'data': df})\n",
    "    return datasets"
   ]
  },
  {
   "cell_type": "code",
   "execution_count": 4,
   "metadata": {},
   "outputs": [],
   "source": [
    "def readClf():\n",
    "    randomForests = []\n",
    "    constant1 = \"Random Forest (hyper parameter tuning)_\"\n",
    "    features = ['area', 'meancurv', 'thickness', 'volume']\n",
    "\n",
    "    for feature in features:\n",
    "        clf = joblib.load(PATH_PKL + constant1 + feature + '.pkl')\n",
    "        randomForests.append({'name': feature, 'data': clf})\n",
    "        \n",
    "    return randomForests"
   ]
  },
  {
   "cell_type": "markdown",
   "metadata": {},
   "source": [
    "# 1. Prepare the data"
   ]
  },
  {
   "cell_type": "code",
   "execution_count": 5,
   "metadata": {},
   "outputs": [
    {
     "data": {
      "text/plain": [
       "(220, 148)"
      ]
     },
     "execution_count": 5,
     "metadata": {},
     "output_type": "execute_result"
    }
   ],
   "source": [
    "df_X_ts = readCsvs(\"test\")\n",
    "df_X_ts[0]['data'].shape"
   ]
  },
  {
   "cell_type": "code",
   "execution_count": 6,
   "metadata": {},
   "outputs": [
    {
     "data": {
      "text/plain": [
       "(220, 1)"
      ]
     },
     "execution_count": 6,
     "metadata": {},
     "output_type": "execute_result"
    }
   ],
   "source": [
    "df_y_ts = pd.read_csv(PATH_DATASETS + 'Y_test.csv', index_col = 0)\n",
    "df_y_ts.shape"
   ]
  },
  {
   "cell_type": "code",
   "execution_count": 7,
   "metadata": {},
   "outputs": [
    {
     "data": {
      "text/html": [
       "<div>\n",
       "<style scoped>\n",
       "    .dataframe tbody tr th:only-of-type {\n",
       "        vertical-align: middle;\n",
       "    }\n",
       "\n",
       "    .dataframe tbody tr th {\n",
       "        vertical-align: top;\n",
       "    }\n",
       "\n",
       "    .dataframe thead th {\n",
       "        text-align: right;\n",
       "    }\n",
       "</style>\n",
       "<table border=\"1\" class=\"dataframe\">\n",
       "  <thead>\n",
       "    <tr style=\"text-align: right;\">\n",
       "      <th></th>\n",
       "      <th>Significance</th>\n",
       "    </tr>\n",
       "    <tr>\n",
       "      <th>Name</th>\n",
       "      <th></th>\n",
       "    </tr>\n",
       "  </thead>\n",
       "  <tbody>\n",
       "    <tr>\n",
       "      <td>rh_G_and_S_cingul-Ant_area</td>\n",
       "      <td>0.020898</td>\n",
       "    </tr>\n",
       "    <tr>\n",
       "      <td>lh_S_temporal_sup_area</td>\n",
       "      <td>0.018332</td>\n",
       "    </tr>\n",
       "    <tr>\n",
       "      <td>rh_G_temporal_middle_area</td>\n",
       "      <td>0.017275</td>\n",
       "    </tr>\n",
       "    <tr>\n",
       "      <td>rh_S_temporal_sup_area</td>\n",
       "      <td>0.015924</td>\n",
       "    </tr>\n",
       "    <tr>\n",
       "      <td>lh_G_cuneus_area</td>\n",
       "      <td>0.015085</td>\n",
       "    </tr>\n",
       "  </tbody>\n",
       "</table>\n",
       "</div>"
      ],
      "text/plain": [
       "                            Significance\n",
       "Name                                    \n",
       "rh_G_and_S_cingul-Ant_area      0.020898\n",
       "lh_S_temporal_sup_area          0.018332\n",
       "rh_G_temporal_middle_area       0.017275\n",
       "rh_S_temporal_sup_area          0.015924\n",
       "lh_G_cuneus_area                0.015085"
      ]
     },
     "execution_count": 7,
     "metadata": {},
     "output_type": "execute_result"
    }
   ],
   "source": [
    "Significances = readSignificances()\n",
    "Significances[0]['data'].head()"
   ]
  },
  {
   "cell_type": "markdown",
   "metadata": {},
   "source": [
    "# 2. prepare the Clfs"
   ]
  },
  {
   "cell_type": "code",
   "execution_count": 8,
   "metadata": {},
   "outputs": [],
   "source": [
    "clfs = readClf()"
   ]
  },
  {
   "cell_type": "markdown",
   "metadata": {},
   "source": [
    "# 3. Testing"
   ]
  },
  {
   "cell_type": "code",
   "execution_count": 9,
   "metadata": {},
   "outputs": [
    {
     "name": "stdout",
     "output_type": "stream",
     "text": [
      "accuracy score test: area\n",
      "\n",
      "0.759090909090909\n",
      "accuracy score test: meancurv\n",
      "\n",
      "0.7\n",
      "accuracy score test: thickness\n",
      "\n",
      "0.6772727272727272\n",
      "accuracy score test: volume\n",
      "\n",
      "0.7136363636363636\n"
     ]
    }
   ],
   "source": [
    "y_pred_vals = []\n",
    "for feature, clf, significance in zip(df_X_ts, clfs, Significances):\n",
    "    \n",
    "    data = feature['data']\n",
    "    name = feature['name']\n",
    "    Rf = clf['data']\n",
    "    \n",
    "    y_pred_val = Rf.predict(data[significance['data'].index.values].copy())\n",
    "    y_pred_vals.append({'name': name, 'data': y_pred_val})\n",
    "    print(\"accuracy score test: \" + name+'\\n')\n",
    "    print(accuracy_score(y_pred_val, df_y_ts['class'].values))"
   ]
  },
  {
   "cell_type": "markdown",
   "metadata": {},
   "source": [
    "# feature importancce "
   ]
  },
  {
   "cell_type": "code",
   "execution_count": 27,
   "metadata": {},
   "outputs": [],
   "source": [
    "tables = []\n",
    "\n",
    "for feature, clf, significance in zip(df_X_ts, clfs, Significances):\n",
    "    \n",
    "    data = feature['data'][significance['data'].index.values].copy()\n",
    "    name = feature['name']\n",
    "    Rf = clf['data']\n",
    "    \n",
    "    #not is a obb error is how much this variable apports to the model \n",
    "    df_features = pd.DataFrame(columns=['Name', 'Significance']) \n",
    "    df_features.set_index('Name', inplace = True)\n",
    "    #df_features.head()\n",
    "\n",
    "    for column in zip(data.columns.values, Rf.feature_importances_):\n",
    "        #print(column)\n",
    "        df_features.at[column[0]] = round(column[1],2)\n",
    "    \n",
    "    #print(df_features)\n",
    "    #Total = df_features['Significance'].sum()\n",
    "    #print (\"for: \" + name + \" : \" + str(Total))\n",
    "    tables.append({'name' : name, 'data' : df_features})\n",
    "\n",
    "    \n",
    "#print(tables)"
   ]
  },
  {
   "cell_type": "code",
   "execution_count": 30,
   "metadata": {},
   "outputs": [],
   "source": [
    "tables[3]['data'].sort_values('Significance', inplace = True, ascending=False)"
   ]
  },
  {
   "cell_type": "code",
   "execution_count": 33,
   "metadata": {},
   "outputs": [
    {
     "data": {
      "text/html": [
       "<div>\n",
       "<style scoped>\n",
       "    .dataframe tbody tr th:only-of-type {\n",
       "        vertical-align: middle;\n",
       "    }\n",
       "\n",
       "    .dataframe tbody tr th {\n",
       "        vertical-align: top;\n",
       "    }\n",
       "\n",
       "    .dataframe thead th {\n",
       "        text-align: right;\n",
       "    }\n",
       "</style>\n",
       "<table border=\"1\" class=\"dataframe\">\n",
       "  <thead>\n",
       "    <tr style=\"text-align: right;\">\n",
       "      <th></th>\n",
       "      <th>Significance</th>\n",
       "    </tr>\n",
       "    <tr>\n",
       "      <th>Name</th>\n",
       "      <th></th>\n",
       "    </tr>\n",
       "  </thead>\n",
       "  <tbody>\n",
       "    <tr>\n",
       "      <td>lh_S_orbital_med-olfact_volume</td>\n",
       "      <td>0.1</td>\n",
       "    </tr>\n",
       "    <tr>\n",
       "      <td>rh_G_temporal_middle_volume</td>\n",
       "      <td>0.07</td>\n",
       "    </tr>\n",
       "    <tr>\n",
       "      <td>lh_G_temp_sup-Plan_polar_volume</td>\n",
       "      <td>0.06</td>\n",
       "    </tr>\n",
       "    <tr>\n",
       "      <td>lh_G_front_sup_volume</td>\n",
       "      <td>0.06</td>\n",
       "    </tr>\n",
       "    <tr>\n",
       "      <td>lh_Pole_occipital_volume</td>\n",
       "      <td>0.05</td>\n",
       "    </tr>\n",
       "    <tr>\n",
       "      <td>rh_S_temporal_inf_volume</td>\n",
       "      <td>0.05</td>\n",
       "    </tr>\n",
       "    <tr>\n",
       "      <td>rh_S_oc-temp_lat_volume</td>\n",
       "      <td>0.05</td>\n",
       "    </tr>\n",
       "    <tr>\n",
       "      <td>lh_G_rectus_volume</td>\n",
       "      <td>0.05</td>\n",
       "    </tr>\n",
       "    <tr>\n",
       "      <td>lh_G_temporal_middle_volume</td>\n",
       "      <td>0.05</td>\n",
       "    </tr>\n",
       "    <tr>\n",
       "      <td>lh_G_cuneus_volume</td>\n",
       "      <td>0.05</td>\n",
       "    </tr>\n",
       "    <tr>\n",
       "      <td>rh_G_and_S_cingul-Ant_volume</td>\n",
       "      <td>0.05</td>\n",
       "    </tr>\n",
       "    <tr>\n",
       "      <td>rh_Pole_occipital_volume</td>\n",
       "      <td>0.05</td>\n",
       "    </tr>\n",
       "    <tr>\n",
       "      <td>lh_G_insular_short_volume</td>\n",
       "      <td>0.04</td>\n",
       "    </tr>\n",
       "    <tr>\n",
       "      <td>lh_S_temporal_sup_volume</td>\n",
       "      <td>0.04</td>\n",
       "    </tr>\n",
       "    <tr>\n",
       "      <td>rh_S_orbital_med-olfact_volume</td>\n",
       "      <td>0.04</td>\n",
       "    </tr>\n",
       "    <tr>\n",
       "      <td>lh_G_and_S_cingul-Ant_volume</td>\n",
       "      <td>0.04</td>\n",
       "    </tr>\n",
       "    <tr>\n",
       "      <td>lh_G_Ins_lg_and_S_cent_ins_volume</td>\n",
       "      <td>0.04</td>\n",
       "    </tr>\n",
       "    <tr>\n",
       "      <td>rh_S_temporal_sup_volume</td>\n",
       "      <td>0.04</td>\n",
       "    </tr>\n",
       "    <tr>\n",
       "      <td>rh_G_pariet_inf-Angular_volume</td>\n",
       "      <td>0.04</td>\n",
       "    </tr>\n",
       "    <tr>\n",
       "      <td>rh_G_insular_short_volume</td>\n",
       "      <td>0.03</td>\n",
       "    </tr>\n",
       "  </tbody>\n",
       "</table>\n",
       "</div>"
      ],
      "text/plain": [
       "                                  Significance\n",
       "Name                                          \n",
       "lh_S_orbital_med-olfact_volume             0.1\n",
       "rh_G_temporal_middle_volume               0.07\n",
       "lh_G_temp_sup-Plan_polar_volume           0.06\n",
       "lh_G_front_sup_volume                     0.06\n",
       "lh_Pole_occipital_volume                  0.05\n",
       "rh_S_temporal_inf_volume                  0.05\n",
       "rh_S_oc-temp_lat_volume                   0.05\n",
       "lh_G_rectus_volume                        0.05\n",
       "lh_G_temporal_middle_volume               0.05\n",
       "lh_G_cuneus_volume                        0.05\n",
       "rh_G_and_S_cingul-Ant_volume              0.05\n",
       "rh_Pole_occipital_volume                  0.05\n",
       "lh_G_insular_short_volume                 0.04\n",
       "lh_S_temporal_sup_volume                  0.04\n",
       "rh_S_orbital_med-olfact_volume            0.04\n",
       "lh_G_and_S_cingul-Ant_volume              0.04\n",
       "lh_G_Ins_lg_and_S_cent_ins_volume         0.04\n",
       "rh_S_temporal_sup_volume                  0.04\n",
       "rh_G_pariet_inf-Angular_volume            0.04\n",
       "rh_G_insular_short_volume                 0.03"
      ]
     },
     "execution_count": 33,
     "metadata": {},
     "output_type": "execute_result"
    }
   ],
   "source": [
    "tables[3]['data']"
   ]
  },
  {
   "cell_type": "code",
   "execution_count": null,
   "metadata": {},
   "outputs": [],
   "source": []
  }
 ],
 "metadata": {
  "kernelspec": {
   "display_name": "Python 3",
   "language": "python",
   "name": "python3"
  },
  "language_info": {
   "codemirror_mode": {
    "name": "ipython",
    "version": 3
   },
   "file_extension": ".py",
   "mimetype": "text/x-python",
   "name": "python",
   "nbconvert_exporter": "python",
   "pygments_lexer": "ipython3",
   "version": "3.7.4"
  }
 },
 "nbformat": 4,
 "nbformat_minor": 2
}
