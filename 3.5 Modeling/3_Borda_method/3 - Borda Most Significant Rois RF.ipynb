{
 "cells": [
  {
   "cell_type": "markdown",
   "metadata": {},
   "source": [
    "# <center> <b> <h1> Borda Most Significant Rois</h1></b></center>"
   ]
  },
  {
   "cell_type": "markdown",
   "metadata": {},
   "source": [
    "<h1>Explanation about it: <h1>\n",
    "    <p style=\"font-weight: normal; font-size: 18px; text-align: justify;\"> \n",
    "        in this file the goal is find the most relevant ROIS for all the features,\n",
    "        for achieve this wi will implemnt the Borda method fot votation, the votants\n",
    "        are the 4 rankings  that we made in the step 3 Modelin, significant rois.\n",
    "        <br>\n",
    "        <br>\n",
    "        For more information about borda <a href= \"\" https://en.wikipedia.org/wiki/Borda_count> click here</a>.\n",
    "    </p>"
   ]
  },
  {
   "cell_type": "code",
   "execution_count": 2,
   "metadata": {},
   "outputs": [],
   "source": [
    "import pandas as pd\n",
    "import numpy as np \n",
    "\n",
    "PATH_SIGNIFICANCE = \"../../3 Modeling/2. Random Forest (significance Score)/output/\""
   ]
  },
  {
   "cell_type": "code",
   "execution_count": 3,
   "metadata": {},
   "outputs": [],
   "source": [
    "def readSignificances():\n",
    "    \n",
    "    datasets = []\n",
    "    constant1 = 'Random Forest (AllFeatures - Significance) '\n",
    "    features = ['area','meancurv', 'thickness', 'volume']\n",
    "    # features for paper\n",
    "    features = ['area', 'volume']\n",
    "\n",
    "    for feature in features:\n",
    "        df = pd.read_csv(PATH_SIGNIFICANCE + constant1 + feature +'.csv', index_col=0)\n",
    "        datasets.append({'name': feature, 'data': df})\n",
    "    return datasets"
   ]
  },
  {
   "cell_type": "code",
   "execution_count": 4,
   "metadata": {},
   "outputs": [],
   "source": [
    "# Names are ordered whit significance, mos significant first\n",
    "def clean_featuere_of_name_cols(df, name_feature):\n",
    "    array_names = []\n",
    "    name_feature_temp = '_' + name_feature\n",
    "    for name in df.index.values:\n",
    "        name = name.replace(name_feature_temp, '')\n",
    "        array_names.append(name)\n",
    "\n",
    "    return array_names"
   ]
  },
  {
   "cell_type": "markdown",
   "metadata": {},
   "source": [
    "# 1. Prepare the data"
   ]
  },
  {
   "cell_type": "code",
   "execution_count": 5,
   "metadata": {},
   "outputs": [
    {
     "data": {
      "text/html": [
       "<div>\n",
       "<style scoped>\n",
       "    .dataframe tbody tr th:only-of-type {\n",
       "        vertical-align: middle;\n",
       "    }\n",
       "\n",
       "    .dataframe tbody tr th {\n",
       "        vertical-align: top;\n",
       "    }\n",
       "\n",
       "    .dataframe thead th {\n",
       "        text-align: right;\n",
       "    }\n",
       "</style>\n",
       "<table border=\"1\" class=\"dataframe\">\n",
       "  <thead>\n",
       "    <tr style=\"text-align: right;\">\n",
       "      <th></th>\n",
       "      <th>Significance</th>\n",
       "    </tr>\n",
       "    <tr>\n",
       "      <th>Name</th>\n",
       "      <th></th>\n",
       "    </tr>\n",
       "  </thead>\n",
       "  <tbody>\n",
       "    <tr>\n",
       "      <td>rh_G_and_S_cingul-Ant_area</td>\n",
       "      <td>0.020898</td>\n",
       "    </tr>\n",
       "    <tr>\n",
       "      <td>lh_S_temporal_sup_area</td>\n",
       "      <td>0.018332</td>\n",
       "    </tr>\n",
       "    <tr>\n",
       "      <td>rh_G_temporal_middle_area</td>\n",
       "      <td>0.017275</td>\n",
       "    </tr>\n",
       "    <tr>\n",
       "      <td>rh_S_temporal_sup_area</td>\n",
       "      <td>0.015924</td>\n",
       "    </tr>\n",
       "    <tr>\n",
       "      <td>lh_G_cuneus_area</td>\n",
       "      <td>0.015085</td>\n",
       "    </tr>\n",
       "  </tbody>\n",
       "</table>\n",
       "</div>"
      ],
      "text/plain": [
       "                            Significance\n",
       "Name                                    \n",
       "rh_G_and_S_cingul-Ant_area      0.020898\n",
       "lh_S_temporal_sup_area          0.018332\n",
       "rh_G_temporal_middle_area       0.017275\n",
       "rh_S_temporal_sup_area          0.015924\n",
       "lh_G_cuneus_area                0.015085"
      ]
     },
     "execution_count": 5,
     "metadata": {},
     "output_type": "execute_result"
    }
   ],
   "source": [
    "Significances = readSignificances()\n",
    "Significances[0]['data'].head()"
   ]
  },
  {
   "cell_type": "code",
   "execution_count": 6,
   "metadata": {},
   "outputs": [
    {
     "name": "stdout",
     "output_type": "stream",
     "text": [
      "148\n"
     ]
    }
   ],
   "source": [
    "ordered_vectors = []\n",
    "\n",
    "for significance in Significances:\n",
    "    data = significance['data']\n",
    "    name = significance['name']\n",
    "    #print(name)\n",
    "    ordered_vectors.append(clean_featuere_of_name_cols(data, name))\n",
    "\n",
    "print(len(ordered_vectors[0]))"
   ]
  },
  {
   "cell_type": "markdown",
   "metadata": {},
   "source": [
    "# Create a df for the results"
   ]
  },
  {
   "cell_type": "code",
   "execution_count": 45,
   "metadata": {},
   "outputs": [
    {
     "data": {
      "text/plain": [
       "(148, 3)"
      ]
     },
     "execution_count": 45,
     "metadata": {},
     "output_type": "execute_result"
    }
   ],
   "source": [
    "df_results = pd.DataFrame(columns=['Name', 'votes', 'area', 'vol'])\n",
    "df_results['Name'] = ordered_vectors[0]\n",
    "df_results['votes'] = 0\n",
    "df_results['area'] = 0\n",
    "df_results['vol'] = 0\n",
    "df_results.set_index('Name', inplace = True)\n",
    "df_results.shape"
   ]
  },
  {
   "cell_type": "code",
   "execution_count": 46,
   "metadata": {},
   "outputs": [
    {
     "data": {
      "text/plain": [
       "\"for vector in ordered_vectors:\\n    position = 0\\n    for region in vector:\\n        coordinate = df_results.at[region, 'votes']\\n        result = coordinate + position\\n        df_results.at[region, 'votes'] = result\\n        position += 1\\n    area = False\""
      ]
     },
     "execution_count": 46,
     "metadata": {},
     "output_type": "execute_result"
    }
   ],
   "source": [
    "\"\"\"for vector in ordered_vectors:\n",
    "    position = 0\n",
    "    for region in vector:\n",
    "        coordinate = df_results.at[region, 'votes']\n",
    "        result = coordinate + position\n",
    "        df_results.at[region, 'votes'] = result\n",
    "        position += 1\n",
    "    area = False\"\"\""
   ]
  },
  {
   "cell_type": "code",
   "execution_count": 47,
   "metadata": {},
   "outputs": [],
   "source": [
    "#this is just for correct paper\n",
    "area = True\n",
    "#this is just for correct paper\n",
    "\n",
    "for vector in ordered_vectors:\n",
    "    position = 0\n",
    "    for region in vector:\n",
    "        if position <= 19:\n",
    "            coordinate = df_results.at[region, 'votes']\n",
    "            result = coordinate + position\n",
    "            df_results.at[region, 'votes'] = result\n",
    "            if area:\n",
    "                df_results.at[region, 'area'] = position\n",
    "            else:\n",
    "                df_results.at[region, 'vol'] = position\n",
    "        else:\n",
    "            coordinate = df_results.at[region, 'votes']\n",
    "            result = 500\n",
    "            df_results.at[region, 'votes'] = result\n",
    "            \n",
    "        position += 1\n",
    "    area = False"
   ]
  },
  {
   "cell_type": "code",
   "execution_count": 48,
   "metadata": {},
   "outputs": [
    {
     "data": {
      "text/html": [
       "<div>\n",
       "<style scoped>\n",
       "    .dataframe tbody tr th:only-of-type {\n",
       "        vertical-align: middle;\n",
       "    }\n",
       "\n",
       "    .dataframe tbody tr th {\n",
       "        vertical-align: top;\n",
       "    }\n",
       "\n",
       "    .dataframe thead th {\n",
       "        text-align: right;\n",
       "    }\n",
       "</style>\n",
       "<table border=\"1\" class=\"dataframe\">\n",
       "  <thead>\n",
       "    <tr style=\"text-align: right;\">\n",
       "      <th></th>\n",
       "      <th>votes</th>\n",
       "      <th>area</th>\n",
       "      <th>vol</th>\n",
       "    </tr>\n",
       "    <tr>\n",
       "      <th>Name</th>\n",
       "      <th></th>\n",
       "      <th></th>\n",
       "      <th></th>\n",
       "    </tr>\n",
       "  </thead>\n",
       "  <tbody>\n",
       "    <tr>\n",
       "      <td>rh_G_and_S_cingul-Ant</td>\n",
       "      <td>3</td>\n",
       "      <td>0</td>\n",
       "      <td>3</td>\n",
       "    </tr>\n",
       "    <tr>\n",
       "      <td>lh_S_temporal_sup</td>\n",
       "      <td>12</td>\n",
       "      <td>1</td>\n",
       "      <td>11</td>\n",
       "    </tr>\n",
       "    <tr>\n",
       "      <td>rh_G_temporal_middle</td>\n",
       "      <td>3</td>\n",
       "      <td>2</td>\n",
       "      <td>1</td>\n",
       "    </tr>\n",
       "    <tr>\n",
       "      <td>rh_S_temporal_sup</td>\n",
       "      <td>21</td>\n",
       "      <td>3</td>\n",
       "      <td>18</td>\n",
       "    </tr>\n",
       "    <tr>\n",
       "      <td>lh_G_cuneus</td>\n",
       "      <td>11</td>\n",
       "      <td>4</td>\n",
       "      <td>7</td>\n",
       "    </tr>\n",
       "  </tbody>\n",
       "</table>\n",
       "</div>"
      ],
      "text/plain": [
       "                       votes  area  vol\n",
       "Name                                   \n",
       "rh_G_and_S_cingul-Ant      3     0    3\n",
       "lh_S_temporal_sup         12     1   11\n",
       "rh_G_temporal_middle       3     2    1\n",
       "rh_S_temporal_sup         21     3   18\n",
       "lh_G_cuneus               11     4    7"
      ]
     },
     "execution_count": 48,
     "metadata": {},
     "output_type": "execute_result"
    }
   ],
   "source": [
    "df_results.head()"
   ]
  },
  {
   "cell_type": "code",
   "execution_count": 49,
   "metadata": {},
   "outputs": [],
   "source": [
    "df_results.sort_values('votes', inplace = True)"
   ]
  },
  {
   "cell_type": "code",
   "execution_count": 55,
   "metadata": {},
   "outputs": [
    {
     "data": {
      "text/html": [
       "<div>\n",
       "<style scoped>\n",
       "    .dataframe tbody tr th:only-of-type {\n",
       "        vertical-align: middle;\n",
       "    }\n",
       "\n",
       "    .dataframe tbody tr th {\n",
       "        vertical-align: top;\n",
       "    }\n",
       "\n",
       "    .dataframe thead th {\n",
       "        text-align: right;\n",
       "    }\n",
       "</style>\n",
       "<table border=\"1\" class=\"dataframe\">\n",
       "  <thead>\n",
       "    <tr style=\"text-align: right;\">\n",
       "      <th></th>\n",
       "      <th>votes</th>\n",
       "      <th>area</th>\n",
       "      <th>vol</th>\n",
       "    </tr>\n",
       "    <tr>\n",
       "      <th>Name</th>\n",
       "      <th></th>\n",
       "      <th></th>\n",
       "      <th></th>\n",
       "    </tr>\n",
       "  </thead>\n",
       "  <tbody>\n",
       "    <tr>\n",
       "      <td>rh_G_and_S_cingul-Ant</td>\n",
       "      <td>3</td>\n",
       "      <td>0</td>\n",
       "      <td>3</td>\n",
       "    </tr>\n",
       "    <tr>\n",
       "      <td>rh_G_temporal_middle</td>\n",
       "      <td>3</td>\n",
       "      <td>2</td>\n",
       "      <td>1</td>\n",
       "    </tr>\n",
       "    <tr>\n",
       "      <td>rh_Pole_occipital</td>\n",
       "      <td>8</td>\n",
       "      <td>6</td>\n",
       "      <td>2</td>\n",
       "    </tr>\n",
       "    <tr>\n",
       "      <td>lh_G_cuneus</td>\n",
       "      <td>11</td>\n",
       "      <td>4</td>\n",
       "      <td>7</td>\n",
       "    </tr>\n",
       "    <tr>\n",
       "      <td>lh_S_temporal_sup</td>\n",
       "      <td>12</td>\n",
       "      <td>1</td>\n",
       "      <td>11</td>\n",
       "    </tr>\n",
       "    <tr>\n",
       "      <td>lh_S_orbital_med-olfact</td>\n",
       "      <td>13</td>\n",
       "      <td>13</td>\n",
       "      <td>0</td>\n",
       "    </tr>\n",
       "    <tr>\n",
       "      <td>lh_G_front_sup</td>\n",
       "      <td>15</td>\n",
       "      <td>9</td>\n",
       "      <td>6</td>\n",
       "    </tr>\n",
       "    <tr>\n",
       "      <td>lh_G_rectus</td>\n",
       "      <td>16</td>\n",
       "      <td>7</td>\n",
       "      <td>9</td>\n",
       "    </tr>\n",
       "    <tr>\n",
       "      <td>lh_Pole_occipital</td>\n",
       "      <td>18</td>\n",
       "      <td>10</td>\n",
       "      <td>8</td>\n",
       "    </tr>\n",
       "    <tr>\n",
       "      <td>rh_S_temporal_sup</td>\n",
       "      <td>21</td>\n",
       "      <td>3</td>\n",
       "      <td>18</td>\n",
       "    </tr>\n",
       "    <tr>\n",
       "      <td>lh_G_temporal_middle</td>\n",
       "      <td>22</td>\n",
       "      <td>12</td>\n",
       "      <td>10</td>\n",
       "    </tr>\n",
       "    <tr>\n",
       "      <td>rh_G_pariet_inf-Angular</td>\n",
       "      <td>30</td>\n",
       "      <td>11</td>\n",
       "      <td>19</td>\n",
       "    </tr>\n",
       "    <tr>\n",
       "      <td>lh_G_and_S_cingul-Ant</td>\n",
       "      <td>33</td>\n",
       "      <td>19</td>\n",
       "      <td>14</td>\n",
       "    </tr>\n",
       "    <tr>\n",
       "      <td>lh_S_oc_sup_and_transversal</td>\n",
       "      <td>500</td>\n",
       "      <td>0</td>\n",
       "      <td>0</td>\n",
       "    </tr>\n",
       "    <tr>\n",
       "      <td>rh_G_and_S_occipital_inf</td>\n",
       "      <td>500</td>\n",
       "      <td>0</td>\n",
       "      <td>0</td>\n",
       "    </tr>\n",
       "    <tr>\n",
       "      <td>rh_S_orbital_lateral</td>\n",
       "      <td>500</td>\n",
       "      <td>0</td>\n",
       "      <td>0</td>\n",
       "    </tr>\n",
       "    <tr>\n",
       "      <td>lh_S_interm_prim-Jensen</td>\n",
       "      <td>500</td>\n",
       "      <td>0</td>\n",
       "      <td>0</td>\n",
       "    </tr>\n",
       "    <tr>\n",
       "      <td>lh_G_and_S_cingul-Mid-Post</td>\n",
       "      <td>500</td>\n",
       "      <td>0</td>\n",
       "      <td>0</td>\n",
       "    </tr>\n",
       "    <tr>\n",
       "      <td>rh_G_temp_sup-Lateral</td>\n",
       "      <td>500</td>\n",
       "      <td>0</td>\n",
       "      <td>0</td>\n",
       "    </tr>\n",
       "    <tr>\n",
       "      <td>lh_S_orbital-H_Shaped</td>\n",
       "      <td>500</td>\n",
       "      <td>0</td>\n",
       "      <td>0</td>\n",
       "    </tr>\n",
       "    <tr>\n",
       "      <td>rh_S_postcentral</td>\n",
       "      <td>500</td>\n",
       "      <td>0</td>\n",
       "      <td>0</td>\n",
       "    </tr>\n",
       "    <tr>\n",
       "      <td>lh_Lat_Fis-post</td>\n",
       "      <td>500</td>\n",
       "      <td>0</td>\n",
       "      <td>0</td>\n",
       "    </tr>\n",
       "    <tr>\n",
       "      <td>lh_S_postcentral</td>\n",
       "      <td>500</td>\n",
       "      <td>0</td>\n",
       "      <td>0</td>\n",
       "    </tr>\n",
       "    <tr>\n",
       "      <td>rh_G_oc-temp_med-Lingual</td>\n",
       "      <td>500</td>\n",
       "      <td>0</td>\n",
       "      <td>0</td>\n",
       "    </tr>\n",
       "    <tr>\n",
       "      <td>lh_Lat_Fis-ant-Horizont</td>\n",
       "      <td>500</td>\n",
       "      <td>0</td>\n",
       "      <td>0</td>\n",
       "    </tr>\n",
       "  </tbody>\n",
       "</table>\n",
       "</div>"
      ],
      "text/plain": [
       "                             votes  area  vol\n",
       "Name                                         \n",
       "rh_G_and_S_cingul-Ant            3     0    3\n",
       "rh_G_temporal_middle             3     2    1\n",
       "rh_Pole_occipital                8     6    2\n",
       "lh_G_cuneus                     11     4    7\n",
       "lh_S_temporal_sup               12     1   11\n",
       "lh_S_orbital_med-olfact         13    13    0\n",
       "lh_G_front_sup                  15     9    6\n",
       "lh_G_rectus                     16     7    9\n",
       "lh_Pole_occipital               18    10    8\n",
       "rh_S_temporal_sup               21     3   18\n",
       "lh_G_temporal_middle            22    12   10\n",
       "rh_G_pariet_inf-Angular         30    11   19\n",
       "lh_G_and_S_cingul-Ant           33    19   14\n",
       "lh_S_oc_sup_and_transversal    500     0    0\n",
       "rh_G_and_S_occipital_inf       500     0    0\n",
       "rh_S_orbital_lateral           500     0    0\n",
       "lh_S_interm_prim-Jensen        500     0    0\n",
       "lh_G_and_S_cingul-Mid-Post     500     0    0\n",
       "rh_G_temp_sup-Lateral          500     0    0\n",
       "lh_S_orbital-H_Shaped          500     0    0\n",
       "rh_S_postcentral               500     0    0\n",
       "lh_Lat_Fis-post                500     0    0\n",
       "lh_S_postcentral               500     0    0\n",
       "rh_G_oc-temp_med-Lingual       500     0    0\n",
       "lh_Lat_Fis-ant-Horizont        500     0    0"
      ]
     },
     "execution_count": 55,
     "metadata": {},
     "output_type": "execute_result"
    }
   ],
   "source": [
    "df_results.head(25)"
   ]
  },
  {
   "cell_type": "code",
   "execution_count": 56,
   "metadata": {},
   "outputs": [],
   "source": [
    "df_results.to_csv(\"output/borda classification.csv\")"
   ]
  },
  {
   "cell_type": "code",
   "execution_count": null,
   "metadata": {},
   "outputs": [],
   "source": []
  }
 ],
 "metadata": {
  "kernelspec": {
   "display_name": "Python 3",
   "language": "python",
   "name": "python3"
  },
  "language_info": {
   "codemirror_mode": {
    "name": "ipython",
    "version": 3
   },
   "file_extension": ".py",
   "mimetype": "text/x-python",
   "name": "python",
   "nbconvert_exporter": "python",
   "pygments_lexer": "ipython3",
   "version": "3.7.4"
  }
 },
 "nbformat": 4,
 "nbformat_minor": 2
}
