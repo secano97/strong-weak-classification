{
 "cells": [
  {
   "cell_type": "code",
   "execution_count": 2,
   "metadata": {},
   "outputs": [
    {
     "name": "stdout",
     "output_type": "stream",
     "text": [
      "'http://some-made-up-domain.com/' generated an exception: <urlopen error [Errno -2] Name or service not known>\n",
      "'http://www.foxnews.com/' page is 231032 bytes\n",
      "'http://www.cnn.com/' page is 1133448 bytes\n",
      "'http://www.bbc.co.uk/' page is 315093 bytes\n",
      "'http://europe.wsj.com/' page is 2846600 bytes\n"
     ]
    }
   ],
   "source": [
    "from concurrent import futures\n",
    "import urllib.request\n",
    "\n",
    "URLS = ['http://www.foxnews.com/',\n",
    "        'http://www.cnn.com/',\n",
    "        'http://europe.wsj.com/',\n",
    "        'http://www.bbc.co.uk/',\n",
    "        'http://some-made-up-domain.com/']\n",
    "\n",
    "def load_url(url, timeout):\n",
    "    return urllib.request.urlopen(url, timeout=timeout).read()\n",
    "\n",
    "with futures.ThreadPoolExecutor(max_workers=5) as executor:\n",
    "    future_to_url = dict((executor.submit(load_url, url, 60), url)\n",
    "                         for url in URLS)\n",
    "\n",
    "    for future in futures.as_completed(future_to_url):\n",
    "        url = future_to_url[future]\n",
    "        if future.exception() is not None:\n",
    "            print('%r generated an exception: %s' % (url,\n",
    "                                                     future.exception()))\n",
    "        else:\n",
    "            print('%r page is %d bytes' % (url, len(future.result())))"
   ]
  },
  {
   "cell_type": "code",
   "execution_count": 4,
   "metadata": {},
   "outputs": [
    {
     "name": "stdout",
     "output_type": "stream",
     "text": [
      "112272535095293 is prime: True\n",
      "112582705942171 is prime: True\n",
      "112272535095293 is prime: True\n",
      "115280095190773 is prime: True\n",
      "115797848077099 is prime: True\n",
      "1099726899285419 is prime: False\n"
     ]
    }
   ],
   "source": [
    "import math\n",
    "\n",
    "PRIMES = [\n",
    "    112272535095293,\n",
    "    112582705942171,\n",
    "    112272535095293,\n",
    "    115280095190773,\n",
    "    115797848077099,\n",
    "    1099726899285419]\n",
    "\n",
    "def is_prime(n):\n",
    "    if n % 2 == 0:\n",
    "        return False\n",
    "\n",
    "    sqrt_n = int(math.floor(math.sqrt(n)))\n",
    "    for i in range(3, sqrt_n + 1, 2):\n",
    "        if n % i == 0:\n",
    "            return False\n",
    "    return True\n",
    "\n",
    "def main():\n",
    "    with futures.ProcessPoolExecutor() as executor:\n",
    "        for number, prime in zip(PRIMES, executor.map(is_prime, PRIMES)):\n",
    "            print('%d is prime: %s' % (number, prime))\n",
    "\n",
    "if __name__ == '__main__':\n",
    "    main()"
   ]
  },
  {
   "cell_type": "code",
   "execution_count": 9,
   "metadata": {},
   "outputs": [
    {
     "name": "stdout",
     "output_type": "stream",
     "text": [
      "'http://some-made-up-domain.com/' generated an exception: <urlopen error [Errno -2] Name or service not known>\n",
      "'http://www.bbc.co.uk/' page is 303867 bytes\n",
      "'http://www.foxnews.com/' page is 233946 bytes\n",
      "'http://www.cnn.com/' page is 1132939 bytes\n",
      "'http://europe.wsj.com/' page is 2749710 bytes\n"
     ]
    }
   ],
   "source": [
    "import concurrent.futures\n",
    "from concurrent.futures import ProcessPoolExecutor\n",
    "import urllib.request\n",
    "\n",
    "URLS = ['http://www.foxnews.com/',\n",
    "   'http://www.cnn.com/',\n",
    "   'http://europe.wsj.com/',\n",
    "   'http://www.bbc.co.uk/',\n",
    "   'http://some-made-up-domain.com/']\n",
    "\n",
    "def load_url(url, timeout):\n",
    "    with urllib.request.urlopen(url, timeout = timeout) as conn:\n",
    "        return conn.read()\n",
    "\n",
    "def main():\n",
    "    with concurrent.futures.ProcessPoolExecutor(max_workers=5) as executor:\n",
    "        future_to_url = {executor.submit(load_url, url, 60): url for url in URLS}\n",
    "        for future in concurrent.futures.as_completed(future_to_url):\n",
    "            url = future_to_url[future]\n",
    "            try:\n",
    "                data = future.result()\n",
    "            except Exception as exc:\n",
    "                print('%r generated an exception: %s' % (url, exc))\n",
    "            else:\n",
    "                print('%r page is %d bytes' % (url, len(data)))\n",
    "\n",
    "if __name__ == '__main__':\n",
    "   main()"
   ]
  },
  {
   "cell_type": "code",
   "execution_count": null,
   "metadata": {},
   "outputs": [],
   "source": []
  }
 ],
 "metadata": {
  "kernelspec": {
   "display_name": "Python 3",
   "language": "python",
   "name": "python3"
  },
  "language_info": {
   "codemirror_mode": {
    "name": "ipython",
    "version": 3
   },
   "file_extension": ".py",
   "mimetype": "text/x-python",
   "name": "python",
   "nbconvert_exporter": "python",
   "pygments_lexer": "ipython3",
   "version": "3.7.4"
  }
 },
 "nbformat": 4,
 "nbformat_minor": 2
}
