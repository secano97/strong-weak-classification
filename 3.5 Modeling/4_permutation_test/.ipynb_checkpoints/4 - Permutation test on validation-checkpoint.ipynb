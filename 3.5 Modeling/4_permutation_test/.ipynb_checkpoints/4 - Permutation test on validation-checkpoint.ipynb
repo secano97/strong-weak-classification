{
 "cells": [
  {
   "cell_type": "markdown",
   "metadata": {},
   "source": [
    "# <center> <b> <h1> Random Forest (Permutation-test) </h1></b></center> \n"
   ]
  },
  {
   "cell_type": "code",
   "execution_count": 17,
   "metadata": {},
   "outputs": [],
   "source": [
    "from sklearn.metrics import accuracy_score\n",
    "from sklearn.ensemble import RandomForestClassifier\n",
    "import joblib\n",
    "from sklearn.metrics import confusion_matrix\n",
    "import pandas as pd\n",
    "\n",
    "from sklearn.model_selection import StratifiedKFold, GridSearchCV\n",
    "from sklearn.metrics import classification_report\n",
    "import itertools\n",
    "import random\n",
    "\n",
    "from concurrent import futures\n",
    "from concurrent.futures import ProcessPoolExecutor\n",
    "\n",
    "import numpy as np \n",
    "\n",
    "PATH_DATASETS = \"../../2_Data_preparation/2_Split_Raw_Datasets/output/\"\n",
    "PATH_PKL = \"../../3.5 Modeling/1_2_hyper_parameter_tunning/output/\"\n",
    "PATH_SIGNIFICANCE = \"../../3 Modeling/2. Random Forest (significance Score)/output/\""
   ]
  },
  {
   "cell_type": "code",
   "execution_count": 2,
   "metadata": {},
   "outputs": [],
   "source": [
    "def readCsvs(split):\n",
    "    datasets = []\n",
    "    constant1 = 'X_'\n",
    "    constant2 = '_' + split\n",
    "    features = ['area', 'meancurv', 'thickness', 'volume']\n",
    "\n",
    "    for feature in features:\n",
    "        df = pd.read_csv(PATH_DATASETS + constant1 + feature + constant2 +'.csv', index_col=0)\n",
    "        datasets.append({'name': feature, 'data': df})\n",
    "    return datasets"
   ]
  },
  {
   "cell_type": "code",
   "execution_count": 3,
   "metadata": {},
   "outputs": [],
   "source": [
    "def number_of_rois(name):\n",
    "    \n",
    "    df_number_of_features = pd.read_csv(PATH_SIGNIFICANCE \n",
    "                                        + \"Random Forest Best Number Of Features.csv\", index_col=0)\n",
    "    \n",
    "    features = ['area','meancurv', 'thickness', 'volume']\n",
    "    number_of_feature = df_number_of_features['quantity'].values\n",
    "\n",
    "    x = 0 \n",
    "    result = 0 \n",
    "    for feature in features:\n",
    "        if feature == name:\n",
    "             result = int(number_of_feature[x])\n",
    "        x += 1\n",
    "    return result"
   ]
  },
  {
   "cell_type": "code",
   "execution_count": 4,
   "metadata": {},
   "outputs": [],
   "source": [
    "def readSignificances():\n",
    "    df_number_of_features = pd.read_csv(PATH_SIGNIFICANCE \n",
    "                                        + \"Random Forest Best Number Of Features.csv\", index_col=0)\n",
    "    \n",
    "    datasets = []\n",
    "    constant1 = 'Random Forest (AllFeatures - Significance - '\n",
    "    constant2 = ')'\n",
    "    features = ['area','meancurv', 'thickness', 'volume']\n",
    "    number_of_feature = df_number_of_features['quantity'].values\n",
    "\n",
    "    for feature, number in zip(features, number_of_feature):\n",
    "        df = pd.read_csv(PATH_SIGNIFICANCE + constant1 + str(int(number)) + constant2 \n",
    "                         + feature +'.csv', index_col=0)\n",
    "        datasets.append({'name': feature[0], 'data': df})\n",
    "    return datasets"
   ]
  },
  {
   "cell_type": "markdown",
   "metadata": {},
   "source": [
    "# 1. Prepare the data"
   ]
  },
  {
   "cell_type": "code",
   "execution_count": 5,
   "metadata": {},
   "outputs": [
    {
     "data": {
      "text/html": [
       "<div>\n",
       "<style scoped>\n",
       "    .dataframe tbody tr th:only-of-type {\n",
       "        vertical-align: middle;\n",
       "    }\n",
       "\n",
       "    .dataframe tbody tr th {\n",
       "        vertical-align: top;\n",
       "    }\n",
       "\n",
       "    .dataframe thead th {\n",
       "        text-align: right;\n",
       "    }\n",
       "</style>\n",
       "<table border=\"1\" class=\"dataframe\">\n",
       "  <thead>\n",
       "    <tr style=\"text-align: right;\">\n",
       "      <th></th>\n",
       "      <th>Significance</th>\n",
       "    </tr>\n",
       "    <tr>\n",
       "      <th>Name</th>\n",
       "      <th></th>\n",
       "    </tr>\n",
       "  </thead>\n",
       "  <tbody>\n",
       "    <tr>\n",
       "      <td>rh_G_and_S_cingul-Ant_area</td>\n",
       "      <td>0.020898</td>\n",
       "    </tr>\n",
       "    <tr>\n",
       "      <td>lh_S_temporal_sup_area</td>\n",
       "      <td>0.018332</td>\n",
       "    </tr>\n",
       "    <tr>\n",
       "      <td>rh_G_temporal_middle_area</td>\n",
       "      <td>0.017275</td>\n",
       "    </tr>\n",
       "    <tr>\n",
       "      <td>rh_S_temporal_sup_area</td>\n",
       "      <td>0.015924</td>\n",
       "    </tr>\n",
       "    <tr>\n",
       "      <td>lh_G_cuneus_area</td>\n",
       "      <td>0.015085</td>\n",
       "    </tr>\n",
       "  </tbody>\n",
       "</table>\n",
       "</div>"
      ],
      "text/plain": [
       "                            Significance\n",
       "Name                                    \n",
       "rh_G_and_S_cingul-Ant_area      0.020898\n",
       "lh_S_temporal_sup_area          0.018332\n",
       "rh_G_temporal_middle_area       0.017275\n",
       "rh_S_temporal_sup_area          0.015924\n",
       "lh_G_cuneus_area                0.015085"
      ]
     },
     "execution_count": 5,
     "metadata": {},
     "output_type": "execute_result"
    }
   ],
   "source": [
    "Significances = readSignificances()\n",
    "Significances[0]['data'].head()"
   ]
  },
  {
   "cell_type": "code",
   "execution_count": 6,
   "metadata": {},
   "outputs": [
    {
     "data": {
      "text/plain": [
       "(338, 148)"
      ]
     },
     "execution_count": 6,
     "metadata": {},
     "output_type": "execute_result"
    }
   ],
   "source": [
    "df_X_val = readCsvs('validate')\n",
    "df_X_val[0]['data'].shape"
   ]
  },
  {
   "cell_type": "code",
   "execution_count": 13,
   "metadata": {},
   "outputs": [
    {
     "data": {
      "text/plain": [
       "(338, 1)"
      ]
     },
     "execution_count": 13,
     "metadata": {},
     "output_type": "execute_result"
    }
   ],
   "source": [
    "df_y_val = pd.read_csv(PATH_DATASETS + 'Y_validate.csv', index_col = 0)\n",
    "df_y_vals = [df_y_val]*4\n",
    "df_y_vals[0].shape"
   ]
  },
  {
   "cell_type": "code",
   "execution_count": 8,
   "metadata": {},
   "outputs": [
    {
     "data": {
      "text/plain": [
       "(550, 148)"
      ]
     },
     "execution_count": 8,
     "metadata": {},
     "output_type": "execute_result"
    }
   ],
   "source": [
    "df_X_train = readCsvs('train')\n",
    "df_X_train[0]['data'].shape"
   ]
  },
  {
   "cell_type": "code",
   "execution_count": 12,
   "metadata": {},
   "outputs": [
    {
     "data": {
      "text/plain": [
       "(550, 1)"
      ]
     },
     "execution_count": 12,
     "metadata": {},
     "output_type": "execute_result"
    }
   ],
   "source": [
    "df_y_train = pd.read_csv(PATH_DATASETS + 'Y_train.csv', index_col = 0)\n",
    "df_y_trs = [df_y_train]*4\n",
    "df_y_trs[0].shape"
   ]
  },
  {
   "cell_type": "markdown",
   "metadata": {},
   "source": [
    "#### I have to implement a fucntion in the 1.ramdom forest parameter tunning,  in order to obtain a csv with number of rois, number of n_estimator. and the accuracy\n",
    "\n",
    "#### accuracy over validation test and not over oob score"
   ]
  },
  {
   "cell_type": "code",
   "execution_count": 10,
   "metadata": {},
   "outputs": [],
   "source": [
    "rois_nEstimator_accuracy = [\n",
    "    {'name' : 'area', 'data': [20, 430, 0.7367]},\n",
    "    {'name' : 'meanCurv', 'data': [45, 965, 0.6893]},\n",
    "    {'name' : 'thickness', 'data': [60, 945, 0.7012]},\n",
    "    {'name' : 'volume', 'data': [20, 245,  0.7515]},\n",
    "]\n",
    "\n",
    "#rois_nEstimator_accuracy = function for read the csv with the information"
   ]
  },
  {
   "cell_type": "code",
   "execution_count": 26,
   "metadata": {},
   "outputs": [
    {
     "name": "stdout",
     "output_type": "stream",
     "text": [
      "******************************** PERMUTATION TEST FOR: area ******************************\n",
      "******************************** PERMUTATION TEST FOR: meanCurv ******************************\n",
      "******************************** PERMUTATION TEST FOR: thickness ******************************\n",
      "******************************** PERMUTATION TEST FOR: volume ******************************\n",
      "volume\n",
      "(338, 20)\n",
      "area\n",
      "(338, 20)\n",
      "volume\n",
      "(338, 20)\n",
      "volume\n",
      "(338, 20)\n",
      "area\n",
      "(338, 20)\n",
      "meanCurv\n",
      "(338, 45)\n",
      "thickness\n",
      "(338, 60)\n",
      "volume\n",
      "(338, 20)\n",
      "area\n",
      "(338, 20)\n",
      "volume\n",
      "(338, 20)\n",
      "volume\n",
      "(338, 20)\n",
      "area\n",
      "(338, 20)\n",
      "thickness\n",
      "(338, 60)\n",
      "meanCurv\n",
      "(338, 45)\n",
      "volume\n",
      "(338, 20)\n",
      "volume\n",
      "(338, 20)\n",
      "area\n",
      "(338, 20)\n",
      "volume\n",
      "(338, 20)\n",
      "volume\n",
      "(338, 20)\n",
      "area\n",
      "(338, 20)\n",
      "thickness\n",
      "(338, 60)\n",
      "meanCurv\n",
      "(338, 45)\n",
      "area\n",
      "(338, 20)\n",
      "area\n",
      "(338, 20)\n",
      "thickness\n",
      "(338, 60)\n",
      "meanCurv\n",
      "(338, 45)\n",
      "area\n",
      "(338, 20)\n",
      "area\n",
      "(338, 20)\n",
      "thickness\n",
      "(338, 60)\n",
      "meanCurv\n",
      "(338, 45)\n",
      "thickness\n",
      "(338, 60)\n",
      "meanCurv\n",
      "(338, 45)\n",
      "thickness\n",
      "(338, 60)\n",
      "meanCurv\n",
      "(338, 45)\n",
      "thickness\n",
      "(338, 60)\n",
      "meanCurv\n",
      "(338, 45)\n",
      "thickness\n",
      "(338, 60)\n",
      "meanCurv\n",
      "(338, 45)\n",
      "thickness\n",
      "(338, 60)\n",
      "meanCurv\n",
      "(338, 45)\n"
     ]
    }
   ],
   "source": [
    "accuracy = [] # {name: feature, data: {feature_list: feature list, accuracy_from_feature}}\n",
    "P_value = [] # {name: feature, Data:p-value }\n",
    "\n",
    "with futures.ProcessPoolExecutor() as executor:\n",
    "    for (feature_train,\n",
    "         feature_validate, \n",
    "         feature_info, df_y_tr, \n",
    "         df_y_val, result) in zip(df_X_train,\n",
    "                                  df_X_val,\n",
    "                                  rois_nEstimator_accuracy,\n",
    "                                  df_y_trs, df_y_vals, \n",
    "                                  executor.map(PermutationTest,\n",
    "                                               df_X_train,df_X_val,\n",
    "                                               rois_nEstimator_accuracy,\n",
    "                                               df_y_trs, \n",
    "                                               df_y_vals)):\n",
    "        accuracy.append(result[0])\n",
    "        P_value.append(result[1])\n",
    "    "
   ]
  },
  {
   "cell_type": "code",
   "execution_count": 25,
   "metadata": {},
   "outputs": [],
   "source": [
    "def PermutationTest(feature_train, feature_validate, feature_info, df_y_tr, df_y_val):\n",
    "    data_train = feature_train['data']\n",
    "    data_validation = feature_validate['data']\n",
    "    name = feature_info['name']\n",
    "    \n",
    "    permutations = 10\n",
    "    \n",
    "    rois = feature_info['data'][0]\n",
    "    n_estimators = feature_info['data'][1]\n",
    "    accuracy_observed = feature_info['data'][2]\n",
    "    \n",
    "    accuracy_from_feature = []\n",
    "    \n",
    "    # random.sample: returns a particular length list of items chosen from the sequence\n",
    "    feature_list = random.sample(list(data_train.columns.values), rois)\n",
    "    #print(feature_list)\n",
    "    \n",
    "    #the amount of times when the permutation is major than the accuracu from the feature etracion with RF\n",
    "    counter = 0 \n",
    "    \n",
    "    list_of_rois=[]\n",
    "    \n",
    "    print(\"******************************** PERMUTATION TEST FOR: \" + name + \" ******************************\")\n",
    "    for i in range (0,permutations):\n",
    "        \n",
    "        x_temp = data_train[feature_list].copy()\n",
    "        #print(x_temp)\n",
    "        \n",
    "        # create RF classifier\n",
    "        clf = RandomForestClassifier(n_estimators = n_estimators, random_state= 0 , n_jobs= -1,verbose= False, oob_score= True)\n",
    "        \n",
    "        # Train Classifier\n",
    "        clf.fit(x_temp, df_y_train['class'].values)\n",
    "        \n",
    "        # Prediction\n",
    "        X_val_temp = data_validation[feature_list].copy()\n",
    "        #print(name)\n",
    "        #print(X_val_temp.shape)\n",
    "        y_pred_val = clf.predict(X_val_temp)\n",
    "        \n",
    "        #score\n",
    "        score = accuracy_score(y_pred_val, df_y_val['class'].values)\n",
    "        if (score > accuracy_observed):\n",
    "            counter += 1\n",
    "        \n",
    "        accuracy_from_feature.append({'feature_list':feature_list, 'score':score})\n",
    "        list_of_rois.append(feature_list)\n",
    "        \n",
    "        #print(i, accuracy_from_feature[-1])\n",
    "        print(name)\n",
    "        print(i, score)\n",
    "        \n",
    "        # this is for change a new feature list.\n",
    "        # this while verify that the new feature_list have not been used in a previous experiment\n",
    "        while feature_list in list_of_rois:\n",
    "            feature_list = random.sample(list(data_train.columns.values), rois)\n",
    "            \n",
    "    result = []\n",
    "    result.append({'name' : name, 'data' : accuracy_from_feature})\n",
    "    result.append({'name':name, 'data':(counter/permutations)})\n",
    "    \n",
    "    return result\n",
    "\n",
    "    "
   ]
  },
  {
   "cell_type": "code",
   "execution_count": 21,
   "metadata": {},
   "outputs": [
    {
     "name": "stdout",
     "output_type": "stream",
     "text": [
      "[{'name': 'area', 'data': 0.1}, {'name': 'meanCurv', 'data': 0.0}, {'name': 'thickness', 'data': 0.0}, {'name': 'volume', 'data': 0.0}]\n"
     ]
    }
   ],
   "source": [
    "print(P_value)"
   ]
  }
 ],
 "metadata": {
  "kernelspec": {
   "display_name": "Python 3",
   "language": "python",
   "name": "python3"
  },
  "language_info": {
   "codemirror_mode": {
    "name": "ipython",
    "version": 3
   },
   "file_extension": ".py",
   "mimetype": "text/x-python",
   "name": "python",
   "nbconvert_exporter": "python",
   "pygments_lexer": "ipython3",
   "version": "3.7.4"
  }
 },
 "nbformat": 4,
 "nbformat_minor": 2
}
