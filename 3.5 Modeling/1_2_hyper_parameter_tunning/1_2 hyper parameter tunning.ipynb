{
 "cells": [
  {
   "cell_type": "markdown",
   "metadata": {},
   "source": [
    "# <center> <b> <h1> Random Forest (hyper parameter Tuning) </h1></b></center>\n",
    "\n",
    "<p>\n",
    "    Right know we know the best number and which feature we could use forthe random forest, also we know \n",
    "    the number of n_estimators (number of trees inside the forest)\n",
    "    <br>\n",
    "    Now here we will try to end with the hyper parameter tunning in order to reduce the <i>Bias</i> error.\n",
    "    We will use some tools of sktilearn, we will create a Grid search with cross validation, to found a good\n",
    "    combination and avoild the Bias error\n",
    "</p>"
   ]
  },
  {
   "cell_type": "code",
   "execution_count": 2,
   "metadata": {},
   "outputs": [],
   "source": [
    "import matplotlib.pyplot as plt\n",
    "import numpy as np\n",
    "\n",
    "from concurrent import futures\n",
    "from concurrent.futures import ProcessPoolExecutor\n",
    "\n",
    "from sklearn.ensemble import RandomForestClassifier\n",
    "\n",
    "from sklearn.metrics import accuracy_score\n",
    "from sklearn.metrics import confusion_matrix\n",
    "import joblib\n",
    "\n",
    "import pandas as pd\n",
    "import itertools\n",
    "\n",
    "from sklearn.model_selection import RandomizedSearchCV\n",
    "from sklearn.model_selection import GridSearchCV\n",
    "\n",
    "from pprint import pprint\n",
    "\n",
    "PATH_DATASETS = \"../../2_Data_preparation/2_Split_Raw_Datasets/output/\"\n",
    "PATH_N_ESTIMATORS = '../1_Features - Parameters -Tuning/output/'\n",
    "PATH_SIGNIFICANCE = \"../../3 Modeling/2. Random Forest (significance Score)/output/\"\n"
   ]
  },
  {
   "cell_type": "code",
   "execution_count": 3,
   "metadata": {},
   "outputs": [],
   "source": [
    "def readCsvs(split):\n",
    "    datasets = []\n",
    "    constant1 = 'X_'\n",
    "    constant2 = '_' + split\n",
    "    features = ['area', 'meancurv', 'thickness', 'volume']\n",
    "\n",
    "    for feature in features:\n",
    "        df = pd.read_csv(PATH_DATASETS + constant1 + feature + constant2 +'.csv', index_col=0)\n",
    "        datasets.append({'name': feature, 'data': df})\n",
    "    return datasets"
   ]
  },
  {
   "cell_type": "code",
   "execution_count": 4,
   "metadata": {},
   "outputs": [],
   "source": [
    "def readNEstimators():\n",
    "    df_n_estimators = pd.read_csv(PATH_N_ESTIMATORS \n",
    "                                        + \"Random Forest Best Number Of n_estimators.csv\", index_col=0)\n",
    "\n",
    "    \n",
    "    return df_n_estimators['quantity'].values"
   ]
  },
  {
   "cell_type": "code",
   "execution_count": 5,
   "metadata": {},
   "outputs": [],
   "source": [
    "def readSignificances():\n",
    "    df_number_of_features = pd.read_csv(PATH_SIGNIFICANCE \n",
    "                                        + \"Random Forest Best Number Of Features.csv\", index_col=0)\n",
    "    \n",
    "    datasets = []\n",
    "    constant1 = 'Random Forest (AllFeatures - Significance - '\n",
    "    constant2 = ')'\n",
    "    features = ['area','meancurv', 'thickness', 'volume']\n",
    "    number_of_feature = df_number_of_features['quantity'].values\n",
    "\n",
    "    for feature, number in zip(features, number_of_feature):\n",
    "        df = pd.read_csv(PATH_SIGNIFICANCE + constant1 + str(int(number)) + constant2 \n",
    "                         + feature +'.csv', index_col=0)\n",
    "        datasets.append({'name': feature[0], 'data': df})\n",
    "    return datasets"
   ]
  },
  {
   "cell_type": "markdown",
   "metadata": {},
   "source": [
    "# 1. Prepare the data"
   ]
  },
  {
   "cell_type": "code",
   "execution_count": 6,
   "metadata": {},
   "outputs": [
    {
     "data": {
      "text/html": [
       "<div>\n",
       "<style scoped>\n",
       "    .dataframe tbody tr th:only-of-type {\n",
       "        vertical-align: middle;\n",
       "    }\n",
       "\n",
       "    .dataframe tbody tr th {\n",
       "        vertical-align: top;\n",
       "    }\n",
       "\n",
       "    .dataframe thead th {\n",
       "        text-align: right;\n",
       "    }\n",
       "</style>\n",
       "<table border=\"1\" class=\"dataframe\">\n",
       "  <thead>\n",
       "    <tr style=\"text-align: right;\">\n",
       "      <th></th>\n",
       "      <th>Significance</th>\n",
       "    </tr>\n",
       "    <tr>\n",
       "      <th>Name</th>\n",
       "      <th></th>\n",
       "    </tr>\n",
       "  </thead>\n",
       "  <tbody>\n",
       "    <tr>\n",
       "      <td>rh_G_and_S_cingul-Ant_area</td>\n",
       "      <td>0.020898</td>\n",
       "    </tr>\n",
       "    <tr>\n",
       "      <td>lh_S_temporal_sup_area</td>\n",
       "      <td>0.018332</td>\n",
       "    </tr>\n",
       "    <tr>\n",
       "      <td>rh_G_temporal_middle_area</td>\n",
       "      <td>0.017275</td>\n",
       "    </tr>\n",
       "    <tr>\n",
       "      <td>rh_S_temporal_sup_area</td>\n",
       "      <td>0.015924</td>\n",
       "    </tr>\n",
       "    <tr>\n",
       "      <td>lh_G_cuneus_area</td>\n",
       "      <td>0.015085</td>\n",
       "    </tr>\n",
       "  </tbody>\n",
       "</table>\n",
       "</div>"
      ],
      "text/plain": [
       "                            Significance\n",
       "Name                                    \n",
       "rh_G_and_S_cingul-Ant_area      0.020898\n",
       "lh_S_temporal_sup_area          0.018332\n",
       "rh_G_temporal_middle_area       0.017275\n",
       "rh_S_temporal_sup_area          0.015924\n",
       "lh_G_cuneus_area                0.015085"
      ]
     },
     "execution_count": 6,
     "metadata": {},
     "output_type": "execute_result"
    }
   ],
   "source": [
    "Significances = readSignificances()\n",
    "Significances[0]['data'].head()"
   ]
  },
  {
   "cell_type": "code",
   "execution_count": 7,
   "metadata": {},
   "outputs": [
    {
     "data": {
      "text/plain": [
       "(550, 148)"
      ]
     },
     "execution_count": 7,
     "metadata": {},
     "output_type": "execute_result"
    }
   ],
   "source": [
    "df_X_tr = readCsvs('train')\n",
    "df_X_tr[0]['data'].shape"
   ]
  },
  {
   "cell_type": "code",
   "execution_count": 8,
   "metadata": {},
   "outputs": [
    {
     "data": {
      "text/plain": [
       "(550, 1)"
      ]
     },
     "execution_count": 8,
     "metadata": {},
     "output_type": "execute_result"
    }
   ],
   "source": [
    "df_y_tr = pd.read_csv(PATH_DATASETS + 'Y_train.csv', index_col = 0)\n",
    "df_y_trs = [df_y_tr]*4\n",
    "df_y_trs[0].shape"
   ]
  },
  {
   "cell_type": "code",
   "execution_count": 9,
   "metadata": {},
   "outputs": [
    {
     "data": {
      "text/plain": [
       "(338, 148)"
      ]
     },
     "execution_count": 9,
     "metadata": {},
     "output_type": "execute_result"
    }
   ],
   "source": [
    "df_X_val = readCsvs('validate')\n",
    "df_X_val[0]['data'].shape"
   ]
  },
  {
   "cell_type": "code",
   "execution_count": 10,
   "metadata": {},
   "outputs": [
    {
     "data": {
      "text/plain": [
       "(338, 1)"
      ]
     },
     "execution_count": 10,
     "metadata": {},
     "output_type": "execute_result"
    }
   ],
   "source": [
    "df_y_val = pd.read_csv(PATH_DATASETS + 'Y_validate.csv', index_col = 0)\n",
    "df_y_val.shape"
   ]
  },
  {
   "cell_type": "code",
   "execution_count": 11,
   "metadata": {},
   "outputs": [
    {
     "data": {
      "text/plain": [
       "array([430, 965, 945, 245])"
      ]
     },
     "execution_count": 11,
     "metadata": {},
     "output_type": "execute_result"
    }
   ],
   "source": [
    "n_estimators = readNEstimators()\n",
    "n_estimators"
   ]
  },
  {
   "cell_type": "markdown",
   "metadata": {},
   "source": [
    "# Examine the default random forest to determine parameters"
   ]
  },
  {
   "cell_type": "code",
   "execution_count": 12,
   "metadata": {},
   "outputs": [
    {
     "name": "stdout",
     "output_type": "stream",
     "text": [
      "Parameters currently in use:\n",
      "\n",
      "{'bootstrap': True,\n",
      " 'class_weight': None,\n",
      " 'criterion': 'gini',\n",
      " 'max_depth': None,\n",
      " 'max_features': 'auto',\n",
      " 'max_leaf_nodes': None,\n",
      " 'min_impurity_decrease': 0.0,\n",
      " 'min_impurity_split': None,\n",
      " 'min_samples_leaf': 1,\n",
      " 'min_samples_split': 2,\n",
      " 'min_weight_fraction_leaf': 0.0,\n",
      " 'n_estimators': 'warn',\n",
      " 'n_jobs': None,\n",
      " 'oob_score': False,\n",
      " 'random_state': 42,\n",
      " 'verbose': 0,\n",
      " 'warm_start': False}\n"
     ]
    }
   ],
   "source": [
    "rf = RandomForestClassifier(random_state = 42)\n",
    "\n",
    "# Look at parameters used by our current forest\n",
    "print('Parameters currently in use:\\n')\n",
    "pprint(rf.get_params())"
   ]
  },
  {
   "cell_type": "markdown",
   "metadata": {},
   "source": [
    "# Random search with CV"
   ]
  },
  {
   "cell_type": "code",
   "execution_count": 15,
   "metadata": {},
   "outputs": [
    {
     "name": "stdout",
     "output_type": "stream",
     "text": [
      "Fitting 5 folds for each of 1000 candidates, totalling 5000 fits\n",
      "Fitting 5 folds for each of 1000 candidates, totalling 5000 fits\n"
     ]
    },
    {
     "name": "stderr",
     "output_type": "stream",
     "text": [
      "[Parallel(n_jobs=-1)]: Using backend LokyBackend with 32 concurrent workers.\n",
      "[Parallel(n_jobs=-1)]: Using backend LokyBackend with 32 concurrent workers.\n"
     ]
    },
    {
     "name": "stdout",
     "output_type": "stream",
     "text": [
      "Fitting 5 folds for each of 1000 candidates, totalling 5000 fits\n",
      "Fitting 5 folds for each of 1000 candidates, totalling 5000 fits\n"
     ]
    },
    {
     "name": "stderr",
     "output_type": "stream",
     "text": [
      "[Parallel(n_jobs=-1)]: Using backend LokyBackend with 32 concurrent workers.\n",
      "[Parallel(n_jobs=-1)]: Using backend LokyBackend with 32 concurrent workers.\n",
      "[Parallel(n_jobs=-1)]: Done  98 tasks      | elapsed:   29.3s\n",
      "[Parallel(n_jobs=-1)]: Done  98 tasks      | elapsed:   43.8s\n",
      "[Parallel(n_jobs=-1)]: Done 301 tasks      | elapsed:  1.1min\n",
      "[Parallel(n_jobs=-1)]: Done  98 tasks      | elapsed:  1.5min\n",
      "[Parallel(n_jobs=-1)]: Done  98 tasks      | elapsed:  1.6min\n",
      "[Parallel(n_jobs=-1)]: Done 301 tasks      | elapsed:  1.8min\n",
      "[Parallel(n_jobs=-1)]: Done 584 tasks      | elapsed:  1.9min\n",
      "[Parallel(n_jobs=-1)]: Done 949 tasks      | elapsed:  3.0min\n",
      "[Parallel(n_jobs=-1)]: Done 584 tasks      | elapsed:  3.2min\n",
      "[Parallel(n_jobs=-1)]: Done 301 tasks      | elapsed:  3.8min\n",
      "[Parallel(n_jobs=-1)]: Done 301 tasks      | elapsed:  4.0min\n",
      "[Parallel(n_jobs=-1)]: Done 1394 tasks      | elapsed:  4.3min\n",
      "[Parallel(n_jobs=-1)]: Done 949 tasks      | elapsed:  5.1min\n",
      "[Parallel(n_jobs=-1)]: Done 1921 tasks      | elapsed:  5.8min\n",
      "[Parallel(n_jobs=-1)]: Done 584 tasks      | elapsed:  7.1min\n",
      "[Parallel(n_jobs=-1)]: Done 1394 tasks      | elapsed:  7.4min\n",
      "[Parallel(n_jobs=-1)]: Done 584 tasks      | elapsed:  7.5min\n",
      "[Parallel(n_jobs=-1)]: Done 2528 tasks      | elapsed:  7.6min\n",
      "[Parallel(n_jobs=-1)]: Done 3217 tasks      | elapsed:  9.6min\n",
      "[Parallel(n_jobs=-1)]: Done 1921 tasks      | elapsed: 10.1min\n",
      "[Parallel(n_jobs=-1)]: Done 949 tasks      | elapsed: 11.4min\n",
      "[Parallel(n_jobs=-1)]: Done 3986 tasks      | elapsed: 11.8min\n",
      "[Parallel(n_jobs=-1)]: Done 949 tasks      | elapsed: 12.1min\n",
      "[Parallel(n_jobs=-1)]: Done 2528 tasks      | elapsed: 13.2min\n",
      "[Parallel(n_jobs=-1)]: Done 4837 tasks      | elapsed: 14.3min\n",
      "[Parallel(n_jobs=-1)]: Done 5000 out of 5000 | elapsed: 14.8min finished\n",
      "[Parallel(n_jobs=-1)]: Done 1394 tasks      | elapsed: 16.1min\n",
      "[Parallel(n_jobs=-1)]: Done 3217 tasks      | elapsed: 16.2min\n",
      "[Parallel(n_jobs=-1)]: Done 1394 tasks      | elapsed: 16.8min\n",
      "[Parallel(n_jobs=-1)]: Done 3986 tasks      | elapsed: 19.1min\n",
      "[Parallel(n_jobs=-1)]: Done 1921 tasks      | elapsed: 20.6min\n",
      "[Parallel(n_jobs=-1)]: Done 1921 tasks      | elapsed: 21.5min\n",
      "[Parallel(n_jobs=-1)]: Done 4837 tasks      | elapsed: 22.4min\n",
      "[Parallel(n_jobs=-1)]: Done 5000 out of 5000 | elapsed: 23.0min finished\n"
     ]
    },
    {
     "name": "stdout",
     "output_type": "stream",
     "text": [
      "this is the result for: area\n",
      "\n",
      "{'bootstrap': True,\n",
      " 'max_depth': 50,\n",
      " 'max_features': 'sqrt',\n",
      " 'min_samples_leaf': 9,\n",
      " 'min_samples_split': 6,\n",
      " 'n_estimators': 430,\n",
      " 'oob_score': True}\n"
     ]
    },
    {
     "name": "stderr",
     "output_type": "stream",
     "text": [
      "[Parallel(n_jobs=-1)]: Done 2528 tasks      | elapsed: 24.8min\n",
      "[Parallel(n_jobs=-1)]: Done 2528 tasks      | elapsed: 25.6min\n",
      "[Parallel(n_jobs=-1)]: Done 3217 tasks      | elapsed: 28.6min\n",
      "[Parallel(n_jobs=-1)]: Done 3217 tasks      | elapsed: 29.7min\n",
      "[Parallel(n_jobs=-1)]: Done 3986 tasks      | elapsed: 32.9min\n",
      "[Parallel(n_jobs=-1)]: Done 3986 tasks      | elapsed: 34.3min\n",
      "[Parallel(n_jobs=-1)]: Done 4837 tasks      | elapsed: 37.7min\n",
      "[Parallel(n_jobs=-1)]: Done 5000 out of 5000 | elapsed: 38.6min finished\n"
     ]
    },
    {
     "name": "stdout",
     "output_type": "stream",
     "text": [
      "this is the result for: meancurv\n",
      "\n",
      "{'bootstrap': True,\n",
      " 'max_depth': 40,\n",
      " 'max_features': 'log2',\n",
      " 'min_samples_leaf': 5,\n",
      " 'min_samples_split': 10,\n",
      " 'n_estimators': 965,\n",
      " 'oob_score': True}\n"
     ]
    },
    {
     "name": "stderr",
     "output_type": "stream",
     "text": [
      "[Parallel(n_jobs=-1)]: Done 4837 tasks      | elapsed: 38.9min\n",
      "[Parallel(n_jobs=-1)]: Done 5000 out of 5000 | elapsed: 39.4min finished\n"
     ]
    },
    {
     "name": "stdout",
     "output_type": "stream",
     "text": [
      "this is the result for: thickness\n",
      "\n",
      "{'bootstrap': True,\n",
      " 'max_depth': 40,\n",
      " 'max_features': 'log2',\n",
      " 'min_samples_leaf': 1,\n",
      " 'min_samples_split': 2,\n",
      " 'n_estimators': 945,\n",
      " 'oob_score': True}\n",
      "this is the result for: volume\n",
      "\n",
      "{'bootstrap': True,\n",
      " 'max_depth': 30,\n",
      " 'max_features': 'log2',\n",
      " 'min_samples_leaf': 2,\n",
      " 'min_samples_split': 9,\n",
      " 'n_estimators': 245,\n",
      " 'oob_score': True}\n"
     ]
    }
   ],
   "source": [
    "best_params_results = []\n",
    "with futures.ProcessPoolExecutor() as executor:\n",
    "        for train, significance, n_estimator, df_y_tr, result in zip(df_X_tr,\n",
    "                                                                     Significances,\n",
    "                                                                     n_estimators,\n",
    "                                                                     df_y_trs,\n",
    "                                                                     executor.map(RandomSearchCv,\n",
    "                                                                                  df_X_tr, \n",
    "                                                                                  Significances, \n",
    "                                                                                  n_estimators,\n",
    "                                                                                  df_y_trs)):\n",
    "            name = train['name']\n",
    "            print('this is the result for: '+ name + '\\n')\n",
    "            pprint(result.best_params_)\n",
    "            \n",
    "            best_params_results.append({'name': name, 'data':result})\n",
    "            "
   ]
  },
  {
   "cell_type": "code",
   "execution_count": 14,
   "metadata": {},
   "outputs": [],
   "source": [
    "def RandomSearchCv(df_x, significance, n_estimator, df_y):\n",
    "    # Number of trees in random forest\n",
    "    n_estimators = [n_estimator]\n",
    "    # Number of features to consider at every split\n",
    "    max_features = ['sqrt', 'log2']\n",
    "    # Maximum number of levels in tree\n",
    "    max_depth = [int(x) for x in np.linspace(10, 110, num = 11)]\n",
    "    max_depth.append(None)\n",
    "    # Minimum number of samples required to split a node\n",
    "    min_samples_split = [2,4,5,6,7,8,9,10]\n",
    "    # Minimum number of samples required at each leaf node\n",
    "    min_samples_leaf = [1,2,3,4,5,6,7,8,9,10]\n",
    "    # Method of selecting samples for training each tree\n",
    "    bootstrap = [True]\n",
    "\n",
    "    # Create the random grid\n",
    "    random_grid = {'n_estimators': n_estimators,\n",
    "                   'max_features': max_features,\n",
    "                   'max_depth': max_depth,\n",
    "                   'min_samples_split': min_samples_split,\n",
    "                   'min_samples_leaf': min_samples_leaf,\n",
    "                   'bootstrap': bootstrap,\n",
    "                   'oob_score':[True]}\n",
    "    \n",
    "    data_train = df_x['data']\n",
    "    significance_train = significance['data']\n",
    "    \n",
    "    # Use the random grid to search for best hyperparameters\n",
    "    # First create the base model to tune\n",
    "    rf = RandomForestClassifier(oob_score=True)\n",
    "    # Random search of parameters, using 3 fold cross validation, \n",
    "    # search across 100 different combinations, and use all available cores\n",
    "    rf_random = RandomizedSearchCV(estimator = rf, param_distributions = random_grid, n_iter = 1000, cv = 5, verbose=2, random_state=42, n_jobs = -1)# Fit the random search model\n",
    "    rf_random.fit(data_train[significance_train.index.values].copy(), df_y['class'].values)\n",
    "\n",
    "    return rf_random"
   ]
  },
  {
   "cell_type": "markdown",
   "metadata": {},
   "source": [
    "# Evaluate Random Search\n",
    "\n",
    "<p>\n",
    "    In this evaluation we will use the validation dataset\n",
    "</p> "
   ]
  },
  {
   "cell_type": "code",
   "execution_count": 18,
   "metadata": {},
   "outputs": [],
   "source": [
    "def evaluate(model, test_features, test_labels):\n",
    "    predictions = model.predict(test_features)\n",
    "    errors = abs(predictions - test_labels)\n",
    "    mape = 100 * np.mean(errors / test_labels)\n",
    "    accuracy = 100 - mape\n",
    "    accuracy2 = 100*accuracy_score(predictions, test_labels)\n",
    "    print('Model Performance')\n",
    "    print('Average Error: {:0.4f} degrees.'.format(np.mean(errors)))\n",
    "    #print('Accuracy = {:0.2f}%.'.format(accuracy))\n",
    "    print('Accuracy = {:0.2f}%.'.format(accuracy2))\n",
    "    print('\\n')\n",
    "    \n",
    "    \n",
    "    return accuracy2, predictions"
   ]
  },
  {
   "cell_type": "code",
   "execution_count": 21,
   "metadata": {},
   "outputs": [
    {
     "name": "stdout",
     "output_type": "stream",
     "text": [
      "this are the results for base model of area: \n",
      "\n",
      "Model Performance\n",
      "Average Error: 0.5976 degrees.\n",
      "Accuracy = 70.12%.\n",
      "\n",
      "\n",
      "this are the results for best random of area: \n",
      "\n"
     ]
    },
    {
     "name": "stderr",
     "output_type": "stream",
     "text": [
      "/home/students/anaconda3/lib/python3.7/site-packages/sklearn/ensemble/forest.py:460: UserWarning: Some inputs do not have OOB scores. This probably means too few trees were used to compute any reliable oob estimates.\n",
      "  warn(\"Some inputs do not have OOB scores. \"\n",
      "/home/students/anaconda3/lib/python3.7/site-packages/sklearn/ensemble/forest.py:465: RuntimeWarning: invalid value encountered in true_divide\n",
      "  predictions[k].sum(axis=1)[:, np.newaxis])\n"
     ]
    },
    {
     "name": "stdout",
     "output_type": "stream",
     "text": [
      "score train: \n",
      "\n",
      "0.8527272727272728\n",
      "oob_score: \n",
      "\n",
      "0.7163636363636363\n",
      "Model Performance\n",
      "Average Error: 0.5266 degrees.\n",
      "Accuracy = 73.67%.\n",
      "\n",
      "\n",
      "Improvement of 3.55%.\n",
      "\n",
      "***********************************************************************\n",
      "\n",
      "this are the results for base model of meancurv: \n",
      "\n",
      "Model Performance\n",
      "Average Error: 0.7219 degrees.\n",
      "Accuracy = 63.91%.\n",
      "\n",
      "\n",
      "this are the results for best random of meancurv: \n",
      "\n"
     ]
    },
    {
     "name": "stderr",
     "output_type": "stream",
     "text": [
      "/home/students/anaconda3/lib/python3.7/site-packages/sklearn/ensemble/forest.py:460: UserWarning: Some inputs do not have OOB scores. This probably means too few trees were used to compute any reliable oob estimates.\n",
      "  warn(\"Some inputs do not have OOB scores. \"\n",
      "/home/students/anaconda3/lib/python3.7/site-packages/sklearn/ensemble/forest.py:465: RuntimeWarning: invalid value encountered in true_divide\n",
      "  predictions[k].sum(axis=1)[:, np.newaxis])\n"
     ]
    },
    {
     "name": "stdout",
     "output_type": "stream",
     "text": [
      "score train: \n",
      "\n",
      "0.9981818181818182\n",
      "oob_score: \n",
      "\n",
      "0.6854545454545454\n",
      "Model Performance\n",
      "Average Error: 0.6509 degrees.\n",
      "Accuracy = 67.46%.\n",
      "\n",
      "\n",
      "Improvement of 3.55%.\n",
      "\n",
      "***********************************************************************\n",
      "\n",
      "this are the results for base model of thickness: \n",
      "\n"
     ]
    },
    {
     "name": "stderr",
     "output_type": "stream",
     "text": [
      "/home/students/anaconda3/lib/python3.7/site-packages/sklearn/ensemble/forest.py:460: UserWarning: Some inputs do not have OOB scores. This probably means too few trees were used to compute any reliable oob estimates.\n",
      "  warn(\"Some inputs do not have OOB scores. \"\n",
      "/home/students/anaconda3/lib/python3.7/site-packages/sklearn/ensemble/forest.py:465: RuntimeWarning: invalid value encountered in true_divide\n",
      "  predictions[k].sum(axis=1)[:, np.newaxis])\n"
     ]
    },
    {
     "name": "stdout",
     "output_type": "stream",
     "text": [
      "Model Performance\n",
      "Average Error: 0.7574 degrees.\n",
      "Accuracy = 62.13%.\n",
      "\n",
      "\n",
      "this are the results for best random of thickness: \n",
      "\n",
      "score train: \n",
      "\n",
      "1.0\n",
      "oob_score: \n",
      "\n",
      "0.6709090909090909\n",
      "Model Performance\n",
      "Average Error: 0.5503 degrees.\n",
      "Accuracy = 72.49%.\n",
      "\n",
      "\n",
      "Improvement of 10.36%.\n",
      "\n",
      "***********************************************************************\n",
      "\n",
      "this are the results for base model of volume: \n",
      "\n"
     ]
    },
    {
     "name": "stderr",
     "output_type": "stream",
     "text": [
      "/home/students/anaconda3/lib/python3.7/site-packages/sklearn/ensemble/forest.py:460: UserWarning: Some inputs do not have OOB scores. This probably means too few trees were used to compute any reliable oob estimates.\n",
      "  warn(\"Some inputs do not have OOB scores. \"\n",
      "/home/students/anaconda3/lib/python3.7/site-packages/sklearn/ensemble/forest.py:465: RuntimeWarning: invalid value encountered in true_divide\n",
      "  predictions[k].sum(axis=1)[:, np.newaxis])\n"
     ]
    },
    {
     "name": "stdout",
     "output_type": "stream",
     "text": [
      "Model Performance\n",
      "Average Error: 0.5740 degrees.\n",
      "Accuracy = 71.30%.\n",
      "\n",
      "\n",
      "this are the results for best random of volume: \n",
      "\n",
      "score train: \n",
      "\n",
      "0.9672727272727273\n",
      "oob_score: \n",
      "\n",
      "0.7381818181818182\n",
      "Model Performance\n",
      "Average Error: 0.4970 degrees.\n",
      "Accuracy = 75.15%.\n",
      "\n",
      "\n",
      "Improvement of 3.85%.\n",
      "\n",
      "***********************************************************************\n",
      "\n"
     ]
    }
   ],
   "source": [
    "y_pred_vals = []\n",
    "for  train, val, significance, bpr in zip(df_X_tr, df_X_val, Significances, best_params_results):\n",
    "    \n",
    "    name = val['name']\n",
    "    \n",
    "    data_validation = val['data']\n",
    "    data_train = train['data']\n",
    "    \n",
    "    n_regions = significance['data']\n",
    "    \n",
    "    bpr = bpr['data']\n",
    "    \n",
    "    print(\"this are the results for base model of \" + name + \": \" +'\\n')\n",
    "    base_model = RandomForestClassifier(n_estimators = 10, random_state = 42, oob_score=True)\n",
    "    base_model.fit(data_train[n_regions.index.values].copy(), df_y_trs[0]['class'].values)\n",
    "    base_accuracy, trash = evaluate(base_model, data_validation[n_regions.index.values].copy(), df_y_val['class'].values)\n",
    "    \n",
    "    print(\"this are the results for best random of \" + name + \": \" +'\\n')\n",
    "    best_random = bpr.best_estimator_\n",
    "    best_random.fit(data_train[n_regions.index.values].copy(), df_y_trs[0]['class'].values)\n",
    "    print(\"score train: \"+'\\n')\n",
    "    print(best_random.score(data_train[n_regions.index.values].copy(), df_y_trs[0]['class'].values))\n",
    "    print(\"oob_score: \" +'\\n')\n",
    "    print(best_random.oob_score_)\n",
    "    random_accuracy, predictions = evaluate(best_random, data_validation[n_regions.index.values].copy(), df_y_val['class'].values)\n",
    "    y_pred_vals.append({'name': name, 'data': predictions})\n",
    "    print('Improvement of {:0.2f}%.'.format(random_accuracy - base_accuracy))\n",
    "    print('\\n'+'***********************************************************************'+'\\n')"
   ]
  },
  {
   "cell_type": "markdown",
   "metadata": {},
   "source": [
    "# Confusion Matrix"
   ]
  },
  {
   "cell_type": "code",
   "execution_count": 22,
   "metadata": {},
   "outputs": [],
   "source": [
    "def plot_confusion_matrix(cm, classes, normalize = False,\n",
    "                         title = 'Confusion matrix', cmap=plt.cm.Blues):\n",
    "    \"\"\"\n",
    "    This function prints and plots the confusion matrix.\n",
    "    Normalization can be applied by setting 'normalie = True'\n",
    "    \"\"\"\n",
    "    \n",
    "    if normalize:\n",
    "        cm = cm.astype('float') / cm.sum(axis=1)[: np.newaxis]\n",
    "        print(\"Cormalized confusion matrix\")\n",
    "    else:\n",
    "        print(\"Confusion matrix, without normalization\")\n",
    "    \n",
    "    print(cm)\n",
    "    \n",
    "    plt.imshow(cm, interpolation='nearest', cmap = cmap)\n",
    "    plt.title(title)\n",
    "    plt.colorbar()\n",
    "    tick_marks = np.arange(len(classes))\n",
    "    plt.xticks(tick_marks, classes, rotation = 45)\n",
    "    plt.yticks(tick_marks, classes)\n",
    "    \n",
    "    # '.2f' limits float to two decimal point\n",
    "    # 'd' number decimal\n",
    "    fmt = '.2f' if normalize else 'd' \n",
    "    \n",
    "    thresh = cm.max() / 2\n",
    "    \n",
    "    for i, j in itertools.product(range(cm.shape[0]), range(cm.shape[1])):\n",
    "        plt.text(j, i, format (cm[i,j], fmt), horizontalalignment = \"center\", verticalalignment = \"center\",\n",
    "                 color = \"white\" if cm[i,j] > thresh else \"black\")\n",
    "    \n",
    "    plt.tight_layout()\n",
    "    plt.ylabel('true label')\n",
    "    plt.xlabel('Predicted label')"
   ]
  },
  {
   "cell_type": "code",
   "execution_count": 23,
   "metadata": {},
   "outputs": [
    {
     "name": "stdout",
     "output_type": "stream",
     "text": [
      "Confusion matrix, without normalization\n",
      "[[131  42]\n",
      " [ 47 118]]\n",
      "Cormalized confusion matrix\n",
      "[[0.76 0.25]\n",
      " [0.27 0.72]]\n"
     ]
    },
    {
     "data": {
      "image/png": "[encoded data removed]",
      "text/plain": [
       "<Figure size 432x288 with 2 Axes>"
      ]
     },
     "metadata": {
      "needs_background": "light"
     },
     "output_type": "display_data"
    },
    {
     "data": {
      "image/png": "[encoded data removed]",
      "text/plain": [
       "<Figure size 432x288 with 2 Axes>"
      ]
     },
     "metadata": {
      "needs_background": "light"
     },
     "output_type": "display_data"
    },
    {
     "name": "stdout",
     "output_type": "stream",
     "text": [
      "Confusion matrix, without normalization\n",
      "[[115  58]\n",
      " [ 52 113]]\n",
      "Cormalized confusion matrix\n",
      "[[0.66 0.35]\n",
      " [0.3  0.68]]\n"
     ]
    },
    {
     "data": {
      "image/png": "[encoded data removed]",
      "text/plain": [
       "<Figure size 432x288 with 2 Axes>"
      ]
     },
     "metadata": {
      "needs_background": "light"
     },
     "output_type": "display_data"
    },
    {
     "data": {
      "image/png": "[encoded data removed]",
      "text/plain": [
       "<Figure size 432x288 with 2 Axes>"
      ]
     },
     "metadata": {
      "needs_background": "light"
     },
     "output_type": "display_data"
    },
    {
     "name": "stdout",
     "output_type": "stream",
     "text": [
      "Confusion matrix, without normalization\n",
      "[[123  50]\n",
      " [ 43 122]]\n",
      "Cormalized confusion matrix\n",
      "[[0.71 0.3 ]\n",
      " [0.25 0.74]]\n"
     ]
    },
    {
     "data": {
      "image/png": "[encoded data removed]",
      "text/plain": [
       "<Figure size 432x288 with 2 Axes>"
      ]
     },
     "metadata": {
      "needs_background": "light"
     },
     "output_type": "display_data"
    },
    {
     "data": {
      "image/png": "[encoded data removed]",
      "text/plain": [
       "<Figure size 432x288 with 2 Axes>"
      ]
     },
     "metadata": {
      "needs_background": "light"
     },
     "output_type": "display_data"
    },
    {
     "name": "stdout",
     "output_type": "stream",
     "text": [
      "Confusion matrix, without normalization\n",
      "[[130  43]\n",
      " [ 41 124]]\n",
      "Cormalized confusion matrix\n",
      "[[0.75 0.26]\n",
      " [0.24 0.75]]\n"
     ]
    },
    {
     "data": {
      "image/png": "[encoded data removed]",
      "text/plain": [
       "<Figure size 432x288 with 2 Axes>"
      ]
     },
     "metadata": {
      "needs_background": "light"
     },
     "output_type": "display_data"
    },
    {
     "data": {
      "image/png": "[encoded data removed]",
      "text/plain": [
       "<Figure size 432x288 with 2 Axes>"
      ]
     },
     "metadata": {
      "needs_background": "light"
     },
     "output_type": "display_data"
    }
   ],
   "source": [
    "for y_pred_val in y_pred_vals:\n",
    "    data = y_pred_val['data']\n",
    "    name = y_pred_val['name']\n",
    "    \n",
    "    # Compute Confusion matrix\n",
    "    cnf_matrix = confusion_matrix(df_y_val['class'].values, data)\n",
    "    np.set_printoptions(precision=2)\n",
    "\n",
    "    # Plot non-normalied confusion matrix\n",
    "    plt.figure()\n",
    "    plot_confusion_matrix(cnf_matrix, classes=['Weak', 'Strong'],\n",
    "                         title='confusion matrix, without normalization '+ name)\n",
    "\n",
    "    # Plot normalized confusion matrix\n",
    "    plt.figure()\n",
    "    plot_confusion_matrix(cnf_matrix, classes=['Weak', 'Strong'], normalize=True,\n",
    "                         title='normalized confusion matrix '+ name)\n",
    "    plt.show()"
   ]
  },
  {
   "cell_type": "markdown",
   "metadata": {},
   "source": [
    "# we will choose the random search results to store the clasificators because have given best results"
   ]
  },
  {
   "cell_type": "code",
   "execution_count": 24,
   "metadata": {},
   "outputs": [],
   "source": [
    "for clf in best_params_results:\n",
    "    name = clf['name']\n",
    "    data = clf['data']\n",
    "    \n",
    "    joblib.dump(data.best_estimator_, 'output/Random Forest (hyper parameter tuning)_'+ name +'.pkl')"
   ]
  },
  {
   "cell_type": "code",
   "execution_count": null,
   "metadata": {},
   "outputs": [],
   "source": []
  }
 ],
 "metadata": {
  "kernelspec": {
   "display_name": "Python 3",
   "language": "python",
   "name": "python3"
  },
  "language_info": {
   "codemirror_mode": {
    "name": "ipython",
    "version": 3
   },
   "file_extension": ".py",
   "mimetype": "text/x-python",
   "name": "python",
   "nbconvert_exporter": "python",
   "pygments_lexer": "ipython3",
   "version": "3.7.4"
  }
 },
 "nbformat": 4,
 "nbformat_minor": 2
}
